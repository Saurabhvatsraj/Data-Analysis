{
 "cells": [
  {
   "cell_type": "code",
   "execution_count": 1,
   "id": "356edf53",
   "metadata": {},
   "outputs": [],
   "source": [
    "import numpy as np"
   ]
  },
  {
   "cell_type": "code",
   "execution_count": 2,
   "id": "6b48432c",
   "metadata": {},
   "outputs": [],
   "source": [
    "#1D data"
   ]
  },
  {
   "cell_type": "code",
   "execution_count": 3,
   "id": "e4e9135b",
   "metadata": {},
   "outputs": [],
   "source": [
    "a=np.array([1,2,3])"
   ]
  },
  {
   "cell_type": "code",
   "execution_count": 4,
   "id": "7caf0969",
   "metadata": {},
   "outputs": [
    {
     "data": {
      "text/plain": [
       "array([1, 2, 3])"
      ]
     },
     "execution_count": 4,
     "metadata": {},
     "output_type": "execute_result"
    }
   ],
   "source": [
    "a"
   ]
  },
  {
   "cell_type": "code",
   "execution_count": 5,
   "id": "8be5216f",
   "metadata": {},
   "outputs": [
    {
     "data": {
      "text/plain": [
       "(3,)"
      ]
     },
     "execution_count": 5,
     "metadata": {},
     "output_type": "execute_result"
    }
   ],
   "source": [
    "a.shape"
   ]
  },
  {
   "cell_type": "code",
   "execution_count": 6,
   "id": "328b52a9",
   "metadata": {},
   "outputs": [
    {
     "data": {
      "text/plain": [
       "array([23, 45, 78,  1])"
      ]
     },
     "execution_count": 6,
     "metadata": {},
     "output_type": "execute_result"
    }
   ],
   "source": [
    "# wap to create a array of 23,45,78,1.\n",
    "x=np.array([23,45,78,1])\n",
    "x"
   ]
  },
  {
   "cell_type": "code",
   "execution_count": 7,
   "id": "30b947d8",
   "metadata": {},
   "outputs": [
    {
     "data": {
      "text/plain": [
       "(4,)"
      ]
     },
     "execution_count": 7,
     "metadata": {},
     "output_type": "execute_result"
    }
   ],
   "source": [
    "x.shape"
   ]
  },
  {
   "cell_type": "code",
   "execution_count": 8,
   "id": "b472faa7",
   "metadata": {},
   "outputs": [],
   "source": [
    "# 2D data-----\n",
    "\n",
    "x=np.array([[1,2,3],[4,5,6]])"
   ]
  },
  {
   "cell_type": "code",
   "execution_count": 9,
   "id": "5ec4cb81",
   "metadata": {},
   "outputs": [
    {
     "data": {
      "text/plain": [
       "array([[1, 2, 3],\n",
       "       [4, 5, 6]])"
      ]
     },
     "execution_count": 9,
     "metadata": {},
     "output_type": "execute_result"
    }
   ],
   "source": [
    "x"
   ]
  },
  {
   "cell_type": "code",
   "execution_count": 10,
   "id": "7a314c8f",
   "metadata": {},
   "outputs": [
    {
     "data": {
      "text/plain": [
       "(2, 3)"
      ]
     },
     "execution_count": 10,
     "metadata": {},
     "output_type": "execute_result"
    }
   ],
   "source": [
    "x.shape"
   ]
  },
  {
   "cell_type": "code",
   "execution_count": 11,
   "id": "b64fb0f3",
   "metadata": {},
   "outputs": [
    {
     "data": {
      "text/plain": [
       "6"
      ]
     },
     "execution_count": 11,
     "metadata": {},
     "output_type": "execute_result"
    }
   ],
   "source": [
    "x.size"
   ]
  },
  {
   "cell_type": "code",
   "execution_count": 12,
   "id": "623b5992",
   "metadata": {},
   "outputs": [],
   "source": [
    "#3D data----\n",
    "\n",
    "x=np.array([[[1,2,3],[4,5,6],[7,8,9]]])"
   ]
  },
  {
   "cell_type": "code",
   "execution_count": 13,
   "id": "b1e0460b",
   "metadata": {},
   "outputs": [
    {
     "data": {
      "text/plain": [
       "array([[[1, 2, 3],\n",
       "        [4, 5, 6],\n",
       "        [7, 8, 9]]])"
      ]
     },
     "execution_count": 13,
     "metadata": {},
     "output_type": "execute_result"
    }
   ],
   "source": [
    "x"
   ]
  },
  {
   "cell_type": "code",
   "execution_count": 15,
   "id": "07cfefa6",
   "metadata": {},
   "outputs": [
    {
     "data": {
      "text/plain": [
       "3"
      ]
     },
     "execution_count": 15,
     "metadata": {},
     "output_type": "execute_result"
    }
   ],
   "source": [
    "x.ndim"
   ]
  },
  {
   "cell_type": "code",
   "execution_count": 16,
   "id": "ef2757a1",
   "metadata": {},
   "outputs": [
    {
     "data": {
      "text/plain": [
       "(1, 3, 3)"
      ]
     },
     "execution_count": 16,
     "metadata": {},
     "output_type": "execute_result"
    }
   ],
   "source": [
    "x.shape"
   ]
  },
  {
   "cell_type": "code",
   "execution_count": 17,
   "id": "57f3ba96",
   "metadata": {},
   "outputs": [
    {
     "data": {
      "text/plain": [
       "9"
      ]
     },
     "execution_count": 17,
     "metadata": {},
     "output_type": "execute_result"
    }
   ],
   "source": [
    "x.size"
   ]
  },
  {
   "cell_type": "code",
   "execution_count": null,
   "id": "fa07d657",
   "metadata": {},
   "outputs": [],
   "source": [
    "# slicing & indexing-----\n",
    "\n",
    "# slicing in 1D data-----\n",
    "\n",
    "a"
   ]
  },
  {
   "cell_type": "code",
   "execution_count": null,
   "id": "c043d53c",
   "metadata": {},
   "outputs": [],
   "source": [
    "a[0]"
   ]
  },
  {
   "cell_type": "code",
   "execution_count": null,
   "id": "c05da49c",
   "metadata": {},
   "outputs": [],
   "source": [
    "a[4]"
   ]
  },
  {
   "cell_type": "code",
   "execution_count": null,
   "id": "17b5e56d",
   "metadata": {},
   "outputs": [],
   "source": [
    "a[2]"
   ]
  },
  {
   "cell_type": "code",
   "execution_count": null,
   "id": "b2e3562a",
   "metadata": {},
   "outputs": [],
   "source": [
    "# slicing in 2D data-----\n",
    "\n",
    "x=np.array([[67,80,43],[30,43,21]])\n",
    "x"
   ]
  },
  {
   "cell_type": "code",
   "execution_count": null,
   "id": "6df8a07a",
   "metadata": {},
   "outputs": [],
   "source": [
    "x[0,1]"
   ]
  },
  {
   "cell_type": "code",
   "execution_count": null,
   "id": "ccee3c70",
   "metadata": {},
   "outputs": [],
   "source": [
    "x[0,0]"
   ]
  },
  {
   "cell_type": "code",
   "execution_count": null,
   "id": "c65f137b",
   "metadata": {},
   "outputs": [],
   "source": [
    "x[1,2]"
   ]
  },
  {
   "cell_type": "code",
   "execution_count": null,
   "id": "6755c8f7",
   "metadata": {},
   "outputs": [],
   "source": [
    "x[2,1]"
   ]
  },
  {
   "cell_type": "code",
   "execution_count": null,
   "id": "e6897cd9",
   "metadata": {},
   "outputs": [],
   "source": [
    "# slicing in 3D data-----\n",
    "\n",
    "x=np.array([[[10,45,34],[56,79,87],[78,90,21]]])\n",
    "x"
   ]
  },
  {
   "cell_type": "code",
   "execution_count": null,
   "id": "ad8e5abf",
   "metadata": {},
   "outputs": [],
   "source": [
    "x[2,2]"
   ]
  },
  {
   "cell_type": "code",
   "execution_count": null,
   "id": "7af5f63b",
   "metadata": {},
   "outputs": [],
   "source": [
    "x[2,2,2]"
   ]
  },
  {
   "cell_type": "code",
   "execution_count": null,
   "id": "eddd128f",
   "metadata": {},
   "outputs": [],
   "source": [
    "x[0,2,2]"
   ]
  },
  {
   "cell_type": "code",
   "execution_count": null,
   "id": "875d41b0",
   "metadata": {},
   "outputs": [],
   "source": [
    "x[0,1,0]"
   ]
  },
  {
   "cell_type": "code",
   "execution_count": null,
   "id": "2bb131a6",
   "metadata": {},
   "outputs": [],
   "source": [
    "# function to create arrays\n",
    "# zeros\n",
    "#ones\n",
    "\n",
    "z=np.zeros(4)"
   ]
  },
  {
   "cell_type": "code",
   "execution_count": null,
   "id": "dc0c1334",
   "metadata": {},
   "outputs": [],
   "source": [
    "z"
   ]
  },
  {
   "cell_type": "code",
   "execution_count": null,
   "id": "d209e8f4",
   "metadata": {},
   "outputs": [],
   "source": [
    "z=np.zeros([4,5])"
   ]
  },
  {
   "cell_type": "code",
   "execution_count": null,
   "id": "6eac1fe6",
   "metadata": {},
   "outputs": [],
   "source": [
    "z"
   ]
  },
  {
   "cell_type": "code",
   "execution_count": null,
   "id": "01b77b3e",
   "metadata": {},
   "outputs": [],
   "source": [
    "np.zeros([[4,5,6]])"
   ]
  },
  {
   "cell_type": "code",
   "execution_count": null,
   "id": "eb1a0d21",
   "metadata": {},
   "outputs": [],
   "source": [
    "# wap to create a empty array\n",
    "\n",
    "np.zeros([0,3])"
   ]
  },
  {
   "cell_type": "code",
   "execution_count": null,
   "id": "2d7167a1",
   "metadata": {},
   "outputs": [],
   "source": [
    "np.zeros([4,5,2])"
   ]
  },
  {
   "cell_type": "code",
   "execution_count": null,
   "id": "6c0fad89",
   "metadata": {},
   "outputs": [],
   "source": [
    "#ones------\n",
    "np.ones(3)"
   ]
  },
  {
   "cell_type": "code",
   "execution_count": null,
   "id": "4e247d5f",
   "metadata": {},
   "outputs": [],
   "source": [
    "np.ones([3,4])"
   ]
  },
  {
   "cell_type": "code",
   "execution_count": null,
   "id": "dc207760",
   "metadata": {},
   "outputs": [],
   "source": [
    "np.ones(0)"
   ]
  },
  {
   "cell_type": "code",
   "execution_count": null,
   "id": "9f1ec1a2",
   "metadata": {},
   "outputs": [],
   "source": [
    "np.ones([0,4])"
   ]
  },
  {
   "cell_type": "code",
   "execution_count": null,
   "id": "adf2c268",
   "metadata": {},
   "outputs": [],
   "source": [
    "np.ones([4,0])"
   ]
  },
  {
   "cell_type": "code",
   "execution_count": null,
   "id": "efe79237",
   "metadata": {},
   "outputs": [],
   "source": [
    "# axix----0,1"
   ]
  },
  {
   "cell_type": "code",
   "execution_count": null,
   "id": "265fd10e",
   "metadata": {},
   "outputs": [],
   "source": [
    "y=np.array([[2,4,5],[6,7,8]])"
   ]
  },
  {
   "cell_type": "code",
   "execution_count": null,
   "id": "cbd0feb7",
   "metadata": {},
   "outputs": [],
   "source": [
    "y"
   ]
  },
  {
   "cell_type": "code",
   "execution_count": null,
   "id": "1367536b",
   "metadata": {},
   "outputs": [],
   "source": [
    "y.sum()"
   ]
  },
  {
   "cell_type": "code",
   "execution_count": null,
   "id": "6b0f8b3b",
   "metadata": {},
   "outputs": [],
   "source": [
    "y.sum(axis=0)"
   ]
  },
  {
   "cell_type": "code",
   "execution_count": null,
   "id": "4c84dd5d",
   "metadata": {},
   "outputs": [],
   "source": [
    "y.sum(axis=1)"
   ]
  },
  {
   "cell_type": "code",
   "execution_count": null,
   "id": "76373c56",
   "metadata": {},
   "outputs": [],
   "source": [
    "#arange----\n",
    "\n",
    "np.arange(4)"
   ]
  },
  {
   "cell_type": "code",
   "execution_count": null,
   "id": "827a1965",
   "metadata": {},
   "outputs": [],
   "source": [
    "np.arange(1,5)"
   ]
  },
  {
   "cell_type": "code",
   "execution_count": null,
   "id": "bb592f38",
   "metadata": {},
   "outputs": [],
   "source": [
    "np.arange(5,20,6)"
   ]
  },
  {
   "cell_type": "code",
   "execution_count": null,
   "id": "5a098292",
   "metadata": {},
   "outputs": [],
   "source": []
  }
 ],
 "metadata": {
  "kernelspec": {
   "display_name": "Python 3 (ipykernel)",
   "language": "python",
   "name": "python3"
  },
  "language_info": {
   "codemirror_mode": {
    "name": "ipython",
    "version": 3
   },
   "file_extension": ".py",
   "mimetype": "text/x-python",
   "name": "python",
   "nbconvert_exporter": "python",
   "pygments_lexer": "ipython3",
   "version": "3.9.12"
  }
 },
 "nbformat": 4,
 "nbformat_minor": 5
}
