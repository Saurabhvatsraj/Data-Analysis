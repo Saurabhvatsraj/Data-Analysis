{
 "cells": [
  {
   "cell_type": "code",
   "execution_count": 1,
   "id": "cc582f87",
   "metadata": {},
   "outputs": [],
   "source": [
    "import numpy as np\n",
    "import scipy\n",
    "import scipy.stats\n",
    "import matplotlib as mpl   \n",
    "import matplotlib.pyplot as plt\n",
    "import pandas as pd\n",
    "%matplotlib inline"
   ]
  },
  {
   "cell_type": "markdown",
   "id": "04152131",
   "metadata": {},
   "source": [
    "#### Generating data"
   ]
  },
  {
   "cell_type": "code",
   "execution_count": 7,
   "id": "cafedde3",
   "metadata": {},
   "outputs": [],
   "source": [
    "def Generate_Data(senario,parameter,category,year,initial_val, final_val, length):\n",
    "    value = [int(abs(i)) for i in np.random.normal(initial_val, final_val, length)]\n",
    "    items = len(value)\n",
    "    Value1 = {\"Scenario\":[senario]*items, \"Parameter\":[parameter]*items, \"Category\":[category]*items,\n",
    "              'Start_Value': value, \"Year\":[year]*items}\n",
    "    All_Data = Value1\n",
    "    return All_Data"
   ]
  },
  {
   "cell_type": "code",
   "execution_count": 8,
   "id": "d51d728f",
   "metadata": {},
   "outputs": [],
   "source": [
    "SCENARIO = [\"MODERATE\",'AGGRESSIVE','22H1', 'NRG', 'LOW', 'HIGH']\n",
    "PARAMETER = ['SUBS','HOUR_PER_DAY','MBPS','WIFI_OFFLOAD']\n",
    "CATEGORY = ['AR-TECH','AR-EMB', 'VR-TECH', 'VR-EMB']\n",
    "YEAR = [2024,2025]"
   ]
  },
  {
   "cell_type": "code",
   "execution_count": 9,
   "id": "b2af38f8",
   "metadata": {},
   "outputs": [],
   "source": [
    "ALL_DATA = []\n",
    "for i in SCENARIO:\n",
    "    for j in PARAMETER:\n",
    "        for k in CATEGORY:\n",
    "            for l in YEAR:\n",
    "                value = [i,j,k, l]\n",
    "                ALL_DATA.append(value)\n",
    "                "
   ]
  },
  {
   "cell_type": "code",
   "execution_count": 25,
   "id": "658c0d91",
   "metadata": {},
   "outputs": [
    {
     "data": {
      "text/html": [
       "<div>\n",
       "<style scoped>\n",
       "    .dataframe tbody tr th:only-of-type {\n",
       "        vertical-align: middle;\n",
       "    }\n",
       "\n",
       "    .dataframe tbody tr th {\n",
       "        vertical-align: top;\n",
       "    }\n",
       "\n",
       "    .dataframe thead th {\n",
       "        text-align: right;\n",
       "    }\n",
       "</style>\n",
       "<table border=\"1\" class=\"dataframe\">\n",
       "  <thead>\n",
       "    <tr style=\"text-align: right;\">\n",
       "      <th></th>\n",
       "      <th>Scenario</th>\n",
       "      <th>Parameter</th>\n",
       "      <th>Category</th>\n",
       "      <th>Start_Value</th>\n",
       "      <th>Year</th>\n",
       "    </tr>\n",
       "  </thead>\n",
       "  <tbody>\n",
       "    <tr>\n",
       "      <th>0</th>\n",
       "      <td>MODERATE</td>\n",
       "      <td>SUBS</td>\n",
       "      <td>AR-TECH</td>\n",
       "      <td>28153</td>\n",
       "      <td>2025</td>\n",
       "    </tr>\n",
       "    <tr>\n",
       "      <th>1</th>\n",
       "      <td>MODERATE</td>\n",
       "      <td>SUBS</td>\n",
       "      <td>AR-TECH</td>\n",
       "      <td>2619</td>\n",
       "      <td>2025</td>\n",
       "    </tr>\n",
       "    <tr>\n",
       "      <th>2</th>\n",
       "      <td>MODERATE</td>\n",
       "      <td>SUBS</td>\n",
       "      <td>AR-TECH</td>\n",
       "      <td>88354</td>\n",
       "      <td>2025</td>\n",
       "    </tr>\n",
       "    <tr>\n",
       "      <th>3</th>\n",
       "      <td>MODERATE</td>\n",
       "      <td>SUBS</td>\n",
       "      <td>AR-TECH</td>\n",
       "      <td>430</td>\n",
       "      <td>2025</td>\n",
       "    </tr>\n",
       "    <tr>\n",
       "      <th>4</th>\n",
       "      <td>MODERATE</td>\n",
       "      <td>SUBS</td>\n",
       "      <td>AR-TECH</td>\n",
       "      <td>35657</td>\n",
       "      <td>2025</td>\n",
       "    </tr>\n",
       "    <tr>\n",
       "      <th>...</th>\n",
       "      <td>...</td>\n",
       "      <td>...</td>\n",
       "      <td>...</td>\n",
       "      <td>...</td>\n",
       "      <td>...</td>\n",
       "    </tr>\n",
       "    <tr>\n",
       "      <th>995</th>\n",
       "      <td>HIGH</td>\n",
       "      <td>WIFI_OFFLOAD</td>\n",
       "      <td>VR-EMB</td>\n",
       "      <td>193</td>\n",
       "      <td>2025</td>\n",
       "    </tr>\n",
       "    <tr>\n",
       "      <th>996</th>\n",
       "      <td>HIGH</td>\n",
       "      <td>WIFI_OFFLOAD</td>\n",
       "      <td>VR-EMB</td>\n",
       "      <td>66</td>\n",
       "      <td>2025</td>\n",
       "    </tr>\n",
       "    <tr>\n",
       "      <th>997</th>\n",
       "      <td>HIGH</td>\n",
       "      <td>WIFI_OFFLOAD</td>\n",
       "      <td>VR-EMB</td>\n",
       "      <td>115</td>\n",
       "      <td>2025</td>\n",
       "    </tr>\n",
       "    <tr>\n",
       "      <th>998</th>\n",
       "      <td>HIGH</td>\n",
       "      <td>WIFI_OFFLOAD</td>\n",
       "      <td>VR-EMB</td>\n",
       "      <td>102</td>\n",
       "      <td>2025</td>\n",
       "    </tr>\n",
       "    <tr>\n",
       "      <th>999</th>\n",
       "      <td>HIGH</td>\n",
       "      <td>WIFI_OFFLOAD</td>\n",
       "      <td>VR-EMB</td>\n",
       "      <td>82</td>\n",
       "      <td>2025</td>\n",
       "    </tr>\n",
       "  </tbody>\n",
       "</table>\n",
       "<p>192000 rows × 5 columns</p>\n",
       "</div>"
      ],
      "text/plain": [
       "     Scenario     Parameter Category  Start_Value  Year\n",
       "0    MODERATE          SUBS  AR-TECH        28153  2025\n",
       "1    MODERATE          SUBS  AR-TECH         2619  2025\n",
       "2    MODERATE          SUBS  AR-TECH        88354  2025\n",
       "3    MODERATE          SUBS  AR-TECH          430  2025\n",
       "4    MODERATE          SUBS  AR-TECH        35657  2025\n",
       "..        ...           ...      ...          ...   ...\n",
       "995      HIGH  WIFI_OFFLOAD   VR-EMB          193  2025\n",
       "996      HIGH  WIFI_OFFLOAD   VR-EMB           66  2025\n",
       "997      HIGH  WIFI_OFFLOAD   VR-EMB          115  2025\n",
       "998      HIGH  WIFI_OFFLOAD   VR-EMB          102  2025\n",
       "999      HIGH  WIFI_OFFLOAD   VR-EMB           82  2025\n",
       "\n",
       "[192000 rows x 5 columns]"
      ]
     },
     "execution_count": 25,
     "metadata": {},
     "output_type": "execute_result"
    }
   ],
   "source": [
    "initial_val = 3000\n",
    "final_val = 30000\n",
    "length = 1000\n",
    "senario,parameter,category,year = ALL_DATA[1]\n",
    "return_value = Generate_Data(senario,parameter,category,year,initial_val, final_val, length)\n",
    "full_frame = pd.DataFrame(return_value)\n",
    "for i in ALL_DATA[1:]:\n",
    "    senario,parameter,category,year = i\n",
    "    if parameter == 'SUBS':\n",
    "        initial_val = 3000\n",
    "        final_val = 30000\n",
    "        length = 1000\n",
    "        return_value = Generate_Data(senario,parameter,category,year,initial_val, final_val, length)\n",
    "    elif parameter == 'HOURS_PER_DAY':\n",
    "        initial_val = 1\n",
    "        final_val = 24\n",
    "        length = 1000\n",
    "        return_value = Generate_Data(senario,parameter,category,year,initial_val, final_val, length)\n",
    "    elif parameter == 'MBPS':\n",
    "        initial_val = 20\n",
    "        final_val = 120\n",
    "        length = 1000\n",
    "        return_value = Generate_Data(senario,parameter,category,year,initial_val, final_val, length)\n",
    "    elif parameter == 'WIFI_OFFLOAD':\n",
    "        initial_val = 92\n",
    "        final_val = 99\n",
    "        length = 1000\n",
    "        return_value = Generate_Data(senario,parameter,category,year,initial_val, final_val, length)\n",
    "    temp =  pd.DataFrame(return_value)\n",
    "    table = full_frame.append(temp)\n",
    "    full_frame = table\n",
    "#table\n",
    "full_frame"
   ]
  },
  {
   "cell_type": "code",
   "execution_count": 26,
   "id": "d4e543d0",
   "metadata": {},
   "outputs": [],
   "source": [
    "observation = full_frame[full_frame['Parameter'] == 'SUBS']\n",
    "observation = observation[observation['Year'] == 2024].Start_Value"
   ]
  },
  {
   "cell_type": "code",
   "execution_count": 27,
   "id": "d4e98f9d",
   "metadata": {},
   "outputs": [
    {
     "data": {
      "text/plain": [
       "23905.346826086956"
      ]
     },
     "execution_count": 27,
     "metadata": {},
     "output_type": "execute_result"
    },
    {
     "data": {
      "image/png": "[encoded data removed]",
      "text/plain": [
       "<Figure size 720x720 with 1 Axes>"
      ]
     },
     "metadata": {
      "needs_background": "light"
     },
     "output_type": "display_data"
    }
   ],
   "source": [
    "fig = plt.figure(figsize=(10,10))\n",
    "ax = fig.add_subplot(1,1,1)\n",
    "ax.hist(observation,bins=35 ,)\n",
    "ax.set_xlabel(\"Value\")\n",
    "ax.set_ylabel(\"Frequency\")\n",
    "mu_obs=observation.mean()\n",
    "mu_obs"
   ]
  },
  {
   "cell_type": "code",
   "execution_count": 30,
   "id": "b586f746",
   "metadata": {},
   "outputs": [],
   "source": [
    "transition_model = lambda x: [x[0],np.random.normal(x[1],0.5,(1,))[0]]\n",
    "\n",
    "def prior(x):\n",
    "    if(x[1] <=0):\n",
    "        return 0\n",
    "    return 1\n",
    "\n",
    "\n",
    "def manual_log_like_normal(x,data):\n",
    "    return np.sum(-np.log(x[1] * np.sqrt(2* np.pi) )-((data-x[0])**2) / (2*x[1]**2))\n",
    "\n",
    "\n",
    "def log_lik_normal(x,data):\n",
    "    return np.sum(np.log(scipy.stats.norm(x[0],x[1]).pdf(data)))\n",
    "\n",
    "\n",
    "def acceptance(x, x_new):\n",
    "    if x_new>x:\n",
    "        return True\n",
    "    else:\n",
    "        accept=np.random.uniform(0,1)\n",
    "        return (accept < (np.exp(x_new-x)))\n",
    "\n",
    "\n",
    "def metropolis_hastings(likelihood_computer,prior, transition_model, param_init,iterations,data,acceptance_rule):\n",
    "    x = param_init\n",
    "    accepted = []\n",
    "    rejected = []   \n",
    "    for i in range(iterations):\n",
    "        x_new =  transition_model(x)    \n",
    "        x_lik = likelihood_computer(x,data)\n",
    "        x_new_lik = likelihood_computer(x_new,data) \n",
    "        if (acceptance_rule(x_lik + np.log(prior(x)),x_new_lik+np.log(prior(x_new)))):            \n",
    "            x = x_new\n",
    "            accepted.append(x_new)\n",
    "        else:\n",
    "            rejected.append(x_new)            \n",
    "                \n",
    "    return np.array(accepted), np.array(rejected)"
   ]
  },
  {
   "cell_type": "code",
   "execution_count": 32,
   "id": "14fdac1d",
   "metadata": {},
   "outputs": [
    {
     "name": "stderr",
     "output_type": "stream",
     "text": [
      "C:\\Users\\hp\\AppData\\Local\\Temp\\ipykernel_16244\\2690719338.py:10: RuntimeWarning: invalid value encountered in log\n",
      "  return np.sum(-np.log(x[1] * np.sqrt(2* np.pi) )-((data-x[0])**2) / (2*x[1]**2))\n",
      "C:\\Users\\hp\\AppData\\Local\\Temp\\ipykernel_16244\\2690719338.py:33: RuntimeWarning: divide by zero encountered in log\n",
      "  if (acceptance_rule(x_lik + np.log(prior(x)),x_new_lik+np.log(prior(x_new)))):\n"
     ]
    }
   ],
   "source": [
    "accepted, rejected = metropolis_hastings(manual_log_like_normal,prior,transition_model,[mu_obs,0.1], 500,observation,acceptance)"
   ]
  },
  {
   "cell_type": "code",
   "execution_count": 33,
   "id": "13c8cdfb",
   "metadata": {},
   "outputs": [
    {
     "data": {
      "text/plain": [
       "(253, 2)"
      ]
     },
     "execution_count": 33,
     "metadata": {},
     "output_type": "execute_result"
    },
    {
     "data": {
      "image/png": "[encoded data removed]",
      "text/plain": [
       "<Figure size 720x720 with 2 Axes>"
      ]
     },
     "metadata": {
      "needs_background": "light"
     },
     "output_type": "display_data"
    }
   ],
   "source": [
    "fig = plt.figure(figsize=(10,10))\n",
    "ax = fig.add_subplot(2,1,1)\n",
    "\n",
    "ax.plot( rejected[0:50,1], 'rx', label='Rejected',alpha=0.5)\n",
    "ax.plot( accepted[0:50,1], 'b.', label='Accepted',alpha=0.5)\n",
    "ax.set_xlabel(\"Iteration\")\n",
    "ax.set_ylabel(\"$\\sigma$\")\n",
    "ax.set_title(\"Figure 2: MCMC sampling for $\\sigma$ with Metropolis-Hastings. First 50 samples are shown.\")\n",
    "ax.grid()\n",
    "ax.legend()\n",
    "\n",
    "\n",
    "\n",
    "ax2 = fig.add_subplot(2,1,2)\n",
    "to_show=-accepted.shape[0]\n",
    "ax2.plot( rejected[to_show:,1], 'rx', label='Rejected',alpha=0.5)\n",
    "ax2.plot( accepted[to_show:,1], 'b.', label='Accepted',alpha=0.5)\n",
    "ax2.set_xlabel(\"Iteration\")\n",
    "ax2.set_ylabel(\"$\\sigma$\")\n",
    "ax2.set_title(\"Figure 3: MCMC sampling for $\\sigma$ with Metropolis-Hastings. All samples are shown.\")\n",
    "ax2.grid()\n",
    "ax2.legend()\n",
    "\n",
    "\n",
    "\n",
    "fig.tight_layout()\n",
    "accepted.shape"
   ]
  },
  {
   "cell_type": "code",
   "execution_count": null,
   "id": "2cc10653",
   "metadata": {},
   "outputs": [],
   "source": []
  }
 ],
 "metadata": {
  "kernelspec": {
   "display_name": "Python 3 (ipykernel)",
   "language": "python",
   "name": "python3"
  },
  "language_info": {
   "codemirror_mode": {
    "name": "ipython",
    "version": 3
   },
   "file_extension": ".py",
   "mimetype": "text/x-python",
   "name": "python",
   "nbconvert_exporter": "python",
   "pygments_lexer": "ipython3",
   "version": "3.8.8"
  }
 },
 "nbformat": 4,
 "nbformat_minor": 5
}
