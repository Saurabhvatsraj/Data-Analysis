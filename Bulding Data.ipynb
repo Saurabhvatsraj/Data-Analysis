{
 "cells": [
  {
   "cell_type": "markdown",
   "id": "7a2855c4",
   "metadata": {},
   "source": [
    "#  Download the dataset and Import all the libraries"
   ]
  },
  {
   "cell_type": "code",
   "execution_count": 1,
   "id": "c99e0f14",
   "metadata": {},
   "outputs": [],
   "source": [
    "import numpy as np\n",
    "import pandas as pd\n",
    "import matplotlib.pyplot as plt\n",
    "import seaborn as sns"
   ]
  },
  {
   "cell_type": "code",
   "execution_count": 2,
   "id": "4919a3ba",
   "metadata": {},
   "outputs": [
    {
     "data": {
      "text/html": [
       "<div>\n",
       "<style scoped>\n",
       "    .dataframe tbody tr th:only-of-type {\n",
       "        vertical-align: middle;\n",
       "    }\n",
       "\n",
       "    .dataframe tbody tr th {\n",
       "        vertical-align: top;\n",
       "    }\n",
       "\n",
       "    .dataframe thead th {\n",
       "        text-align: right;\n",
       "    }\n",
       "</style>\n",
       "<table border=\"1\" class=\"dataframe\">\n",
       "  <thead>\n",
       "    <tr style=\"text-align: right;\">\n",
       "      <th></th>\n",
       "      <th>QC Comment</th>\n",
       "      <th>Alert</th>\n",
       "      <th>Days ORed</th>\n",
       "      <th>Link Type</th>\n",
       "      <th>Batch Name</th>\n",
       "      <th>Site URL</th>\n",
       "      <th>DA</th>\n",
       "      <th>Traffic</th>\n",
       "      <th>CRight</th>\n",
       "      <th>Link Guidelines</th>\n",
       "      <th>...</th>\n",
       "      <th>#3 FF</th>\n",
       "      <th>3 FF Done?</th>\n",
       "      <th>OR Comment</th>\n",
       "      <th>Status</th>\n",
       "      <th>Date</th>\n",
       "      <th>LT</th>\n",
       "      <th>Any other comments</th>\n",
       "      <th>OUTREACHER</th>\n",
       "      <th>PROSPECTOR</th>\n",
       "      <th>Prospected Date</th>\n",
       "    </tr>\n",
       "  </thead>\n",
       "  <tbody>\n",
       "    <tr>\n",
       "      <th>0</th>\n",
       "      <td>NaN</td>\n",
       "      <td>1.0</td>\n",
       "      <td>607.0</td>\n",
       "      <td>Resource Page</td>\n",
       "      <td>From games.aarp.org (mixed niche)</td>\n",
       "      <td>www.selwynfoundation.org.nz</td>\n",
       "      <td>NaN</td>\n",
       "      <td>NaN</td>\n",
       "      <td>NaN</td>\n",
       "      <td>NaN</td>\n",
       "      <td>...</td>\n",
       "      <td>Mon, Oct 5, 20</td>\n",
       "      <td>True</td>\n",
       "      <td>NaN</td>\n",
       "      <td>Pithced</td>\n",
       "      <td>NaT</td>\n",
       "      <td>NaN</td>\n",
       "      <td>NaN</td>\n",
       "      <td>NaN</td>\n",
       "      <td>NaN</td>\n",
       "      <td>NaT</td>\n",
       "    </tr>\n",
       "    <tr>\n",
       "      <th>1</th>\n",
       "      <td>NaN</td>\n",
       "      <td>2.0</td>\n",
       "      <td>522.0</td>\n",
       "      <td>Resource Page</td>\n",
       "      <td>From games.aarp.org (mixed niche)</td>\n",
       "      <td>ageofcentraltx.org</td>\n",
       "      <td>36.0</td>\n",
       "      <td>NaN</td>\n",
       "      <td>NaN</td>\n",
       "      <td>NaN</td>\n",
       "      <td>...</td>\n",
       "      <td>Mon, Oct 5, 20</td>\n",
       "      <td>True</td>\n",
       "      <td>NaN</td>\n",
       "      <td>Deal - Live</td>\n",
       "      <td>2020-09-22</td>\n",
       "      <td>NaN</td>\n",
       "      <td>NaN</td>\n",
       "      <td>NaN</td>\n",
       "      <td>NaN</td>\n",
       "      <td>NaT</td>\n",
       "    </tr>\n",
       "    <tr>\n",
       "      <th>2</th>\n",
       "      <td>NaN</td>\n",
       "      <td>1.0</td>\n",
       "      <td>607.0</td>\n",
       "      <td>Resource Page</td>\n",
       "      <td>From games.aarp.org (mixed niche)</td>\n",
       "      <td>www.austinymca.org</td>\n",
       "      <td>47.0</td>\n",
       "      <td>NaN</td>\n",
       "      <td>NaN</td>\n",
       "      <td>NaN</td>\n",
       "      <td>...</td>\n",
       "      <td>Mon, Oct 5, 20</td>\n",
       "      <td>True</td>\n",
       "      <td>NaN</td>\n",
       "      <td>Pithced</td>\n",
       "      <td>NaT</td>\n",
       "      <td>NaN</td>\n",
       "      <td>NaN</td>\n",
       "      <td>NaN</td>\n",
       "      <td>NaN</td>\n",
       "      <td>NaT</td>\n",
       "    </tr>\n",
       "    <tr>\n",
       "      <th>3</th>\n",
       "      <td>NaN</td>\n",
       "      <td>1.0</td>\n",
       "      <td>607.0</td>\n",
       "      <td>Resource Page</td>\n",
       "      <td>From games.aarp.org (mixed niche)</td>\n",
       "      <td>www.walnut-creek.org</td>\n",
       "      <td>54.0</td>\n",
       "      <td>NaN</td>\n",
       "      <td>NaN</td>\n",
       "      <td>NaN</td>\n",
       "      <td>...</td>\n",
       "      <td>Mon, Oct 5, 20</td>\n",
       "      <td>True</td>\n",
       "      <td>NaN</td>\n",
       "      <td>Pithced</td>\n",
       "      <td>NaT</td>\n",
       "      <td>NaN</td>\n",
       "      <td>NaN</td>\n",
       "      <td>NaN</td>\n",
       "      <td>NaN</td>\n",
       "      <td>NaT</td>\n",
       "    </tr>\n",
       "    <tr>\n",
       "      <th>4</th>\n",
       "      <td>NaN</td>\n",
       "      <td>1.0</td>\n",
       "      <td>607.0</td>\n",
       "      <td>Resource Page</td>\n",
       "      <td>From games.aarp.org (mixed niche)</td>\n",
       "      <td>pgcmls.info</td>\n",
       "      <td>48.0</td>\n",
       "      <td>NaN</td>\n",
       "      <td>NaN</td>\n",
       "      <td>NaN</td>\n",
       "      <td>...</td>\n",
       "      <td>Mon, Oct 5, 20</td>\n",
       "      <td>True</td>\n",
       "      <td>NaN</td>\n",
       "      <td>Pithced</td>\n",
       "      <td>NaT</td>\n",
       "      <td>NaN</td>\n",
       "      <td>NaN</td>\n",
       "      <td>NaN</td>\n",
       "      <td>NaN</td>\n",
       "      <td>NaT</td>\n",
       "    </tr>\n",
       "    <tr>\n",
       "      <th>...</th>\n",
       "      <td>...</td>\n",
       "      <td>...</td>\n",
       "      <td>...</td>\n",
       "      <td>...</td>\n",
       "      <td>...</td>\n",
       "      <td>...</td>\n",
       "      <td>...</td>\n",
       "      <td>...</td>\n",
       "      <td>...</td>\n",
       "      <td>...</td>\n",
       "      <td>...</td>\n",
       "      <td>...</td>\n",
       "      <td>...</td>\n",
       "      <td>...</td>\n",
       "      <td>...</td>\n",
       "      <td>...</td>\n",
       "      <td>...</td>\n",
       "      <td>...</td>\n",
       "      <td>...</td>\n",
       "      <td>...</td>\n",
       "      <td>...</td>\n",
       "    </tr>\n",
       "    <tr>\n",
       "      <th>9094</th>\n",
       "      <td>NaN</td>\n",
       "      <td>2.0</td>\n",
       "      <td>190.0</td>\n",
       "      <td>Resource Link</td>\n",
       "      <td>National Dinosaur Day(May 15-June 1)</td>\n",
       "      <td>www.worldnationaldays.com</td>\n",
       "      <td>33.0</td>\n",
       "      <td>5375</td>\n",
       "      <td>NaN</td>\n",
       "      <td>NaN</td>\n",
       "      <td>...</td>\n",
       "      <td>NaN</td>\n",
       "      <td>False</td>\n",
       "      <td>NaN</td>\n",
       "      <td>NaN</td>\n",
       "      <td>NaT</td>\n",
       "      <td>NaN</td>\n",
       "      <td>NaN</td>\n",
       "      <td>NaN</td>\n",
       "      <td>AY</td>\n",
       "      <td>2022-04-19</td>\n",
       "    </tr>\n",
       "    <tr>\n",
       "      <th>9095</th>\n",
       "      <td>NaN</td>\n",
       "      <td>1.0</td>\n",
       "      <td>NaN</td>\n",
       "      <td>Resource Link</td>\n",
       "      <td>National Dinosaur Day(May 15-June 1)</td>\n",
       "      <td>onlydinosaurs.com</td>\n",
       "      <td>32.0</td>\n",
       "      <td>28263</td>\n",
       "      <td>NaN</td>\n",
       "      <td>NaN</td>\n",
       "      <td>...</td>\n",
       "      <td>NaN</td>\n",
       "      <td>False</td>\n",
       "      <td>NaN</td>\n",
       "      <td>NaN</td>\n",
       "      <td>NaT</td>\n",
       "      <td>NaN</td>\n",
       "      <td>NaN</td>\n",
       "      <td>NaN</td>\n",
       "      <td>AY</td>\n",
       "      <td>2022-04-19</td>\n",
       "    </tr>\n",
       "    <tr>\n",
       "      <th>9096</th>\n",
       "      <td>NaN</td>\n",
       "      <td>1.0</td>\n",
       "      <td>NaN</td>\n",
       "      <td>Resource Link</td>\n",
       "      <td>National Dinosaur Day(May 15-June 1)</td>\n",
       "      <td>celebratepicturebooks.com</td>\n",
       "      <td>31.0</td>\n",
       "      <td>2093</td>\n",
       "      <td>NaN</td>\n",
       "      <td>NaN</td>\n",
       "      <td>...</td>\n",
       "      <td>NaN</td>\n",
       "      <td>False</td>\n",
       "      <td>NaN</td>\n",
       "      <td>NaN</td>\n",
       "      <td>NaT</td>\n",
       "      <td>NaN</td>\n",
       "      <td>NaN</td>\n",
       "      <td>NaN</td>\n",
       "      <td>AY</td>\n",
       "      <td>2022-04-19</td>\n",
       "    </tr>\n",
       "    <tr>\n",
       "      <th>9097</th>\n",
       "      <td>NaN</td>\n",
       "      <td>1.0</td>\n",
       "      <td>NaN</td>\n",
       "      <td>Resource Link</td>\n",
       "      <td>National Dinosaur Day(May 15-June 1)</td>\n",
       "      <td>creative-beast.com</td>\n",
       "      <td>27.0</td>\n",
       "      <td>3451</td>\n",
       "      <td>NaN</td>\n",
       "      <td>NaN</td>\n",
       "      <td>...</td>\n",
       "      <td>NaN</td>\n",
       "      <td>False</td>\n",
       "      <td>NaN</td>\n",
       "      <td>NaN</td>\n",
       "      <td>NaT</td>\n",
       "      <td>NaN</td>\n",
       "      <td>NaN</td>\n",
       "      <td>NaN</td>\n",
       "      <td>AY</td>\n",
       "      <td>2022-04-19</td>\n",
       "    </tr>\n",
       "    <tr>\n",
       "      <th>9098</th>\n",
       "      <td>NaN</td>\n",
       "      <td>2.0</td>\n",
       "      <td>135.0</td>\n",
       "      <td>Resource Link</td>\n",
       "      <td>National Dinosaur Day(May 15-June 1)</td>\n",
       "      <td>www.thetoyinsider.com</td>\n",
       "      <td>61.0</td>\n",
       "      <td>149100</td>\n",
       "      <td>NaN</td>\n",
       "      <td>NaN</td>\n",
       "      <td>...</td>\n",
       "      <td>NaN</td>\n",
       "      <td>False</td>\n",
       "      <td>NaN</td>\n",
       "      <td>NaN</td>\n",
       "      <td>NaT</td>\n",
       "      <td>NaN</td>\n",
       "      <td>NaN</td>\n",
       "      <td>NaN</td>\n",
       "      <td>AY</td>\n",
       "      <td>2022-04-19</td>\n",
       "    </tr>\n",
       "  </tbody>\n",
       "</table>\n",
       "<p>9099 rows × 31 columns</p>\n",
       "</div>"
      ],
      "text/plain": [
       "     QC Comment  Alert  Days ORed      Link Type  \\\n",
       "0           NaN    1.0      607.0  Resource Page   \n",
       "1           NaN    2.0      522.0  Resource Page   \n",
       "2           NaN    1.0      607.0  Resource Page   \n",
       "3           NaN    1.0      607.0  Resource Page   \n",
       "4           NaN    1.0      607.0  Resource Page   \n",
       "...         ...    ...        ...            ...   \n",
       "9094        NaN    2.0      190.0  Resource Link   \n",
       "9095        NaN    1.0        NaN  Resource Link   \n",
       "9096        NaN    1.0        NaN  Resource Link   \n",
       "9097        NaN    1.0        NaN  Resource Link   \n",
       "9098        NaN    2.0      135.0  Resource Link   \n",
       "\n",
       "                                Batch Name                     Site URL    DA  \\\n",
       "0        From games.aarp.org (mixed niche)  www.selwynfoundation.org.nz   NaN   \n",
       "1        From games.aarp.org (mixed niche)           ageofcentraltx.org  36.0   \n",
       "2        From games.aarp.org (mixed niche)           www.austinymca.org  47.0   \n",
       "3        From games.aarp.org (mixed niche)         www.walnut-creek.org  54.0   \n",
       "4        From games.aarp.org (mixed niche)                  pgcmls.info  48.0   \n",
       "...                                    ...                          ...   ...   \n",
       "9094  National Dinosaur Day(May 15-June 1)    www.worldnationaldays.com  33.0   \n",
       "9095  National Dinosaur Day(May 15-June 1)            onlydinosaurs.com  32.0   \n",
       "9096  National Dinosaur Day(May 15-June 1)    celebratepicturebooks.com  31.0   \n",
       "9097  National Dinosaur Day(May 15-June 1)           creative-beast.com  27.0   \n",
       "9098  National Dinosaur Day(May 15-June 1)        www.thetoyinsider.com  61.0   \n",
       "\n",
       "     Traffic  CRight Link Guidelines  ...           #3 FF 3 FF Done?  \\\n",
       "0        NaN     NaN             NaN  ...  Mon, Oct 5, 20       True   \n",
       "1        NaN     NaN             NaN  ...  Mon, Oct 5, 20       True   \n",
       "2        NaN     NaN             NaN  ...  Mon, Oct 5, 20       True   \n",
       "3        NaN     NaN             NaN  ...  Mon, Oct 5, 20       True   \n",
       "4        NaN     NaN             NaN  ...  Mon, Oct 5, 20       True   \n",
       "...      ...     ...             ...  ...             ...        ...   \n",
       "9094    5375     NaN             NaN  ...             NaN      False   \n",
       "9095   28263     NaN             NaN  ...             NaN      False   \n",
       "9096    2093     NaN             NaN  ...             NaN      False   \n",
       "9097    3451     NaN             NaN  ...             NaN      False   \n",
       "9098  149100     NaN             NaN  ...             NaN      False   \n",
       "\n",
       "      OR Comment       Status       Date   LT Any other comments OUTREACHER  \\\n",
       "0            NaN      Pithced        NaT  NaN                NaN        NaN   \n",
       "1            NaN  Deal - Live 2020-09-22  NaN                NaN        NaN   \n",
       "2            NaN      Pithced        NaT  NaN                NaN        NaN   \n",
       "3            NaN      Pithced        NaT  NaN                NaN        NaN   \n",
       "4            NaN      Pithced        NaT  NaN                NaN        NaN   \n",
       "...          ...          ...        ...  ...                ...        ...   \n",
       "9094         NaN          NaN        NaT  NaN                NaN        NaN   \n",
       "9095         NaN          NaN        NaT  NaN                NaN        NaN   \n",
       "9096         NaN          NaN        NaT  NaN                NaN        NaN   \n",
       "9097         NaN          NaN        NaT  NaN                NaN        NaN   \n",
       "9098         NaN          NaN        NaT  NaN                NaN        NaN   \n",
       "\n",
       "      PROSPECTOR Prospected Date  \n",
       "0            NaN             NaT  \n",
       "1            NaN             NaT  \n",
       "2            NaN             NaT  \n",
       "3            NaN             NaT  \n",
       "4            NaN             NaT  \n",
       "...          ...             ...  \n",
       "9094          AY      2022-04-19  \n",
       "9095          AY      2022-04-19  \n",
       "9096          AY      2022-04-19  \n",
       "9097          AY      2022-04-19  \n",
       "9098          AY      2022-04-19  \n",
       "\n",
       "[9099 rows x 31 columns]"
      ]
     },
     "execution_count": 2,
     "metadata": {},
     "output_type": "execute_result"
    }
   ],
   "source": [
    "\n",
    "df=pd.read_excel(r'C:\\Users\\saura\\Downloads\\Link Building Data (1).xlsx')\n",
    "df"
   ]
  },
  {
   "cell_type": "markdown",
   "id": "440f9c59",
   "metadata": {},
   "source": [
    "# 2. Data preparation and cleaning\n",
    "Here, In this section we will perform data cleaning by using the following steps:\n",
    "\n",
    "Load the dataset into a data frame using Pandas\n",
    "Explore the number of rows & columns, ranges of values, etc.\n",
    "Handle missing, incorrect, and invalid data of the missing values or drop the values\n",
    "\n",
    "\n"
   ]
  },
  {
   "cell_type": "code",
   "execution_count": 3,
   "id": "81bf540f",
   "metadata": {},
   "outputs": [
    {
     "data": {
      "text/plain": [
       "(9099, 31)"
      ]
     },
     "execution_count": 3,
     "metadata": {},
     "output_type": "execute_result"
    }
   ],
   "source": [
    "\n",
    "df.shape"
   ]
  },
  {
   "cell_type": "code",
   "execution_count": 4,
   "id": "40c1d45f",
   "metadata": {},
   "outputs": [
    {
     "data": {
      "text/plain": [
       "Index(['QC Comment', 'Alert', 'Days ORed', 'Link Type', 'Batch Name',\n",
       "       'Site URL', 'DA', 'Traffic', 'CRight', 'Link Guidelines',\n",
       "       'LG Email / Form', 'Title', 'Bounced?', 'Generic Email',\n",
       "       'Prospector Note For Outreacher', 'Outreach Email', 'Outreach Date',\n",
       "       '#1 FF', '1 FF Done?', '#2 FF', '2 FF Done?', '#3 FF', '3 FF Done?',\n",
       "       'OR Comment', 'Status', 'Date', 'LT', 'Any other comments',\n",
       "       'OUTREACHER', 'PROSPECTOR', 'Prospected Date'],\n",
       "      dtype='object')"
      ]
     },
     "execution_count": 4,
     "metadata": {},
     "output_type": "execute_result"
    }
   ],
   "source": [
    "df.columns"
   ]
  },
  {
   "cell_type": "code",
   "execution_count": 5,
   "id": "cb66e8d6",
   "metadata": {},
   "outputs": [
    {
     "name": "stdout",
     "output_type": "stream",
     "text": [
      "<class 'pandas.core.frame.DataFrame'>\n",
      "RangeIndex: 9099 entries, 0 to 9098\n",
      "Data columns (total 31 columns):\n",
      " #   Column                          Non-Null Count  Dtype         \n",
      "---  ------                          --------------  -----         \n",
      " 0   QC Comment                      305 non-null    object        \n",
      " 1   Alert                           9096 non-null   float64       \n",
      " 2   Days ORed                       8418 non-null   float64       \n",
      " 3   Link Type                       9099 non-null   object        \n",
      " 4   Batch Name                      9099 non-null   object        \n",
      " 5   Site URL                        9099 non-null   object        \n",
      " 6   DA                              9037 non-null   float64       \n",
      " 7   Traffic                         3618 non-null   object        \n",
      " 8   CRight                          0 non-null      float64       \n",
      " 9   Link Guidelines                 168 non-null    object        \n",
      " 10  LG Email / Form                 413 non-null    object        \n",
      " 11  Title                           7964 non-null   object        \n",
      " 12  Bounced?                        8894 non-null   float64       \n",
      " 13  Generic Email                   1557 non-null   object        \n",
      " 14  Prospector Note For Outreacher  1621 non-null   object        \n",
      " 15  Outreach Email                  5852 non-null   object        \n",
      " 16  Outreach Date                   8161 non-null   object        \n",
      " 17  #1 FF                           8161 non-null   object        \n",
      " 18  1 FF Done?                      9099 non-null   bool          \n",
      " 19  #2 FF                           8161 non-null   object        \n",
      " 20  2 FF Done?                      9099 non-null   bool          \n",
      " 21  #3 FF                           8161 non-null   object        \n",
      " 22  3 FF Done?                      9099 non-null   bool          \n",
      " 23  OR Comment                      0 non-null      float64       \n",
      " 24  Status                          8962 non-null   object        \n",
      " 25  Date                            288 non-null    datetime64[ns]\n",
      " 26  LT                              73 non-null     object        \n",
      " 27  Any other comments              0 non-null      float64       \n",
      " 28  OUTREACHER                      1843 non-null   object        \n",
      " 29  PROSPECTOR                      1445 non-null   object        \n",
      " 30  Prospected Date                 1391 non-null   datetime64[ns]\n",
      "dtypes: bool(3), datetime64[ns](2), float64(7), object(19)\n",
      "memory usage: 2.0+ MB\n"
     ]
    }
   ],
   "source": [
    "\n",
    "\n",
    "#check the data set info----\n",
    "\n",
    "df.info()"
   ]
  },
  {
   "cell_type": "markdown",
   "id": "086ff676",
   "metadata": {},
   "source": [
    "\n",
    "# Here we can see\n",
    "\n",
    "The data type of all column which is int64, object, and float64,boolean\n",
    "The number of rows is 9099.\n",
    "The number of columns is 311\n",
    "\n",
    "Now we have a rough idea of our dataset and we can further process for analysis\n"
   ]
  },
  {
   "cell_type": "markdown",
   "id": "a3c722a8",
   "metadata": {},
   "source": [
    "# statistics that summarize the central tendency, dispersion, and shape of a dataset’s distribution, excluding NaN values. It is used to view some basic statistical details like percentile, mean, std, etc."
   ]
  },
  {
   "cell_type": "code",
   "execution_count": 6,
   "id": "bceece20",
   "metadata": {},
   "outputs": [
    {
     "data": {
      "text/html": [
       "<div>\n",
       "<style scoped>\n",
       "    .dataframe tbody tr th:only-of-type {\n",
       "        vertical-align: middle;\n",
       "    }\n",
       "\n",
       "    .dataframe tbody tr th {\n",
       "        vertical-align: top;\n",
       "    }\n",
       "\n",
       "    .dataframe thead th {\n",
       "        text-align: right;\n",
       "    }\n",
       "</style>\n",
       "<table border=\"1\" class=\"dataframe\">\n",
       "  <thead>\n",
       "    <tr style=\"text-align: right;\">\n",
       "      <th></th>\n",
       "      <th>Alert</th>\n",
       "      <th>Days ORed</th>\n",
       "      <th>DA</th>\n",
       "      <th>CRight</th>\n",
       "      <th>Bounced?</th>\n",
       "      <th>OR Comment</th>\n",
       "      <th>Any other comments</th>\n",
       "    </tr>\n",
       "  </thead>\n",
       "  <tbody>\n",
       "    <tr>\n",
       "      <th>count</th>\n",
       "      <td>9096.000000</td>\n",
       "      <td>8418.000000</td>\n",
       "      <td>9037.000000</td>\n",
       "      <td>0.0</td>\n",
       "      <td>8894.000000</td>\n",
       "      <td>0.0</td>\n",
       "      <td>0.0</td>\n",
       "    </tr>\n",
       "    <tr>\n",
       "      <th>mean</th>\n",
       "      <td>1.452397</td>\n",
       "      <td>231.645640</td>\n",
       "      <td>47.820073</td>\n",
       "      <td>NaN</td>\n",
       "      <td>0.000450</td>\n",
       "      <td>NaN</td>\n",
       "      <td>NaN</td>\n",
       "    </tr>\n",
       "    <tr>\n",
       "      <th>std</th>\n",
       "      <td>0.882011</td>\n",
       "      <td>143.152546</td>\n",
       "      <td>17.363537</td>\n",
       "      <td>NaN</td>\n",
       "      <td>0.021204</td>\n",
       "      <td>NaN</td>\n",
       "      <td>NaN</td>\n",
       "    </tr>\n",
       "    <tr>\n",
       "      <th>min</th>\n",
       "      <td>1.000000</td>\n",
       "      <td>0.000000</td>\n",
       "      <td>9.000000</td>\n",
       "      <td>NaN</td>\n",
       "      <td>0.000000</td>\n",
       "      <td>NaN</td>\n",
       "      <td>NaN</td>\n",
       "    </tr>\n",
       "    <tr>\n",
       "      <th>25%</th>\n",
       "      <td>1.000000</td>\n",
       "      <td>128.000000</td>\n",
       "      <td>34.000000</td>\n",
       "      <td>NaN</td>\n",
       "      <td>0.000000</td>\n",
       "      <td>NaN</td>\n",
       "      <td>NaN</td>\n",
       "    </tr>\n",
       "    <tr>\n",
       "      <th>50%</th>\n",
       "      <td>1.000000</td>\n",
       "      <td>212.000000</td>\n",
       "      <td>44.000000</td>\n",
       "      <td>NaN</td>\n",
       "      <td>0.000000</td>\n",
       "      <td>NaN</td>\n",
       "      <td>NaN</td>\n",
       "    </tr>\n",
       "    <tr>\n",
       "      <th>75%</th>\n",
       "      <td>2.000000</td>\n",
       "      <td>304.000000</td>\n",
       "      <td>59.000000</td>\n",
       "      <td>NaN</td>\n",
       "      <td>0.000000</td>\n",
       "      <td>NaN</td>\n",
       "      <td>NaN</td>\n",
       "    </tr>\n",
       "    <tr>\n",
       "      <th>max</th>\n",
       "      <td>13.000000</td>\n",
       "      <td>775.000000</td>\n",
       "      <td>98.000000</td>\n",
       "      <td>NaN</td>\n",
       "      <td>1.000000</td>\n",
       "      <td>NaN</td>\n",
       "      <td>NaN</td>\n",
       "    </tr>\n",
       "  </tbody>\n",
       "</table>\n",
       "</div>"
      ],
      "text/plain": [
       "             Alert    Days ORed           DA  CRight     Bounced?  OR Comment  \\\n",
       "count  9096.000000  8418.000000  9037.000000     0.0  8894.000000         0.0   \n",
       "mean      1.452397   231.645640    47.820073     NaN     0.000450         NaN   \n",
       "std       0.882011   143.152546    17.363537     NaN     0.021204         NaN   \n",
       "min       1.000000     0.000000     9.000000     NaN     0.000000         NaN   \n",
       "25%       1.000000   128.000000    34.000000     NaN     0.000000         NaN   \n",
       "50%       1.000000   212.000000    44.000000     NaN     0.000000         NaN   \n",
       "75%       2.000000   304.000000    59.000000     NaN     0.000000         NaN   \n",
       "max      13.000000   775.000000    98.000000     NaN     1.000000         NaN   \n",
       "\n",
       "       Any other comments  \n",
       "count                 0.0  \n",
       "mean                  NaN  \n",
       "std                   NaN  \n",
       "min                   NaN  \n",
       "25%                   NaN  \n",
       "50%                   NaN  \n",
       "75%                   NaN  \n",
       "max                   NaN  "
      ]
     },
     "execution_count": 6,
     "metadata": {},
     "output_type": "execute_result"
    }
   ],
   "source": [
    "# Description of datasets\n",
    "df.describe()"
   ]
  },
  {
   "cell_type": "markdown",
   "id": "a6e953ce",
   "metadata": {},
   "source": [
    "\n",
    "# Percentage of missing values per columns\n",
    "\n"
   ]
  },
  {
   "cell_type": "code",
   "execution_count": 7,
   "id": "b9e91d4b",
   "metadata": {},
   "outputs": [
    {
     "data": {
      "text/plain": [
       "QC Comment                         96.647983\n",
       "Alert                               0.032971\n",
       "Days ORed                           7.484339\n",
       "Link Type                           0.000000\n",
       "Batch Name                          0.000000\n",
       "Site URL                            0.000000\n",
       "DA                                  0.681394\n",
       "Traffic                            60.237389\n",
       "CRight                            100.000000\n",
       "Link Guidelines                    98.153643\n",
       "LG Email / Form                    95.461040\n",
       "Title                              12.473898\n",
       "Bounced?                            2.252995\n",
       "Generic Email                      82.888229\n",
       "Prospector Note For Outreacher     82.184855\n",
       "Outreach Email                     35.685240\n",
       "Outreach Date                      10.308825\n",
       "#1 FF                              10.308825\n",
       "1 FF Done?                          0.000000\n",
       "#2 FF                              10.308825\n",
       "2 FF Done?                          0.000000\n",
       "#3 FF                              10.308825\n",
       "3 FF Done?                          0.000000\n",
       "OR Comment                        100.000000\n",
       "Status                              1.505660\n",
       "Date                               96.834817\n",
       "LT                                 99.197714\n",
       "Any other comments                100.000000\n",
       "OUTREACHER                         79.745027\n",
       "PROSPECTOR                         84.119134\n",
       "Prospected Date                    84.712606\n",
       "dtype: float64"
      ]
     },
     "execution_count": 7,
     "metadata": {},
     "output_type": "execute_result"
    }
   ],
   "source": [
    "\n",
    "null_perceentages = df.isna().sum() / len(df) * 100\n",
    "null_perceentages"
   ]
  },
  {
   "cell_type": "code",
   "execution_count": 8,
   "id": "717c2271",
   "metadata": {},
   "outputs": [
    {
     "data": {
      "text/plain": [
       "<AxesSubplot:title={'center':'Percentage of Null Values:'}>"
      ]
     },
     "execution_count": 8,
     "metadata": {},
     "output_type": "execute_result"
    },
    {
     "data": {
      "image/png": "[encoded data removed]",
      "text/plain": [
       "<Figure size 864x576 with 1 Axes>"
      ]
     },
     "metadata": {
      "needs_background": "light"
     },
     "output_type": "display_data"
    }
   ],
   "source": [
    "\n",
    "\n",
    "# Plot a bar chat to see the missing peercentage\n",
    "plt.title(\"Percentage of Null Values:\" , fontsize=50)\n",
    "null_perceentages[null_perceentages != 0].plot(figsize=(12,8),kind='barh',grid=True,cmap='inferno')"
   ]
  },
  {
   "cell_type": "markdown",
   "id": "a07ca427",
   "metadata": {},
   "source": [
    "\n",
    "# Remove the columns which is having more than 70% missing values."
   ]
  },
  {
   "cell_type": "markdown",
   "id": "876cd3a0",
   "metadata": {},
   "source": [
    "# Let’s drop some columns which are not required for our analysis"
   ]
  },
  {
   "cell_type": "code",
   "execution_count": 9,
   "id": "836aea9b",
   "metadata": {},
   "outputs": [
    {
     "data": {
      "text/plain": [
       "Index(['QC Comment', 'Alert', 'Days ORed', 'Link Type', 'Batch Name',\n",
       "       'Site URL', 'DA', 'Traffic', 'CRight', 'Link Guidelines',\n",
       "       'LG Email / Form', 'Title', 'Bounced?', 'Generic Email',\n",
       "       'Prospector Note For Outreacher', 'Outreach Email', 'Outreach Date',\n",
       "       '#1 FF', '1 FF Done?', '#2 FF', '2 FF Done?', '#3 FF', '3 FF Done?',\n",
       "       'OR Comment', 'Status', 'Date', 'LT', 'Any other comments',\n",
       "       'OUTREACHER', 'PROSPECTOR', 'Prospected Date'],\n",
       "      dtype='object')"
      ]
     },
     "execution_count": 9,
     "metadata": {},
     "output_type": "execute_result"
    }
   ],
   "source": [
    "df.columns"
   ]
  },
  {
   "cell_type": "code",
   "execution_count": 10,
   "id": "5de595f4",
   "metadata": {},
   "outputs": [],
   "source": [
    "#Let's drop the columns which are not of our use \n",
    "new_df = df.drop(['QC Comment', 'CRight', 'Link Guidelines', 'LG Email / Form','OR Comment','Date', 'LT', 'Any other comments','Generic Email','Prospector Note For Outreacher','OUTREACHER', 'PROSPECTOR', 'Prospected Date'], axis =1)\n",
    "        "
   ]
  },
  {
   "cell_type": "code",
   "execution_count": 11,
   "id": "dbaf8e8d",
   "metadata": {},
   "outputs": [
    {
     "data": {
      "text/html": [
       "<div>\n",
       "<style scoped>\n",
       "    .dataframe tbody tr th:only-of-type {\n",
       "        vertical-align: middle;\n",
       "    }\n",
       "\n",
       "    .dataframe tbody tr th {\n",
       "        vertical-align: top;\n",
       "    }\n",
       "\n",
       "    .dataframe thead th {\n",
       "        text-align: right;\n",
       "    }\n",
       "</style>\n",
       "<table border=\"1\" class=\"dataframe\">\n",
       "  <thead>\n",
       "    <tr style=\"text-align: right;\">\n",
       "      <th></th>\n",
       "      <th>Alert</th>\n",
       "      <th>Days ORed</th>\n",
       "      <th>Link Type</th>\n",
       "      <th>Batch Name</th>\n",
       "      <th>Site URL</th>\n",
       "      <th>DA</th>\n",
       "      <th>Traffic</th>\n",
       "      <th>Title</th>\n",
       "      <th>Bounced?</th>\n",
       "      <th>Outreach Email</th>\n",
       "      <th>Outreach Date</th>\n",
       "      <th>#1 FF</th>\n",
       "      <th>1 FF Done?</th>\n",
       "      <th>#2 FF</th>\n",
       "      <th>2 FF Done?</th>\n",
       "      <th>#3 FF</th>\n",
       "      <th>3 FF Done?</th>\n",
       "      <th>Status</th>\n",
       "    </tr>\n",
       "  </thead>\n",
       "  <tbody>\n",
       "    <tr>\n",
       "      <th>0</th>\n",
       "      <td>1.0</td>\n",
       "      <td>607.0</td>\n",
       "      <td>Resource Page</td>\n",
       "      <td>From games.aarp.org (mixed niche)</td>\n",
       "      <td>www.selwynfoundation.org.nz</td>\n",
       "      <td>NaN</td>\n",
       "      <td>NaN</td>\n",
       "      <td>Content Manager</td>\n",
       "      <td>0.0</td>\n",
       "      <td>NaN</td>\n",
       "      <td>Sun, Sep 6, 20</td>\n",
       "      <td>Wed, Sep 9, 20</td>\n",
       "      <td>True</td>\n",
       "      <td>Mon, Sep 14, 20</td>\n",
       "      <td>True</td>\n",
       "      <td>Mon, Oct 5, 20</td>\n",
       "      <td>True</td>\n",
       "      <td>Pithced</td>\n",
       "    </tr>\n",
       "    <tr>\n",
       "      <th>1</th>\n",
       "      <td>2.0</td>\n",
       "      <td>522.0</td>\n",
       "      <td>Resource Page</td>\n",
       "      <td>From games.aarp.org (mixed niche)</td>\n",
       "      <td>ageofcentraltx.org</td>\n",
       "      <td>36.0</td>\n",
       "      <td>NaN</td>\n",
       "      <td>Director of Marketing and Communications</td>\n",
       "      <td>0.0</td>\n",
       "      <td>NaN</td>\n",
       "      <td>Sun, Sep 6, 20</td>\n",
       "      <td>Wed, Sep 9, 20</td>\n",
       "      <td>True</td>\n",
       "      <td>Mon, Sep 14, 20</td>\n",
       "      <td>True</td>\n",
       "      <td>Mon, Oct 5, 20</td>\n",
       "      <td>True</td>\n",
       "      <td>Deal - Live</td>\n",
       "    </tr>\n",
       "    <tr>\n",
       "      <th>2</th>\n",
       "      <td>1.0</td>\n",
       "      <td>607.0</td>\n",
       "      <td>Resource Page</td>\n",
       "      <td>From games.aarp.org (mixed niche)</td>\n",
       "      <td>www.austinymca.org</td>\n",
       "      <td>47.0</td>\n",
       "      <td>NaN</td>\n",
       "      <td>Director of Marketing and Communications</td>\n",
       "      <td>0.0</td>\n",
       "      <td>NaN</td>\n",
       "      <td>Sun, Sep 6, 20</td>\n",
       "      <td>Wed, Sep 9, 20</td>\n",
       "      <td>True</td>\n",
       "      <td>Mon, Sep 14, 20</td>\n",
       "      <td>True</td>\n",
       "      <td>Mon, Oct 5, 20</td>\n",
       "      <td>True</td>\n",
       "      <td>Pithced</td>\n",
       "    </tr>\n",
       "    <tr>\n",
       "      <th>3</th>\n",
       "      <td>1.0</td>\n",
       "      <td>607.0</td>\n",
       "      <td>Resource Page</td>\n",
       "      <td>From games.aarp.org (mixed niche)</td>\n",
       "      <td>www.walnut-creek.org</td>\n",
       "      <td>54.0</td>\n",
       "      <td>NaN</td>\n",
       "      <td>Marketing Coordinator</td>\n",
       "      <td>0.0</td>\n",
       "      <td>NaN</td>\n",
       "      <td>Sun, Sep 6, 20</td>\n",
       "      <td>Wed, Sep 9, 20</td>\n",
       "      <td>True</td>\n",
       "      <td>Mon, Sep 14, 20</td>\n",
       "      <td>True</td>\n",
       "      <td>Mon, Oct 5, 20</td>\n",
       "      <td>True</td>\n",
       "      <td>Pithced</td>\n",
       "    </tr>\n",
       "    <tr>\n",
       "      <th>4</th>\n",
       "      <td>1.0</td>\n",
       "      <td>607.0</td>\n",
       "      <td>Resource Page</td>\n",
       "      <td>From games.aarp.org (mixed niche)</td>\n",
       "      <td>pgcmls.info</td>\n",
       "      <td>48.0</td>\n",
       "      <td>NaN</td>\n",
       "      <td>Director of Dynamic Content and Engagement</td>\n",
       "      <td>0.0</td>\n",
       "      <td>NaN</td>\n",
       "      <td>Sun, Sep 6, 20</td>\n",
       "      <td>Wed, Sep 9, 20</td>\n",
       "      <td>True</td>\n",
       "      <td>Mon, Sep 14, 20</td>\n",
       "      <td>True</td>\n",
       "      <td>Mon, Oct 5, 20</td>\n",
       "      <td>True</td>\n",
       "      <td>Pithced</td>\n",
       "    </tr>\n",
       "    <tr>\n",
       "      <th>...</th>\n",
       "      <td>...</td>\n",
       "      <td>...</td>\n",
       "      <td>...</td>\n",
       "      <td>...</td>\n",
       "      <td>...</td>\n",
       "      <td>...</td>\n",
       "      <td>...</td>\n",
       "      <td>...</td>\n",
       "      <td>...</td>\n",
       "      <td>...</td>\n",
       "      <td>...</td>\n",
       "      <td>...</td>\n",
       "      <td>...</td>\n",
       "      <td>...</td>\n",
       "      <td>...</td>\n",
       "      <td>...</td>\n",
       "      <td>...</td>\n",
       "      <td>...</td>\n",
       "    </tr>\n",
       "    <tr>\n",
       "      <th>9094</th>\n",
       "      <td>2.0</td>\n",
       "      <td>190.0</td>\n",
       "      <td>Resource Link</td>\n",
       "      <td>National Dinosaur Day(May 15-June 1)</td>\n",
       "      <td>www.worldnationaldays.com</td>\n",
       "      <td>33.0</td>\n",
       "      <td>5375</td>\n",
       "      <td>NaN</td>\n",
       "      <td>0.0</td>\n",
       "      <td>NaN</td>\n",
       "      <td>NaN</td>\n",
       "      <td>NaN</td>\n",
       "      <td>False</td>\n",
       "      <td>NaN</td>\n",
       "      <td>False</td>\n",
       "      <td>NaN</td>\n",
       "      <td>False</td>\n",
       "      <td>NaN</td>\n",
       "    </tr>\n",
       "    <tr>\n",
       "      <th>9095</th>\n",
       "      <td>1.0</td>\n",
       "      <td>NaN</td>\n",
       "      <td>Resource Link</td>\n",
       "      <td>National Dinosaur Day(May 15-June 1)</td>\n",
       "      <td>onlydinosaurs.com</td>\n",
       "      <td>32.0</td>\n",
       "      <td>28263</td>\n",
       "      <td>Marketing Director</td>\n",
       "      <td>0.0</td>\n",
       "      <td>NaN</td>\n",
       "      <td>NaN</td>\n",
       "      <td>NaN</td>\n",
       "      <td>False</td>\n",
       "      <td>NaN</td>\n",
       "      <td>False</td>\n",
       "      <td>NaN</td>\n",
       "      <td>False</td>\n",
       "      <td>NaN</td>\n",
       "    </tr>\n",
       "    <tr>\n",
       "      <th>9096</th>\n",
       "      <td>1.0</td>\n",
       "      <td>NaN</td>\n",
       "      <td>Resource Link</td>\n",
       "      <td>National Dinosaur Day(May 15-June 1)</td>\n",
       "      <td>celebratepicturebooks.com</td>\n",
       "      <td>31.0</td>\n",
       "      <td>2093</td>\n",
       "      <td>Owner</td>\n",
       "      <td>0.0</td>\n",
       "      <td>NaN</td>\n",
       "      <td>NaN</td>\n",
       "      <td>NaN</td>\n",
       "      <td>False</td>\n",
       "      <td>NaN</td>\n",
       "      <td>False</td>\n",
       "      <td>NaN</td>\n",
       "      <td>False</td>\n",
       "      <td>NaN</td>\n",
       "    </tr>\n",
       "    <tr>\n",
       "      <th>9097</th>\n",
       "      <td>1.0</td>\n",
       "      <td>NaN</td>\n",
       "      <td>Resource Link</td>\n",
       "      <td>National Dinosaur Day(May 15-June 1)</td>\n",
       "      <td>creative-beast.com</td>\n",
       "      <td>27.0</td>\n",
       "      <td>3451</td>\n",
       "      <td>Owner</td>\n",
       "      <td>0.0</td>\n",
       "      <td>NaN</td>\n",
       "      <td>NaN</td>\n",
       "      <td>NaN</td>\n",
       "      <td>False</td>\n",
       "      <td>NaN</td>\n",
       "      <td>False</td>\n",
       "      <td>NaN</td>\n",
       "      <td>False</td>\n",
       "      <td>NaN</td>\n",
       "    </tr>\n",
       "    <tr>\n",
       "      <th>9098</th>\n",
       "      <td>2.0</td>\n",
       "      <td>135.0</td>\n",
       "      <td>Resource Link</td>\n",
       "      <td>National Dinosaur Day(May 15-June 1)</td>\n",
       "      <td>www.thetoyinsider.com</td>\n",
       "      <td>61.0</td>\n",
       "      <td>149100</td>\n",
       "      <td>Senior Editor</td>\n",
       "      <td>0.0</td>\n",
       "      <td>NaN</td>\n",
       "      <td>NaN</td>\n",
       "      <td>NaN</td>\n",
       "      <td>False</td>\n",
       "      <td>NaN</td>\n",
       "      <td>False</td>\n",
       "      <td>NaN</td>\n",
       "      <td>False</td>\n",
       "      <td>NaN</td>\n",
       "    </tr>\n",
       "  </tbody>\n",
       "</table>\n",
       "<p>9099 rows × 18 columns</p>\n",
       "</div>"
      ],
      "text/plain": [
       "      Alert  Days ORed      Link Type                            Batch Name  \\\n",
       "0       1.0      607.0  Resource Page     From games.aarp.org (mixed niche)   \n",
       "1       2.0      522.0  Resource Page     From games.aarp.org (mixed niche)   \n",
       "2       1.0      607.0  Resource Page     From games.aarp.org (mixed niche)   \n",
       "3       1.0      607.0  Resource Page     From games.aarp.org (mixed niche)   \n",
       "4       1.0      607.0  Resource Page     From games.aarp.org (mixed niche)   \n",
       "...     ...        ...            ...                                   ...   \n",
       "9094    2.0      190.0  Resource Link  National Dinosaur Day(May 15-June 1)   \n",
       "9095    1.0        NaN  Resource Link  National Dinosaur Day(May 15-June 1)   \n",
       "9096    1.0        NaN  Resource Link  National Dinosaur Day(May 15-June 1)   \n",
       "9097    1.0        NaN  Resource Link  National Dinosaur Day(May 15-June 1)   \n",
       "9098    2.0      135.0  Resource Link  National Dinosaur Day(May 15-June 1)   \n",
       "\n",
       "                         Site URL    DA Traffic  \\\n",
       "0     www.selwynfoundation.org.nz   NaN     NaN   \n",
       "1              ageofcentraltx.org  36.0     NaN   \n",
       "2              www.austinymca.org  47.0     NaN   \n",
       "3            www.walnut-creek.org  54.0     NaN   \n",
       "4                     pgcmls.info  48.0     NaN   \n",
       "...                           ...   ...     ...   \n",
       "9094    www.worldnationaldays.com  33.0    5375   \n",
       "9095            onlydinosaurs.com  32.0   28263   \n",
       "9096    celebratepicturebooks.com  31.0    2093   \n",
       "9097           creative-beast.com  27.0    3451   \n",
       "9098        www.thetoyinsider.com  61.0  149100   \n",
       "\n",
       "                                           Title  Bounced? Outreach Email  \\\n",
       "0                                Content Manager       0.0            NaN   \n",
       "1       Director of Marketing and Communications       0.0            NaN   \n",
       "2       Director of Marketing and Communications       0.0            NaN   \n",
       "3                          Marketing Coordinator       0.0            NaN   \n",
       "4     Director of Dynamic Content and Engagement       0.0            NaN   \n",
       "...                                          ...       ...            ...   \n",
       "9094                                         NaN       0.0            NaN   \n",
       "9095                          Marketing Director       0.0            NaN   \n",
       "9096                                       Owner       0.0            NaN   \n",
       "9097                                       Owner       0.0            NaN   \n",
       "9098                               Senior Editor       0.0            NaN   \n",
       "\n",
       "       Outreach Date           #1 FF  1 FF Done?            #2 FF  2 FF Done?  \\\n",
       "0     Sun, Sep 6, 20  Wed, Sep 9, 20        True  Mon, Sep 14, 20        True   \n",
       "1     Sun, Sep 6, 20  Wed, Sep 9, 20        True  Mon, Sep 14, 20        True   \n",
       "2     Sun, Sep 6, 20  Wed, Sep 9, 20        True  Mon, Sep 14, 20        True   \n",
       "3     Sun, Sep 6, 20  Wed, Sep 9, 20        True  Mon, Sep 14, 20        True   \n",
       "4     Sun, Sep 6, 20  Wed, Sep 9, 20        True  Mon, Sep 14, 20        True   \n",
       "...              ...             ...         ...              ...         ...   \n",
       "9094             NaN             NaN       False              NaN       False   \n",
       "9095             NaN             NaN       False              NaN       False   \n",
       "9096             NaN             NaN       False              NaN       False   \n",
       "9097             NaN             NaN       False              NaN       False   \n",
       "9098             NaN             NaN       False              NaN       False   \n",
       "\n",
       "               #3 FF  3 FF Done?       Status  \n",
       "0     Mon, Oct 5, 20        True      Pithced  \n",
       "1     Mon, Oct 5, 20        True  Deal - Live  \n",
       "2     Mon, Oct 5, 20        True      Pithced  \n",
       "3     Mon, Oct 5, 20        True      Pithced  \n",
       "4     Mon, Oct 5, 20        True      Pithced  \n",
       "...              ...         ...          ...  \n",
       "9094             NaN       False          NaN  \n",
       "9095             NaN       False          NaN  \n",
       "9096             NaN       False          NaN  \n",
       "9097             NaN       False          NaN  \n",
       "9098             NaN       False          NaN  \n",
       "\n",
       "[9099 rows x 18 columns]"
      ]
     },
     "execution_count": 11,
     "metadata": {},
     "output_type": "execute_result"
    }
   ],
   "source": [
    "\n",
    "new_df"
   ]
  },
  {
   "cell_type": "code",
   "execution_count": 12,
   "id": "256e61df",
   "metadata": {},
   "outputs": [],
   "source": [
    "df1=new_df['Days ORed'].fillna(new_df['Days ORed'].mean(),inplace=True)"
   ]
  },
  {
   "cell_type": "code",
   "execution_count": 13,
   "id": "e2563726",
   "metadata": {},
   "outputs": [],
   "source": [
    "df1=new_df.isnull().sum()"
   ]
  },
  {
   "cell_type": "code",
   "execution_count": 14,
   "id": "e9473cff",
   "metadata": {},
   "outputs": [
    {
     "data": {
      "text/plain": [
       "Alert                3\n",
       "Days ORed            0\n",
       "Link Type            0\n",
       "Batch Name           0\n",
       "Site URL             0\n",
       "DA                  62\n",
       "Traffic           5481\n",
       "Title             1135\n",
       "Bounced?           205\n",
       "Outreach Email    3247\n",
       "Outreach Date      938\n",
       "#1 FF              938\n",
       "1 FF Done?           0\n",
       "#2 FF              938\n",
       "2 FF Done?           0\n",
       "#3 FF              938\n",
       "3 FF Done?           0\n",
       "Status             137\n",
       "dtype: int64"
      ]
     },
     "execution_count": 14,
     "metadata": {},
     "output_type": "execute_result"
    }
   ],
   "source": [
    "\n",
    "\n",
    "df1"
   ]
  },
  {
   "cell_type": "code",
   "execution_count": 15,
   "id": "e2579ea7",
   "metadata": {},
   "outputs": [],
   "source": [
    "df2=new_df['Traffic'].fillna(new_df['Traffic'].mode,inplace=True)"
   ]
  },
  {
   "cell_type": "code",
   "execution_count": 16,
   "id": "9ccccba6",
   "metadata": {},
   "outputs": [],
   "source": [
    "df2=new_df.isnull().sum()"
   ]
  },
  {
   "cell_type": "code",
   "execution_count": 17,
   "id": "9eabf945",
   "metadata": {},
   "outputs": [
    {
     "data": {
      "text/plain": [
       "Alert                3\n",
       "Days ORed            0\n",
       "Link Type            0\n",
       "Batch Name           0\n",
       "Site URL             0\n",
       "DA                  62\n",
       "Traffic              0\n",
       "Title             1135\n",
       "Bounced?           205\n",
       "Outreach Email    3247\n",
       "Outreach Date      938\n",
       "#1 FF              938\n",
       "1 FF Done?           0\n",
       "#2 FF              938\n",
       "2 FF Done?           0\n",
       "#3 FF              938\n",
       "3 FF Done?           0\n",
       "Status             137\n",
       "dtype: int64"
      ]
     },
     "execution_count": 17,
     "metadata": {},
     "output_type": "execute_result"
    }
   ],
   "source": [
    "df2"
   ]
  },
  {
   "cell_type": "code",
   "execution_count": 18,
   "id": "18b74533",
   "metadata": {},
   "outputs": [],
   "source": [
    "df3=new_df['DA'].fillna(new_df['DA'].mode,inplace=True)"
   ]
  },
  {
   "cell_type": "code",
   "execution_count": 19,
   "id": "8fec30fc",
   "metadata": {},
   "outputs": [],
   "source": [
    "df3=new_df.isnull().sum()"
   ]
  },
  {
   "cell_type": "code",
   "execution_count": 20,
   "id": "2e8d852f",
   "metadata": {},
   "outputs": [
    {
     "data": {
      "text/plain": [
       "Alert                3\n",
       "Days ORed            0\n",
       "Link Type            0\n",
       "Batch Name           0\n",
       "Site URL             0\n",
       "DA                   0\n",
       "Traffic              0\n",
       "Title             1135\n",
       "Bounced?           205\n",
       "Outreach Email    3247\n",
       "Outreach Date      938\n",
       "#1 FF              938\n",
       "1 FF Done?           0\n",
       "#2 FF              938\n",
       "2 FF Done?           0\n",
       "#3 FF              938\n",
       "3 FF Done?           0\n",
       "Status             137\n",
       "dtype: int64"
      ]
     },
     "execution_count": 20,
     "metadata": {},
     "output_type": "execute_result"
    }
   ],
   "source": [
    "df3"
   ]
  },
  {
   "cell_type": "code",
   "execution_count": 21,
   "id": "7b132078",
   "metadata": {},
   "outputs": [],
   "source": [
    "\n",
    "\n",
    "df3=new_df['Title'].fillna(new_df['Title'].mode,inplace=True)"
   ]
  },
  {
   "cell_type": "code",
   "execution_count": 22,
   "id": "c6f409d4",
   "metadata": {},
   "outputs": [],
   "source": [
    "\n",
    "df3=new_df.isnull().sum()"
   ]
  },
  {
   "cell_type": "code",
   "execution_count": 23,
   "id": "876f1bf4",
   "metadata": {},
   "outputs": [
    {
     "data": {
      "text/plain": [
       "Alert                3\n",
       "Days ORed            0\n",
       "Link Type            0\n",
       "Batch Name           0\n",
       "Site URL             0\n",
       "DA                   0\n",
       "Traffic              0\n",
       "Title                0\n",
       "Bounced?           205\n",
       "Outreach Email    3247\n",
       "Outreach Date      938\n",
       "#1 FF              938\n",
       "1 FF Done?           0\n",
       "#2 FF              938\n",
       "2 FF Done?           0\n",
       "#3 FF              938\n",
       "3 FF Done?           0\n",
       "Status             137\n",
       "dtype: int64"
      ]
     },
     "execution_count": 23,
     "metadata": {},
     "output_type": "execute_result"
    }
   ],
   "source": [
    "\n",
    "df3"
   ]
  },
  {
   "cell_type": "code",
   "execution_count": 24,
   "id": "090f3c33",
   "metadata": {},
   "outputs": [],
   "source": [
    "df3=new_df['Bounced?'].fillna(new_df['Bounced?'].mode,inplace=True)"
   ]
  },
  {
   "cell_type": "code",
   "execution_count": 25,
   "id": "f6931c88",
   "metadata": {},
   "outputs": [],
   "source": [
    "df3=new_df.isnull().sum()"
   ]
  },
  {
   "cell_type": "code",
   "execution_count": 26,
   "id": "f88b628b",
   "metadata": {},
   "outputs": [
    {
     "data": {
      "text/plain": [
       "Alert                3\n",
       "Days ORed            0\n",
       "Link Type            0\n",
       "Batch Name           0\n",
       "Site URL             0\n",
       "DA                   0\n",
       "Traffic              0\n",
       "Title                0\n",
       "Bounced?             0\n",
       "Outreach Email    3247\n",
       "Outreach Date      938\n",
       "#1 FF              938\n",
       "1 FF Done?           0\n",
       "#2 FF              938\n",
       "2 FF Done?           0\n",
       "#3 FF              938\n",
       "3 FF Done?           0\n",
       "Status             137\n",
       "dtype: int64"
      ]
     },
     "execution_count": 26,
     "metadata": {},
     "output_type": "execute_result"
    }
   ],
   "source": [
    "df3"
   ]
  },
  {
   "cell_type": "code",
   "execution_count": 27,
   "id": "6d7e8a12",
   "metadata": {},
   "outputs": [],
   "source": [
    "df3=new_df['Outreach Email'].fillna(new_df['Outreach Email'].mode,inplace=True)"
   ]
  },
  {
   "cell_type": "code",
   "execution_count": 28,
   "id": "bb041614",
   "metadata": {},
   "outputs": [],
   "source": [
    "\n",
    "df3=new_df.isnull().sum()"
   ]
  },
  {
   "cell_type": "code",
   "execution_count": 29,
   "id": "90d07db0",
   "metadata": {},
   "outputs": [
    {
     "data": {
      "text/plain": [
       "Alert               3\n",
       "Days ORed           0\n",
       "Link Type           0\n",
       "Batch Name          0\n",
       "Site URL            0\n",
       "DA                  0\n",
       "Traffic             0\n",
       "Title               0\n",
       "Bounced?            0\n",
       "Outreach Email      0\n",
       "Outreach Date     938\n",
       "#1 FF             938\n",
       "1 FF Done?          0\n",
       "#2 FF             938\n",
       "2 FF Done?          0\n",
       "#3 FF             938\n",
       "3 FF Done?          0\n",
       "Status            137\n",
       "dtype: int64"
      ]
     },
     "execution_count": 29,
     "metadata": {},
     "output_type": "execute_result"
    }
   ],
   "source": [
    "\n",
    "\n",
    "\n",
    "\n",
    "df3"
   ]
  },
  {
   "cell_type": "code",
   "execution_count": 30,
   "id": "674a5386",
   "metadata": {},
   "outputs": [],
   "source": [
    "\n",
    "df3=new_df['Outreach Date'].fillna(new_df['Outreach Date'].mode,inplace=True)"
   ]
  },
  {
   "cell_type": "code",
   "execution_count": 31,
   "id": "05c67162",
   "metadata": {},
   "outputs": [],
   "source": [
    "df3=new_df.isnull().sum()"
   ]
  },
  {
   "cell_type": "code",
   "execution_count": 32,
   "id": "25f7ce07",
   "metadata": {},
   "outputs": [
    {
     "data": {
      "text/plain": [
       "Alert               3\n",
       "Days ORed           0\n",
       "Link Type           0\n",
       "Batch Name          0\n",
       "Site URL            0\n",
       "DA                  0\n",
       "Traffic             0\n",
       "Title               0\n",
       "Bounced?            0\n",
       "Outreach Email      0\n",
       "Outreach Date       0\n",
       "#1 FF             938\n",
       "1 FF Done?          0\n",
       "#2 FF             938\n",
       "2 FF Done?          0\n",
       "#3 FF             938\n",
       "3 FF Done?          0\n",
       "Status            137\n",
       "dtype: int64"
      ]
     },
     "execution_count": 32,
     "metadata": {},
     "output_type": "execute_result"
    }
   ],
   "source": [
    "df3"
   ]
  },
  {
   "cell_type": "code",
   "execution_count": 33,
   "id": "2b9a1fd8",
   "metadata": {},
   "outputs": [],
   "source": [
    "df3=new_df['Status'].fillna(new_df['Status'].mode,inplace=True)"
   ]
  },
  {
   "cell_type": "code",
   "execution_count": 34,
   "id": "4c98fe5b",
   "metadata": {},
   "outputs": [],
   "source": [
    "df3=new_df.isnull().sum()"
   ]
  },
  {
   "cell_type": "code",
   "execution_count": 35,
   "id": "611bcb00",
   "metadata": {},
   "outputs": [
    {
     "data": {
      "text/plain": [
       "Alert               3\n",
       "Days ORed           0\n",
       "Link Type           0\n",
       "Batch Name          0\n",
       "Site URL            0\n",
       "DA                  0\n",
       "Traffic             0\n",
       "Title               0\n",
       "Bounced?            0\n",
       "Outreach Email      0\n",
       "Outreach Date       0\n",
       "#1 FF             938\n",
       "1 FF Done?          0\n",
       "#2 FF             938\n",
       "2 FF Done?          0\n",
       "#3 FF             938\n",
       "3 FF Done?          0\n",
       "Status              0\n",
       "dtype: int64"
      ]
     },
     "execution_count": 35,
     "metadata": {},
     "output_type": "execute_result"
    }
   ],
   "source": [
    "\n",
    "df3"
   ]
  },
  {
   "cell_type": "code",
   "execution_count": 36,
   "id": "077b9dea",
   "metadata": {},
   "outputs": [],
   "source": [
    "df3=new_df['Alert'].fillna(new_df['Alert'].mode,inplace=True)"
   ]
  },
  {
   "cell_type": "code",
   "execution_count": 37,
   "id": "8ef6803d",
   "metadata": {},
   "outputs": [],
   "source": [
    "\n",
    "df3=new_df.isnull().sum()"
   ]
  },
  {
   "cell_type": "code",
   "execution_count": 38,
   "id": "8bc2fd33",
   "metadata": {},
   "outputs": [
    {
     "data": {
      "text/plain": [
       "Alert               0\n",
       "Days ORed           0\n",
       "Link Type           0\n",
       "Batch Name          0\n",
       "Site URL            0\n",
       "DA                  0\n",
       "Traffic             0\n",
       "Title               0\n",
       "Bounced?            0\n",
       "Outreach Email      0\n",
       "Outreach Date       0\n",
       "#1 FF             938\n",
       "1 FF Done?          0\n",
       "#2 FF             938\n",
       "2 FF Done?          0\n",
       "#3 FF             938\n",
       "3 FF Done?          0\n",
       "Status              0\n",
       "dtype: int64"
      ]
     },
     "execution_count": 38,
     "metadata": {},
     "output_type": "execute_result"
    }
   ],
   "source": [
    "df3"
   ]
  },
  {
   "cell_type": "code",
   "execution_count": 39,
   "id": "d253a9d1",
   "metadata": {},
   "outputs": [],
   "source": [
    "df3=new_df['#1 FF'].fillna(new_df['#1 FF'].mode,inplace=True)"
   ]
  },
  {
   "cell_type": "code",
   "execution_count": 40,
   "id": "5d077c24",
   "metadata": {},
   "outputs": [],
   "source": [
    "df3=new_df.isnull().sum()"
   ]
  },
  {
   "cell_type": "code",
   "execution_count": 41,
   "id": "05292090",
   "metadata": {},
   "outputs": [
    {
     "data": {
      "text/plain": [
       "Alert               0\n",
       "Days ORed           0\n",
       "Link Type           0\n",
       "Batch Name          0\n",
       "Site URL            0\n",
       "DA                  0\n",
       "Traffic             0\n",
       "Title               0\n",
       "Bounced?            0\n",
       "Outreach Email      0\n",
       "Outreach Date       0\n",
       "#1 FF               0\n",
       "1 FF Done?          0\n",
       "#2 FF             938\n",
       "2 FF Done?          0\n",
       "#3 FF             938\n",
       "3 FF Done?          0\n",
       "Status              0\n",
       "dtype: int64"
      ]
     },
     "execution_count": 41,
     "metadata": {},
     "output_type": "execute_result"
    }
   ],
   "source": [
    "df3"
   ]
  },
  {
   "cell_type": "code",
   "execution_count": 42,
   "id": "f4bcf978",
   "metadata": {},
   "outputs": [],
   "source": [
    "\n",
    "df3=new_df['#2 FF'].fillna(new_df['#2 FF'].mode,inplace=True)"
   ]
  },
  {
   "cell_type": "code",
   "execution_count": 43,
   "id": "a63e1325",
   "metadata": {},
   "outputs": [],
   "source": [
    "df3=new_df.isnull().sum()"
   ]
  },
  {
   "cell_type": "code",
   "execution_count": 44,
   "id": "46c42eeb",
   "metadata": {},
   "outputs": [
    {
     "data": {
      "text/plain": [
       "Alert               0\n",
       "Days ORed           0\n",
       "Link Type           0\n",
       "Batch Name          0\n",
       "Site URL            0\n",
       "DA                  0\n",
       "Traffic             0\n",
       "Title               0\n",
       "Bounced?            0\n",
       "Outreach Email      0\n",
       "Outreach Date       0\n",
       "#1 FF               0\n",
       "1 FF Done?          0\n",
       "#2 FF               0\n",
       "2 FF Done?          0\n",
       "#3 FF             938\n",
       "3 FF Done?          0\n",
       "Status              0\n",
       "dtype: int64"
      ]
     },
     "execution_count": 44,
     "metadata": {},
     "output_type": "execute_result"
    }
   ],
   "source": [
    "df3"
   ]
  },
  {
   "cell_type": "code",
   "execution_count": 45,
   "id": "f97d3986",
   "metadata": {},
   "outputs": [],
   "source": [
    "df3=new_df['#3 FF'].fillna(new_df['#3 FF'].mode,inplace=True)"
   ]
  },
  {
   "cell_type": "code",
   "execution_count": 46,
   "id": "86b364ba",
   "metadata": {},
   "outputs": [],
   "source": [
    "df3=new_df.isnull().sum()"
   ]
  },
  {
   "cell_type": "code",
   "execution_count": 47,
   "id": "4e59420f",
   "metadata": {},
   "outputs": [
    {
     "data": {
      "text/plain": [
       "Alert             0\n",
       "Days ORed         0\n",
       "Link Type         0\n",
       "Batch Name        0\n",
       "Site URL          0\n",
       "DA                0\n",
       "Traffic           0\n",
       "Title             0\n",
       "Bounced?          0\n",
       "Outreach Email    0\n",
       "Outreach Date     0\n",
       "#1 FF             0\n",
       "1 FF Done?        0\n",
       "#2 FF             0\n",
       "2 FF Done?        0\n",
       "#3 FF             0\n",
       "3 FF Done?        0\n",
       "Status            0\n",
       "dtype: int64"
      ]
     },
     "execution_count": 47,
     "metadata": {},
     "output_type": "execute_result"
    }
   ],
   "source": [
    "df3"
   ]
  },
  {
   "cell_type": "code",
   "execution_count": 48,
   "id": "0861cfab",
   "metadata": {},
   "outputs": [
    {
     "data": {
      "text/plain": [
       "Alert             0\n",
       "Days ORed         0\n",
       "Link Type         0\n",
       "Batch Name        0\n",
       "Site URL          0\n",
       "DA                0\n",
       "Traffic           0\n",
       "Title             0\n",
       "Bounced?          0\n",
       "Outreach Email    0\n",
       "Outreach Date     0\n",
       "#1 FF             0\n",
       "1 FF Done?        0\n",
       "#2 FF             0\n",
       "2 FF Done?        0\n",
       "#3 FF             0\n",
       "3 FF Done?        0\n",
       "Status            0\n",
       "dtype: int64"
      ]
     },
     "execution_count": 48,
     "metadata": {},
     "output_type": "execute_result"
    }
   ],
   "source": [
    "\n",
    "\n",
    "new_df.isnull().sum()"
   ]
  },
  {
   "cell_type": "markdown",
   "id": "e113164d",
   "metadata": {},
   "source": [
    "# EDA & Vizualisation"
   ]
  },
  {
   "cell_type": "code",
   "execution_count": 49,
   "id": "07b22fe1",
   "metadata": {},
   "outputs": [
    {
     "data": {
      "text/plain": [
       "Index(['Alert', 'Days ORed', 'Link Type', 'Batch Name', 'Site URL', 'DA',\n",
       "       'Traffic', 'Title', 'Bounced?', 'Outreach Email', 'Outreach Date',\n",
       "       '#1 FF', '1 FF Done?', '#2 FF', '2 FF Done?', '#3 FF', '3 FF Done?',\n",
       "       'Status'],\n",
       "      dtype='object')"
      ]
     },
     "execution_count": 49,
     "metadata": {},
     "output_type": "execute_result"
    }
   ],
   "source": [
    "new_df.columns"
   ]
  },
  {
   "cell_type": "code",
   "execution_count": 50,
   "id": "96bfc792",
   "metadata": {},
   "outputs": [
    {
     "name": "stdout",
     "output_type": "stream",
     "text": [
      "<class 'pandas.core.frame.DataFrame'>\n",
      "RangeIndex: 9099 entries, 0 to 9098\n",
      "Data columns (total 18 columns):\n",
      " #   Column          Non-Null Count  Dtype  \n",
      "---  ------          --------------  -----  \n",
      " 0   Alert           9099 non-null   object \n",
      " 1   Days ORed       9099 non-null   float64\n",
      " 2   Link Type       9099 non-null   object \n",
      " 3   Batch Name      9099 non-null   object \n",
      " 4   Site URL        9099 non-null   object \n",
      " 5   DA              9099 non-null   object \n",
      " 6   Traffic         9099 non-null   object \n",
      " 7   Title           9099 non-null   object \n",
      " 8   Bounced?        9099 non-null   object \n",
      " 9   Outreach Email  9099 non-null   object \n",
      " 10  Outreach Date   9099 non-null   object \n",
      " 11  #1 FF           9099 non-null   object \n",
      " 12  1 FF Done?      9099 non-null   bool   \n",
      " 13  #2 FF           9099 non-null   object \n",
      " 14  2 FF Done?      9099 non-null   bool   \n",
      " 15  #3 FF           9099 non-null   object \n",
      " 16  3 FF Done?      9099 non-null   bool   \n",
      " 17  Status          9099 non-null   object \n",
      "dtypes: bool(3), float64(1), object(14)\n",
      "memory usage: 1.1+ MB\n"
     ]
    }
   ],
   "source": [
    "\n",
    "new_df.info()"
   ]
  },
  {
   "cell_type": "code",
   "execution_count": null,
   "id": "a55de611",
   "metadata": {},
   "outputs": [],
   "source": []
  },
  {
   "cell_type": "markdown",
   "id": "8f32eabd",
   "metadata": {},
   "source": [
    "# 1. What are the top 15 Batch ?"
   ]
  },
  {
   "cell_type": "code",
   "execution_count": 51,
   "id": "f9a717ce",
   "metadata": {},
   "outputs": [
    {
     "name": "stderr",
     "output_type": "stream",
     "text": [
      "C:\\Users\\saura\\anaconda\\lib\\site-packages\\seaborn\\_decorators.py:36: FutureWarning: Pass the following variables as keyword args: x, y. From version 0.12, the only valid positional argument will be `data`, and passing other arguments without an explicit keyword will result in an error or misinterpretation.\n",
      "  warnings.warn(\n"
     ]
    },
    {
     "data": {
      "image/png": "[encoded data removed]",
      "text/plain": [
       "<Figure size 2160x1080 with 1 Axes>"
      ]
     },
     "metadata": {},
     "output_type": "display_data"
    }
   ],
   "source": [
    "batch_percentage = new_df['Batch Name'].value_counts() * 100/len(new_df)\n",
    "sns.set(style=\"darkgrid\")\n",
    "\n",
    "# Batch_count\n",
    "plt.figure(figsize=(30,15))\n",
    "plt.yticks(fontsize=20)\n",
    "sns.barplot(batch_percentage.values[:20], batch_percentage.index[:20])\n",
    "\n",
    "plt.title('Top 15 Batch',fontsize=30)\n",
    "plt.ylabel('Batch', fontsize=20)\n",
    "plt.xlabel('Percentage of Batch',fontsize=20)\n",
    "\n",
    "plt.show()"
   ]
  },
  {
   "cell_type": "markdown",
   "id": "65a7ecc1",
   "metadata": {},
   "source": [
    "# Insights from the above chart\n",
    "\n",
    "Sep is contributing highest\n",
    "The second highest is STEM\n",
    "Banklit Analysis Calm.com Revisit is lowest"
   ]
  },
  {
   "cell_type": "code",
   "execution_count": 52,
   "id": "5750efa6",
   "metadata": {},
   "outputs": [
    {
     "data": {
      "text/html": [
       "<div>\n",
       "<style scoped>\n",
       "    .dataframe tbody tr th:only-of-type {\n",
       "        vertical-align: middle;\n",
       "    }\n",
       "\n",
       "    .dataframe tbody tr th {\n",
       "        vertical-align: top;\n",
       "    }\n",
       "\n",
       "    .dataframe thead th {\n",
       "        text-align: right;\n",
       "    }\n",
       "</style>\n",
       "<table border=\"1\" class=\"dataframe\">\n",
       "  <thead>\n",
       "    <tr style=\"text-align: right;\">\n",
       "      <th></th>\n",
       "      <th>Days ORed</th>\n",
       "      <th>1 FF Done?</th>\n",
       "      <th>2 FF Done?</th>\n",
       "      <th>3 FF Done?</th>\n",
       "    </tr>\n",
       "  </thead>\n",
       "  <tbody>\n",
       "    <tr>\n",
       "      <th>Days ORed</th>\n",
       "      <td>1.000000</td>\n",
       "      <td>0.019645</td>\n",
       "      <td>0.068357</td>\n",
       "      <td>0.184059</td>\n",
       "    </tr>\n",
       "    <tr>\n",
       "      <th>1 FF Done?</th>\n",
       "      <td>0.019645</td>\n",
       "      <td>1.000000</td>\n",
       "      <td>0.889982</td>\n",
       "      <td>0.733573</td>\n",
       "    </tr>\n",
       "    <tr>\n",
       "      <th>2 FF Done?</th>\n",
       "      <td>0.068357</td>\n",
       "      <td>0.889982</td>\n",
       "      <td>1.000000</td>\n",
       "      <td>0.807424</td>\n",
       "    </tr>\n",
       "    <tr>\n",
       "      <th>3 FF Done?</th>\n",
       "      <td>0.184059</td>\n",
       "      <td>0.733573</td>\n",
       "      <td>0.807424</td>\n",
       "      <td>1.000000</td>\n",
       "    </tr>\n",
       "  </tbody>\n",
       "</table>\n",
       "</div>"
      ],
      "text/plain": [
       "            Days ORed  1 FF Done?  2 FF Done?  3 FF Done?\n",
       "Days ORed    1.000000    0.019645    0.068357    0.184059\n",
       "1 FF Done?   0.019645    1.000000    0.889982    0.733573\n",
       "2 FF Done?   0.068357    0.889982    1.000000    0.807424\n",
       "3 FF Done?   0.184059    0.733573    0.807424    1.000000"
      ]
     },
     "execution_count": 52,
     "metadata": {},
     "output_type": "execute_result"
    }
   ],
   "source": [
    "new_df.corr()"
   ]
  },
  {
   "cell_type": "code",
   "execution_count": 53,
   "id": "2606d130",
   "metadata": {},
   "outputs": [
    {
     "data": {
      "text/plain": [
       "<AxesSubplot:>"
      ]
     },
     "execution_count": 53,
     "metadata": {},
     "output_type": "execute_result"
    },
    {
     "data": {
      "image/png": "[encoded data removed]",
      "text/plain": [
       "<Figure size 432x288 with 2 Axes>"
      ]
     },
     "metadata": {},
     "output_type": "display_data"
    }
   ],
   "source": [
    "\n",
    "\n",
    "\n",
    "sns.heatmap(new_df.corr(),annot =True)"
   ]
  },
  {
   "cell_type": "code",
   "execution_count": 54,
   "id": "2f2bf4a3",
   "metadata": {},
   "outputs": [
    {
     "data": {
      "text/plain": [
       "3834"
      ]
     },
     "execution_count": 54,
     "metadata": {},
     "output_type": "execute_result"
    }
   ],
   "source": [
    "# analyse of title\n",
    "df['Title'].nunique()"
   ]
  },
  {
   "cell_type": "code",
   "execution_count": 55,
   "id": "df919a97",
   "metadata": {},
   "outputs": [],
   "source": [
    "title_name = df['Title'].value_counts()"
   ]
  },
  {
   "cell_type": "code",
   "execution_count": 56,
   "id": "03928671",
   "metadata": {},
   "outputs": [
    {
     "data": {
      "text/plain": [
       "Site Owner                                             504\n",
       "Owner                                                  357\n",
       "Editor                                                 235\n",
       "Administrative Assistant                                82\n",
       "Marketing Manager                                       79\n",
       "                                                      ... \n",
       "Social Media Strategist & Producer                       1\n",
       "Communication and Content Manager                        1\n",
       "Medical Director, Student Health Center; Physician       1\n",
       "Executive Assistant to the Associate Vice President      1\n",
       "marketing coordinator                                    1\n",
       "Name: Title, Length: 3834, dtype: int64"
      ]
     },
     "execution_count": 56,
     "metadata": {},
     "output_type": "execute_result"
    }
   ],
   "source": [
    "title_name"
   ]
  },
  {
   "cell_type": "code",
   "execution_count": 57,
   "id": "401df649",
   "metadata": {},
   "outputs": [
    {
     "data": {
      "text/plain": [
       "Site Owner                  504\n",
       "Owner                       357\n",
       "Editor                      235\n",
       "Administrative Assistant     82\n",
       "Marketing Manager            79\n",
       "Founder                      71\n",
       "Managing Editor              62\n",
       "Director                     61\n",
       "Secretary                    56\n",
       "Recreation Coordinator       52\n",
       "Name: Title, dtype: int64"
      ]
     },
     "execution_count": 57,
     "metadata": {},
     "output_type": "execute_result"
    }
   ],
   "source": [
    "# top 10 title name\n",
    "title_name[:10]"
   ]
  },
  {
   "cell_type": "code",
   "execution_count": 58,
   "id": "f257e8a9",
   "metadata": {},
   "outputs": [
    {
     "data": {
      "text/plain": [
       "<AxesSubplot:>"
      ]
     },
     "execution_count": 58,
     "metadata": {},
     "output_type": "execute_result"
    },
    {
     "data": {
      "image/png": "[encoded data removed]",
      "text/plain": [
       "<Figure size 720x720 with 1 Axes>"
      ]
     },
     "metadata": {},
     "output_type": "display_data"
    }
   ],
   "source": [
    "# plotting the top 10 title nameto the graph\n",
    "title_name[:20].plot(kind = 'bar',figsize = (10,10))"
   ]
  },
  {
   "cell_type": "code",
   "execution_count": 59,
   "id": "cebf1837",
   "metadata": {},
   "outputs": [],
   "source": [
    "\n",
    "# Among the top 100 city in number of accidents, which state do they belong to most frequen"
   ]
  },
  {
   "cell_type": "code",
   "execution_count": 60,
   "id": "9c257a2b",
   "metadata": {},
   "outputs": [
    {
     "name": "stderr",
     "output_type": "stream",
     "text": [
      "C:\\Users\\saura\\anaconda\\lib\\site-packages\\seaborn\\distributions.py:2619: FutureWarning: `distplot` is a deprecated function and will be removed in a future version. Please adapt your code to use either `displot` (a figure-level function with similar flexibility) or `histplot` (an axes-level function for histograms).\n",
      "  warnings.warn(msg, FutureWarning)\n"
     ]
    },
    {
     "data": {
      "text/plain": [
       "<AxesSubplot:xlabel='Title', ylabel='Density'>"
      ]
     },
     "execution_count": 60,
     "metadata": {},
     "output_type": "execute_result"
    },
    {
     "data": {
      "image/png": "[encoded data removed]",
      "text/plain": [
       "<Figure size 432x288 with 1 Axes>"
      ]
     },
     "metadata": {},
     "output_type": "display_data"
    }
   ],
   "source": [
    "sns.set_style('darkgrid')\n",
    "sns.distplot(title_name)"
   ]
  },
  {
   "cell_type": "code",
   "execution_count": 61,
   "id": "c5a3fc78",
   "metadata": {},
   "outputs": [
    {
     "data": {
      "text/plain": [
       "([<matplotlib.patches.Wedge at 0x266c3f99610>,\n",
       "  <matplotlib.patches.Wedge at 0x266c3f99d30>,\n",
       "  <matplotlib.patches.Wedge at 0x266c3fa6490>,\n",
       "  <matplotlib.patches.Wedge at 0x266c3fa6be0>,\n",
       "  <matplotlib.patches.Wedge at 0x266c3fb5340>],\n",
       " [Text(-0.27378705050767793, 1.0653828659098599, '231.6456402946068'),\n",
       "  Text(-0.6982590057802339, -0.8499613878564127, '238.0'),\n",
       "  Text(0.0470829624146214, -1.098991899265078, '1.0'),\n",
       "  Text(0.7050601810053716, -0.8443282188584442, '191.0'),\n",
       "  Text(1.0552158770772244, -0.3106758000941567, '168.0')],\n",
       " [Text(-0.14933839118600614, 0.5811179268599235, '58.01%'),\n",
       "  Text(-0.3808685486074003, -0.46361530246713417, '12.10%'),\n",
       "  Text(0.02568161586252076, -0.5994501268718607, '11.16%'),\n",
       "  Text(0.38457828054838444, -0.46054266483187856, '9.63%'),\n",
       "  Text(0.5755722965875768, -0.16945952732408545, '9.11%')])"
      ]
     },
     "execution_count": 61,
     "metadata": {},
     "output_type": "execute_result"
    },
    {
     "data": {
      "image/png": "[encoded data removed]",
      "text/plain": [
       "<Figure size 720x720 with 1 Axes>"
      ]
     },
     "metadata": {},
     "output_type": "display_data"
    }
   ],
   "source": [
    "#Create a pie chart for   days ored distribution\n",
    "\n",
    "ored_values = new_df['Days ORed'].value_counts().values\n",
    "mylabels = new_df['Days ORed'].value_counts().index\n",
    "\n",
    "plt.rcParams['figure.figsize']=(10,10)\n",
    "plt.pie(ored_values[:5],labels = mylabels[:5],autopct=\"%1.2f%%\")"
   ]
  },
  {
   "cell_type": "code",
   "execution_count": 62,
   "id": "dd4cf1f9",
   "metadata": {},
   "outputs": [
    {
     "data": {
      "text/plain": [
       "array(['Content Manager', 'Director of Marketing and Communications',\n",
       "       'Marketing Coordinator', ..., 'Marketing Program Manager',\n",
       "       'Adult Librarian', 'marketing coordinator'], dtype=object)"
      ]
     },
     "execution_count": 62,
     "metadata": {},
     "output_type": "execute_result"
    }
   ],
   "source": [
    "new_df['Title'].unique()"
   ]
  },
  {
   "cell_type": "code",
   "execution_count": 63,
   "id": "89aff02f",
   "metadata": {},
   "outputs": [],
   "source": [
    "#find the list of top 5"
   ]
  },
  {
   "cell_type": "code",
   "execution_count": 64,
   "id": "b174e9cf",
   "metadata": {},
   "outputs": [
    {
     "data": {
      "text/html": [
       "<div>\n",
       "<style scoped>\n",
       "    .dataframe tbody tr th:only-of-type {\n",
       "        vertical-align: middle;\n",
       "    }\n",
       "\n",
       "    .dataframe tbody tr th {\n",
       "        vertical-align: top;\n",
       "    }\n",
       "\n",
       "    .dataframe thead th {\n",
       "        text-align: right;\n",
       "    }\n",
       "</style>\n",
       "<table border=\"1\" class=\"dataframe\">\n",
       "  <thead>\n",
       "    <tr style=\"text-align: right;\">\n",
       "      <th></th>\n",
       "      <th>Alert</th>\n",
       "      <th>Days ORed</th>\n",
       "      <th>Batch Name</th>\n",
       "    </tr>\n",
       "  </thead>\n",
       "  <tbody>\n",
       "    <tr>\n",
       "      <th>0</th>\n",
       "      <td>1.0</td>\n",
       "      <td>607.0</td>\n",
       "      <td>From games.aarp.org (mixed niche)</td>\n",
       "    </tr>\n",
       "    <tr>\n",
       "      <th>118</th>\n",
       "      <td>1.0</td>\n",
       "      <td>564.0</td>\n",
       "      <td>Alzheimer's Organizations</td>\n",
       "    </tr>\n",
       "    <tr>\n",
       "      <th>210</th>\n",
       "      <td>3.0</td>\n",
       "      <td>231.0</td>\n",
       "      <td>Quick win - GP</td>\n",
       "    </tr>\n",
       "    <tr>\n",
       "      <th>241</th>\n",
       "      <td>1.0</td>\n",
       "      <td>579.0</td>\n",
       "      <td>Woman of the Hall Backlinks</td>\n",
       "    </tr>\n",
       "    <tr>\n",
       "      <th>333</th>\n",
       "      <td>1.0</td>\n",
       "      <td>564.0</td>\n",
       "      <td>Space Education</td>\n",
       "    </tr>\n",
       "  </tbody>\n",
       "</table>\n",
       "</div>"
      ],
      "text/plain": [
       "    Alert  Days ORed                         Batch Name\n",
       "0     1.0      607.0  From games.aarp.org (mixed niche)\n",
       "118   1.0      564.0          Alzheimer's Organizations\n",
       "210   3.0      231.0                     Quick win - GP\n",
       "241   1.0      579.0        Woman of the Hall Backlinks\n",
       "333   1.0      564.0                    Space Education"
      ]
     },
     "execution_count": 64,
     "metadata": {},
     "output_type": "execute_result"
    }
   ],
   "source": [
    "new_df[new_df['Title']=='Content Manager'][['Alert','Days ORed','Batch Name']].head()"
   ]
  },
  {
   "cell_type": "code",
   "execution_count": 65,
   "id": "a4be8033",
   "metadata": {},
   "outputs": [],
   "source": [
    "#find max min  of Days O RED"
   ]
  },
  {
   "cell_type": "code",
   "execution_count": 66,
   "id": "da9bea48",
   "metadata": {},
   "outputs": [
    {
     "data": {
      "text/plain": [
       "775.0"
      ]
     },
     "execution_count": 66,
     "metadata": {},
     "output_type": "execute_result"
    }
   ],
   "source": [
    "new_df['Days ORed'].max()"
   ]
  },
  {
   "cell_type": "code",
   "execution_count": 74,
   "id": "d115d085",
   "metadata": {},
   "outputs": [],
   "source": [
    "x1=new_df['#1 FF'].nunique()"
   ]
  },
  {
   "cell_type": "code",
   "execution_count": 75,
   "id": "056881bc",
   "metadata": {},
   "outputs": [],
   "source": [
    "x2=new_df['#2 FF'].nunique()"
   ]
  },
  {
   "cell_type": "code",
   "execution_count": 76,
   "id": "d4b02f84",
   "metadata": {},
   "outputs": [],
   "source": [
    "x3=new_df['#3 FF'].nunique()"
   ]
  },
  {
   "cell_type": "code",
   "execution_count": 77,
   "id": "26d0d7a0",
   "metadata": {},
   "outputs": [],
   "source": [
    "x4=new_df['Alert'].nunique()"
   ]
  },
  {
   "cell_type": "code",
   "execution_count": 78,
   "id": "fb74b511",
   "metadata": {},
   "outputs": [],
   "source": [
    "x5=new_df['Batch Name'].nunique()"
   ]
  },
  {
   "cell_type": "code",
   "execution_count": 80,
   "id": "0fd073f2",
   "metadata": {},
   "outputs": [],
   "source": [
    "x6=new_df['Days ORed'].nunique()"
   ]
  },
  {
   "cell_type": "code",
   "execution_count": 81,
   "id": "65bdae41",
   "metadata": {},
   "outputs": [],
   "source": [
    "x7=new_df['Outreach Email'].nunique()"
   ]
  },
  {
   "cell_type": "code",
   "execution_count": 85,
   "id": "ede924dd",
   "metadata": {},
   "outputs": [
    {
     "data": {
      "text/plain": [
       "<BarContainer object of 7 artists>"
      ]
     },
     "execution_count": 85,
     "metadata": {},
     "output_type": "execute_result"
    },
    {
     "data": {
      "image/png": "[encoded data removed]",
      "text/plain": [
       "<Figure size 720x720 with 1 Axes>"
      ]
     },
     "metadata": {},
     "output_type": "display_data"
    }
   ],
   "source": [
    "data=[x1,x2,x3,x4,x5,x6,x7]\n",
    "data1=['1FF','2FF','3FF','alert','batch name','days ored','outreach email']\n",
    "plt.xlabel('COLUMN NAME')\n",
    "plt.ylabel('COUNT')\n",
    "plt.bar(data1,data,color='r')"
   ]
  },
  {
   "cell_type": "code",
   "execution_count": 93,
   "id": "12a45b84",
   "metadata": {},
   "outputs": [
    {
     "name": "stdout",
     "output_type": "stream",
     "text": [
      "<class 'pandas.core.frame.DataFrame'>\n",
      "RangeIndex: 9099 entries, 0 to 9098\n",
      "Data columns (total 18 columns):\n",
      " #   Column          Non-Null Count  Dtype  \n",
      "---  ------          --------------  -----  \n",
      " 0   Alert           9099 non-null   object \n",
      " 1   Days ORed       9099 non-null   float64\n",
      " 2   Link Type       9099 non-null   object \n",
      " 3   Batch Name      9099 non-null   object \n",
      " 4   Site URL        9099 non-null   object \n",
      " 5   DA              9099 non-null   object \n",
      " 6   Traffic         9099 non-null   object \n",
      " 7   Title           9099 non-null   object \n",
      " 8   Bounced?        9099 non-null   object \n",
      " 9   Outreach Email  9099 non-null   object \n",
      " 10  Outreach Date   9099 non-null   object \n",
      " 11  #1 FF           9099 non-null   object \n",
      " 12  1 FF Done?      9099 non-null   bool   \n",
      " 13  #2 FF           9099 non-null   object \n",
      " 14  2 FF Done?      9099 non-null   bool   \n",
      " 15  #3 FF           9099 non-null   object \n",
      " 16  3 FF Done?      9099 non-null   bool   \n",
      " 17  Status          9099 non-null   object \n",
      "dtypes: bool(3), float64(1), object(14)\n",
      "memory usage: 1.1+ MB\n"
     ]
    }
   ],
   "source": [
    "new_df.info()"
   ]
  },
  {
   "cell_type": "code",
   "execution_count": null,
   "id": "906e4d79",
   "metadata": {},
   "outputs": [],
   "source": []
  },
  {
   "cell_type": "markdown",
   "id": "7f4ce3f1",
   "metadata": {},
   "source": [
    "# conclusion\n"
   ]
  },
  {
   "cell_type": "markdown",
   "id": "abbd1809",
   "metadata": {},
   "source": [
    "1.The data type of all column which is int64, object, and float64,boolean The number of rows is 9099. The number of columns is 311\n",
    "\n",
    "\n",
    "2.Sep is contributing highest batch The second highest batch  is STEM Banklit Analysis\n",
    "\n",
    "\n",
    "3.most title is site orner is this data\n",
    "\n",
    "\n",
    "4.most  max unique value in batch name \n",
    "\n",
    "\n",
    "5.most min unique value is outreach email\n",
    "\n",
    "6.statistics that summarize the central tendency, dispersion, and shape of a dataset’s distribution, excluding NaN values. It is used to view some basic statistical details like percentile, mean, std, etc\n",
    "\n",
    "7.Max Days ORed value is 775 and min is 0"
   ]
  },
  {
   "cell_type": "code",
   "execution_count": null,
   "id": "b8a8ca94",
   "metadata": {},
   "outputs": [],
   "source": []
  }
 ],
 "metadata": {
  "kernelspec": {
   "display_name": "Python 3 (ipykernel)",
   "language": "python",
   "name": "python3"
  },
  "language_info": {
   "codemirror_mode": {
    "name": "ipython",
    "version": 3
   },
   "file_extension": ".py",
   "mimetype": "text/x-python",
   "name": "python",
   "nbconvert_exporter": "python",
   "pygments_lexer": "ipython3",
   "version": "3.9.12"
  }
 },
 "nbformat": 4,
 "nbformat_minor": 5
}
