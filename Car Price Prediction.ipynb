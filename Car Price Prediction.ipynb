{
 "cells": [
  {
   "cell_type": "markdown",
   "id": "6c3c05aa",
   "metadata": {},
   "source": [
    "### Import Libraries"
   ]
  },
  {
   "cell_type": "code",
   "execution_count": 1,
   "id": "b3c856e0",
   "metadata": {},
   "outputs": [],
   "source": [
    "import pandas as pd\n",
    "import numpy as np\n",
    "import seaborn as sns\n",
    "import matplotlib.pyplot as plt"
   ]
  },
  {
   "cell_type": "markdown",
   "id": "bb0f4f05",
   "metadata": {},
   "source": [
    "### Upload Data"
   ]
  },
  {
   "cell_type": "code",
   "execution_count": 2,
   "id": "a90f5af9",
   "metadata": {},
   "outputs": [],
   "source": [
    "df=pd.read_csv(r'C:\\Users\\saura\\Downloads\\CAR DETAILS FROM CAR DEKHO.csv')"
   ]
  },
  {
   "cell_type": "code",
   "execution_count": 3,
   "id": "d5c3b468",
   "metadata": {},
   "outputs": [
    {
     "data": {
      "text/html": [
       "<div>\n",
       "<style scoped>\n",
       "    .dataframe tbody tr th:only-of-type {\n",
       "        vertical-align: middle;\n",
       "    }\n",
       "\n",
       "    .dataframe tbody tr th {\n",
       "        vertical-align: top;\n",
       "    }\n",
       "\n",
       "    .dataframe thead th {\n",
       "        text-align: right;\n",
       "    }\n",
       "</style>\n",
       "<table border=\"1\" class=\"dataframe\">\n",
       "  <thead>\n",
       "    <tr style=\"text-align: right;\">\n",
       "      <th></th>\n",
       "      <th>name</th>\n",
       "      <th>year</th>\n",
       "      <th>selling_price</th>\n",
       "      <th>km_driven</th>\n",
       "      <th>fuel</th>\n",
       "      <th>seller_type</th>\n",
       "      <th>transmission</th>\n",
       "      <th>owner</th>\n",
       "    </tr>\n",
       "  </thead>\n",
       "  <tbody>\n",
       "    <tr>\n",
       "      <th>0</th>\n",
       "      <td>Maruti 800 AC</td>\n",
       "      <td>2007</td>\n",
       "      <td>60000</td>\n",
       "      <td>70000</td>\n",
       "      <td>Petrol</td>\n",
       "      <td>Individual</td>\n",
       "      <td>Manual</td>\n",
       "      <td>First Owner</td>\n",
       "    </tr>\n",
       "    <tr>\n",
       "      <th>1</th>\n",
       "      <td>Maruti Wagon R LXI Minor</td>\n",
       "      <td>2007</td>\n",
       "      <td>135000</td>\n",
       "      <td>50000</td>\n",
       "      <td>Petrol</td>\n",
       "      <td>Individual</td>\n",
       "      <td>Manual</td>\n",
       "      <td>First Owner</td>\n",
       "    </tr>\n",
       "    <tr>\n",
       "      <th>2</th>\n",
       "      <td>Hyundai Verna 1.6 SX</td>\n",
       "      <td>2012</td>\n",
       "      <td>600000</td>\n",
       "      <td>100000</td>\n",
       "      <td>Diesel</td>\n",
       "      <td>Individual</td>\n",
       "      <td>Manual</td>\n",
       "      <td>First Owner</td>\n",
       "    </tr>\n",
       "    <tr>\n",
       "      <th>3</th>\n",
       "      <td>Datsun RediGO T Option</td>\n",
       "      <td>2017</td>\n",
       "      <td>250000</td>\n",
       "      <td>46000</td>\n",
       "      <td>Petrol</td>\n",
       "      <td>Individual</td>\n",
       "      <td>Manual</td>\n",
       "      <td>First Owner</td>\n",
       "    </tr>\n",
       "    <tr>\n",
       "      <th>4</th>\n",
       "      <td>Honda Amaze VX i-DTEC</td>\n",
       "      <td>2014</td>\n",
       "      <td>450000</td>\n",
       "      <td>141000</td>\n",
       "      <td>Diesel</td>\n",
       "      <td>Individual</td>\n",
       "      <td>Manual</td>\n",
       "      <td>Second Owner</td>\n",
       "    </tr>\n",
       "    <tr>\n",
       "      <th>...</th>\n",
       "      <td>...</td>\n",
       "      <td>...</td>\n",
       "      <td>...</td>\n",
       "      <td>...</td>\n",
       "      <td>...</td>\n",
       "      <td>...</td>\n",
       "      <td>...</td>\n",
       "      <td>...</td>\n",
       "    </tr>\n",
       "    <tr>\n",
       "      <th>4335</th>\n",
       "      <td>Hyundai i20 Magna 1.4 CRDi (Diesel)</td>\n",
       "      <td>2014</td>\n",
       "      <td>409999</td>\n",
       "      <td>80000</td>\n",
       "      <td>Diesel</td>\n",
       "      <td>Individual</td>\n",
       "      <td>Manual</td>\n",
       "      <td>Second Owner</td>\n",
       "    </tr>\n",
       "    <tr>\n",
       "      <th>4336</th>\n",
       "      <td>Hyundai i20 Magna 1.4 CRDi</td>\n",
       "      <td>2014</td>\n",
       "      <td>409999</td>\n",
       "      <td>80000</td>\n",
       "      <td>Diesel</td>\n",
       "      <td>Individual</td>\n",
       "      <td>Manual</td>\n",
       "      <td>Second Owner</td>\n",
       "    </tr>\n",
       "    <tr>\n",
       "      <th>4337</th>\n",
       "      <td>Maruti 800 AC BSIII</td>\n",
       "      <td>2009</td>\n",
       "      <td>110000</td>\n",
       "      <td>83000</td>\n",
       "      <td>Petrol</td>\n",
       "      <td>Individual</td>\n",
       "      <td>Manual</td>\n",
       "      <td>Second Owner</td>\n",
       "    </tr>\n",
       "    <tr>\n",
       "      <th>4338</th>\n",
       "      <td>Hyundai Creta 1.6 CRDi SX Option</td>\n",
       "      <td>2016</td>\n",
       "      <td>865000</td>\n",
       "      <td>90000</td>\n",
       "      <td>Diesel</td>\n",
       "      <td>Individual</td>\n",
       "      <td>Manual</td>\n",
       "      <td>First Owner</td>\n",
       "    </tr>\n",
       "    <tr>\n",
       "      <th>4339</th>\n",
       "      <td>Renault KWID RXT</td>\n",
       "      <td>2016</td>\n",
       "      <td>225000</td>\n",
       "      <td>40000</td>\n",
       "      <td>Petrol</td>\n",
       "      <td>Individual</td>\n",
       "      <td>Manual</td>\n",
       "      <td>First Owner</td>\n",
       "    </tr>\n",
       "  </tbody>\n",
       "</table>\n",
       "<p>4340 rows × 8 columns</p>\n",
       "</div>"
      ],
      "text/plain": [
       "                                     name  year  selling_price  km_driven  \\\n",
       "0                           Maruti 800 AC  2007          60000      70000   \n",
       "1                Maruti Wagon R LXI Minor  2007         135000      50000   \n",
       "2                    Hyundai Verna 1.6 SX  2012         600000     100000   \n",
       "3                  Datsun RediGO T Option  2017         250000      46000   \n",
       "4                   Honda Amaze VX i-DTEC  2014         450000     141000   \n",
       "...                                   ...   ...            ...        ...   \n",
       "4335  Hyundai i20 Magna 1.4 CRDi (Diesel)  2014         409999      80000   \n",
       "4336           Hyundai i20 Magna 1.4 CRDi  2014         409999      80000   \n",
       "4337                  Maruti 800 AC BSIII  2009         110000      83000   \n",
       "4338     Hyundai Creta 1.6 CRDi SX Option  2016         865000      90000   \n",
       "4339                     Renault KWID RXT  2016         225000      40000   \n",
       "\n",
       "        fuel seller_type transmission         owner  \n",
       "0     Petrol  Individual       Manual   First Owner  \n",
       "1     Petrol  Individual       Manual   First Owner  \n",
       "2     Diesel  Individual       Manual   First Owner  \n",
       "3     Petrol  Individual       Manual   First Owner  \n",
       "4     Diesel  Individual       Manual  Second Owner  \n",
       "...      ...         ...          ...           ...  \n",
       "4335  Diesel  Individual       Manual  Second Owner  \n",
       "4336  Diesel  Individual       Manual  Second Owner  \n",
       "4337  Petrol  Individual       Manual  Second Owner  \n",
       "4338  Diesel  Individual       Manual   First Owner  \n",
       "4339  Petrol  Individual       Manual   First Owner  \n",
       "\n",
       "[4340 rows x 8 columns]"
      ]
     },
     "execution_count": 3,
     "metadata": {},
     "output_type": "execute_result"
    }
   ],
   "source": [
    "df"
   ]
  },
  {
   "cell_type": "markdown",
   "id": "a011c5ab",
   "metadata": {},
   "source": [
    "# In Data Analysis what we are going to do is¶\n",
    "1.Missing value\n",
    "\n",
    "2.Explore about numerical variable\n",
    "\n",
    "3.Explore about catigorical variable\n",
    "\n",
    "4.Finding relationship between feature"
   ]
  },
  {
   "cell_type": "code",
   "execution_count": 4,
   "id": "ea902ac4",
   "metadata": {},
   "outputs": [
    {
     "data": {
      "text/plain": [
       "(4340, 8)"
      ]
     },
     "execution_count": 4,
     "metadata": {},
     "output_type": "execute_result"
    }
   ],
   "source": [
    "df.shape"
   ]
  },
  {
   "cell_type": "code",
   "execution_count": 5,
   "id": "779c9942",
   "metadata": {},
   "outputs": [
    {
     "name": "stdout",
     "output_type": "stream",
     "text": [
      "<class 'pandas.core.frame.DataFrame'>\n",
      "RangeIndex: 4340 entries, 0 to 4339\n",
      "Data columns (total 8 columns):\n",
      " #   Column         Non-Null Count  Dtype \n",
      "---  ------         --------------  ----- \n",
      " 0   name           4340 non-null   object\n",
      " 1   year           4340 non-null   int64 \n",
      " 2   selling_price  4340 non-null   int64 \n",
      " 3   km_driven      4340 non-null   int64 \n",
      " 4   fuel           4340 non-null   object\n",
      " 5   seller_type    4340 non-null   object\n",
      " 6   transmission   4340 non-null   object\n",
      " 7   owner          4340 non-null   object\n",
      "dtypes: int64(3), object(5)\n",
      "memory usage: 271.4+ KB\n"
     ]
    }
   ],
   "source": [
    "df.info()"
   ]
  },
  {
   "cell_type": "code",
   "execution_count": 6,
   "id": "56ff919e",
   "metadata": {},
   "outputs": [
    {
     "data": {
      "text/plain": [
       "Index(['name', 'year', 'selling_price', 'km_driven', 'fuel', 'seller_type',\n",
       "       'transmission', 'owner'],\n",
       "      dtype='object')"
      ]
     },
     "execution_count": 6,
     "metadata": {},
     "output_type": "execute_result"
    }
   ],
   "source": [
    "df.columns"
   ]
  },
  {
   "cell_type": "markdown",
   "id": "a9ee4d1c",
   "metadata": {},
   "source": [
    "# Null Value"
   ]
  },
  {
   "cell_type": "code",
   "execution_count": 7,
   "id": "1da2fe5b",
   "metadata": {},
   "outputs": [
    {
     "data": {
      "text/plain": [
       "name             0\n",
       "year             0\n",
       "selling_price    0\n",
       "km_driven        0\n",
       "fuel             0\n",
       "seller_type      0\n",
       "transmission     0\n",
       "owner            0\n",
       "dtype: int64"
      ]
     },
     "execution_count": 7,
     "metadata": {},
     "output_type": "execute_result"
    }
   ],
   "source": [
    "df.isnull().sum()"
   ]
  },
  {
   "cell_type": "markdown",
   "id": "d7661ec7",
   "metadata": {},
   "source": [
    "### Represent the missing value by graph"
   ]
  },
  {
   "cell_type": "code",
   "execution_count": 8,
   "id": "3d388a3b",
   "metadata": {},
   "outputs": [
    {
     "data": {
      "text/plain": [
       "<AxesSubplot:>"
      ]
     },
     "execution_count": 8,
     "metadata": {},
     "output_type": "execute_result"
    },
    {
     "data": {
      "image/png": "[encoded data removed]",
      "text/plain": [
       "<Figure size 864x576 with 2 Axes>"
      ]
     },
     "metadata": {
      "needs_background": "light"
     },
     "output_type": "display_data"
    }
   ],
   "source": [
    "plt.figure(figsize=(12,8))\n",
    "sns.heatmap(df.isnull())"
   ]
  },
  {
   "cell_type": "markdown",
   "id": "84b8d441",
   "metadata": {},
   "source": [
    "### Find Corelation"
   ]
  },
  {
   "cell_type": "code",
   "execution_count": 9,
   "id": "9137417b",
   "metadata": {},
   "outputs": [
    {
     "data": {
      "text/html": [
       "<div>\n",
       "<style scoped>\n",
       "    .dataframe tbody tr th:only-of-type {\n",
       "        vertical-align: middle;\n",
       "    }\n",
       "\n",
       "    .dataframe tbody tr th {\n",
       "        vertical-align: top;\n",
       "    }\n",
       "\n",
       "    .dataframe thead th {\n",
       "        text-align: right;\n",
       "    }\n",
       "</style>\n",
       "<table border=\"1\" class=\"dataframe\">\n",
       "  <thead>\n",
       "    <tr style=\"text-align: right;\">\n",
       "      <th></th>\n",
       "      <th>year</th>\n",
       "      <th>selling_price</th>\n",
       "      <th>km_driven</th>\n",
       "    </tr>\n",
       "  </thead>\n",
       "  <tbody>\n",
       "    <tr>\n",
       "      <th>year</th>\n",
       "      <td>1.000000</td>\n",
       "      <td>0.413922</td>\n",
       "      <td>-0.419688</td>\n",
       "    </tr>\n",
       "    <tr>\n",
       "      <th>selling_price</th>\n",
       "      <td>0.413922</td>\n",
       "      <td>1.000000</td>\n",
       "      <td>-0.192289</td>\n",
       "    </tr>\n",
       "    <tr>\n",
       "      <th>km_driven</th>\n",
       "      <td>-0.419688</td>\n",
       "      <td>-0.192289</td>\n",
       "      <td>1.000000</td>\n",
       "    </tr>\n",
       "  </tbody>\n",
       "</table>\n",
       "</div>"
      ],
      "text/plain": [
       "                   year  selling_price  km_driven\n",
       "year           1.000000       0.413922  -0.419688\n",
       "selling_price  0.413922       1.000000  -0.192289\n",
       "km_driven     -0.419688      -0.192289   1.000000"
      ]
     },
     "execution_count": 9,
     "metadata": {},
     "output_type": "execute_result"
    }
   ],
   "source": [
    "df.corr()"
   ]
  },
  {
   "cell_type": "markdown",
   "id": "f280b2b3",
   "metadata": {},
   "source": [
    "### Represent the Corelation by graph"
   ]
  },
  {
   "cell_type": "code",
   "execution_count": 10,
   "id": "51f1c1bc",
   "metadata": {},
   "outputs": [
    {
     "data": {
      "text/plain": [
       "<AxesSubplot:>"
      ]
     },
     "execution_count": 10,
     "metadata": {},
     "output_type": "execute_result"
    },
    {
     "data": {
      "image/png": "[encoded data removed]",
      "text/plain": [
       "<Figure size 864x576 with 2 Axes>"
      ]
     },
     "metadata": {
      "needs_background": "light"
     },
     "output_type": "display_data"
    }
   ],
   "source": [
    "plt.figure(figsize=(12,8))\n",
    "sns.heatmap(df.corr(),annot=True)"
   ]
  },
  {
   "cell_type": "markdown",
   "id": "cdb294c4",
   "metadata": {},
   "source": [
    "### Statistical Analysis"
   ]
  },
  {
   "cell_type": "code",
   "execution_count": 11,
   "id": "29763b1f",
   "metadata": {},
   "outputs": [
    {
     "data": {
      "text/html": [
       "<div>\n",
       "<style scoped>\n",
       "    .dataframe tbody tr th:only-of-type {\n",
       "        vertical-align: middle;\n",
       "    }\n",
       "\n",
       "    .dataframe tbody tr th {\n",
       "        vertical-align: top;\n",
       "    }\n",
       "\n",
       "    .dataframe thead th {\n",
       "        text-align: right;\n",
       "    }\n",
       "</style>\n",
       "<table border=\"1\" class=\"dataframe\">\n",
       "  <thead>\n",
       "    <tr style=\"text-align: right;\">\n",
       "      <th></th>\n",
       "      <th>year</th>\n",
       "      <th>selling_price</th>\n",
       "      <th>km_driven</th>\n",
       "    </tr>\n",
       "  </thead>\n",
       "  <tbody>\n",
       "    <tr>\n",
       "      <th>count</th>\n",
       "      <td>4340.000000</td>\n",
       "      <td>4.340000e+03</td>\n",
       "      <td>4340.000000</td>\n",
       "    </tr>\n",
       "    <tr>\n",
       "      <th>mean</th>\n",
       "      <td>2013.090783</td>\n",
       "      <td>5.041273e+05</td>\n",
       "      <td>66215.777419</td>\n",
       "    </tr>\n",
       "    <tr>\n",
       "      <th>std</th>\n",
       "      <td>4.215344</td>\n",
       "      <td>5.785487e+05</td>\n",
       "      <td>46644.102194</td>\n",
       "    </tr>\n",
       "    <tr>\n",
       "      <th>min</th>\n",
       "      <td>1992.000000</td>\n",
       "      <td>2.000000e+04</td>\n",
       "      <td>1.000000</td>\n",
       "    </tr>\n",
       "    <tr>\n",
       "      <th>25%</th>\n",
       "      <td>2011.000000</td>\n",
       "      <td>2.087498e+05</td>\n",
       "      <td>35000.000000</td>\n",
       "    </tr>\n",
       "    <tr>\n",
       "      <th>50%</th>\n",
       "      <td>2014.000000</td>\n",
       "      <td>3.500000e+05</td>\n",
       "      <td>60000.000000</td>\n",
       "    </tr>\n",
       "    <tr>\n",
       "      <th>75%</th>\n",
       "      <td>2016.000000</td>\n",
       "      <td>6.000000e+05</td>\n",
       "      <td>90000.000000</td>\n",
       "    </tr>\n",
       "    <tr>\n",
       "      <th>max</th>\n",
       "      <td>2020.000000</td>\n",
       "      <td>8.900000e+06</td>\n",
       "      <td>806599.000000</td>\n",
       "    </tr>\n",
       "  </tbody>\n",
       "</table>\n",
       "</div>"
      ],
      "text/plain": [
       "              year  selling_price      km_driven\n",
       "count  4340.000000   4.340000e+03    4340.000000\n",
       "mean   2013.090783   5.041273e+05   66215.777419\n",
       "std       4.215344   5.785487e+05   46644.102194\n",
       "min    1992.000000   2.000000e+04       1.000000\n",
       "25%    2011.000000   2.087498e+05   35000.000000\n",
       "50%    2014.000000   3.500000e+05   60000.000000\n",
       "75%    2016.000000   6.000000e+05   90000.000000\n",
       "max    2020.000000   8.900000e+06  806599.000000"
      ]
     },
     "execution_count": 11,
     "metadata": {},
     "output_type": "execute_result"
    }
   ],
   "source": [
    "df.describe()"
   ]
  },
  {
   "cell_type": "markdown",
   "id": "8bf7cb0e",
   "metadata": {},
   "source": [
    "### The describe () function in Python summarizes statistics. This function returns the count, mean, standard deviation, minimum and maximum values, and the quantiles of the data."
   ]
  },
  {
   "cell_type": "markdown",
   "id": "ce0f2a5b",
   "metadata": {},
   "source": [
    "# EDA & Vizualisation"
   ]
  },
  {
   "cell_type": "code",
   "execution_count": 12,
   "id": "10646036",
   "metadata": {},
   "outputs": [
    {
     "data": {
      "text/plain": [
       "<AxesSubplot:title={'center':'FUEL COUNT'}, xlabel='fuel', ylabel='count'>"
      ]
     },
     "execution_count": 12,
     "metadata": {},
     "output_type": "execute_result"
    },
    {
     "data": {
      "image/png": "[encoded data removed]",
      "text/plain": [
       "<Figure size 432x288 with 1 Axes>"
      ]
     },
     "metadata": {
      "needs_background": "light"
     },
     "output_type": "display_data"
    }
   ],
   "source": [
    "#HOW MANY FUEL TYPE AND MAX & MIN NUMBER OF FUEL\n",
    "\n",
    "plt.title(\"FUEL COUNT\" , fontsize=20)\n",
    "plt.xlabel('FUEL TYPE',fontsize=30)\n",
    "plt.ylabel('COUNT',fontsize=30)\n",
    "\n",
    "sns.countplot(x='fuel',data=df)"
   ]
  },
  {
   "cell_type": "markdown",
   "id": "63b9d2eb",
   "metadata": {},
   "source": [
    "There are 5 types of fuel like petrol,diesel,CNG,LPG,Electric and max number of car fuel type is Diesel and min is electic"
   ]
  },
  {
   "cell_type": "code",
   "execution_count": 13,
   "id": "40ad7aa5",
   "metadata": {},
   "outputs": [
    {
     "data": {
      "text/plain": [
       "<AxesSubplot:title={'center':'FUEL ON THE BASIS OF OWNER'}, xlabel='fuel', ylabel='count'>"
      ]
     },
     "execution_count": 13,
     "metadata": {},
     "output_type": "execute_result"
    },
    {
     "data": {
      "image/png": "[encoded data removed]",
      "text/plain": [
       "<Figure size 432x288 with 1 Axes>"
      ]
     },
     "metadata": {
      "needs_background": "light"
     },
     "output_type": "display_data"
    }
   ],
   "source": [
    "# LET'S SEE FUEL TYPE ON THE BASIS OF  OWNER\n",
    "\n",
    "plt.title(\"FUEL ON THE BASIS OF OWNER\" , fontsize=20)\n",
    "plt.xlabel('FUEL TYPE',fontsize=30)\n",
    "plt.ylabel('COUNT',fontsize=30)\n",
    "\n",
    "sns.countplot(x='fuel',data=df,hue='owner')"
   ]
  },
  {
   "cell_type": "markdown",
   "id": "a6cc520f",
   "metadata": {},
   "source": [
    "Number of first  and secon owner is equal in petrol "
   ]
  },
  {
   "cell_type": "code",
   "execution_count": 14,
   "id": "2c44ed04",
   "metadata": {},
   "outputs": [
    {
     "data": {
      "text/plain": [
       "<AxesSubplot:title={'center':'FUEL ON THE BASIS OF TRANSMISSION'}, xlabel='fuel', ylabel='count'>"
      ]
     },
     "execution_count": 14,
     "metadata": {},
     "output_type": "execute_result"
    },
    {
     "data": {
      "image/png": "[encoded data removed]",
      "text/plain": [
       "<Figure size 432x288 with 1 Axes>"
      ]
     },
     "metadata": {
      "needs_background": "light"
     },
     "output_type": "display_data"
    }
   ],
   "source": [
    "#LET'S SEE FUEL TYPE ON THE BASIS OF  TRANSMISSION\n",
    "\n",
    "\n",
    "plt.title(\"FUEL ON THE BASIS OF TRANSMISSION\" , fontsize=20)\n",
    "plt.xlabel('FUEL TYPE',fontsize=30)\n",
    "plt.ylabel('COUNT',fontsize=30)\n",
    "\n",
    "sns.countplot(x='fuel',data=df,hue='transmission')"
   ]
  },
  {
   "cell_type": "code",
   "execution_count": 15,
   "id": "0d643de2",
   "metadata": {},
   "outputs": [
    {
     "data": {
      "text/plain": [
       "<AxesSubplot:title={'center':'FUEL COUNT'}, xlabel='fuel', ylabel='count'>"
      ]
     },
     "execution_count": 15,
     "metadata": {},
     "output_type": "execute_result"
    },
    {
     "data": {
      "image/png": "[encoded data removed]",
      "text/plain": [
       "<Figure size 432x288 with 1 Axes>"
      ]
     },
     "metadata": {
      "needs_background": "light"
     },
     "output_type": "display_data"
    }
   ],
   "source": [
    "plt.title(\"FUEL COUNT\" , fontsize=20)\n",
    "plt.xlabel('FUEL TYPE',fontsize=30)\n",
    "plt.ylabel('COUNT',fontsize=30)\n",
    "\n",
    "sns.countplot(x='fuel',data=df,hue='seller_type')"
   ]
  },
  {
   "cell_type": "markdown",
   "id": "b80786c4",
   "metadata": {},
   "source": [
    "Individual  seller is equal in petrol and diesel"
   ]
  },
  {
   "cell_type": "code",
   "execution_count": 16,
   "id": "ec05d52b",
   "metadata": {},
   "outputs": [
    {
     "data": {
      "text/plain": [
       "<AxesSubplot:title={'center':'COUNT OF SELLER TYPE'}, xlabel='seller_type', ylabel='count'>"
      ]
     },
     "execution_count": 16,
     "metadata": {},
     "output_type": "execute_result"
    },
    {
     "data": {
      "image/png": "[encoded data removed]",
      "text/plain": [
       "<Figure size 432x288 with 1 Axes>"
      ]
     },
     "metadata": {
      "needs_background": "light"
     },
     "output_type": "display_data"
    }
   ],
   "source": [
    "#NOW WE SEE HOW MANY SELLER TYPE AND ALSO FIND NUMBER OF SELLER TYPE\n",
    "plt.title(\"COUNT OF SELLER TYPE\" , fontsize=20)\n",
    "plt.xlabel('SELLER TYPE',fontsize=30)\n",
    "plt.ylabel('COUNT',fontsize=30)\n",
    "sns.countplot(x='seller_type',data=df)"
   ]
  },
  {
   "cell_type": "markdown",
   "id": "0895ad4e",
   "metadata": {},
   "source": [
    "In this data set there are 3 types of seller. max number of seller type is individual and min number of seller type is Trustmark dealer "
   ]
  },
  {
   "cell_type": "code",
   "execution_count": 17,
   "id": "c38eb5b5",
   "metadata": {},
   "outputs": [
    {
     "data": {
      "text/plain": [
       "<AxesSubplot:title={'center':'COUNT OF OWNER'}, xlabel='owner', ylabel='count'>"
      ]
     },
     "execution_count": 17,
     "metadata": {},
     "output_type": "execute_result"
    },
    {
     "data": {
      "image/png": "[encoded data removed]",
      "text/plain": [
       "<Figure size 720x720 with 1 Axes>"
      ]
     },
     "metadata": {
      "needs_background": "light"
     },
     "output_type": "display_data"
    }
   ],
   "source": [
    "# SEE HOW MANY TYPES OF OWNER PRESENT IN THIS DATA SET AND ALSO FIND MAX AND MIN OWNER\n",
    "plt.figure(figsize=(10,10))\n",
    "plt.title(\"COUNT OF OWNER\" , fontsize=30)\n",
    "\n",
    "plt.xlabel('OWNER',fontsize=20)\n",
    "plt.ylabel('COUNT',fontsize=20)\n",
    "\n",
    "sns.countplot(x='owner',data=df)\n"
   ]
  },
  {
   "cell_type": "markdown",
   "id": "a70ecc5b",
   "metadata": {},
   "source": [
    "There are five types of owner in this data and max number of owner is First owner and min is test driver"
   ]
  },
  {
   "cell_type": "code",
   "execution_count": 18,
   "id": "76a2cc2f",
   "metadata": {},
   "outputs": [
    {
     "data": {
      "text/plain": [
       "<AxesSubplot:title={'center':'OWNER COUNT ON THE BASES OF YEAR'}, xlabel='year', ylabel='count'>"
      ]
     },
     "execution_count": 18,
     "metadata": {},
     "output_type": "execute_result"
    },
    {
     "data": {
      "image/png": "[encoded data removed]",
      "text/plain": [
       "<Figure size 1440x1440 with 1 Axes>"
      ]
     },
     "metadata": {
      "needs_background": "light"
     },
     "output_type": "display_data"
    }
   ],
   "source": [
    "# LET'S SEE OWNER COUNT ON THE BASES OF YEAR\n",
    "plt.figure(figsize=(20,20))\n",
    "plt.title(\"OWNER COUNT ON THE BASES OF YEAR\" , fontsize=40)\n",
    "\n",
    "plt.xlabel('year',fontsize=20)\n",
    "plt.ylabel('COUNT',fontsize=20)\n",
    "sns.countplot(x='year',data=df,hue='owner')"
   ]
  },
  {
   "cell_type": "code",
   "execution_count": 19,
   "id": "61a52b69",
   "metadata": {},
   "outputs": [
    {
     "data": {
      "text/plain": [
       "<AxesSubplot:title={'center':' SELLER COUNT ON THE BASIS OF YEAR '}, xlabel='year', ylabel='count'>"
      ]
     },
     "execution_count": 19,
     "metadata": {},
     "output_type": "execute_result"
    },
    {
     "data": {
      "image/png": "[encoded data removed]",
      "text/plain": [
       "<Figure size 1440x1440 with 1 Axes>"
      ]
     },
     "metadata": {
      "needs_background": "light"
     },
     "output_type": "display_data"
    }
   ],
   "source": [
    "# LET'S SEE YEAR ON THE BASIS OF OWNER\n",
    "plt.figure(figsize=(20,20))\n",
    "plt.title(\" SELLER COUNT ON THE BASIS OF YEAR \" , fontsize=40)\n",
    "\n",
    "plt.xlabel('year',fontsize=20)\n",
    "plt.ylabel('COUNT',fontsize=20)\n",
    "sns.countplot(x='year',data=df,hue='seller_type')"
   ]
  },
  {
   "cell_type": "code",
   "execution_count": 20,
   "id": "27a6683f",
   "metadata": {},
   "outputs": [
    {
     "data": {
      "text/plain": [
       "<AxesSubplot:title={'center':'FUEL COUNT ON THE BASES OF YEAR'}, xlabel='year', ylabel='count'>"
      ]
     },
     "execution_count": 20,
     "metadata": {},
     "output_type": "execute_result"
    },
    {
     "data": {
      "image/png": "[encoded data removed]",
      "text/plain": [
       "<Figure size 1440x1440 with 1 Axes>"
      ]
     },
     "metadata": {
      "needs_background": "light"
     },
     "output_type": "display_data"
    }
   ],
   "source": [
    "# LET'S SEE COUNT OF FUEL TYPE ON THA BASIS OF YEAR\n",
    "\n",
    "plt.figure(figsize=(20,20))\n",
    "plt.title(\"FUEL COUNT ON THE BASES OF YEAR\" , fontsize=40)\n",
    "\n",
    "plt.xlabel('year',fontsize=20)\n",
    "plt.ylabel('COUNT',fontsize=20)\n",
    "sns.countplot(x='year',data=df,hue='fuel')"
   ]
  },
  {
   "cell_type": "code",
   "execution_count": 21,
   "id": "1a052f1f",
   "metadata": {},
   "outputs": [
    {
     "data": {
      "text/plain": [
       "<AxesSubplot:title={'center':'COUNT OF TRANSMISSION ON THE BASES OF YEAR'}, xlabel='year', ylabel='count'>"
      ]
     },
     "execution_count": 21,
     "metadata": {},
     "output_type": "execute_result"
    },
    {
     "data": {
      "image/png": "[encoded data removed]",
      "text/plain": [
       "<Figure size 1440x1440 with 1 Axes>"
      ]
     },
     "metadata": {
      "needs_background": "light"
     },
     "output_type": "display_data"
    }
   ],
   "source": [
    "# LET'S SEE COUNT OF TRANSMISSION  ON THE BASES OF YEAR\n",
    "plt.figure(figsize=(20,20))\n",
    "plt.title(\"COUNT OF TRANSMISSION ON THE BASES OF YEAR\" , fontsize=40)\n",
    "\n",
    "plt.xlabel('year',fontsize=20)\n",
    "plt.ylabel('COUNT',fontsize=20)\n",
    "sns.countplot(x='year',data=df,hue='transmission')"
   ]
  },
  {
   "cell_type": "code",
   "execution_count": 22,
   "id": "e7baaed9",
   "metadata": {},
   "outputs": [
    {
     "data": {
      "text/plain": [
       "<AxesSubplot:title={'center':'SELLING PRICE ON THE BASIS OF FUEL'}, xlabel='fuel', ylabel='selling_price'>"
      ]
     },
     "execution_count": 22,
     "metadata": {},
     "output_type": "execute_result"
    },
    {
     "data": {
      "image/png": "[encoded data removed]",
      "text/plain": [
       "<Figure size 432x288 with 1 Axes>"
      ]
     },
     "metadata": {
      "needs_background": "light"
     },
     "output_type": "display_data"
    }
   ],
   "source": [
    "# LET'S SEE PRICE ON THE BASIS OF FUEL TYPE\n",
    "plt.title(\"SELLING PRICE ON THE BASIS OF FUEL\" , fontsize=30)\n",
    "plt.xlabel('fuel',fontsize=20)\n",
    "plt.ylabel('km drive',fontsize=20)\n",
    "sns.barplot(x='fuel',y='selling_price',data=df)"
   ]
  },
  {
   "cell_type": "markdown",
   "id": "cc07b3d7",
   "metadata": {},
   "source": [
    "Disel price is max compare to others and min price is LPG"
   ]
  },
  {
   "cell_type": "code",
   "execution_count": 23,
   "id": "ac4e5961",
   "metadata": {},
   "outputs": [
    {
     "data": {
      "text/plain": [
       "<AxesSubplot:title={'center':'DISTANCE  ON THE BASIS OF FUEL'}, xlabel='fuel', ylabel='km_driven'>"
      ]
     },
     "execution_count": 23,
     "metadata": {},
     "output_type": "execute_result"
    },
    {
     "data": {
      "image/png": "[encoded data removed]",
      "text/plain": [
       "<Figure size 432x288 with 1 Axes>"
      ]
     },
     "metadata": {
      "needs_background": "light"
     },
     "output_type": "display_data"
    }
   ],
   "source": [
    "# FIND MAX AND MIN DISTANCE COVERED BY CAR ON THE BASIS OF FUEL TYPE\n",
    "plt.title(\"DISTANCE  ON THE BASIS OF FUEL\" , fontsize=30)\n",
    "plt.xlabel('fuel',fontsize=20)\n",
    "plt.ylabel('selling price',fontsize=20)\n",
    "sns.barplot(x='fuel',y='km_driven',data=df)"
   ]
  },
  {
   "cell_type": "markdown",
   "id": "61c4e366",
   "metadata": {},
   "source": [
    "LPG cars has max distance covered and min distance coverd by petrol "
   ]
  },
  {
   "cell_type": "code",
   "execution_count": 24,
   "id": "ad6391a7",
   "metadata": {},
   "outputs": [
    {
     "data": {
      "text/plain": [
       "<AxesSubplot:title={'center':'DISTANCE  ON THE BASIS OF TRANSMISSION'}, xlabel='transmission', ylabel='km_driven'>"
      ]
     },
     "execution_count": 24,
     "metadata": {},
     "output_type": "execute_result"
    },
    {
     "data": {
      "image/png": "[encoded data removed]",
      "text/plain": [
       "<Figure size 432x288 with 1 Axes>"
      ]
     },
     "metadata": {
      "needs_background": "light"
     },
     "output_type": "display_data"
    }
   ],
   "source": [
    "# FIND MAX AND MIN DISTANCE COVERED BY CAR ON THE BASIS OF Transmission\n",
    "plt.title(\"DISTANCE  ON THE BASIS OF TRANSMISSION\" , fontsize=20)\n",
    "plt.xlabel('transmision',fontsize=20)\n",
    "plt.ylabel('covered distance',fontsize=20)\n",
    "sns.barplot(x='transmission',y='km_driven',data=df)"
   ]
  },
  {
   "cell_type": "markdown",
   "id": "db0f422a",
   "metadata": {},
   "source": [
    "max distance coverd by manual compare to automatic"
   ]
  },
  {
   "cell_type": "code",
   "execution_count": 25,
   "id": "9970d077",
   "metadata": {},
   "outputs": [
    {
     "data": {
      "text/plain": [
       "<AxesSubplot:title={'center':'PRICE ON THE BASES OF TRANSMISSION'}, xlabel='transmission', ylabel='selling_price'>"
      ]
     },
     "execution_count": 25,
     "metadata": {},
     "output_type": "execute_result"
    },
    {
     "data": {
      "image/png": "[encoded data removed]",
      "text/plain": [
       "<Figure size 432x288 with 1 Axes>"
      ]
     },
     "metadata": {
      "needs_background": "light"
     },
     "output_type": "display_data"
    }
   ],
   "source": [
    "# FIND MAX AND MIN Selling price BY CAR ON THE BASIS OF manual or automatic\n",
    "plt.title(\"PRICE ON THE BASES OF TRANSMISSION\" , fontsize=20)\n",
    "plt.xlabel('transmission',fontsize=20)\n",
    "plt.ylabel('selling price',fontsize=20)\n",
    "sns.barplot(x='transmission',y='selling_price',data=df)"
   ]
  },
  {
   "cell_type": "markdown",
   "id": "724ea7ab",
   "metadata": {},
   "source": [
    "automatic car price is max compare to manual"
   ]
  },
  {
   "cell_type": "code",
   "execution_count": 26,
   "id": "d6a2ea29",
   "metadata": {},
   "outputs": [
    {
     "data": {
      "text/plain": [
       "<AxesSubplot:title={'center':'OWNER COUNT ON THE BASES OF TRANSMISSION'}, xlabel='transmission', ylabel='count'>"
      ]
     },
     "execution_count": 26,
     "metadata": {},
     "output_type": "execute_result"
    },
    {
     "data": {
      "image/png": "[encoded data removed]",
      "text/plain": [
       "<Figure size 432x288 with 1 Axes>"
      ]
     },
     "metadata": {
      "needs_background": "light"
     },
     "output_type": "display_data"
    }
   ],
   "source": [
    "# lets see transmission on the basis of owner\n",
    "plt.title(\"OWNER COUNT ON THE BASES OF TRANSMISSION\" , fontsize=20)\n",
    "plt.xlabel('transmission',fontsize=20)\n",
    "plt.ylabel('count',fontsize=20)\n",
    "sns.countplot(x='transmission',data=df,hue='owner')"
   ]
  },
  {
   "cell_type": "markdown",
   "id": "891d707f",
   "metadata": {},
   "source": [
    "First owner is max comapre on manual compare to automatic"
   ]
  },
  {
   "cell_type": "code",
   "execution_count": 27,
   "id": "340cf66c",
   "metadata": {},
   "outputs": [
    {
     "data": {
      "text/plain": [
       "<AxesSubplot:title={'center':'OWNER COUNT ON THE BASES OF FUEL'}, xlabel='fuel', ylabel='count'>"
      ]
     },
     "execution_count": 27,
     "metadata": {},
     "output_type": "execute_result"
    },
    {
     "data": {
      "image/png": "[encoded data removed]",
      "text/plain": [
       "<Figure size 432x288 with 1 Axes>"
      ]
     },
     "metadata": {
      "needs_background": "light"
     },
     "output_type": "display_data"
    }
   ],
   "source": [
    "# lets see fuel on the basis of owner\n",
    "plt.title(\"OWNER COUNT ON THE BASES OF FUEL\" , fontsize=20)\n",
    "plt.xlabel('fuel',fontsize=30)\n",
    "plt.ylabel('count',fontsize=30)\n",
    "sns.countplot(x='fuel',data=df,hue='owner')"
   ]
  },
  {
   "cell_type": "markdown",
   "id": "bef36aca",
   "metadata": {},
   "source": [
    "First owner is almost equal to petrol and diesel"
   ]
  },
  {
   "cell_type": "code",
   "execution_count": 28,
   "id": "7f6ea9ff",
   "metadata": {},
   "outputs": [
    {
     "data": {
      "text/plain": [
       "<AxesSubplot:title={'center':'SELLING PRICE ON THE BASES OF OWNER'}, xlabel='owner', ylabel='selling_price'>"
      ]
     },
     "execution_count": 28,
     "metadata": {},
     "output_type": "execute_result"
    },
    {
     "data": {
      "image/png": "[encoded data removed]",
      "text/plain": [
       "<Figure size 720x720 with 1 Axes>"
      ]
     },
     "metadata": {
      "needs_background": "light"
     },
     "output_type": "display_data"
    }
   ],
   "source": [
    "# Lets see selling price on the basis of owner\n",
    "plt.figure(figsize=(10,10))\n",
    "plt.title(\"SELLING PRICE ON THE BASES OF OWNER\" , fontsize=30)\n",
    "\n",
    "\n",
    "plt.xlabel('year',fontsize=30)\n",
    "plt.ylabel('COUNT',fontsize=30)\n",
    "\n",
    "sns.barplot(x='owner',y='selling_price',data=df)"
   ]
  },
  {
   "cell_type": "code",
   "execution_count": 29,
   "id": "73af649f",
   "metadata": {},
   "outputs": [
    {
     "data": {
      "text/plain": [
       "<AxesSubplot:xlabel='selling_price', ylabel='owner'>"
      ]
     },
     "execution_count": 29,
     "metadata": {},
     "output_type": "execute_result"
    },
    {
     "data": {
      "image/png": "[encoded data removed]",
      "text/plain": [
       "<Figure size 720x720 with 1 Axes>"
      ]
     },
     "metadata": {
      "needs_background": "light"
     },
     "output_type": "display_data"
    }
   ],
   "source": [
    "# Lets see selling price on the basis of owner\n",
    "\n",
    "plt.figure(figsize=(10,10))\n",
    "plt.xlabel('selling price',fontsize=30)\n",
    "plt.ylabel('owner',fontsize=30)\n",
    "\n",
    "sns.boxplot(x='selling_price',y='owner',data=df)"
   ]
  },
  {
   "cell_type": "code",
   "execution_count": 30,
   "id": "36cac575",
   "metadata": {},
   "outputs": [
    {
     "data": {
      "text/plain": [
       "<AxesSubplot:xlabel='transmission', ylabel='km_driven'>"
      ]
     },
     "execution_count": 30,
     "metadata": {},
     "output_type": "execute_result"
    },
    {
     "data": {
      "image/png": "[encoded data removed]",
      "text/plain": [
       "<Figure size 720x720 with 1 Axes>"
      ]
     },
     "metadata": {
      "needs_background": "light"
     },
     "output_type": "display_data"
    }
   ],
   "source": [
    "# Lets see selling price on the basis of transmission\n",
    "\n",
    "plt.figure(figsize=(10,10))\n",
    "plt.xlabel('selling price',fontsize=30)\n",
    "plt.ylabel('owner',fontsize=30)\n",
    "\n",
    "sns.boxplot(x='transmission',y= 'km_driven',data=df)"
   ]
  },
  {
   "cell_type": "markdown",
   "id": "e941ecde",
   "metadata": {},
   "source": [
    "# Outlier Detection"
   ]
  },
  {
   "cell_type": "code",
   "execution_count": 31,
   "id": "f17576c6",
   "metadata": {},
   "outputs": [
    {
     "data": {
      "text/plain": [
       "<AxesSubplot:xlabel='year'>"
      ]
     },
     "execution_count": 31,
     "metadata": {},
     "output_type": "execute_result"
    },
    {
     "data": {
      "image/png": "[encoded data removed]",
      "text/plain": [
       "<Figure size 720x720 with 1 Axes>"
      ]
     },
     "metadata": {
      "needs_background": "light"
     },
     "output_type": "display_data"
    }
   ],
   "source": [
    "# LET'S SEE OUTLIER OF YEAR\n",
    "\n",
    "plt.figure(figsize=(10,10))\n",
    "sns.boxplot(x='year',data=df)"
   ]
  },
  {
   "cell_type": "code",
   "execution_count": 32,
   "id": "dd35dfdd",
   "metadata": {},
   "outputs": [
    {
     "data": {
      "text/plain": [
       "<AxesSubplot:xlabel='selling_price'>"
      ]
     },
     "execution_count": 32,
     "metadata": {},
     "output_type": "execute_result"
    },
    {
     "data": {
      "image/png": "[encoded data removed]",
      "text/plain": [
       "<Figure size 720x720 with 1 Axes>"
      ]
     },
     "metadata": {
      "needs_background": "light"
     },
     "output_type": "display_data"
    }
   ],
   "source": [
    "# LET'S SEE OUTLIER OF SELLING PRICE\n",
    "\n",
    "\n",
    "plt.figure(figsize=(10,10))\n",
    "sns.boxplot(x='selling_price',data=df)"
   ]
  },
  {
   "cell_type": "code",
   "execution_count": 33,
   "id": "73ea0a0b",
   "metadata": {},
   "outputs": [
    {
     "data": {
      "text/plain": [
       "<AxesSubplot:xlabel='km_driven'>"
      ]
     },
     "execution_count": 33,
     "metadata": {},
     "output_type": "execute_result"
    },
    {
     "data": {
      "image/png": "[encoded data removed]",
      "text/plain": [
       "<Figure size 720x720 with 1 Axes>"
      ]
     },
     "metadata": {
      "needs_background": "light"
     },
     "output_type": "display_data"
    }
   ],
   "source": [
    "# LET'S SEE OUTLIER OF KM_DRIVEN\n",
    "\n",
    "\n",
    "plt.figure(figsize=(10,10))\n",
    "sns.boxplot(x='km_driven',data=df)"
   ]
  },
  {
   "cell_type": "markdown",
   "id": "a63426dd",
   "metadata": {},
   "source": [
    "# Handle OUTLIERS"
   ]
  },
  {
   "cell_type": "code",
   "execution_count": 34,
   "id": "8586b12b",
   "metadata": {},
   "outputs": [
    {
     "name": "stderr",
     "output_type": "stream",
     "text": [
      "C:\\Users\\saura\\anaconda\\lib\\site-packages\\seaborn\\distributions.py:2619: FutureWarning: `distplot` is a deprecated function and will be removed in a future version. Please adapt your code to use either `displot` (a figure-level function with similar flexibility) or `histplot` (an axes-level function for histograms).\n",
      "  warnings.warn(msg, FutureWarning)\n"
     ]
    },
    {
     "data": {
      "text/plain": [
       "<AxesSubplot:xlabel='year', ylabel='Density'>"
      ]
     },
     "execution_count": 34,
     "metadata": {},
     "output_type": "execute_result"
    },
    {
     "data": {
      "image/png": "[encoded data removed]",
      "text/plain": [
       "<Figure size 1152x360 with 1 Axes>"
      ]
     },
     "metadata": {
      "needs_background": "light"
     },
     "output_type": "display_data"
    }
   ],
   "source": [
    "# SEE SKEW OF YEAR\n",
    "\n",
    "plt.figure(figsize=(16,5))\n",
    "plt.subplot(1,2,1)\n",
    "sns.distplot(df['year'])\n"
   ]
  },
  {
   "cell_type": "code",
   "execution_count": 35,
   "id": "1e382857",
   "metadata": {},
   "outputs": [
    {
     "data": {
      "text/plain": [
       "-0.8332399429174567"
      ]
     },
     "execution_count": 35,
     "metadata": {},
     "output_type": "execute_result"
    }
   ],
   "source": [
    "skew_of_year=df['year'].skew()\n",
    "skew_of_year"
   ]
  },
  {
   "cell_type": "code",
   "execution_count": 36,
   "id": "1ef580ae",
   "metadata": {},
   "outputs": [
    {
     "name": "stderr",
     "output_type": "stream",
     "text": [
      "C:\\Users\\saura\\anaconda\\lib\\site-packages\\seaborn\\distributions.py:2619: FutureWarning: `distplot` is a deprecated function and will be removed in a future version. Please adapt your code to use either `displot` (a figure-level function with similar flexibility) or `histplot` (an axes-level function for histograms).\n",
      "  warnings.warn(msg, FutureWarning)\n"
     ]
    },
    {
     "data": {
      "text/plain": [
       "<AxesSubplot:xlabel='selling_price', ylabel='Density'>"
      ]
     },
     "execution_count": 36,
     "metadata": {},
     "output_type": "execute_result"
    },
    {
     "data": {
      "image/png": "[encoded data removed]",
      "text/plain": [
       "<Figure size 720x720 with 1 Axes>"
      ]
     },
     "metadata": {
      "needs_background": "light"
     },
     "output_type": "display_data"
    }
   ],
   "source": [
    "# LET'S SEE SKEW OF SELLING PRICE\n",
    "\n",
    "\n",
    "plt.figure(figsize=(10,10))\n",
    "plt.subplot(1,2,1)\n",
    "sns.distplot(df['selling_price'])\n",
    "\n"
   ]
  },
  {
   "cell_type": "code",
   "execution_count": 37,
   "id": "dd574ad6",
   "metadata": {},
   "outputs": [
    {
     "data": {
      "text/plain": [
       "4.892021472306356"
      ]
     },
     "execution_count": 37,
     "metadata": {},
     "output_type": "execute_result"
    }
   ],
   "source": [
    "skew_of_price=df['selling_price'].skew()\n",
    "skew_of_price"
   ]
  },
  {
   "cell_type": "code",
   "execution_count": 38,
   "id": "787ebe3c",
   "metadata": {},
   "outputs": [
    {
     "name": "stderr",
     "output_type": "stream",
     "text": [
      "C:\\Users\\saura\\anaconda\\lib\\site-packages\\seaborn\\distributions.py:2619: FutureWarning: `distplot` is a deprecated function and will be removed in a future version. Please adapt your code to use either `displot` (a figure-level function with similar flexibility) or `histplot` (an axes-level function for histograms).\n",
      "  warnings.warn(msg, FutureWarning)\n"
     ]
    },
    {
     "data": {
      "text/plain": [
       "<AxesSubplot:xlabel='km_driven', ylabel='Density'>"
      ]
     },
     "execution_count": 38,
     "metadata": {},
     "output_type": "execute_result"
    },
    {
     "data": {
      "image/png": "[encoded data removed]",
      "text/plain": [
       "<Figure size 720x720 with 1 Axes>"
      ]
     },
     "metadata": {
      "needs_background": "light"
     },
     "output_type": "display_data"
    }
   ],
   "source": [
    "# LET'S SEE SKEW OF KM_DRIVEN\n",
    "\n",
    "\n",
    "plt.figure(figsize=(10,10))\n",
    "plt.subplot(1,2,1)\n",
    "sns.distplot(df['km_driven'])"
   ]
  },
  {
   "cell_type": "code",
   "execution_count": 39,
   "id": "97e437b4",
   "metadata": {},
   "outputs": [
    {
     "data": {
      "text/plain": [
       "2.6690569869843133"
      ]
     },
     "execution_count": 39,
     "metadata": {},
     "output_type": "execute_result"
    }
   ],
   "source": [
    "skew_of_distance=df['km_driven'].skew()\n",
    "skew_of_distance"
   ]
  },
  {
   "cell_type": "code",
   "execution_count": 40,
   "id": "bd32589d",
   "metadata": {},
   "outputs": [
    {
     "data": {
      "text/plain": [
       "2013.0907834101383"
      ]
     },
     "execution_count": 40,
     "metadata": {},
     "output_type": "execute_result"
    }
   ],
   "source": [
    "# handle the ouliers of year\n",
    "mean=df['year'].mean()\n",
    "mean"
   ]
  },
  {
   "cell_type": "code",
   "execution_count": 41,
   "id": "813911a6",
   "metadata": {},
   "outputs": [
    {
     "data": {
      "text/plain": [
       "4.215343939724133"
      ]
     },
     "execution_count": 41,
     "metadata": {},
     "output_type": "execute_result"
    }
   ],
   "source": [
    "std_dev = df['year'].std()\n",
    "std_dev"
   ]
  },
  {
   "cell_type": "code",
   "execution_count": 42,
   "id": "f7c1ffb9",
   "metadata": {},
   "outputs": [
    {
     "data": {
      "text/plain": [
       "2025.7368152293107"
      ]
     },
     "execution_count": 42,
     "metadata": {},
     "output_type": "execute_result"
    }
   ],
   "source": [
    "upper_limit = mean + 3 * std_dev\n",
    "upper_limit"
   ]
  },
  {
   "cell_type": "code",
   "execution_count": 43,
   "id": "c91142d6",
   "metadata": {},
   "outputs": [
    {
     "data": {
      "text/plain": [
       "2000.444751590966"
      ]
     },
     "execution_count": 43,
     "metadata": {},
     "output_type": "execute_result"
    }
   ],
   "source": [
    "lower_limit = mean - 3 * std_dev\n",
    "lower_limit"
   ]
  },
  {
   "cell_type": "code",
   "execution_count": 44,
   "id": "e86420ba",
   "metadata": {},
   "outputs": [],
   "source": [
    "# capping\n",
    "df['year'] = np.where(\n",
    "            df['year']>upper_limit,\n",
    "            upper_limit,\n",
    "            np.where(\n",
    "            df['year']<lower_limit,\n",
    "            lower_limit,\n",
    "            df['year']))"
   ]
  },
  {
   "cell_type": "code",
   "execution_count": 45,
   "id": "af34b493",
   "metadata": {},
   "outputs": [
    {
     "data": {
      "text/html": [
       "<div>\n",
       "<style scoped>\n",
       "    .dataframe tbody tr th:only-of-type {\n",
       "        vertical-align: middle;\n",
       "    }\n",
       "\n",
       "    .dataframe tbody tr th {\n",
       "        vertical-align: top;\n",
       "    }\n",
       "\n",
       "    .dataframe thead th {\n",
       "        text-align: right;\n",
       "    }\n",
       "</style>\n",
       "<table border=\"1\" class=\"dataframe\">\n",
       "  <thead>\n",
       "    <tr style=\"text-align: right;\">\n",
       "      <th></th>\n",
       "      <th>name</th>\n",
       "      <th>year</th>\n",
       "      <th>selling_price</th>\n",
       "      <th>km_driven</th>\n",
       "      <th>fuel</th>\n",
       "      <th>seller_type</th>\n",
       "      <th>transmission</th>\n",
       "      <th>owner</th>\n",
       "    </tr>\n",
       "  </thead>\n",
       "  <tbody>\n",
       "    <tr>\n",
       "      <th>0</th>\n",
       "      <td>Maruti 800 AC</td>\n",
       "      <td>2007.0</td>\n",
       "      <td>60000</td>\n",
       "      <td>70000</td>\n",
       "      <td>Petrol</td>\n",
       "      <td>Individual</td>\n",
       "      <td>Manual</td>\n",
       "      <td>First Owner</td>\n",
       "    </tr>\n",
       "    <tr>\n",
       "      <th>1</th>\n",
       "      <td>Maruti Wagon R LXI Minor</td>\n",
       "      <td>2007.0</td>\n",
       "      <td>135000</td>\n",
       "      <td>50000</td>\n",
       "      <td>Petrol</td>\n",
       "      <td>Individual</td>\n",
       "      <td>Manual</td>\n",
       "      <td>First Owner</td>\n",
       "    </tr>\n",
       "    <tr>\n",
       "      <th>2</th>\n",
       "      <td>Hyundai Verna 1.6 SX</td>\n",
       "      <td>2012.0</td>\n",
       "      <td>600000</td>\n",
       "      <td>100000</td>\n",
       "      <td>Diesel</td>\n",
       "      <td>Individual</td>\n",
       "      <td>Manual</td>\n",
       "      <td>First Owner</td>\n",
       "    </tr>\n",
       "    <tr>\n",
       "      <th>3</th>\n",
       "      <td>Datsun RediGO T Option</td>\n",
       "      <td>2017.0</td>\n",
       "      <td>250000</td>\n",
       "      <td>46000</td>\n",
       "      <td>Petrol</td>\n",
       "      <td>Individual</td>\n",
       "      <td>Manual</td>\n",
       "      <td>First Owner</td>\n",
       "    </tr>\n",
       "    <tr>\n",
       "      <th>4</th>\n",
       "      <td>Honda Amaze VX i-DTEC</td>\n",
       "      <td>2014.0</td>\n",
       "      <td>450000</td>\n",
       "      <td>141000</td>\n",
       "      <td>Diesel</td>\n",
       "      <td>Individual</td>\n",
       "      <td>Manual</td>\n",
       "      <td>Second Owner</td>\n",
       "    </tr>\n",
       "    <tr>\n",
       "      <th>...</th>\n",
       "      <td>...</td>\n",
       "      <td>...</td>\n",
       "      <td>...</td>\n",
       "      <td>...</td>\n",
       "      <td>...</td>\n",
       "      <td>...</td>\n",
       "      <td>...</td>\n",
       "      <td>...</td>\n",
       "    </tr>\n",
       "    <tr>\n",
       "      <th>4335</th>\n",
       "      <td>Hyundai i20 Magna 1.4 CRDi (Diesel)</td>\n",
       "      <td>2014.0</td>\n",
       "      <td>409999</td>\n",
       "      <td>80000</td>\n",
       "      <td>Diesel</td>\n",
       "      <td>Individual</td>\n",
       "      <td>Manual</td>\n",
       "      <td>Second Owner</td>\n",
       "    </tr>\n",
       "    <tr>\n",
       "      <th>4336</th>\n",
       "      <td>Hyundai i20 Magna 1.4 CRDi</td>\n",
       "      <td>2014.0</td>\n",
       "      <td>409999</td>\n",
       "      <td>80000</td>\n",
       "      <td>Diesel</td>\n",
       "      <td>Individual</td>\n",
       "      <td>Manual</td>\n",
       "      <td>Second Owner</td>\n",
       "    </tr>\n",
       "    <tr>\n",
       "      <th>4337</th>\n",
       "      <td>Maruti 800 AC BSIII</td>\n",
       "      <td>2009.0</td>\n",
       "      <td>110000</td>\n",
       "      <td>83000</td>\n",
       "      <td>Petrol</td>\n",
       "      <td>Individual</td>\n",
       "      <td>Manual</td>\n",
       "      <td>Second Owner</td>\n",
       "    </tr>\n",
       "    <tr>\n",
       "      <th>4338</th>\n",
       "      <td>Hyundai Creta 1.6 CRDi SX Option</td>\n",
       "      <td>2016.0</td>\n",
       "      <td>865000</td>\n",
       "      <td>90000</td>\n",
       "      <td>Diesel</td>\n",
       "      <td>Individual</td>\n",
       "      <td>Manual</td>\n",
       "      <td>First Owner</td>\n",
       "    </tr>\n",
       "    <tr>\n",
       "      <th>4339</th>\n",
       "      <td>Renault KWID RXT</td>\n",
       "      <td>2016.0</td>\n",
       "      <td>225000</td>\n",
       "      <td>40000</td>\n",
       "      <td>Petrol</td>\n",
       "      <td>Individual</td>\n",
       "      <td>Manual</td>\n",
       "      <td>First Owner</td>\n",
       "    </tr>\n",
       "  </tbody>\n",
       "</table>\n",
       "<p>4340 rows × 8 columns</p>\n",
       "</div>"
      ],
      "text/plain": [
       "                                     name    year  selling_price  km_driven  \\\n",
       "0                           Maruti 800 AC  2007.0          60000      70000   \n",
       "1                Maruti Wagon R LXI Minor  2007.0         135000      50000   \n",
       "2                    Hyundai Verna 1.6 SX  2012.0         600000     100000   \n",
       "3                  Datsun RediGO T Option  2017.0         250000      46000   \n",
       "4                   Honda Amaze VX i-DTEC  2014.0         450000     141000   \n",
       "...                                   ...     ...            ...        ...   \n",
       "4335  Hyundai i20 Magna 1.4 CRDi (Diesel)  2014.0         409999      80000   \n",
       "4336           Hyundai i20 Magna 1.4 CRDi  2014.0         409999      80000   \n",
       "4337                  Maruti 800 AC BSIII  2009.0         110000      83000   \n",
       "4338     Hyundai Creta 1.6 CRDi SX Option  2016.0         865000      90000   \n",
       "4339                     Renault KWID RXT  2016.0         225000      40000   \n",
       "\n",
       "        fuel seller_type transmission         owner  \n",
       "0     Petrol  Individual       Manual   First Owner  \n",
       "1     Petrol  Individual       Manual   First Owner  \n",
       "2     Diesel  Individual       Manual   First Owner  \n",
       "3     Petrol  Individual       Manual   First Owner  \n",
       "4     Diesel  Individual       Manual  Second Owner  \n",
       "...      ...         ...          ...           ...  \n",
       "4335  Diesel  Individual       Manual  Second Owner  \n",
       "4336  Diesel  Individual       Manual  Second Owner  \n",
       "4337  Petrol  Individual       Manual  Second Owner  \n",
       "4338  Diesel  Individual       Manual   First Owner  \n",
       "4339  Petrol  Individual       Manual   First Owner  \n",
       "\n",
       "[4340 rows x 8 columns]"
      ]
     },
     "execution_count": 45,
     "metadata": {},
     "output_type": "execute_result"
    }
   ],
   "source": [
    "df"
   ]
  },
  {
   "cell_type": "code",
   "execution_count": 46,
   "id": "6d5e029a",
   "metadata": {},
   "outputs": [],
   "source": [
    "# handle the outlier of selling price\n",
    "\n",
    "mean = df['selling_price'].mean()"
   ]
  },
  {
   "cell_type": "code",
   "execution_count": 47,
   "id": "b7a56f7a",
   "metadata": {},
   "outputs": [
    {
     "data": {
      "text/plain": [
       "504127.3117511521"
      ]
     },
     "execution_count": 47,
     "metadata": {},
     "output_type": "execute_result"
    }
   ],
   "source": [
    "mean"
   ]
  },
  {
   "cell_type": "code",
   "execution_count": 48,
   "id": "2b3d7d2e",
   "metadata": {},
   "outputs": [],
   "source": [
    "std_dev=df['selling_price'].std()"
   ]
  },
  {
   "cell_type": "code",
   "execution_count": 49,
   "id": "f394771d",
   "metadata": {},
   "outputs": [
    {
     "data": {
      "text/plain": [
       "578548.7361388853"
      ]
     },
     "execution_count": 49,
     "metadata": {},
     "output_type": "execute_result"
    }
   ],
   "source": [
    "std_dev"
   ]
  },
  {
   "cell_type": "code",
   "execution_count": 50,
   "id": "7fcc1e28",
   "metadata": {},
   "outputs": [
    {
     "data": {
      "text/plain": [
       "2239773.5201678076"
      ]
     },
     "execution_count": 50,
     "metadata": {},
     "output_type": "execute_result"
    }
   ],
   "source": [
    "upper_limit = mean + 3 * std_dev\n",
    "upper_limit"
   ]
  },
  {
   "cell_type": "code",
   "execution_count": 51,
   "id": "98c14de2",
   "metadata": {},
   "outputs": [
    {
     "data": {
      "text/plain": [
       "2000.444751590966"
      ]
     },
     "execution_count": 51,
     "metadata": {},
     "output_type": "execute_result"
    }
   ],
   "source": [
    "lowe_limit = mean + 3 * std_dev\n",
    "lower_limit"
   ]
  },
  {
   "cell_type": "code",
   "execution_count": 52,
   "id": "7fb9bd1e",
   "metadata": {},
   "outputs": [],
   "source": [
    "# capping\n",
    "df['selling_price'] = np.where(\n",
    "            df['selling_price']>upper_limit,\n",
    "            upper_limit,\n",
    "            np.where(\n",
    "            df['selling_price']<lower_limit,\n",
    "            lower_limit,\n",
    "            df['selling_price']))"
   ]
  },
  {
   "cell_type": "code",
   "execution_count": 53,
   "id": "b4228eda",
   "metadata": {},
   "outputs": [
    {
     "data": {
      "text/html": [
       "<div>\n",
       "<style scoped>\n",
       "    .dataframe tbody tr th:only-of-type {\n",
       "        vertical-align: middle;\n",
       "    }\n",
       "\n",
       "    .dataframe tbody tr th {\n",
       "        vertical-align: top;\n",
       "    }\n",
       "\n",
       "    .dataframe thead th {\n",
       "        text-align: right;\n",
       "    }\n",
       "</style>\n",
       "<table border=\"1\" class=\"dataframe\">\n",
       "  <thead>\n",
       "    <tr style=\"text-align: right;\">\n",
       "      <th></th>\n",
       "      <th>name</th>\n",
       "      <th>year</th>\n",
       "      <th>selling_price</th>\n",
       "      <th>km_driven</th>\n",
       "      <th>fuel</th>\n",
       "      <th>seller_type</th>\n",
       "      <th>transmission</th>\n",
       "      <th>owner</th>\n",
       "    </tr>\n",
       "  </thead>\n",
       "  <tbody>\n",
       "    <tr>\n",
       "      <th>0</th>\n",
       "      <td>Maruti 800 AC</td>\n",
       "      <td>2007.0</td>\n",
       "      <td>60000.0</td>\n",
       "      <td>70000</td>\n",
       "      <td>Petrol</td>\n",
       "      <td>Individual</td>\n",
       "      <td>Manual</td>\n",
       "      <td>First Owner</td>\n",
       "    </tr>\n",
       "    <tr>\n",
       "      <th>1</th>\n",
       "      <td>Maruti Wagon R LXI Minor</td>\n",
       "      <td>2007.0</td>\n",
       "      <td>135000.0</td>\n",
       "      <td>50000</td>\n",
       "      <td>Petrol</td>\n",
       "      <td>Individual</td>\n",
       "      <td>Manual</td>\n",
       "      <td>First Owner</td>\n",
       "    </tr>\n",
       "    <tr>\n",
       "      <th>2</th>\n",
       "      <td>Hyundai Verna 1.6 SX</td>\n",
       "      <td>2012.0</td>\n",
       "      <td>600000.0</td>\n",
       "      <td>100000</td>\n",
       "      <td>Diesel</td>\n",
       "      <td>Individual</td>\n",
       "      <td>Manual</td>\n",
       "      <td>First Owner</td>\n",
       "    </tr>\n",
       "    <tr>\n",
       "      <th>3</th>\n",
       "      <td>Datsun RediGO T Option</td>\n",
       "      <td>2017.0</td>\n",
       "      <td>250000.0</td>\n",
       "      <td>46000</td>\n",
       "      <td>Petrol</td>\n",
       "      <td>Individual</td>\n",
       "      <td>Manual</td>\n",
       "      <td>First Owner</td>\n",
       "    </tr>\n",
       "    <tr>\n",
       "      <th>4</th>\n",
       "      <td>Honda Amaze VX i-DTEC</td>\n",
       "      <td>2014.0</td>\n",
       "      <td>450000.0</td>\n",
       "      <td>141000</td>\n",
       "      <td>Diesel</td>\n",
       "      <td>Individual</td>\n",
       "      <td>Manual</td>\n",
       "      <td>Second Owner</td>\n",
       "    </tr>\n",
       "    <tr>\n",
       "      <th>...</th>\n",
       "      <td>...</td>\n",
       "      <td>...</td>\n",
       "      <td>...</td>\n",
       "      <td>...</td>\n",
       "      <td>...</td>\n",
       "      <td>...</td>\n",
       "      <td>...</td>\n",
       "      <td>...</td>\n",
       "    </tr>\n",
       "    <tr>\n",
       "      <th>4335</th>\n",
       "      <td>Hyundai i20 Magna 1.4 CRDi (Diesel)</td>\n",
       "      <td>2014.0</td>\n",
       "      <td>409999.0</td>\n",
       "      <td>80000</td>\n",
       "      <td>Diesel</td>\n",
       "      <td>Individual</td>\n",
       "      <td>Manual</td>\n",
       "      <td>Second Owner</td>\n",
       "    </tr>\n",
       "    <tr>\n",
       "      <th>4336</th>\n",
       "      <td>Hyundai i20 Magna 1.4 CRDi</td>\n",
       "      <td>2014.0</td>\n",
       "      <td>409999.0</td>\n",
       "      <td>80000</td>\n",
       "      <td>Diesel</td>\n",
       "      <td>Individual</td>\n",
       "      <td>Manual</td>\n",
       "      <td>Second Owner</td>\n",
       "    </tr>\n",
       "    <tr>\n",
       "      <th>4337</th>\n",
       "      <td>Maruti 800 AC BSIII</td>\n",
       "      <td>2009.0</td>\n",
       "      <td>110000.0</td>\n",
       "      <td>83000</td>\n",
       "      <td>Petrol</td>\n",
       "      <td>Individual</td>\n",
       "      <td>Manual</td>\n",
       "      <td>Second Owner</td>\n",
       "    </tr>\n",
       "    <tr>\n",
       "      <th>4338</th>\n",
       "      <td>Hyundai Creta 1.6 CRDi SX Option</td>\n",
       "      <td>2016.0</td>\n",
       "      <td>865000.0</td>\n",
       "      <td>90000</td>\n",
       "      <td>Diesel</td>\n",
       "      <td>Individual</td>\n",
       "      <td>Manual</td>\n",
       "      <td>First Owner</td>\n",
       "    </tr>\n",
       "    <tr>\n",
       "      <th>4339</th>\n",
       "      <td>Renault KWID RXT</td>\n",
       "      <td>2016.0</td>\n",
       "      <td>225000.0</td>\n",
       "      <td>40000</td>\n",
       "      <td>Petrol</td>\n",
       "      <td>Individual</td>\n",
       "      <td>Manual</td>\n",
       "      <td>First Owner</td>\n",
       "    </tr>\n",
       "  </tbody>\n",
       "</table>\n",
       "<p>4340 rows × 8 columns</p>\n",
       "</div>"
      ],
      "text/plain": [
       "                                     name    year  selling_price  km_driven  \\\n",
       "0                           Maruti 800 AC  2007.0        60000.0      70000   \n",
       "1                Maruti Wagon R LXI Minor  2007.0       135000.0      50000   \n",
       "2                    Hyundai Verna 1.6 SX  2012.0       600000.0     100000   \n",
       "3                  Datsun RediGO T Option  2017.0       250000.0      46000   \n",
       "4                   Honda Amaze VX i-DTEC  2014.0       450000.0     141000   \n",
       "...                                   ...     ...            ...        ...   \n",
       "4335  Hyundai i20 Magna 1.4 CRDi (Diesel)  2014.0       409999.0      80000   \n",
       "4336           Hyundai i20 Magna 1.4 CRDi  2014.0       409999.0      80000   \n",
       "4337                  Maruti 800 AC BSIII  2009.0       110000.0      83000   \n",
       "4338     Hyundai Creta 1.6 CRDi SX Option  2016.0       865000.0      90000   \n",
       "4339                     Renault KWID RXT  2016.0       225000.0      40000   \n",
       "\n",
       "        fuel seller_type transmission         owner  \n",
       "0     Petrol  Individual       Manual   First Owner  \n",
       "1     Petrol  Individual       Manual   First Owner  \n",
       "2     Diesel  Individual       Manual   First Owner  \n",
       "3     Petrol  Individual       Manual   First Owner  \n",
       "4     Diesel  Individual       Manual  Second Owner  \n",
       "...      ...         ...          ...           ...  \n",
       "4335  Diesel  Individual       Manual  Second Owner  \n",
       "4336  Diesel  Individual       Manual  Second Owner  \n",
       "4337  Petrol  Individual       Manual  Second Owner  \n",
       "4338  Diesel  Individual       Manual   First Owner  \n",
       "4339  Petrol  Individual       Manual   First Owner  \n",
       "\n",
       "[4340 rows x 8 columns]"
      ]
     },
     "execution_count": 53,
     "metadata": {},
     "output_type": "execute_result"
    }
   ],
   "source": [
    "df"
   ]
  },
  {
   "cell_type": "code",
   "execution_count": 54,
   "id": "8d33902c",
   "metadata": {},
   "outputs": [],
   "source": [
    "# handle the outlier of km-driven\n",
    "mean=df['km_driven'].mean()"
   ]
  },
  {
   "cell_type": "code",
   "execution_count": 55,
   "id": "bc875d1a",
   "metadata": {},
   "outputs": [
    {
     "data": {
      "text/plain": [
       "66215.77741935484"
      ]
     },
     "execution_count": 55,
     "metadata": {},
     "output_type": "execute_result"
    }
   ],
   "source": [
    "mean"
   ]
  },
  {
   "cell_type": "code",
   "execution_count": 56,
   "id": "48d07077",
   "metadata": {},
   "outputs": [],
   "source": [
    "std_dev=df['km_driven'].std()"
   ]
  },
  {
   "cell_type": "code",
   "execution_count": 57,
   "id": "3defdecc",
   "metadata": {},
   "outputs": [
    {
     "data": {
      "text/plain": [
       "46644.102193620834"
      ]
     },
     "execution_count": 57,
     "metadata": {},
     "output_type": "execute_result"
    }
   ],
   "source": [
    "std_dev"
   ]
  },
  {
   "cell_type": "code",
   "execution_count": 58,
   "id": "84278220",
   "metadata": {},
   "outputs": [
    {
     "data": {
      "text/plain": [
       "206148.08400021732"
      ]
     },
     "execution_count": 58,
     "metadata": {},
     "output_type": "execute_result"
    }
   ],
   "source": [
    "upper_limit = mean + 3 * std_dev\n",
    "upper_limit"
   ]
  },
  {
   "cell_type": "code",
   "execution_count": 59,
   "id": "35812967",
   "metadata": {},
   "outputs": [
    {
     "data": {
      "text/plain": [
       "2000.444751590966"
      ]
     },
     "execution_count": 59,
     "metadata": {},
     "output_type": "execute_result"
    }
   ],
   "source": [
    "lowe_limit = mean + 3 * std_dev\n",
    "lower_limit"
   ]
  },
  {
   "cell_type": "code",
   "execution_count": 60,
   "id": "2c182eaf",
   "metadata": {},
   "outputs": [],
   "source": [
    "# capping\n",
    "df['km_driven'] = np.where(\n",
    "            df['km_driven']>upper_limit,\n",
    "            upper_limit,\n",
    "            np.where(\n",
    "            df['km_driven']<lower_limit,\n",
    "            lower_limit,\n",
    "            df['km_driven']))"
   ]
  },
  {
   "cell_type": "code",
   "execution_count": 61,
   "id": "4d364b01",
   "metadata": {},
   "outputs": [
    {
     "data": {
      "text/html": [
       "<div>\n",
       "<style scoped>\n",
       "    .dataframe tbody tr th:only-of-type {\n",
       "        vertical-align: middle;\n",
       "    }\n",
       "\n",
       "    .dataframe tbody tr th {\n",
       "        vertical-align: top;\n",
       "    }\n",
       "\n",
       "    .dataframe thead th {\n",
       "        text-align: right;\n",
       "    }\n",
       "</style>\n",
       "<table border=\"1\" class=\"dataframe\">\n",
       "  <thead>\n",
       "    <tr style=\"text-align: right;\">\n",
       "      <th></th>\n",
       "      <th>name</th>\n",
       "      <th>year</th>\n",
       "      <th>selling_price</th>\n",
       "      <th>km_driven</th>\n",
       "      <th>fuel</th>\n",
       "      <th>seller_type</th>\n",
       "      <th>transmission</th>\n",
       "      <th>owner</th>\n",
       "    </tr>\n",
       "  </thead>\n",
       "  <tbody>\n",
       "    <tr>\n",
       "      <th>0</th>\n",
       "      <td>Maruti 800 AC</td>\n",
       "      <td>2007.0</td>\n",
       "      <td>60000.0</td>\n",
       "      <td>70000.0</td>\n",
       "      <td>Petrol</td>\n",
       "      <td>Individual</td>\n",
       "      <td>Manual</td>\n",
       "      <td>First Owner</td>\n",
       "    </tr>\n",
       "    <tr>\n",
       "      <th>1</th>\n",
       "      <td>Maruti Wagon R LXI Minor</td>\n",
       "      <td>2007.0</td>\n",
       "      <td>135000.0</td>\n",
       "      <td>50000.0</td>\n",
       "      <td>Petrol</td>\n",
       "      <td>Individual</td>\n",
       "      <td>Manual</td>\n",
       "      <td>First Owner</td>\n",
       "    </tr>\n",
       "    <tr>\n",
       "      <th>2</th>\n",
       "      <td>Hyundai Verna 1.6 SX</td>\n",
       "      <td>2012.0</td>\n",
       "      <td>600000.0</td>\n",
       "      <td>100000.0</td>\n",
       "      <td>Diesel</td>\n",
       "      <td>Individual</td>\n",
       "      <td>Manual</td>\n",
       "      <td>First Owner</td>\n",
       "    </tr>\n",
       "    <tr>\n",
       "      <th>3</th>\n",
       "      <td>Datsun RediGO T Option</td>\n",
       "      <td>2017.0</td>\n",
       "      <td>250000.0</td>\n",
       "      <td>46000.0</td>\n",
       "      <td>Petrol</td>\n",
       "      <td>Individual</td>\n",
       "      <td>Manual</td>\n",
       "      <td>First Owner</td>\n",
       "    </tr>\n",
       "    <tr>\n",
       "      <th>4</th>\n",
       "      <td>Honda Amaze VX i-DTEC</td>\n",
       "      <td>2014.0</td>\n",
       "      <td>450000.0</td>\n",
       "      <td>141000.0</td>\n",
       "      <td>Diesel</td>\n",
       "      <td>Individual</td>\n",
       "      <td>Manual</td>\n",
       "      <td>Second Owner</td>\n",
       "    </tr>\n",
       "    <tr>\n",
       "      <th>...</th>\n",
       "      <td>...</td>\n",
       "      <td>...</td>\n",
       "      <td>...</td>\n",
       "      <td>...</td>\n",
       "      <td>...</td>\n",
       "      <td>...</td>\n",
       "      <td>...</td>\n",
       "      <td>...</td>\n",
       "    </tr>\n",
       "    <tr>\n",
       "      <th>4335</th>\n",
       "      <td>Hyundai i20 Magna 1.4 CRDi (Diesel)</td>\n",
       "      <td>2014.0</td>\n",
       "      <td>409999.0</td>\n",
       "      <td>80000.0</td>\n",
       "      <td>Diesel</td>\n",
       "      <td>Individual</td>\n",
       "      <td>Manual</td>\n",
       "      <td>Second Owner</td>\n",
       "    </tr>\n",
       "    <tr>\n",
       "      <th>4336</th>\n",
       "      <td>Hyundai i20 Magna 1.4 CRDi</td>\n",
       "      <td>2014.0</td>\n",
       "      <td>409999.0</td>\n",
       "      <td>80000.0</td>\n",
       "      <td>Diesel</td>\n",
       "      <td>Individual</td>\n",
       "      <td>Manual</td>\n",
       "      <td>Second Owner</td>\n",
       "    </tr>\n",
       "    <tr>\n",
       "      <th>4337</th>\n",
       "      <td>Maruti 800 AC BSIII</td>\n",
       "      <td>2009.0</td>\n",
       "      <td>110000.0</td>\n",
       "      <td>83000.0</td>\n",
       "      <td>Petrol</td>\n",
       "      <td>Individual</td>\n",
       "      <td>Manual</td>\n",
       "      <td>Second Owner</td>\n",
       "    </tr>\n",
       "    <tr>\n",
       "      <th>4338</th>\n",
       "      <td>Hyundai Creta 1.6 CRDi SX Option</td>\n",
       "      <td>2016.0</td>\n",
       "      <td>865000.0</td>\n",
       "      <td>90000.0</td>\n",
       "      <td>Diesel</td>\n",
       "      <td>Individual</td>\n",
       "      <td>Manual</td>\n",
       "      <td>First Owner</td>\n",
       "    </tr>\n",
       "    <tr>\n",
       "      <th>4339</th>\n",
       "      <td>Renault KWID RXT</td>\n",
       "      <td>2016.0</td>\n",
       "      <td>225000.0</td>\n",
       "      <td>40000.0</td>\n",
       "      <td>Petrol</td>\n",
       "      <td>Individual</td>\n",
       "      <td>Manual</td>\n",
       "      <td>First Owner</td>\n",
       "    </tr>\n",
       "  </tbody>\n",
       "</table>\n",
       "<p>4340 rows × 8 columns</p>\n",
       "</div>"
      ],
      "text/plain": [
       "                                     name    year  selling_price  km_driven  \\\n",
       "0                           Maruti 800 AC  2007.0        60000.0    70000.0   \n",
       "1                Maruti Wagon R LXI Minor  2007.0       135000.0    50000.0   \n",
       "2                    Hyundai Verna 1.6 SX  2012.0       600000.0   100000.0   \n",
       "3                  Datsun RediGO T Option  2017.0       250000.0    46000.0   \n",
       "4                   Honda Amaze VX i-DTEC  2014.0       450000.0   141000.0   \n",
       "...                                   ...     ...            ...        ...   \n",
       "4335  Hyundai i20 Magna 1.4 CRDi (Diesel)  2014.0       409999.0    80000.0   \n",
       "4336           Hyundai i20 Magna 1.4 CRDi  2014.0       409999.0    80000.0   \n",
       "4337                  Maruti 800 AC BSIII  2009.0       110000.0    83000.0   \n",
       "4338     Hyundai Creta 1.6 CRDi SX Option  2016.0       865000.0    90000.0   \n",
       "4339                     Renault KWID RXT  2016.0       225000.0    40000.0   \n",
       "\n",
       "        fuel seller_type transmission         owner  \n",
       "0     Petrol  Individual       Manual   First Owner  \n",
       "1     Petrol  Individual       Manual   First Owner  \n",
       "2     Diesel  Individual       Manual   First Owner  \n",
       "3     Petrol  Individual       Manual   First Owner  \n",
       "4     Diesel  Individual       Manual  Second Owner  \n",
       "...      ...         ...          ...           ...  \n",
       "4335  Diesel  Individual       Manual  Second Owner  \n",
       "4336  Diesel  Individual       Manual  Second Owner  \n",
       "4337  Petrol  Individual       Manual  Second Owner  \n",
       "4338  Diesel  Individual       Manual   First Owner  \n",
       "4339  Petrol  Individual       Manual   First Owner  \n",
       "\n",
       "[4340 rows x 8 columns]"
      ]
     },
     "execution_count": 61,
     "metadata": {},
     "output_type": "execute_result"
    }
   ],
   "source": [
    "df"
   ]
  },
  {
   "cell_type": "markdown",
   "id": "61448fb8",
   "metadata": {},
   "source": [
    "### Now we see how to perform outliers after handle the outliers"
   ]
  },
  {
   "cell_type": "code",
   "execution_count": 62,
   "id": "d187bdc5",
   "metadata": {},
   "outputs": [
    {
     "data": {
      "text/plain": [
       "<AxesSubplot:xlabel='year'>"
      ]
     },
     "execution_count": 62,
     "metadata": {},
     "output_type": "execute_result"
    },
    {
     "data": {
      "image/png": "[encoded data removed]",
      "text/plain": [
       "<Figure size 720x720 with 1 Axes>"
      ]
     },
     "metadata": {
      "needs_background": "light"
     },
     "output_type": "display_data"
    }
   ],
   "source": [
    "# let's see year outlier\n",
    "\n",
    "\n",
    "plt.figure(figsize=(10,10))\n",
    "sns.boxplot(x='year',data=df)"
   ]
  },
  {
   "cell_type": "code",
   "execution_count": 63,
   "id": "80ef07c7",
   "metadata": {},
   "outputs": [
    {
     "data": {
      "text/plain": [
       "<AxesSubplot:xlabel='selling_price'>"
      ]
     },
     "execution_count": 63,
     "metadata": {},
     "output_type": "execute_result"
    },
    {
     "data": {
      "image/png": "[encoded data removed]",
      "text/plain": [
       "<Figure size 720x720 with 1 Axes>"
      ]
     },
     "metadata": {
      "needs_background": "light"
     },
     "output_type": "display_data"
    }
   ],
   "source": [
    "# let's see selling price outlier\n",
    "\n",
    "\n",
    "plt.figure(figsize=(10,10))\n",
    "sns.boxplot(x='selling_price',data=df)"
   ]
  },
  {
   "cell_type": "code",
   "execution_count": 64,
   "id": "5a21814c",
   "metadata": {},
   "outputs": [
    {
     "data": {
      "text/plain": [
       "<AxesSubplot:xlabel='km_driven'>"
      ]
     },
     "execution_count": 64,
     "metadata": {},
     "output_type": "execute_result"
    },
    {
     "data": {
      "image/png": "[encoded data removed]",
      "text/plain": [
       "<Figure size 720x720 with 1 Axes>"
      ]
     },
     "metadata": {
      "needs_background": "light"
     },
     "output_type": "display_data"
    }
   ],
   "source": [
    "# see outlier of km_driven\n",
    "plt.figure(figsize=(10,10))\n",
    "sns.boxplot(x='km_driven',data=df)"
   ]
  },
  {
   "cell_type": "markdown",
   "id": "296c4f2b",
   "metadata": {},
   "source": [
    "# Feature Engineering----> Encoding Techniques"
   ]
  },
  {
   "cell_type": "code",
   "execution_count": 65,
   "id": "6dc91c7e",
   "metadata": {},
   "outputs": [
    {
     "data": {
      "text/html": [
       "<div>\n",
       "<style scoped>\n",
       "    .dataframe tbody tr th:only-of-type {\n",
       "        vertical-align: middle;\n",
       "    }\n",
       "\n",
       "    .dataframe tbody tr th {\n",
       "        vertical-align: top;\n",
       "    }\n",
       "\n",
       "    .dataframe thead th {\n",
       "        text-align: right;\n",
       "    }\n",
       "</style>\n",
       "<table border=\"1\" class=\"dataframe\">\n",
       "  <thead>\n",
       "    <tr style=\"text-align: right;\">\n",
       "      <th></th>\n",
       "      <th>name</th>\n",
       "      <th>year</th>\n",
       "      <th>selling_price</th>\n",
       "      <th>km_driven</th>\n",
       "      <th>fuel</th>\n",
       "      <th>seller_type</th>\n",
       "      <th>transmission</th>\n",
       "      <th>owner</th>\n",
       "    </tr>\n",
       "  </thead>\n",
       "  <tbody>\n",
       "    <tr>\n",
       "      <th>0</th>\n",
       "      <td>Maruti 800 AC</td>\n",
       "      <td>2007.0</td>\n",
       "      <td>60000.0</td>\n",
       "      <td>70000.0</td>\n",
       "      <td>Petrol</td>\n",
       "      <td>Individual</td>\n",
       "      <td>Manual</td>\n",
       "      <td>First Owner</td>\n",
       "    </tr>\n",
       "    <tr>\n",
       "      <th>1</th>\n",
       "      <td>Maruti Wagon R LXI Minor</td>\n",
       "      <td>2007.0</td>\n",
       "      <td>135000.0</td>\n",
       "      <td>50000.0</td>\n",
       "      <td>Petrol</td>\n",
       "      <td>Individual</td>\n",
       "      <td>Manual</td>\n",
       "      <td>First Owner</td>\n",
       "    </tr>\n",
       "    <tr>\n",
       "      <th>2</th>\n",
       "      <td>Hyundai Verna 1.6 SX</td>\n",
       "      <td>2012.0</td>\n",
       "      <td>600000.0</td>\n",
       "      <td>100000.0</td>\n",
       "      <td>Diesel</td>\n",
       "      <td>Individual</td>\n",
       "      <td>Manual</td>\n",
       "      <td>First Owner</td>\n",
       "    </tr>\n",
       "    <tr>\n",
       "      <th>3</th>\n",
       "      <td>Datsun RediGO T Option</td>\n",
       "      <td>2017.0</td>\n",
       "      <td>250000.0</td>\n",
       "      <td>46000.0</td>\n",
       "      <td>Petrol</td>\n",
       "      <td>Individual</td>\n",
       "      <td>Manual</td>\n",
       "      <td>First Owner</td>\n",
       "    </tr>\n",
       "    <tr>\n",
       "      <th>4</th>\n",
       "      <td>Honda Amaze VX i-DTEC</td>\n",
       "      <td>2014.0</td>\n",
       "      <td>450000.0</td>\n",
       "      <td>141000.0</td>\n",
       "      <td>Diesel</td>\n",
       "      <td>Individual</td>\n",
       "      <td>Manual</td>\n",
       "      <td>Second Owner</td>\n",
       "    </tr>\n",
       "    <tr>\n",
       "      <th>...</th>\n",
       "      <td>...</td>\n",
       "      <td>...</td>\n",
       "      <td>...</td>\n",
       "      <td>...</td>\n",
       "      <td>...</td>\n",
       "      <td>...</td>\n",
       "      <td>...</td>\n",
       "      <td>...</td>\n",
       "    </tr>\n",
       "    <tr>\n",
       "      <th>4335</th>\n",
       "      <td>Hyundai i20 Magna 1.4 CRDi (Diesel)</td>\n",
       "      <td>2014.0</td>\n",
       "      <td>409999.0</td>\n",
       "      <td>80000.0</td>\n",
       "      <td>Diesel</td>\n",
       "      <td>Individual</td>\n",
       "      <td>Manual</td>\n",
       "      <td>Second Owner</td>\n",
       "    </tr>\n",
       "    <tr>\n",
       "      <th>4336</th>\n",
       "      <td>Hyundai i20 Magna 1.4 CRDi</td>\n",
       "      <td>2014.0</td>\n",
       "      <td>409999.0</td>\n",
       "      <td>80000.0</td>\n",
       "      <td>Diesel</td>\n",
       "      <td>Individual</td>\n",
       "      <td>Manual</td>\n",
       "      <td>Second Owner</td>\n",
       "    </tr>\n",
       "    <tr>\n",
       "      <th>4337</th>\n",
       "      <td>Maruti 800 AC BSIII</td>\n",
       "      <td>2009.0</td>\n",
       "      <td>110000.0</td>\n",
       "      <td>83000.0</td>\n",
       "      <td>Petrol</td>\n",
       "      <td>Individual</td>\n",
       "      <td>Manual</td>\n",
       "      <td>Second Owner</td>\n",
       "    </tr>\n",
       "    <tr>\n",
       "      <th>4338</th>\n",
       "      <td>Hyundai Creta 1.6 CRDi SX Option</td>\n",
       "      <td>2016.0</td>\n",
       "      <td>865000.0</td>\n",
       "      <td>90000.0</td>\n",
       "      <td>Diesel</td>\n",
       "      <td>Individual</td>\n",
       "      <td>Manual</td>\n",
       "      <td>First Owner</td>\n",
       "    </tr>\n",
       "    <tr>\n",
       "      <th>4339</th>\n",
       "      <td>Renault KWID RXT</td>\n",
       "      <td>2016.0</td>\n",
       "      <td>225000.0</td>\n",
       "      <td>40000.0</td>\n",
       "      <td>Petrol</td>\n",
       "      <td>Individual</td>\n",
       "      <td>Manual</td>\n",
       "      <td>First Owner</td>\n",
       "    </tr>\n",
       "  </tbody>\n",
       "</table>\n",
       "<p>4340 rows × 8 columns</p>\n",
       "</div>"
      ],
      "text/plain": [
       "                                     name    year  selling_price  km_driven  \\\n",
       "0                           Maruti 800 AC  2007.0        60000.0    70000.0   \n",
       "1                Maruti Wagon R LXI Minor  2007.0       135000.0    50000.0   \n",
       "2                    Hyundai Verna 1.6 SX  2012.0       600000.0   100000.0   \n",
       "3                  Datsun RediGO T Option  2017.0       250000.0    46000.0   \n",
       "4                   Honda Amaze VX i-DTEC  2014.0       450000.0   141000.0   \n",
       "...                                   ...     ...            ...        ...   \n",
       "4335  Hyundai i20 Magna 1.4 CRDi (Diesel)  2014.0       409999.0    80000.0   \n",
       "4336           Hyundai i20 Magna 1.4 CRDi  2014.0       409999.0    80000.0   \n",
       "4337                  Maruti 800 AC BSIII  2009.0       110000.0    83000.0   \n",
       "4338     Hyundai Creta 1.6 CRDi SX Option  2016.0       865000.0    90000.0   \n",
       "4339                     Renault KWID RXT  2016.0       225000.0    40000.0   \n",
       "\n",
       "        fuel seller_type transmission         owner  \n",
       "0     Petrol  Individual       Manual   First Owner  \n",
       "1     Petrol  Individual       Manual   First Owner  \n",
       "2     Diesel  Individual       Manual   First Owner  \n",
       "3     Petrol  Individual       Manual   First Owner  \n",
       "4     Diesel  Individual       Manual  Second Owner  \n",
       "...      ...         ...          ...           ...  \n",
       "4335  Diesel  Individual       Manual  Second Owner  \n",
       "4336  Diesel  Individual       Manual  Second Owner  \n",
       "4337  Petrol  Individual       Manual  Second Owner  \n",
       "4338  Diesel  Individual       Manual   First Owner  \n",
       "4339  Petrol  Individual       Manual   First Owner  \n",
       "\n",
       "[4340 rows x 8 columns]"
      ]
     },
     "execution_count": 65,
     "metadata": {},
     "output_type": "execute_result"
    }
   ],
   "source": [
    "df"
   ]
  },
  {
   "cell_type": "markdown",
   "id": "5ebae4b6",
   "metadata": {},
   "source": [
    "### Ordinal Enoding\n",
    "\n",
    "now we will perform ordinal encoding on owner because owner column is follow the order "
   ]
  },
  {
   "cell_type": "code",
   "execution_count": 66,
   "id": "b14e41c6",
   "metadata": {},
   "outputs": [],
   "source": [
    "df1=df[['owner']]"
   ]
  },
  {
   "cell_type": "code",
   "execution_count": 67,
   "id": "a78a1d5e",
   "metadata": {},
   "outputs": [
    {
     "data": {
      "text/html": [
       "<div>\n",
       "<style scoped>\n",
       "    .dataframe tbody tr th:only-of-type {\n",
       "        vertical-align: middle;\n",
       "    }\n",
       "\n",
       "    .dataframe tbody tr th {\n",
       "        vertical-align: top;\n",
       "    }\n",
       "\n",
       "    .dataframe thead th {\n",
       "        text-align: right;\n",
       "    }\n",
       "</style>\n",
       "<table border=\"1\" class=\"dataframe\">\n",
       "  <thead>\n",
       "    <tr style=\"text-align: right;\">\n",
       "      <th></th>\n",
       "      <th>owner</th>\n",
       "    </tr>\n",
       "  </thead>\n",
       "  <tbody>\n",
       "    <tr>\n",
       "      <th>0</th>\n",
       "      <td>First Owner</td>\n",
       "    </tr>\n",
       "    <tr>\n",
       "      <th>1</th>\n",
       "      <td>First Owner</td>\n",
       "    </tr>\n",
       "    <tr>\n",
       "      <th>2</th>\n",
       "      <td>First Owner</td>\n",
       "    </tr>\n",
       "    <tr>\n",
       "      <th>3</th>\n",
       "      <td>First Owner</td>\n",
       "    </tr>\n",
       "    <tr>\n",
       "      <th>4</th>\n",
       "      <td>Second Owner</td>\n",
       "    </tr>\n",
       "    <tr>\n",
       "      <th>...</th>\n",
       "      <td>...</td>\n",
       "    </tr>\n",
       "    <tr>\n",
       "      <th>4335</th>\n",
       "      <td>Second Owner</td>\n",
       "    </tr>\n",
       "    <tr>\n",
       "      <th>4336</th>\n",
       "      <td>Second Owner</td>\n",
       "    </tr>\n",
       "    <tr>\n",
       "      <th>4337</th>\n",
       "      <td>Second Owner</td>\n",
       "    </tr>\n",
       "    <tr>\n",
       "      <th>4338</th>\n",
       "      <td>First Owner</td>\n",
       "    </tr>\n",
       "    <tr>\n",
       "      <th>4339</th>\n",
       "      <td>First Owner</td>\n",
       "    </tr>\n",
       "  </tbody>\n",
       "</table>\n",
       "<p>4340 rows × 1 columns</p>\n",
       "</div>"
      ],
      "text/plain": [
       "             owner\n",
       "0      First Owner\n",
       "1      First Owner\n",
       "2      First Owner\n",
       "3      First Owner\n",
       "4     Second Owner\n",
       "...            ...\n",
       "4335  Second Owner\n",
       "4336  Second Owner\n",
       "4337  Second Owner\n",
       "4338   First Owner\n",
       "4339   First Owner\n",
       "\n",
       "[4340 rows x 1 columns]"
      ]
     },
     "execution_count": 67,
     "metadata": {},
     "output_type": "execute_result"
    }
   ],
   "source": [
    "df1"
   ]
  },
  {
   "cell_type": "code",
   "execution_count": 68,
   "id": "1305416e",
   "metadata": {},
   "outputs": [],
   "source": [
    "df2=df1[['owner']]"
   ]
  },
  {
   "cell_type": "code",
   "execution_count": 69,
   "id": "7cd8df84",
   "metadata": {},
   "outputs": [
    {
     "data": {
      "text/html": [
       "<div>\n",
       "<style scoped>\n",
       "    .dataframe tbody tr th:only-of-type {\n",
       "        vertical-align: middle;\n",
       "    }\n",
       "\n",
       "    .dataframe tbody tr th {\n",
       "        vertical-align: top;\n",
       "    }\n",
       "\n",
       "    .dataframe thead th {\n",
       "        text-align: right;\n",
       "    }\n",
       "</style>\n",
       "<table border=\"1\" class=\"dataframe\">\n",
       "  <thead>\n",
       "    <tr style=\"text-align: right;\">\n",
       "      <th></th>\n",
       "      <th>owner</th>\n",
       "    </tr>\n",
       "  </thead>\n",
       "  <tbody>\n",
       "    <tr>\n",
       "      <th>0</th>\n",
       "      <td>First Owner</td>\n",
       "    </tr>\n",
       "    <tr>\n",
       "      <th>1</th>\n",
       "      <td>First Owner</td>\n",
       "    </tr>\n",
       "    <tr>\n",
       "      <th>2</th>\n",
       "      <td>First Owner</td>\n",
       "    </tr>\n",
       "    <tr>\n",
       "      <th>3</th>\n",
       "      <td>First Owner</td>\n",
       "    </tr>\n",
       "    <tr>\n",
       "      <th>4</th>\n",
       "      <td>Second Owner</td>\n",
       "    </tr>\n",
       "    <tr>\n",
       "      <th>...</th>\n",
       "      <td>...</td>\n",
       "    </tr>\n",
       "    <tr>\n",
       "      <th>4335</th>\n",
       "      <td>Second Owner</td>\n",
       "    </tr>\n",
       "    <tr>\n",
       "      <th>4336</th>\n",
       "      <td>Second Owner</td>\n",
       "    </tr>\n",
       "    <tr>\n",
       "      <th>4337</th>\n",
       "      <td>Second Owner</td>\n",
       "    </tr>\n",
       "    <tr>\n",
       "      <th>4338</th>\n",
       "      <td>First Owner</td>\n",
       "    </tr>\n",
       "    <tr>\n",
       "      <th>4339</th>\n",
       "      <td>First Owner</td>\n",
       "    </tr>\n",
       "  </tbody>\n",
       "</table>\n",
       "<p>4340 rows × 1 columns</p>\n",
       "</div>"
      ],
      "text/plain": [
       "             owner\n",
       "0      First Owner\n",
       "1      First Owner\n",
       "2      First Owner\n",
       "3      First Owner\n",
       "4     Second Owner\n",
       "...            ...\n",
       "4335  Second Owner\n",
       "4336  Second Owner\n",
       "4337  Second Owner\n",
       "4338   First Owner\n",
       "4339   First Owner\n",
       "\n",
       "[4340 rows x 1 columns]"
      ]
     },
     "execution_count": 69,
     "metadata": {},
     "output_type": "execute_result"
    }
   ],
   "source": [
    "df2"
   ]
  },
  {
   "cell_type": "code",
   "execution_count": 70,
   "id": "2e2dfc82",
   "metadata": {},
   "outputs": [],
   "source": [
    "from sklearn.preprocessing import OrdinalEncoder"
   ]
  },
  {
   "cell_type": "code",
   "execution_count": 71,
   "id": "9b1971e2",
   "metadata": {},
   "outputs": [],
   "source": [
    "oe = OrdinalEncoder()"
   ]
  },
  {
   "cell_type": "code",
   "execution_count": 72,
   "id": "e2bc8018",
   "metadata": {},
   "outputs": [
    {
     "data": {
      "text/plain": [
       "OrdinalEncoder()"
      ]
     },
     "execution_count": 72,
     "metadata": {},
     "output_type": "execute_result"
    }
   ],
   "source": [
    "oe.fit(df2)"
   ]
  },
  {
   "cell_type": "code",
   "execution_count": 73,
   "id": "a3bee244",
   "metadata": {},
   "outputs": [],
   "source": [
    "df2= oe.transform(df2)"
   ]
  },
  {
   "cell_type": "code",
   "execution_count": 74,
   "id": "9ff4f3af",
   "metadata": {},
   "outputs": [
    {
     "data": {
      "text/plain": [
       "array([[0.],\n",
       "       [0.],\n",
       "       [0.],\n",
       "       ...,\n",
       "       [2.],\n",
       "       [0.],\n",
       "       [0.]])"
      ]
     },
     "execution_count": 74,
     "metadata": {},
     "output_type": "execute_result"
    }
   ],
   "source": [
    "df2"
   ]
  },
  {
   "cell_type": "code",
   "execution_count": 75,
   "id": "3e1aecde",
   "metadata": {},
   "outputs": [],
   "source": [
    "data_frame=pd.DataFrame(df2,columns=df1.columns)"
   ]
  },
  {
   "cell_type": "code",
   "execution_count": 76,
   "id": "75bfa143",
   "metadata": {},
   "outputs": [
    {
     "data": {
      "text/html": [
       "<div>\n",
       "<style scoped>\n",
       "    .dataframe tbody tr th:only-of-type {\n",
       "        vertical-align: middle;\n",
       "    }\n",
       "\n",
       "    .dataframe tbody tr th {\n",
       "        vertical-align: top;\n",
       "    }\n",
       "\n",
       "    .dataframe thead th {\n",
       "        text-align: right;\n",
       "    }\n",
       "</style>\n",
       "<table border=\"1\" class=\"dataframe\">\n",
       "  <thead>\n",
       "    <tr style=\"text-align: right;\">\n",
       "      <th></th>\n",
       "      <th>owner</th>\n",
       "    </tr>\n",
       "  </thead>\n",
       "  <tbody>\n",
       "    <tr>\n",
       "      <th>0</th>\n",
       "      <td>0.0</td>\n",
       "    </tr>\n",
       "    <tr>\n",
       "      <th>1</th>\n",
       "      <td>0.0</td>\n",
       "    </tr>\n",
       "    <tr>\n",
       "      <th>2</th>\n",
       "      <td>0.0</td>\n",
       "    </tr>\n",
       "    <tr>\n",
       "      <th>3</th>\n",
       "      <td>0.0</td>\n",
       "    </tr>\n",
       "    <tr>\n",
       "      <th>4</th>\n",
       "      <td>2.0</td>\n",
       "    </tr>\n",
       "    <tr>\n",
       "      <th>...</th>\n",
       "      <td>...</td>\n",
       "    </tr>\n",
       "    <tr>\n",
       "      <th>4335</th>\n",
       "      <td>2.0</td>\n",
       "    </tr>\n",
       "    <tr>\n",
       "      <th>4336</th>\n",
       "      <td>2.0</td>\n",
       "    </tr>\n",
       "    <tr>\n",
       "      <th>4337</th>\n",
       "      <td>2.0</td>\n",
       "    </tr>\n",
       "    <tr>\n",
       "      <th>4338</th>\n",
       "      <td>0.0</td>\n",
       "    </tr>\n",
       "    <tr>\n",
       "      <th>4339</th>\n",
       "      <td>0.0</td>\n",
       "    </tr>\n",
       "  </tbody>\n",
       "</table>\n",
       "<p>4340 rows × 1 columns</p>\n",
       "</div>"
      ],
      "text/plain": [
       "      owner\n",
       "0       0.0\n",
       "1       0.0\n",
       "2       0.0\n",
       "3       0.0\n",
       "4       2.0\n",
       "...     ...\n",
       "4335    2.0\n",
       "4336    2.0\n",
       "4337    2.0\n",
       "4338    0.0\n",
       "4339    0.0\n",
       "\n",
       "[4340 rows x 1 columns]"
      ]
     },
     "execution_count": 76,
     "metadata": {},
     "output_type": "execute_result"
    }
   ],
   "source": [
    "data_frame"
   ]
  },
  {
   "cell_type": "code",
   "execution_count": 77,
   "id": "d7c08085",
   "metadata": {},
   "outputs": [],
   "source": [
    "new_df=df.drop('owner',axis=1)"
   ]
  },
  {
   "cell_type": "code",
   "execution_count": 78,
   "id": "9bd38daa",
   "metadata": {},
   "outputs": [
    {
     "data": {
      "text/html": [
       "<div>\n",
       "<style scoped>\n",
       "    .dataframe tbody tr th:only-of-type {\n",
       "        vertical-align: middle;\n",
       "    }\n",
       "\n",
       "    .dataframe tbody tr th {\n",
       "        vertical-align: top;\n",
       "    }\n",
       "\n",
       "    .dataframe thead th {\n",
       "        text-align: right;\n",
       "    }\n",
       "</style>\n",
       "<table border=\"1\" class=\"dataframe\">\n",
       "  <thead>\n",
       "    <tr style=\"text-align: right;\">\n",
       "      <th></th>\n",
       "      <th>name</th>\n",
       "      <th>year</th>\n",
       "      <th>selling_price</th>\n",
       "      <th>km_driven</th>\n",
       "      <th>fuel</th>\n",
       "      <th>seller_type</th>\n",
       "      <th>transmission</th>\n",
       "    </tr>\n",
       "  </thead>\n",
       "  <tbody>\n",
       "    <tr>\n",
       "      <th>0</th>\n",
       "      <td>Maruti 800 AC</td>\n",
       "      <td>2007.0</td>\n",
       "      <td>60000.0</td>\n",
       "      <td>70000.0</td>\n",
       "      <td>Petrol</td>\n",
       "      <td>Individual</td>\n",
       "      <td>Manual</td>\n",
       "    </tr>\n",
       "    <tr>\n",
       "      <th>1</th>\n",
       "      <td>Maruti Wagon R LXI Minor</td>\n",
       "      <td>2007.0</td>\n",
       "      <td>135000.0</td>\n",
       "      <td>50000.0</td>\n",
       "      <td>Petrol</td>\n",
       "      <td>Individual</td>\n",
       "      <td>Manual</td>\n",
       "    </tr>\n",
       "    <tr>\n",
       "      <th>2</th>\n",
       "      <td>Hyundai Verna 1.6 SX</td>\n",
       "      <td>2012.0</td>\n",
       "      <td>600000.0</td>\n",
       "      <td>100000.0</td>\n",
       "      <td>Diesel</td>\n",
       "      <td>Individual</td>\n",
       "      <td>Manual</td>\n",
       "    </tr>\n",
       "    <tr>\n",
       "      <th>3</th>\n",
       "      <td>Datsun RediGO T Option</td>\n",
       "      <td>2017.0</td>\n",
       "      <td>250000.0</td>\n",
       "      <td>46000.0</td>\n",
       "      <td>Petrol</td>\n",
       "      <td>Individual</td>\n",
       "      <td>Manual</td>\n",
       "    </tr>\n",
       "    <tr>\n",
       "      <th>4</th>\n",
       "      <td>Honda Amaze VX i-DTEC</td>\n",
       "      <td>2014.0</td>\n",
       "      <td>450000.0</td>\n",
       "      <td>141000.0</td>\n",
       "      <td>Diesel</td>\n",
       "      <td>Individual</td>\n",
       "      <td>Manual</td>\n",
       "    </tr>\n",
       "    <tr>\n",
       "      <th>...</th>\n",
       "      <td>...</td>\n",
       "      <td>...</td>\n",
       "      <td>...</td>\n",
       "      <td>...</td>\n",
       "      <td>...</td>\n",
       "      <td>...</td>\n",
       "      <td>...</td>\n",
       "    </tr>\n",
       "    <tr>\n",
       "      <th>4335</th>\n",
       "      <td>Hyundai i20 Magna 1.4 CRDi (Diesel)</td>\n",
       "      <td>2014.0</td>\n",
       "      <td>409999.0</td>\n",
       "      <td>80000.0</td>\n",
       "      <td>Diesel</td>\n",
       "      <td>Individual</td>\n",
       "      <td>Manual</td>\n",
       "    </tr>\n",
       "    <tr>\n",
       "      <th>4336</th>\n",
       "      <td>Hyundai i20 Magna 1.4 CRDi</td>\n",
       "      <td>2014.0</td>\n",
       "      <td>409999.0</td>\n",
       "      <td>80000.0</td>\n",
       "      <td>Diesel</td>\n",
       "      <td>Individual</td>\n",
       "      <td>Manual</td>\n",
       "    </tr>\n",
       "    <tr>\n",
       "      <th>4337</th>\n",
       "      <td>Maruti 800 AC BSIII</td>\n",
       "      <td>2009.0</td>\n",
       "      <td>110000.0</td>\n",
       "      <td>83000.0</td>\n",
       "      <td>Petrol</td>\n",
       "      <td>Individual</td>\n",
       "      <td>Manual</td>\n",
       "    </tr>\n",
       "    <tr>\n",
       "      <th>4338</th>\n",
       "      <td>Hyundai Creta 1.6 CRDi SX Option</td>\n",
       "      <td>2016.0</td>\n",
       "      <td>865000.0</td>\n",
       "      <td>90000.0</td>\n",
       "      <td>Diesel</td>\n",
       "      <td>Individual</td>\n",
       "      <td>Manual</td>\n",
       "    </tr>\n",
       "    <tr>\n",
       "      <th>4339</th>\n",
       "      <td>Renault KWID RXT</td>\n",
       "      <td>2016.0</td>\n",
       "      <td>225000.0</td>\n",
       "      <td>40000.0</td>\n",
       "      <td>Petrol</td>\n",
       "      <td>Individual</td>\n",
       "      <td>Manual</td>\n",
       "    </tr>\n",
       "  </tbody>\n",
       "</table>\n",
       "<p>4340 rows × 7 columns</p>\n",
       "</div>"
      ],
      "text/plain": [
       "                                     name    year  selling_price  km_driven  \\\n",
       "0                           Maruti 800 AC  2007.0        60000.0    70000.0   \n",
       "1                Maruti Wagon R LXI Minor  2007.0       135000.0    50000.0   \n",
       "2                    Hyundai Verna 1.6 SX  2012.0       600000.0   100000.0   \n",
       "3                  Datsun RediGO T Option  2017.0       250000.0    46000.0   \n",
       "4                   Honda Amaze VX i-DTEC  2014.0       450000.0   141000.0   \n",
       "...                                   ...     ...            ...        ...   \n",
       "4335  Hyundai i20 Magna 1.4 CRDi (Diesel)  2014.0       409999.0    80000.0   \n",
       "4336           Hyundai i20 Magna 1.4 CRDi  2014.0       409999.0    80000.0   \n",
       "4337                  Maruti 800 AC BSIII  2009.0       110000.0    83000.0   \n",
       "4338     Hyundai Creta 1.6 CRDi SX Option  2016.0       865000.0    90000.0   \n",
       "4339                     Renault KWID RXT  2016.0       225000.0    40000.0   \n",
       "\n",
       "        fuel seller_type transmission  \n",
       "0     Petrol  Individual       Manual  \n",
       "1     Petrol  Individual       Manual  \n",
       "2     Diesel  Individual       Manual  \n",
       "3     Petrol  Individual       Manual  \n",
       "4     Diesel  Individual       Manual  \n",
       "...      ...         ...          ...  \n",
       "4335  Diesel  Individual       Manual  \n",
       "4336  Diesel  Individual       Manual  \n",
       "4337  Petrol  Individual       Manual  \n",
       "4338  Diesel  Individual       Manual  \n",
       "4339  Petrol  Individual       Manual  \n",
       "\n",
       "[4340 rows x 7 columns]"
      ]
     },
     "execution_count": 78,
     "metadata": {},
     "output_type": "execute_result"
    }
   ],
   "source": [
    "new_df"
   ]
  },
  {
   "cell_type": "code",
   "execution_count": 79,
   "id": "7f1466fb",
   "metadata": {},
   "outputs": [],
   "source": [
    "df = pd.concat([new_df,data_frame],axis = 1)"
   ]
  },
  {
   "cell_type": "code",
   "execution_count": 80,
   "id": "24fbac42",
   "metadata": {},
   "outputs": [
    {
     "data": {
      "text/html": [
       "<div>\n",
       "<style scoped>\n",
       "    .dataframe tbody tr th:only-of-type {\n",
       "        vertical-align: middle;\n",
       "    }\n",
       "\n",
       "    .dataframe tbody tr th {\n",
       "        vertical-align: top;\n",
       "    }\n",
       "\n",
       "    .dataframe thead th {\n",
       "        text-align: right;\n",
       "    }\n",
       "</style>\n",
       "<table border=\"1\" class=\"dataframe\">\n",
       "  <thead>\n",
       "    <tr style=\"text-align: right;\">\n",
       "      <th></th>\n",
       "      <th>name</th>\n",
       "      <th>year</th>\n",
       "      <th>selling_price</th>\n",
       "      <th>km_driven</th>\n",
       "      <th>fuel</th>\n",
       "      <th>seller_type</th>\n",
       "      <th>transmission</th>\n",
       "      <th>owner</th>\n",
       "    </tr>\n",
       "  </thead>\n",
       "  <tbody>\n",
       "    <tr>\n",
       "      <th>0</th>\n",
       "      <td>Maruti 800 AC</td>\n",
       "      <td>2007.0</td>\n",
       "      <td>60000.0</td>\n",
       "      <td>70000.0</td>\n",
       "      <td>Petrol</td>\n",
       "      <td>Individual</td>\n",
       "      <td>Manual</td>\n",
       "      <td>0.0</td>\n",
       "    </tr>\n",
       "    <tr>\n",
       "      <th>1</th>\n",
       "      <td>Maruti Wagon R LXI Minor</td>\n",
       "      <td>2007.0</td>\n",
       "      <td>135000.0</td>\n",
       "      <td>50000.0</td>\n",
       "      <td>Petrol</td>\n",
       "      <td>Individual</td>\n",
       "      <td>Manual</td>\n",
       "      <td>0.0</td>\n",
       "    </tr>\n",
       "    <tr>\n",
       "      <th>2</th>\n",
       "      <td>Hyundai Verna 1.6 SX</td>\n",
       "      <td>2012.0</td>\n",
       "      <td>600000.0</td>\n",
       "      <td>100000.0</td>\n",
       "      <td>Diesel</td>\n",
       "      <td>Individual</td>\n",
       "      <td>Manual</td>\n",
       "      <td>0.0</td>\n",
       "    </tr>\n",
       "    <tr>\n",
       "      <th>3</th>\n",
       "      <td>Datsun RediGO T Option</td>\n",
       "      <td>2017.0</td>\n",
       "      <td>250000.0</td>\n",
       "      <td>46000.0</td>\n",
       "      <td>Petrol</td>\n",
       "      <td>Individual</td>\n",
       "      <td>Manual</td>\n",
       "      <td>0.0</td>\n",
       "    </tr>\n",
       "    <tr>\n",
       "      <th>4</th>\n",
       "      <td>Honda Amaze VX i-DTEC</td>\n",
       "      <td>2014.0</td>\n",
       "      <td>450000.0</td>\n",
       "      <td>141000.0</td>\n",
       "      <td>Diesel</td>\n",
       "      <td>Individual</td>\n",
       "      <td>Manual</td>\n",
       "      <td>2.0</td>\n",
       "    </tr>\n",
       "    <tr>\n",
       "      <th>...</th>\n",
       "      <td>...</td>\n",
       "      <td>...</td>\n",
       "      <td>...</td>\n",
       "      <td>...</td>\n",
       "      <td>...</td>\n",
       "      <td>...</td>\n",
       "      <td>...</td>\n",
       "      <td>...</td>\n",
       "    </tr>\n",
       "    <tr>\n",
       "      <th>4335</th>\n",
       "      <td>Hyundai i20 Magna 1.4 CRDi (Diesel)</td>\n",
       "      <td>2014.0</td>\n",
       "      <td>409999.0</td>\n",
       "      <td>80000.0</td>\n",
       "      <td>Diesel</td>\n",
       "      <td>Individual</td>\n",
       "      <td>Manual</td>\n",
       "      <td>2.0</td>\n",
       "    </tr>\n",
       "    <tr>\n",
       "      <th>4336</th>\n",
       "      <td>Hyundai i20 Magna 1.4 CRDi</td>\n",
       "      <td>2014.0</td>\n",
       "      <td>409999.0</td>\n",
       "      <td>80000.0</td>\n",
       "      <td>Diesel</td>\n",
       "      <td>Individual</td>\n",
       "      <td>Manual</td>\n",
       "      <td>2.0</td>\n",
       "    </tr>\n",
       "    <tr>\n",
       "      <th>4337</th>\n",
       "      <td>Maruti 800 AC BSIII</td>\n",
       "      <td>2009.0</td>\n",
       "      <td>110000.0</td>\n",
       "      <td>83000.0</td>\n",
       "      <td>Petrol</td>\n",
       "      <td>Individual</td>\n",
       "      <td>Manual</td>\n",
       "      <td>2.0</td>\n",
       "    </tr>\n",
       "    <tr>\n",
       "      <th>4338</th>\n",
       "      <td>Hyundai Creta 1.6 CRDi SX Option</td>\n",
       "      <td>2016.0</td>\n",
       "      <td>865000.0</td>\n",
       "      <td>90000.0</td>\n",
       "      <td>Diesel</td>\n",
       "      <td>Individual</td>\n",
       "      <td>Manual</td>\n",
       "      <td>0.0</td>\n",
       "    </tr>\n",
       "    <tr>\n",
       "      <th>4339</th>\n",
       "      <td>Renault KWID RXT</td>\n",
       "      <td>2016.0</td>\n",
       "      <td>225000.0</td>\n",
       "      <td>40000.0</td>\n",
       "      <td>Petrol</td>\n",
       "      <td>Individual</td>\n",
       "      <td>Manual</td>\n",
       "      <td>0.0</td>\n",
       "    </tr>\n",
       "  </tbody>\n",
       "</table>\n",
       "<p>4340 rows × 8 columns</p>\n",
       "</div>"
      ],
      "text/plain": [
       "                                     name    year  selling_price  km_driven  \\\n",
       "0                           Maruti 800 AC  2007.0        60000.0    70000.0   \n",
       "1                Maruti Wagon R LXI Minor  2007.0       135000.0    50000.0   \n",
       "2                    Hyundai Verna 1.6 SX  2012.0       600000.0   100000.0   \n",
       "3                  Datsun RediGO T Option  2017.0       250000.0    46000.0   \n",
       "4                   Honda Amaze VX i-DTEC  2014.0       450000.0   141000.0   \n",
       "...                                   ...     ...            ...        ...   \n",
       "4335  Hyundai i20 Magna 1.4 CRDi (Diesel)  2014.0       409999.0    80000.0   \n",
       "4336           Hyundai i20 Magna 1.4 CRDi  2014.0       409999.0    80000.0   \n",
       "4337                  Maruti 800 AC BSIII  2009.0       110000.0    83000.0   \n",
       "4338     Hyundai Creta 1.6 CRDi SX Option  2016.0       865000.0    90000.0   \n",
       "4339                     Renault KWID RXT  2016.0       225000.0    40000.0   \n",
       "\n",
       "        fuel seller_type transmission  owner  \n",
       "0     Petrol  Individual       Manual    0.0  \n",
       "1     Petrol  Individual       Manual    0.0  \n",
       "2     Diesel  Individual       Manual    0.0  \n",
       "3     Petrol  Individual       Manual    0.0  \n",
       "4     Diesel  Individual       Manual    2.0  \n",
       "...      ...         ...          ...    ...  \n",
       "4335  Diesel  Individual       Manual    2.0  \n",
       "4336  Diesel  Individual       Manual    2.0  \n",
       "4337  Petrol  Individual       Manual    2.0  \n",
       "4338  Diesel  Individual       Manual    0.0  \n",
       "4339  Petrol  Individual       Manual    0.0  \n",
       "\n",
       "[4340 rows x 8 columns]"
      ]
     },
     "execution_count": 80,
     "metadata": {},
     "output_type": "execute_result"
    }
   ],
   "source": [
    "df"
   ]
  },
  {
   "cell_type": "markdown",
   "id": "05a4772e",
   "metadata": {},
   "source": [
    "### Label Encoder\n",
    "\n",
    "now we will perfome label encoding remaing columns "
   ]
  },
  {
   "cell_type": "code",
   "execution_count": 81,
   "id": "47cb8703",
   "metadata": {},
   "outputs": [],
   "source": [
    "from sklearn.preprocessing import LabelEncoder"
   ]
  },
  {
   "cell_type": "code",
   "execution_count": 82,
   "id": "1a501a82",
   "metadata": {},
   "outputs": [],
   "source": [
    "lr=LabelEncoder()"
   ]
  },
  {
   "cell_type": "code",
   "execution_count": 83,
   "id": "d1407cce",
   "metadata": {},
   "outputs": [
    {
     "data": {
      "text/plain": [
       "LabelEncoder()"
      ]
     },
     "execution_count": 83,
     "metadata": {},
     "output_type": "execute_result"
    }
   ],
   "source": [
    "lr"
   ]
  },
  {
   "cell_type": "code",
   "execution_count": 84,
   "id": "be5c3031",
   "metadata": {},
   "outputs": [],
   "source": [
    "df=df.apply(LabelEncoder().fit_transform)"
   ]
  },
  {
   "cell_type": "code",
   "execution_count": 85,
   "id": "5fd1b9fb",
   "metadata": {},
   "outputs": [
    {
     "data": {
      "text/html": [
       "<div>\n",
       "<style scoped>\n",
       "    .dataframe tbody tr th:only-of-type {\n",
       "        vertical-align: middle;\n",
       "    }\n",
       "\n",
       "    .dataframe tbody tr th {\n",
       "        vertical-align: top;\n",
       "    }\n",
       "\n",
       "    .dataframe thead th {\n",
       "        text-align: right;\n",
       "    }\n",
       "</style>\n",
       "<table border=\"1\" class=\"dataframe\">\n",
       "  <thead>\n",
       "    <tr style=\"text-align: right;\">\n",
       "      <th></th>\n",
       "      <th>name</th>\n",
       "      <th>year</th>\n",
       "      <th>selling_price</th>\n",
       "      <th>km_driven</th>\n",
       "      <th>fuel</th>\n",
       "      <th>seller_type</th>\n",
       "      <th>transmission</th>\n",
       "      <th>owner</th>\n",
       "    </tr>\n",
       "  </thead>\n",
       "  <tbody>\n",
       "    <tr>\n",
       "      <th>0</th>\n",
       "      <td>775</td>\n",
       "      <td>7</td>\n",
       "      <td>17</td>\n",
       "      <td>456</td>\n",
       "      <td>4</td>\n",
       "      <td>1</td>\n",
       "      <td>1</td>\n",
       "      <td>0</td>\n",
       "    </tr>\n",
       "    <tr>\n",
       "      <th>1</th>\n",
       "      <td>1041</td>\n",
       "      <td>7</td>\n",
       "      <td>60</td>\n",
       "      <td>317</td>\n",
       "      <td>4</td>\n",
       "      <td>1</td>\n",
       "      <td>1</td>\n",
       "      <td>0</td>\n",
       "    </tr>\n",
       "    <tr>\n",
       "      <th>2</th>\n",
       "      <td>505</td>\n",
       "      <td>12</td>\n",
       "      <td>236</td>\n",
       "      <td>589</td>\n",
       "      <td>1</td>\n",
       "      <td>1</td>\n",
       "      <td>1</td>\n",
       "      <td>0</td>\n",
       "    </tr>\n",
       "    <tr>\n",
       "      <th>3</th>\n",
       "      <td>118</td>\n",
       "      <td>17</td>\n",
       "      <td>114</td>\n",
       "      <td>291</td>\n",
       "      <td>4</td>\n",
       "      <td>1</td>\n",
       "      <td>1</td>\n",
       "      <td>0</td>\n",
       "    </tr>\n",
       "    <tr>\n",
       "      <th>4</th>\n",
       "      <td>279</td>\n",
       "      <td>14</td>\n",
       "      <td>193</td>\n",
       "      <td>663</td>\n",
       "      <td>1</td>\n",
       "      <td>1</td>\n",
       "      <td>1</td>\n",
       "      <td>2</td>\n",
       "    </tr>\n",
       "    <tr>\n",
       "      <th>...</th>\n",
       "      <td>...</td>\n",
       "      <td>...</td>\n",
       "      <td>...</td>\n",
       "      <td>...</td>\n",
       "      <td>...</td>\n",
       "      <td>...</td>\n",
       "      <td>...</td>\n",
       "      <td>...</td>\n",
       "    </tr>\n",
       "    <tr>\n",
       "      <th>4335</th>\n",
       "      <td>602</td>\n",
       "      <td>14</td>\n",
       "      <td>178</td>\n",
       "      <td>510</td>\n",
       "      <td>1</td>\n",
       "      <td>1</td>\n",
       "      <td>1</td>\n",
       "      <td>2</td>\n",
       "    </tr>\n",
       "    <tr>\n",
       "      <th>4336</th>\n",
       "      <td>601</td>\n",
       "      <td>14</td>\n",
       "      <td>178</td>\n",
       "      <td>510</td>\n",
       "      <td>1</td>\n",
       "      <td>1</td>\n",
       "      <td>1</td>\n",
       "      <td>2</td>\n",
       "    </tr>\n",
       "    <tr>\n",
       "      <th>4337</th>\n",
       "      <td>777</td>\n",
       "      <td>9</td>\n",
       "      <td>48</td>\n",
       "      <td>529</td>\n",
       "      <td>4</td>\n",
       "      <td>1</td>\n",
       "      <td>1</td>\n",
       "      <td>2</td>\n",
       "    </tr>\n",
       "    <tr>\n",
       "      <th>4338</th>\n",
       "      <td>381</td>\n",
       "      <td>16</td>\n",
       "      <td>318</td>\n",
       "      <td>555</td>\n",
       "      <td>1</td>\n",
       "      <td>1</td>\n",
       "      <td>1</td>\n",
       "      <td>0</td>\n",
       "    </tr>\n",
       "    <tr>\n",
       "      <th>4339</th>\n",
       "      <td>1154</td>\n",
       "      <td>16</td>\n",
       "      <td>102</td>\n",
       "      <td>239</td>\n",
       "      <td>4</td>\n",
       "      <td>1</td>\n",
       "      <td>1</td>\n",
       "      <td>0</td>\n",
       "    </tr>\n",
       "  </tbody>\n",
       "</table>\n",
       "<p>4340 rows × 8 columns</p>\n",
       "</div>"
      ],
      "text/plain": [
       "      name  year  selling_price  km_driven  fuel  seller_type  transmission  \\\n",
       "0      775     7             17        456     4            1             1   \n",
       "1     1041     7             60        317     4            1             1   \n",
       "2      505    12            236        589     1            1             1   \n",
       "3      118    17            114        291     4            1             1   \n",
       "4      279    14            193        663     1            1             1   \n",
       "...    ...   ...            ...        ...   ...          ...           ...   \n",
       "4335   602    14            178        510     1            1             1   \n",
       "4336   601    14            178        510     1            1             1   \n",
       "4337   777     9             48        529     4            1             1   \n",
       "4338   381    16            318        555     1            1             1   \n",
       "4339  1154    16            102        239     4            1             1   \n",
       "\n",
       "      owner  \n",
       "0         0  \n",
       "1         0  \n",
       "2         0  \n",
       "3         0  \n",
       "4         2  \n",
       "...     ...  \n",
       "4335      2  \n",
       "4336      2  \n",
       "4337      2  \n",
       "4338      0  \n",
       "4339      0  \n",
       "\n",
       "[4340 rows x 8 columns]"
      ]
     },
     "execution_count": 85,
     "metadata": {},
     "output_type": "execute_result"
    }
   ],
   "source": [
    "df"
   ]
  },
  {
   "cell_type": "markdown",
   "id": "8a8566d1",
   "metadata": {},
   "source": [
    "# Data Preprocessing"
   ]
  },
  {
   "cell_type": "code",
   "execution_count": 86,
   "id": "99f39eea",
   "metadata": {},
   "outputs": [],
   "source": [
    "x=df.drop('selling_price',axis=1)"
   ]
  },
  {
   "cell_type": "code",
   "execution_count": 87,
   "id": "3fab3e75",
   "metadata": {},
   "outputs": [
    {
     "data": {
      "text/html": [
       "<div>\n",
       "<style scoped>\n",
       "    .dataframe tbody tr th:only-of-type {\n",
       "        vertical-align: middle;\n",
       "    }\n",
       "\n",
       "    .dataframe tbody tr th {\n",
       "        vertical-align: top;\n",
       "    }\n",
       "\n",
       "    .dataframe thead th {\n",
       "        text-align: right;\n",
       "    }\n",
       "</style>\n",
       "<table border=\"1\" class=\"dataframe\">\n",
       "  <thead>\n",
       "    <tr style=\"text-align: right;\">\n",
       "      <th></th>\n",
       "      <th>name</th>\n",
       "      <th>year</th>\n",
       "      <th>km_driven</th>\n",
       "      <th>fuel</th>\n",
       "      <th>seller_type</th>\n",
       "      <th>transmission</th>\n",
       "      <th>owner</th>\n",
       "    </tr>\n",
       "  </thead>\n",
       "  <tbody>\n",
       "    <tr>\n",
       "      <th>0</th>\n",
       "      <td>775</td>\n",
       "      <td>7</td>\n",
       "      <td>456</td>\n",
       "      <td>4</td>\n",
       "      <td>1</td>\n",
       "      <td>1</td>\n",
       "      <td>0</td>\n",
       "    </tr>\n",
       "    <tr>\n",
       "      <th>1</th>\n",
       "      <td>1041</td>\n",
       "      <td>7</td>\n",
       "      <td>317</td>\n",
       "      <td>4</td>\n",
       "      <td>1</td>\n",
       "      <td>1</td>\n",
       "      <td>0</td>\n",
       "    </tr>\n",
       "    <tr>\n",
       "      <th>2</th>\n",
       "      <td>505</td>\n",
       "      <td>12</td>\n",
       "      <td>589</td>\n",
       "      <td>1</td>\n",
       "      <td>1</td>\n",
       "      <td>1</td>\n",
       "      <td>0</td>\n",
       "    </tr>\n",
       "    <tr>\n",
       "      <th>3</th>\n",
       "      <td>118</td>\n",
       "      <td>17</td>\n",
       "      <td>291</td>\n",
       "      <td>4</td>\n",
       "      <td>1</td>\n",
       "      <td>1</td>\n",
       "      <td>0</td>\n",
       "    </tr>\n",
       "    <tr>\n",
       "      <th>4</th>\n",
       "      <td>279</td>\n",
       "      <td>14</td>\n",
       "      <td>663</td>\n",
       "      <td>1</td>\n",
       "      <td>1</td>\n",
       "      <td>1</td>\n",
       "      <td>2</td>\n",
       "    </tr>\n",
       "    <tr>\n",
       "      <th>...</th>\n",
       "      <td>...</td>\n",
       "      <td>...</td>\n",
       "      <td>...</td>\n",
       "      <td>...</td>\n",
       "      <td>...</td>\n",
       "      <td>...</td>\n",
       "      <td>...</td>\n",
       "    </tr>\n",
       "    <tr>\n",
       "      <th>4335</th>\n",
       "      <td>602</td>\n",
       "      <td>14</td>\n",
       "      <td>510</td>\n",
       "      <td>1</td>\n",
       "      <td>1</td>\n",
       "      <td>1</td>\n",
       "      <td>2</td>\n",
       "    </tr>\n",
       "    <tr>\n",
       "      <th>4336</th>\n",
       "      <td>601</td>\n",
       "      <td>14</td>\n",
       "      <td>510</td>\n",
       "      <td>1</td>\n",
       "      <td>1</td>\n",
       "      <td>1</td>\n",
       "      <td>2</td>\n",
       "    </tr>\n",
       "    <tr>\n",
       "      <th>4337</th>\n",
       "      <td>777</td>\n",
       "      <td>9</td>\n",
       "      <td>529</td>\n",
       "      <td>4</td>\n",
       "      <td>1</td>\n",
       "      <td>1</td>\n",
       "      <td>2</td>\n",
       "    </tr>\n",
       "    <tr>\n",
       "      <th>4338</th>\n",
       "      <td>381</td>\n",
       "      <td>16</td>\n",
       "      <td>555</td>\n",
       "      <td>1</td>\n",
       "      <td>1</td>\n",
       "      <td>1</td>\n",
       "      <td>0</td>\n",
       "    </tr>\n",
       "    <tr>\n",
       "      <th>4339</th>\n",
       "      <td>1154</td>\n",
       "      <td>16</td>\n",
       "      <td>239</td>\n",
       "      <td>4</td>\n",
       "      <td>1</td>\n",
       "      <td>1</td>\n",
       "      <td>0</td>\n",
       "    </tr>\n",
       "  </tbody>\n",
       "</table>\n",
       "<p>4340 rows × 7 columns</p>\n",
       "</div>"
      ],
      "text/plain": [
       "      name  year  km_driven  fuel  seller_type  transmission  owner\n",
       "0      775     7        456     4            1             1      0\n",
       "1     1041     7        317     4            1             1      0\n",
       "2      505    12        589     1            1             1      0\n",
       "3      118    17        291     4            1             1      0\n",
       "4      279    14        663     1            1             1      2\n",
       "...    ...   ...        ...   ...          ...           ...    ...\n",
       "4335   602    14        510     1            1             1      2\n",
       "4336   601    14        510     1            1             1      2\n",
       "4337   777     9        529     4            1             1      2\n",
       "4338   381    16        555     1            1             1      0\n",
       "4339  1154    16        239     4            1             1      0\n",
       "\n",
       "[4340 rows x 7 columns]"
      ]
     },
     "execution_count": 87,
     "metadata": {},
     "output_type": "execute_result"
    }
   ],
   "source": [
    "x"
   ]
  },
  {
   "cell_type": "code",
   "execution_count": 88,
   "id": "adfed4dd",
   "metadata": {},
   "outputs": [],
   "source": [
    "y=df['selling_price']"
   ]
  },
  {
   "cell_type": "code",
   "execution_count": 89,
   "id": "f8718b8f",
   "metadata": {},
   "outputs": [
    {
     "data": {
      "text/plain": [
       "0        17\n",
       "1        60\n",
       "2       236\n",
       "3       114\n",
       "4       193\n",
       "       ... \n",
       "4335    178\n",
       "4336    178\n",
       "4337     48\n",
       "4338    318\n",
       "4339    102\n",
       "Name: selling_price, Length: 4340, dtype: int64"
      ]
     },
     "execution_count": 89,
     "metadata": {},
     "output_type": "execute_result"
    }
   ],
   "source": [
    "y"
   ]
  },
  {
   "cell_type": "markdown",
   "id": "889d5ffb",
   "metadata": {},
   "source": [
    "# Scaling- use standard scaler"
   ]
  },
  {
   "cell_type": "code",
   "execution_count": 90,
   "id": "694b8042",
   "metadata": {},
   "outputs": [],
   "source": [
    "from sklearn.preprocessing import StandardScaler"
   ]
  },
  {
   "cell_type": "code",
   "execution_count": 91,
   "id": "8d7b66d1",
   "metadata": {},
   "outputs": [],
   "source": [
    "ss=StandardScaler()"
   ]
  },
  {
   "cell_type": "code",
   "execution_count": 92,
   "id": "f9624347",
   "metadata": {},
   "outputs": [
    {
     "data": {
      "text/plain": [
       "StandardScaler()"
      ]
     },
     "execution_count": 92,
     "metadata": {},
     "output_type": "execute_result"
    }
   ],
   "source": [
    "ss.fit(x)"
   ]
  },
  {
   "cell_type": "code",
   "execution_count": 93,
   "id": "597de15a",
   "metadata": {},
   "outputs": [
    {
     "data": {
      "text/html": [
       "<div>\n",
       "<style scoped>\n",
       "    .dataframe tbody tr th:only-of-type {\n",
       "        vertical-align: middle;\n",
       "    }\n",
       "\n",
       "    .dataframe tbody tr th {\n",
       "        vertical-align: top;\n",
       "    }\n",
       "\n",
       "    .dataframe thead th {\n",
       "        text-align: right;\n",
       "    }\n",
       "</style>\n",
       "<table border=\"1\" class=\"dataframe\">\n",
       "  <thead>\n",
       "    <tr style=\"text-align: right;\">\n",
       "      <th></th>\n",
       "      <th>name</th>\n",
       "      <th>year</th>\n",
       "      <th>km_driven</th>\n",
       "      <th>fuel</th>\n",
       "      <th>seller_type</th>\n",
       "      <th>transmission</th>\n",
       "      <th>owner</th>\n",
       "    </tr>\n",
       "  </thead>\n",
       "  <tbody>\n",
       "    <tr>\n",
       "      <th>0</th>\n",
       "      <td>775</td>\n",
       "      <td>7</td>\n",
       "      <td>456</td>\n",
       "      <td>4</td>\n",
       "      <td>1</td>\n",
       "      <td>1</td>\n",
       "      <td>0</td>\n",
       "    </tr>\n",
       "    <tr>\n",
       "      <th>1</th>\n",
       "      <td>1041</td>\n",
       "      <td>7</td>\n",
       "      <td>317</td>\n",
       "      <td>4</td>\n",
       "      <td>1</td>\n",
       "      <td>1</td>\n",
       "      <td>0</td>\n",
       "    </tr>\n",
       "    <tr>\n",
       "      <th>2</th>\n",
       "      <td>505</td>\n",
       "      <td>12</td>\n",
       "      <td>589</td>\n",
       "      <td>1</td>\n",
       "      <td>1</td>\n",
       "      <td>1</td>\n",
       "      <td>0</td>\n",
       "    </tr>\n",
       "    <tr>\n",
       "      <th>3</th>\n",
       "      <td>118</td>\n",
       "      <td>17</td>\n",
       "      <td>291</td>\n",
       "      <td>4</td>\n",
       "      <td>1</td>\n",
       "      <td>1</td>\n",
       "      <td>0</td>\n",
       "    </tr>\n",
       "    <tr>\n",
       "      <th>4</th>\n",
       "      <td>279</td>\n",
       "      <td>14</td>\n",
       "      <td>663</td>\n",
       "      <td>1</td>\n",
       "      <td>1</td>\n",
       "      <td>1</td>\n",
       "      <td>2</td>\n",
       "    </tr>\n",
       "    <tr>\n",
       "      <th>...</th>\n",
       "      <td>...</td>\n",
       "      <td>...</td>\n",
       "      <td>...</td>\n",
       "      <td>...</td>\n",
       "      <td>...</td>\n",
       "      <td>...</td>\n",
       "      <td>...</td>\n",
       "    </tr>\n",
       "    <tr>\n",
       "      <th>4335</th>\n",
       "      <td>602</td>\n",
       "      <td>14</td>\n",
       "      <td>510</td>\n",
       "      <td>1</td>\n",
       "      <td>1</td>\n",
       "      <td>1</td>\n",
       "      <td>2</td>\n",
       "    </tr>\n",
       "    <tr>\n",
       "      <th>4336</th>\n",
       "      <td>601</td>\n",
       "      <td>14</td>\n",
       "      <td>510</td>\n",
       "      <td>1</td>\n",
       "      <td>1</td>\n",
       "      <td>1</td>\n",
       "      <td>2</td>\n",
       "    </tr>\n",
       "    <tr>\n",
       "      <th>4337</th>\n",
       "      <td>777</td>\n",
       "      <td>9</td>\n",
       "      <td>529</td>\n",
       "      <td>4</td>\n",
       "      <td>1</td>\n",
       "      <td>1</td>\n",
       "      <td>2</td>\n",
       "    </tr>\n",
       "    <tr>\n",
       "      <th>4338</th>\n",
       "      <td>381</td>\n",
       "      <td>16</td>\n",
       "      <td>555</td>\n",
       "      <td>1</td>\n",
       "      <td>1</td>\n",
       "      <td>1</td>\n",
       "      <td>0</td>\n",
       "    </tr>\n",
       "    <tr>\n",
       "      <th>4339</th>\n",
       "      <td>1154</td>\n",
       "      <td>16</td>\n",
       "      <td>239</td>\n",
       "      <td>4</td>\n",
       "      <td>1</td>\n",
       "      <td>1</td>\n",
       "      <td>0</td>\n",
       "    </tr>\n",
       "  </tbody>\n",
       "</table>\n",
       "<p>4340 rows × 7 columns</p>\n",
       "</div>"
      ],
      "text/plain": [
       "      name  year  km_driven  fuel  seller_type  transmission  owner\n",
       "0      775     7        456     4            1             1      0\n",
       "1     1041     7        317     4            1             1      0\n",
       "2      505    12        589     1            1             1      0\n",
       "3      118    17        291     4            1             1      0\n",
       "4      279    14        663     1            1             1      2\n",
       "...    ...   ...        ...   ...          ...           ...    ...\n",
       "4335   602    14        510     1            1             1      2\n",
       "4336   601    14        510     1            1             1      2\n",
       "4337   777     9        529     4            1             1      2\n",
       "4338   381    16        555     1            1             1      0\n",
       "4339  1154    16        239     4            1             1      0\n",
       "\n",
       "[4340 rows x 7 columns]"
      ]
     },
     "execution_count": 93,
     "metadata": {},
     "output_type": "execute_result"
    }
   ],
   "source": [
    "x"
   ]
  },
  {
   "cell_type": "code",
   "execution_count": 94,
   "id": "84b99a3a",
   "metadata": {},
   "outputs": [
    {
     "data": {
      "text/plain": [
       "0        17\n",
       "1        60\n",
       "2       236\n",
       "3       114\n",
       "4       193\n",
       "       ... \n",
       "4335    178\n",
       "4336    178\n",
       "4337     48\n",
       "4338    318\n",
       "4339    102\n",
       "Name: selling_price, Length: 4340, dtype: int64"
      ]
     },
     "execution_count": 94,
     "metadata": {},
     "output_type": "execute_result"
    }
   ],
   "source": [
    "y"
   ]
  },
  {
   "cell_type": "markdown",
   "id": "2d04768d",
   "metadata": {},
   "source": [
    "# Linear Regression "
   ]
  },
  {
   "cell_type": "code",
   "execution_count": 95,
   "id": "5945bf73",
   "metadata": {},
   "outputs": [],
   "source": [
    "from sklearn.model_selection import train_test_split"
   ]
  },
  {
   "cell_type": "code",
   "execution_count": 96,
   "id": "1fa34a39",
   "metadata": {},
   "outputs": [],
   "source": [
    "x_train,x_test,y_train,y_test=train_test_split(x,y,test_size=.2,random_state=101)"
   ]
  },
  {
   "cell_type": "code",
   "execution_count": 97,
   "id": "5ad80ad5",
   "metadata": {},
   "outputs": [],
   "source": [
    "from sklearn.linear_model import LinearRegression"
   ]
  },
  {
   "cell_type": "code",
   "execution_count": 98,
   "id": "baf174e3",
   "metadata": {},
   "outputs": [],
   "source": [
    "lr=LinearRegression()"
   ]
  },
  {
   "cell_type": "code",
   "execution_count": 99,
   "id": "be45d251",
   "metadata": {},
   "outputs": [
    {
     "data": {
      "text/plain": [
       "LinearRegression()"
      ]
     },
     "execution_count": 99,
     "metadata": {},
     "output_type": "execute_result"
    }
   ],
   "source": [
    "lr.fit(x_train,y_train)"
   ]
  },
  {
   "cell_type": "code",
   "execution_count": 100,
   "id": "7e005c6b",
   "metadata": {},
   "outputs": [
    {
     "data": {
      "text/plain": [
       "0.648617445255011"
      ]
     },
     "execution_count": 100,
     "metadata": {},
     "output_type": "execute_result"
    }
   ],
   "source": [
    "lr.score(x_test,y_test)"
   ]
  },
  {
   "cell_type": "code",
   "execution_count": null,
   "id": "5e4cc496",
   "metadata": {},
   "outputs": [],
   "source": []
  },
  {
   "cell_type": "markdown",
   "id": "164795b0",
   "metadata": {},
   "source": [
    "# CONCLUSION"
   ]
  },
  {
   "cell_type": "markdown",
   "id": "d0d8b3d9",
   "metadata": {},
   "source": [
    "We tried predicting the car price using the various parameters that were provided in\n",
    " the data about the car. We build machine learning models to predict car prices .I \n",
    "have found that the Linear Regression feature  sets performed better than others. It \n",
    "gave the score of 65%.It will be used by the management to understand how exactly the \n",
    "prices vary with the independent variables. They  can accordingly manipulate the \n",
    "Design of  the cars to meet certain price levels.\n"
   ]
  },
  {
   "cell_type": "code",
   "execution_count": null,
   "id": "9d0499a8",
   "metadata": {},
   "outputs": [],
   "source": []
  }
 ],
 "metadata": {
  "kernelspec": {
   "display_name": "Python 3 (ipykernel)",
   "language": "python",
   "name": "python3"
  },
  "language_info": {
   "codemirror_mode": {
    "name": "ipython",
    "version": 3
   },
   "file_extension": ".py",
   "mimetype": "text/x-python",
   "name": "python",
   "nbconvert_exporter": "python",
   "pygments_lexer": "ipython3",
   "version": "3.9.12"
  }
 },
 "nbformat": 4,
 "nbformat_minor": 5
}
