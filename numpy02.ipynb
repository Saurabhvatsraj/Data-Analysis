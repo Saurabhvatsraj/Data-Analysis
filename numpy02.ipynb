{
 "cells": [
  {
   "cell_type": "code",
   "execution_count": 2,
   "id": "2a1e4916",
   "metadata": {},
   "outputs": [],
   "source": [
    "#empty\n",
    "#linspace\n",
    "#aggregation function\n",
    "\n",
    "import numpy as np"
   ]
  },
  {
   "cell_type": "code",
   "execution_count": 10,
   "id": "c163471c",
   "metadata": {},
   "outputs": [
    {
     "data": {
      "text/plain": [
       "array([1.05749540e-311, 0.00000000e+000, 1.06112184e-153])"
      ]
     },
     "execution_count": 10,
     "metadata": {},
     "output_type": "execute_result"
    }
   ],
   "source": [
    "np.empty(3)"
   ]
  },
  {
   "cell_type": "code",
   "execution_count": 11,
   "id": "320d9327",
   "metadata": {},
   "outputs": [
    {
     "data": {
      "text/plain": [
       "array([[3.03181047e+180, 2.95842784e+137, 7.33720905e+223,\n",
       "        6.88786594e+127, 3.69028917e+180],\n",
       "       [3.38758803e-307, 3.59248754e-289, 1.09385188e-303,\n",
       "        1.09385187e-303, 1.09402988e-303]])"
      ]
     },
     "execution_count": 11,
     "metadata": {},
     "output_type": "execute_result"
    }
   ],
   "source": [
    "np.empty([2,5])"
   ]
  },
  {
   "cell_type": "code",
   "execution_count": 14,
   "id": "e9bf1f71",
   "metadata": {},
   "outputs": [
    {
     "data": {
      "text/plain": [
       "array([1. , 2.5, 4. ])"
      ]
     },
     "execution_count": 14,
     "metadata": {},
     "output_type": "execute_result"
    }
   ],
   "source": [
    "#linspace------\n",
    "\n",
    "np.linspace(1,4,3)"
   ]
  },
  {
   "cell_type": "code",
   "execution_count": 17,
   "id": "57e4b312",
   "metadata": {},
   "outputs": [
    {
     "data": {
      "text/plain": [
       "array([  5.        ,   7.43589744,   9.87179487,  12.30769231,\n",
       "        14.74358974,  17.17948718,  19.61538462,  22.05128205,\n",
       "        24.48717949,  26.92307692,  29.35897436,  31.79487179,\n",
       "        34.23076923,  36.66666667,  39.1025641 ,  41.53846154,\n",
       "        43.97435897,  46.41025641,  48.84615385,  51.28205128,\n",
       "        53.71794872,  56.15384615,  58.58974359,  61.02564103,\n",
       "        63.46153846,  65.8974359 ,  68.33333333,  70.76923077,\n",
       "        73.20512821,  75.64102564,  78.07692308,  80.51282051,\n",
       "        82.94871795,  85.38461538,  87.82051282,  90.25641026,\n",
       "        92.69230769,  95.12820513,  97.56410256, 100.        ])"
      ]
     },
     "execution_count": 17,
     "metadata": {},
     "output_type": "execute_result"
    }
   ],
   "source": [
    "np.linspace(5,100,40)"
   ]
  },
  {
   "cell_type": "code",
   "execution_count": 3,
   "id": "59c42c19",
   "metadata": {},
   "outputs": [],
   "source": [
    "# aggregation function------->\n",
    "# sum ,min ,max,avg/mean\n",
    "\n",
    "x=np.array([[[1,2,3],[4,5,6],[7,8,9]]])"
   ]
  },
  {
   "cell_type": "code",
   "execution_count": 19,
   "id": "bc90f298",
   "metadata": {},
   "outputs": [
    {
     "data": {
      "text/plain": [
       "array([[[1, 2, 3],\n",
       "        [4, 5, 6],\n",
       "        [7, 8, 9]]])"
      ]
     },
     "execution_count": 19,
     "metadata": {},
     "output_type": "execute_result"
    }
   ],
   "source": [
    "x"
   ]
  },
  {
   "cell_type": "code",
   "execution_count": 20,
   "id": "f627fbb5",
   "metadata": {},
   "outputs": [
    {
     "data": {
      "text/plain": [
       "45"
      ]
     },
     "execution_count": 20,
     "metadata": {},
     "output_type": "execute_result"
    }
   ],
   "source": [
    "x.sum()"
   ]
  },
  {
   "cell_type": "code",
   "execution_count": 22,
   "id": "b49f26b6",
   "metadata": {},
   "outputs": [
    {
     "data": {
      "text/plain": [
       "9"
      ]
     },
     "execution_count": 22,
     "metadata": {},
     "output_type": "execute_result"
    }
   ],
   "source": [
    "x.max()"
   ]
  },
  {
   "cell_type": "code",
   "execution_count": 23,
   "id": "55afc9df",
   "metadata": {},
   "outputs": [
    {
     "data": {
      "text/plain": [
       "1"
      ]
     },
     "execution_count": 23,
     "metadata": {},
     "output_type": "execute_result"
    }
   ],
   "source": [
    "x.min()"
   ]
  },
  {
   "cell_type": "code",
   "execution_count": 26,
   "id": "95f62a4d",
   "metadata": {},
   "outputs": [
    {
     "data": {
      "text/plain": [
       "5.0"
      ]
     },
     "execution_count": 26,
     "metadata": {},
     "output_type": "execute_result"
    }
   ],
   "source": [
    "x.mean()"
   ]
  },
  {
   "cell_type": "code",
   "execution_count": 4,
   "id": "035fe292",
   "metadata": {},
   "outputs": [
    {
     "data": {
      "text/plain": [
       "array([[1., 2., 3.],\n",
       "       [4., 5., 6.],\n",
       "       [7., 8., 9.]])"
      ]
     },
     "execution_count": 4,
     "metadata": {},
     "output_type": "execute_result"
    }
   ],
   "source": [
    "x.mean(axis=0)"
   ]
  },
  {
   "cell_type": "code",
   "execution_count": 29,
   "id": "94cbd989",
   "metadata": {},
   "outputs": [
    {
     "data": {
      "text/plain": [
       "array([[4., 5., 6.]])"
      ]
     },
     "execution_count": 29,
     "metadata": {},
     "output_type": "execute_result"
    }
   ],
   "source": [
    "x.mean(axis=1)"
   ]
  },
  {
   "cell_type": "code",
   "execution_count": 49,
   "id": "75640a3b",
   "metadata": {},
   "outputs": [],
   "source": [
    "#median\n",
    "#odd num---middle value is median\n",
    "# even num--(n+1)/2\n",
    "\n",
    "a=[45,9,6,3,2,1]"
   ]
  },
  {
   "cell_type": "code",
   "execution_count": 50,
   "id": "251900f1",
   "metadata": {},
   "outputs": [
    {
     "data": {
      "text/plain": [
       "[45, 9, 6, 3, 2, 1]"
      ]
     },
     "execution_count": 50,
     "metadata": {},
     "output_type": "execute_result"
    }
   ],
   "source": [
    "a"
   ]
  },
  {
   "cell_type": "code",
   "execution_count": 51,
   "id": "d080525e",
   "metadata": {},
   "outputs": [],
   "source": [
    "a.sort()"
   ]
  },
  {
   "cell_type": "code",
   "execution_count": 52,
   "id": "192b4e7d",
   "metadata": {},
   "outputs": [
    {
     "data": {
      "text/plain": [
       "[1, 2, 3, 6, 9, 45]"
      ]
     },
     "execution_count": 52,
     "metadata": {},
     "output_type": "execute_result"
    }
   ],
   "source": [
    "a"
   ]
  },
  {
   "cell_type": "code",
   "execution_count": 53,
   "id": "0a01e512",
   "metadata": {},
   "outputs": [],
   "source": [
    "median=(a[2]+a[3])/2"
   ]
  },
  {
   "cell_type": "code",
   "execution_count": 54,
   "id": "9ade8e88",
   "metadata": {},
   "outputs": [
    {
     "data": {
      "text/plain": [
       "4.5"
      ]
     },
     "execution_count": 54,
     "metadata": {},
     "output_type": "execute_result"
    }
   ],
   "source": [
    "median"
   ]
  },
  {
   "cell_type": "code",
   "execution_count": 60,
   "id": "f4395936",
   "metadata": {},
   "outputs": [
    {
     "data": {
      "text/plain": [
       "array([[[ 2,  5,  3],\n",
       "        [56, 32, 12],\n",
       "        [80, 40, 68]]])"
      ]
     },
     "execution_count": 60,
     "metadata": {},
     "output_type": "execute_result"
    }
   ],
   "source": [
    "#sort function-----\n",
    "x=np.array([[[2,5,3],[56,32,12],[80,40,68]]])\n",
    "x"
   ]
  },
  {
   "cell_type": "code",
   "execution_count": 61,
   "id": "c0bb620c",
   "metadata": {},
   "outputs": [],
   "source": [
    "#ascending order\n",
    "x.sort()"
   ]
  },
  {
   "cell_type": "code",
   "execution_count": 62,
   "id": "3be6b20a",
   "metadata": {},
   "outputs": [
    {
     "data": {
      "text/plain": [
       "array([[[ 2,  3,  5],\n",
       "        [12, 32, 56],\n",
       "        [40, 68, 80]]])"
      ]
     },
     "execution_count": 62,
     "metadata": {},
     "output_type": "execute_result"
    }
   ],
   "source": [
    "x"
   ]
  },
  {
   "cell_type": "code",
   "execution_count": 63,
   "id": "1c5a4c2b",
   "metadata": {},
   "outputs": [],
   "source": [
    "# argmax\n",
    "# argmin\n",
    "#argsort\n",
    "\n",
    "x=np.array([[[2,5,3],[56,32,12],[80,40,68]]])"
   ]
  },
  {
   "cell_type": "code",
   "execution_count": 64,
   "id": "5adae247",
   "metadata": {},
   "outputs": [
    {
     "data": {
      "text/plain": [
       "array([[[ 2,  5,  3],\n",
       "        [56, 32, 12],\n",
       "        [80, 40, 68]]])"
      ]
     },
     "execution_count": 64,
     "metadata": {},
     "output_type": "execute_result"
    }
   ],
   "source": [
    "x"
   ]
  },
  {
   "cell_type": "code",
   "execution_count": 65,
   "id": "f9c1ab8c",
   "metadata": {},
   "outputs": [
    {
     "data": {
      "text/plain": [
       "6"
      ]
     },
     "execution_count": 65,
     "metadata": {},
     "output_type": "execute_result"
    }
   ],
   "source": [
    "x.argmax()"
   ]
  },
  {
   "cell_type": "code",
   "execution_count": 66,
   "id": "c8be820c",
   "metadata": {},
   "outputs": [
    {
     "data": {
      "text/plain": [
       "0"
      ]
     },
     "execution_count": 66,
     "metadata": {},
     "output_type": "execute_result"
    }
   ],
   "source": [
    "x.argmin()"
   ]
  },
  {
   "cell_type": "code",
   "execution_count": 67,
   "id": "c4be34d5",
   "metadata": {},
   "outputs": [
    {
     "data": {
      "text/plain": [
       "array([[[0, 2, 1],\n",
       "        [2, 1, 0],\n",
       "        [1, 2, 0]]], dtype=int64)"
      ]
     },
     "execution_count": 67,
     "metadata": {},
     "output_type": "execute_result"
    }
   ],
   "source": [
    "x.argsort()"
   ]
  },
  {
   "cell_type": "code",
   "execution_count": 68,
   "id": "5e41ca22",
   "metadata": {},
   "outputs": [
    {
     "data": {
      "text/plain": [
       "array([100,  23,  45,  68,  90,  42,  11])"
      ]
     },
     "execution_count": 68,
     "metadata": {},
     "output_type": "execute_result"
    }
   ],
   "source": [
    "#searching\n",
    "x=np.array([100,23,45,68,90,42,11])\n",
    "x"
   ]
  },
  {
   "cell_type": "code",
   "execution_count": 69,
   "id": "d19a891a",
   "metadata": {},
   "outputs": [
    {
     "data": {
      "text/plain": [
       "(array([0, 3, 4, 5], dtype=int64),)"
      ]
     },
     "execution_count": 69,
     "metadata": {},
     "output_type": "execute_result"
    }
   ],
   "source": [
    "np.where(x%2==0)"
   ]
  },
  {
   "cell_type": "code",
   "execution_count": 70,
   "id": "5ac4f928",
   "metadata": {},
   "outputs": [
    {
     "data": {
      "text/plain": [
       "(array([1, 2, 6], dtype=int64),)"
      ]
     },
     "execution_count": 70,
     "metadata": {},
     "output_type": "execute_result"
    }
   ],
   "source": [
    "np.where(x%2!=0)"
   ]
  },
  {
   "cell_type": "code",
   "execution_count": 71,
   "id": "7f718ac0",
   "metadata": {},
   "outputs": [],
   "source": [
    "# transpose matrix------\n",
    "\n",
    "x=np.array([[1,3,5],[56,78,12]])"
   ]
  },
  {
   "cell_type": "code",
   "execution_count": 72,
   "id": "768032b1",
   "metadata": {},
   "outputs": [
    {
     "data": {
      "text/plain": [
       "array([[ 1,  3,  5],\n",
       "       [56, 78, 12]])"
      ]
     },
     "execution_count": 72,
     "metadata": {},
     "output_type": "execute_result"
    }
   ],
   "source": [
    "x"
   ]
  },
  {
   "cell_type": "code",
   "execution_count": 74,
   "id": "39f6acf2",
   "metadata": {},
   "outputs": [
    {
     "data": {
      "text/plain": [
       "array([[ 1, 56],\n",
       "       [ 3, 78],\n",
       "       [ 5, 12]])"
      ]
     },
     "execution_count": 74,
     "metadata": {},
     "output_type": "execute_result"
    }
   ],
   "source": [
    "x.T"
   ]
  },
  {
   "cell_type": "code",
   "execution_count": 77,
   "id": "5e9e0435",
   "metadata": {},
   "outputs": [
    {
     "data": {
      "text/plain": [
       "array([[[ 3,  8, 11],\n",
       "        [ 9, 14,  9],\n",
       "        [ 5, 13,  8]]])"
      ]
     },
     "execution_count": 77,
     "metadata": {},
     "output_type": "execute_result"
    }
   ],
   "source": [
    "# wap to add two different data\n",
    "\n",
    "x=np.array([[[1,3,4],[7,9,2],[3,8,1]]])\n",
    "y=np.array([2,5,7])\n",
    "z=x+y\n",
    "z"
   ]
  },
  {
   "cell_type": "code",
   "execution_count": 78,
   "id": "d4dffe95",
   "metadata": {},
   "outputs": [
    {
     "data": {
      "text/plain": [
       "array([[[ 3,  8, 11],\n",
       "        [ 9, 14,  9]]])"
      ]
     },
     "execution_count": 78,
     "metadata": {},
     "output_type": "execute_result"
    }
   ],
   "source": [
    "x=np.array([[[1,3,4],[7,9,2]]])\n",
    "y=np.array([2,5,7])\n",
    "z=x+y\n",
    "z"
   ]
  },
  {
   "cell_type": "code",
   "execution_count": 79,
   "id": "6498b90e",
   "metadata": {},
   "outputs": [
    {
     "name": "stderr",
     "output_type": "stream",
     "text": [
      "C:\\Users\\saura\\AppData\\Local\\Temp\\ipykernel_25872\\3244083779.py:1: VisibleDeprecationWarning: Creating an ndarray from ragged nested sequences (which is a list-or-tuple of lists-or-tuples-or ndarrays with different lengths or shapes) is deprecated. If you meant to do this, you must specify 'dtype=object' when creating the ndarray.\n",
      "  x=np.array([[[1,3,4],[7,9,2],[3,8]]])\n"
     ]
    },
    {
     "ename": "TypeError",
     "evalue": "can only concatenate list (not \"int\") to list",
     "output_type": "error",
     "traceback": [
      "\u001b[1;31m---------------------------------------------------------------------------\u001b[0m",
      "\u001b[1;31mTypeError\u001b[0m                                 Traceback (most recent call last)",
      "Input \u001b[1;32mIn [79]\u001b[0m, in \u001b[0;36m<cell line: 3>\u001b[1;34m()\u001b[0m\n\u001b[0;32m      1\u001b[0m x\u001b[38;5;241m=\u001b[39mnp\u001b[38;5;241m.\u001b[39marray([[[\u001b[38;5;241m1\u001b[39m,\u001b[38;5;241m3\u001b[39m,\u001b[38;5;241m4\u001b[39m],[\u001b[38;5;241m7\u001b[39m,\u001b[38;5;241m9\u001b[39m,\u001b[38;5;241m2\u001b[39m],[\u001b[38;5;241m3\u001b[39m,\u001b[38;5;241m8\u001b[39m]]])\n\u001b[0;32m      2\u001b[0m y\u001b[38;5;241m=\u001b[39mnp\u001b[38;5;241m.\u001b[39marray([\u001b[38;5;241m2\u001b[39m,\u001b[38;5;241m5\u001b[39m,\u001b[38;5;241m7\u001b[39m])\n\u001b[1;32m----> 3\u001b[0m z\u001b[38;5;241m=\u001b[39m\u001b[43mx\u001b[49m\u001b[38;5;241;43m+\u001b[39;49m\u001b[43my\u001b[49m\n\u001b[0;32m      4\u001b[0m z\n",
      "\u001b[1;31mTypeError\u001b[0m: can only concatenate list (not \"int\") to list"
     ]
    }
   ],
   "source": [
    "x=np.array([[[1,3,4],[7,9,2],[3,8]]])\n",
    "y=np.array([2,5,7])\n",
    "z=x+y\n",
    "z"
   ]
  },
  {
   "cell_type": "code",
   "execution_count": null,
   "id": "f057bb8f",
   "metadata": {},
   "outputs": [],
   "source": [
    "x =np.array([[1]])"
   ]
  }
 ],
 "metadata": {
  "kernelspec": {
   "display_name": "Python 3 (ipykernel)",
   "language": "python",
   "name": "python3"
  },
  "language_info": {
   "codemirror_mode": {
    "name": "ipython",
    "version": 3
   },
   "file_extension": ".py",
   "mimetype": "text/x-python",
   "name": "python",
   "nbconvert_exporter": "python",
   "pygments_lexer": "ipython3",
   "version": "3.9.12"
  }
 },
 "nbformat": 4,
 "nbformat_minor": 5
}
