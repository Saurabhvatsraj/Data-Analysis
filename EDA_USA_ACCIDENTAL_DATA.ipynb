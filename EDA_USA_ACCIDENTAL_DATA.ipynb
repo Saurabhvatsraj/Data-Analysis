{
 "cells": [
  {
   "cell_type": "markdown",
   "id": "9349657a",
   "metadata": {},
   "source": [
    "# Upload the dataset and Import all the libraries"
   ]
  },
  {
   "cell_type": "code",
   "execution_count": 1,
   "id": "2789b477",
   "metadata": {},
   "outputs": [],
   "source": [
    "import numpy as np\n",
    "import pandas as pd\n",
    "import matplotlib.pyplot as plt\n",
    "import seaborn as sns"
   ]
  },
  {
   "cell_type": "code",
   "execution_count": 2,
   "id": "b337cbc7",
   "metadata": {},
   "outputs": [],
   "source": [
    "df=pd.read_csv(r'C:\\Users\\saura\\Downloads\\archive (3)\\US_Accidents_Dec21_updated.csv')"
   ]
  },
  {
   "cell_type": "code",
   "execution_count": 3,
   "id": "bcef147c",
   "metadata": {
    "scrolled": true
   },
   "outputs": [
    {
     "data": {
      "text/html": [
       "<div>\n",
       "<style scoped>\n",
       "    .dataframe tbody tr th:only-of-type {\n",
       "        vertical-align: middle;\n",
       "    }\n",
       "\n",
       "    .dataframe tbody tr th {\n",
       "        vertical-align: top;\n",
       "    }\n",
       "\n",
       "    .dataframe thead th {\n",
       "        text-align: right;\n",
       "    }\n",
       "</style>\n",
       "<table border=\"1\" class=\"dataframe\">\n",
       "  <thead>\n",
       "    <tr style=\"text-align: right;\">\n",
       "      <th></th>\n",
       "      <th>ID</th>\n",
       "      <th>Severity</th>\n",
       "      <th>Start_Time</th>\n",
       "      <th>End_Time</th>\n",
       "      <th>Start_Lat</th>\n",
       "      <th>Start_Lng</th>\n",
       "      <th>End_Lat</th>\n",
       "      <th>End_Lng</th>\n",
       "      <th>Distance(mi)</th>\n",
       "      <th>Description</th>\n",
       "      <th>...</th>\n",
       "      <th>Roundabout</th>\n",
       "      <th>Station</th>\n",
       "      <th>Stop</th>\n",
       "      <th>Traffic_Calming</th>\n",
       "      <th>Traffic_Signal</th>\n",
       "      <th>Turning_Loop</th>\n",
       "      <th>Sunrise_Sunset</th>\n",
       "      <th>Civil_Twilight</th>\n",
       "      <th>Nautical_Twilight</th>\n",
       "      <th>Astronomical_Twilight</th>\n",
       "    </tr>\n",
       "  </thead>\n",
       "  <tbody>\n",
       "    <tr>\n",
       "      <th>0</th>\n",
       "      <td>A-1</td>\n",
       "      <td>3</td>\n",
       "      <td>2016-02-08 00:37:08</td>\n",
       "      <td>2016-02-08 06:37:08</td>\n",
       "      <td>40.108910</td>\n",
       "      <td>-83.092860</td>\n",
       "      <td>40.112060</td>\n",
       "      <td>-83.031870</td>\n",
       "      <td>3.230</td>\n",
       "      <td>Between Sawmill Rd/Exit 20 and OH-315/Olentang...</td>\n",
       "      <td>...</td>\n",
       "      <td>False</td>\n",
       "      <td>False</td>\n",
       "      <td>False</td>\n",
       "      <td>False</td>\n",
       "      <td>False</td>\n",
       "      <td>False</td>\n",
       "      <td>Night</td>\n",
       "      <td>Night</td>\n",
       "      <td>Night</td>\n",
       "      <td>Night</td>\n",
       "    </tr>\n",
       "    <tr>\n",
       "      <th>1</th>\n",
       "      <td>A-2</td>\n",
       "      <td>2</td>\n",
       "      <td>2016-02-08 05:56:20</td>\n",
       "      <td>2016-02-08 11:56:20</td>\n",
       "      <td>39.865420</td>\n",
       "      <td>-84.062800</td>\n",
       "      <td>39.865010</td>\n",
       "      <td>-84.048730</td>\n",
       "      <td>0.747</td>\n",
       "      <td>At OH-4/OH-235/Exit 41 - Accident.</td>\n",
       "      <td>...</td>\n",
       "      <td>False</td>\n",
       "      <td>False</td>\n",
       "      <td>False</td>\n",
       "      <td>False</td>\n",
       "      <td>False</td>\n",
       "      <td>False</td>\n",
       "      <td>Night</td>\n",
       "      <td>Night</td>\n",
       "      <td>Night</td>\n",
       "      <td>Night</td>\n",
       "    </tr>\n",
       "    <tr>\n",
       "      <th>2</th>\n",
       "      <td>A-3</td>\n",
       "      <td>2</td>\n",
       "      <td>2016-02-08 06:15:39</td>\n",
       "      <td>2016-02-08 12:15:39</td>\n",
       "      <td>39.102660</td>\n",
       "      <td>-84.524680</td>\n",
       "      <td>39.102090</td>\n",
       "      <td>-84.523960</td>\n",
       "      <td>0.055</td>\n",
       "      <td>At I-71/US-50/Exit 1 - Accident.</td>\n",
       "      <td>...</td>\n",
       "      <td>False</td>\n",
       "      <td>False</td>\n",
       "      <td>False</td>\n",
       "      <td>False</td>\n",
       "      <td>False</td>\n",
       "      <td>False</td>\n",
       "      <td>Night</td>\n",
       "      <td>Night</td>\n",
       "      <td>Night</td>\n",
       "      <td>Day</td>\n",
       "    </tr>\n",
       "    <tr>\n",
       "      <th>3</th>\n",
       "      <td>A-4</td>\n",
       "      <td>2</td>\n",
       "      <td>2016-02-08 06:51:45</td>\n",
       "      <td>2016-02-08 12:51:45</td>\n",
       "      <td>41.062130</td>\n",
       "      <td>-81.537840</td>\n",
       "      <td>41.062170</td>\n",
       "      <td>-81.535470</td>\n",
       "      <td>0.123</td>\n",
       "      <td>At Dart Ave/Exit 21 - Accident.</td>\n",
       "      <td>...</td>\n",
       "      <td>False</td>\n",
       "      <td>False</td>\n",
       "      <td>False</td>\n",
       "      <td>False</td>\n",
       "      <td>False</td>\n",
       "      <td>False</td>\n",
       "      <td>Night</td>\n",
       "      <td>Night</td>\n",
       "      <td>Day</td>\n",
       "      <td>Day</td>\n",
       "    </tr>\n",
       "    <tr>\n",
       "      <th>4</th>\n",
       "      <td>A-5</td>\n",
       "      <td>3</td>\n",
       "      <td>2016-02-08 07:53:43</td>\n",
       "      <td>2016-02-08 13:53:43</td>\n",
       "      <td>39.172393</td>\n",
       "      <td>-84.492792</td>\n",
       "      <td>39.170476</td>\n",
       "      <td>-84.501798</td>\n",
       "      <td>0.500</td>\n",
       "      <td>At Mitchell Ave/Exit 6 - Accident.</td>\n",
       "      <td>...</td>\n",
       "      <td>False</td>\n",
       "      <td>False</td>\n",
       "      <td>False</td>\n",
       "      <td>False</td>\n",
       "      <td>False</td>\n",
       "      <td>False</td>\n",
       "      <td>Day</td>\n",
       "      <td>Day</td>\n",
       "      <td>Day</td>\n",
       "      <td>Day</td>\n",
       "    </tr>\n",
       "    <tr>\n",
       "      <th>...</th>\n",
       "      <td>...</td>\n",
       "      <td>...</td>\n",
       "      <td>...</td>\n",
       "      <td>...</td>\n",
       "      <td>...</td>\n",
       "      <td>...</td>\n",
       "      <td>...</td>\n",
       "      <td>...</td>\n",
       "      <td>...</td>\n",
       "      <td>...</td>\n",
       "      <td>...</td>\n",
       "      <td>...</td>\n",
       "      <td>...</td>\n",
       "      <td>...</td>\n",
       "      <td>...</td>\n",
       "      <td>...</td>\n",
       "      <td>...</td>\n",
       "      <td>...</td>\n",
       "      <td>...</td>\n",
       "      <td>...</td>\n",
       "      <td>...</td>\n",
       "    </tr>\n",
       "    <tr>\n",
       "      <th>2845337</th>\n",
       "      <td>A-2845338</td>\n",
       "      <td>2</td>\n",
       "      <td>2019-08-23 18:03:25</td>\n",
       "      <td>2019-08-23 18:32:01</td>\n",
       "      <td>34.002480</td>\n",
       "      <td>-117.379360</td>\n",
       "      <td>33.998880</td>\n",
       "      <td>-117.370940</td>\n",
       "      <td>0.543</td>\n",
       "      <td>At Market St - Accident.</td>\n",
       "      <td>...</td>\n",
       "      <td>False</td>\n",
       "      <td>False</td>\n",
       "      <td>False</td>\n",
       "      <td>False</td>\n",
       "      <td>False</td>\n",
       "      <td>False</td>\n",
       "      <td>Day</td>\n",
       "      <td>Day</td>\n",
       "      <td>Day</td>\n",
       "      <td>Day</td>\n",
       "    </tr>\n",
       "    <tr>\n",
       "      <th>2845338</th>\n",
       "      <td>A-2845339</td>\n",
       "      <td>2</td>\n",
       "      <td>2019-08-23 19:11:30</td>\n",
       "      <td>2019-08-23 19:38:23</td>\n",
       "      <td>32.766960</td>\n",
       "      <td>-117.148060</td>\n",
       "      <td>32.765550</td>\n",
       "      <td>-117.153630</td>\n",
       "      <td>0.338</td>\n",
       "      <td>At Camino Del Rio/Mission Center Rd - Accident.</td>\n",
       "      <td>...</td>\n",
       "      <td>False</td>\n",
       "      <td>False</td>\n",
       "      <td>False</td>\n",
       "      <td>False</td>\n",
       "      <td>False</td>\n",
       "      <td>False</td>\n",
       "      <td>Day</td>\n",
       "      <td>Day</td>\n",
       "      <td>Day</td>\n",
       "      <td>Day</td>\n",
       "    </tr>\n",
       "    <tr>\n",
       "      <th>2845339</th>\n",
       "      <td>A-2845340</td>\n",
       "      <td>2</td>\n",
       "      <td>2019-08-23 19:00:21</td>\n",
       "      <td>2019-08-23 19:28:49</td>\n",
       "      <td>33.775450</td>\n",
       "      <td>-117.847790</td>\n",
       "      <td>33.777400</td>\n",
       "      <td>-117.857270</td>\n",
       "      <td>0.561</td>\n",
       "      <td>At Glassell St/Grand Ave - Accident. in the ri...</td>\n",
       "      <td>...</td>\n",
       "      <td>False</td>\n",
       "      <td>False</td>\n",
       "      <td>False</td>\n",
       "      <td>False</td>\n",
       "      <td>False</td>\n",
       "      <td>False</td>\n",
       "      <td>Day</td>\n",
       "      <td>Day</td>\n",
       "      <td>Day</td>\n",
       "      <td>Day</td>\n",
       "    </tr>\n",
       "    <tr>\n",
       "      <th>2845340</th>\n",
       "      <td>A-2845341</td>\n",
       "      <td>2</td>\n",
       "      <td>2019-08-23 19:00:21</td>\n",
       "      <td>2019-08-23 19:29:42</td>\n",
       "      <td>33.992460</td>\n",
       "      <td>-118.403020</td>\n",
       "      <td>33.983110</td>\n",
       "      <td>-118.395650</td>\n",
       "      <td>0.772</td>\n",
       "      <td>At CA-90/Marina Fwy/Jefferson Blvd - Accident.</td>\n",
       "      <td>...</td>\n",
       "      <td>False</td>\n",
       "      <td>False</td>\n",
       "      <td>False</td>\n",
       "      <td>False</td>\n",
       "      <td>False</td>\n",
       "      <td>False</td>\n",
       "      <td>Day</td>\n",
       "      <td>Day</td>\n",
       "      <td>Day</td>\n",
       "      <td>Day</td>\n",
       "    </tr>\n",
       "    <tr>\n",
       "      <th>2845341</th>\n",
       "      <td>A-2845342</td>\n",
       "      <td>2</td>\n",
       "      <td>2019-08-23 18:52:06</td>\n",
       "      <td>2019-08-23 19:21:31</td>\n",
       "      <td>34.133930</td>\n",
       "      <td>-117.230920</td>\n",
       "      <td>34.137360</td>\n",
       "      <td>-117.239340</td>\n",
       "      <td>0.537</td>\n",
       "      <td>At Highland Ave/Arden Ave - Accident.</td>\n",
       "      <td>...</td>\n",
       "      <td>False</td>\n",
       "      <td>False</td>\n",
       "      <td>False</td>\n",
       "      <td>False</td>\n",
       "      <td>False</td>\n",
       "      <td>False</td>\n",
       "      <td>Day</td>\n",
       "      <td>Day</td>\n",
       "      <td>Day</td>\n",
       "      <td>Day</td>\n",
       "    </tr>\n",
       "  </tbody>\n",
       "</table>\n",
       "<p>2845342 rows × 47 columns</p>\n",
       "</div>"
      ],
      "text/plain": [
       "                ID  Severity           Start_Time             End_Time  \\\n",
       "0              A-1         3  2016-02-08 00:37:08  2016-02-08 06:37:08   \n",
       "1              A-2         2  2016-02-08 05:56:20  2016-02-08 11:56:20   \n",
       "2              A-3         2  2016-02-08 06:15:39  2016-02-08 12:15:39   \n",
       "3              A-4         2  2016-02-08 06:51:45  2016-02-08 12:51:45   \n",
       "4              A-5         3  2016-02-08 07:53:43  2016-02-08 13:53:43   \n",
       "...            ...       ...                  ...                  ...   \n",
       "2845337  A-2845338         2  2019-08-23 18:03:25  2019-08-23 18:32:01   \n",
       "2845338  A-2845339         2  2019-08-23 19:11:30  2019-08-23 19:38:23   \n",
       "2845339  A-2845340         2  2019-08-23 19:00:21  2019-08-23 19:28:49   \n",
       "2845340  A-2845341         2  2019-08-23 19:00:21  2019-08-23 19:29:42   \n",
       "2845341  A-2845342         2  2019-08-23 18:52:06  2019-08-23 19:21:31   \n",
       "\n",
       "         Start_Lat   Start_Lng    End_Lat     End_Lng  Distance(mi)  \\\n",
       "0        40.108910  -83.092860  40.112060  -83.031870         3.230   \n",
       "1        39.865420  -84.062800  39.865010  -84.048730         0.747   \n",
       "2        39.102660  -84.524680  39.102090  -84.523960         0.055   \n",
       "3        41.062130  -81.537840  41.062170  -81.535470         0.123   \n",
       "4        39.172393  -84.492792  39.170476  -84.501798         0.500   \n",
       "...            ...         ...        ...         ...           ...   \n",
       "2845337  34.002480 -117.379360  33.998880 -117.370940         0.543   \n",
       "2845338  32.766960 -117.148060  32.765550 -117.153630         0.338   \n",
       "2845339  33.775450 -117.847790  33.777400 -117.857270         0.561   \n",
       "2845340  33.992460 -118.403020  33.983110 -118.395650         0.772   \n",
       "2845341  34.133930 -117.230920  34.137360 -117.239340         0.537   \n",
       "\n",
       "                                               Description  ...  Roundabout  \\\n",
       "0        Between Sawmill Rd/Exit 20 and OH-315/Olentang...  ...       False   \n",
       "1                       At OH-4/OH-235/Exit 41 - Accident.  ...       False   \n",
       "2                         At I-71/US-50/Exit 1 - Accident.  ...       False   \n",
       "3                          At Dart Ave/Exit 21 - Accident.  ...       False   \n",
       "4                       At Mitchell Ave/Exit 6 - Accident.  ...       False   \n",
       "...                                                    ...  ...         ...   \n",
       "2845337                           At Market St - Accident.  ...       False   \n",
       "2845338    At Camino Del Rio/Mission Center Rd - Accident.  ...       False   \n",
       "2845339  At Glassell St/Grand Ave - Accident. in the ri...  ...       False   \n",
       "2845340     At CA-90/Marina Fwy/Jefferson Blvd - Accident.  ...       False   \n",
       "2845341              At Highland Ave/Arden Ave - Accident.  ...       False   \n",
       "\n",
       "        Station   Stop Traffic_Calming Traffic_Signal Turning_Loop  \\\n",
       "0         False  False           False          False        False   \n",
       "1         False  False           False          False        False   \n",
       "2         False  False           False          False        False   \n",
       "3         False  False           False          False        False   \n",
       "4         False  False           False          False        False   \n",
       "...         ...    ...             ...            ...          ...   \n",
       "2845337   False  False           False          False        False   \n",
       "2845338   False  False           False          False        False   \n",
       "2845339   False  False           False          False        False   \n",
       "2845340   False  False           False          False        False   \n",
       "2845341   False  False           False          False        False   \n",
       "\n",
       "        Sunrise_Sunset Civil_Twilight Nautical_Twilight Astronomical_Twilight  \n",
       "0                Night          Night             Night                 Night  \n",
       "1                Night          Night             Night                 Night  \n",
       "2                Night          Night             Night                   Day  \n",
       "3                Night          Night               Day                   Day  \n",
       "4                  Day            Day               Day                   Day  \n",
       "...                ...            ...               ...                   ...  \n",
       "2845337            Day            Day               Day                   Day  \n",
       "2845338            Day            Day               Day                   Day  \n",
       "2845339            Day            Day               Day                   Day  \n",
       "2845340            Day            Day               Day                   Day  \n",
       "2845341            Day            Day               Day                   Day  \n",
       "\n",
       "[2845342 rows x 47 columns]"
      ]
     },
     "execution_count": 3,
     "metadata": {},
     "output_type": "execute_result"
    }
   ],
   "source": [
    "df"
   ]
  },
  {
   "cell_type": "markdown",
   "id": "d71df096",
   "metadata": {},
   "source": [
    "# Data Preprocessing and cleaning"
   ]
  },
  {
   "cell_type": "code",
   "execution_count": 4,
   "id": "72fdf831",
   "metadata": {},
   "outputs": [
    {
     "data": {
      "text/plain": [
       "(2845342, 47)"
      ]
     },
     "execution_count": 4,
     "metadata": {},
     "output_type": "execute_result"
    }
   ],
   "source": [
    "df.shape"
   ]
  },
  {
   "cell_type": "code",
   "execution_count": 5,
   "id": "6d42791a",
   "metadata": {},
   "outputs": [
    {
     "data": {
      "text/plain": [
       "Index(['ID', 'Severity', 'Start_Time', 'End_Time', 'Start_Lat', 'Start_Lng',\n",
       "       'End_Lat', 'End_Lng', 'Distance(mi)', 'Description', 'Number', 'Street',\n",
       "       'Side', 'City', 'County', 'State', 'Zipcode', 'Country', 'Timezone',\n",
       "       'Airport_Code', 'Weather_Timestamp', 'Temperature(F)', 'Wind_Chill(F)',\n",
       "       'Humidity(%)', 'Pressure(in)', 'Visibility(mi)', 'Wind_Direction',\n",
       "       'Wind_Speed(mph)', 'Precipitation(in)', 'Weather_Condition', 'Amenity',\n",
       "       'Bump', 'Crossing', 'Give_Way', 'Junction', 'No_Exit', 'Railway',\n",
       "       'Roundabout', 'Station', 'Stop', 'Traffic_Calming', 'Traffic_Signal',\n",
       "       'Turning_Loop', 'Sunrise_Sunset', 'Civil_Twilight', 'Nautical_Twilight',\n",
       "       'Astronomical_Twilight'],\n",
       "      dtype='object')"
      ]
     },
     "execution_count": 5,
     "metadata": {},
     "output_type": "execute_result"
    }
   ],
   "source": [
    "df.columns"
   ]
  },
  {
   "cell_type": "code",
   "execution_count": 6,
   "id": "189b0d89",
   "metadata": {},
   "outputs": [
    {
     "name": "stdout",
     "output_type": "stream",
     "text": [
      "<class 'pandas.core.frame.DataFrame'>\n",
      "RangeIndex: 2845342 entries, 0 to 2845341\n",
      "Data columns (total 47 columns):\n",
      " #   Column                 Dtype  \n",
      "---  ------                 -----  \n",
      " 0   ID                     object \n",
      " 1   Severity               int64  \n",
      " 2   Start_Time             object \n",
      " 3   End_Time               object \n",
      " 4   Start_Lat              float64\n",
      " 5   Start_Lng              float64\n",
      " 6   End_Lat                float64\n",
      " 7   End_Lng                float64\n",
      " 8   Distance(mi)           float64\n",
      " 9   Description            object \n",
      " 10  Number                 float64\n",
      " 11  Street                 object \n",
      " 12  Side                   object \n",
      " 13  City                   object \n",
      " 14  County                 object \n",
      " 15  State                  object \n",
      " 16  Zipcode                object \n",
      " 17  Country                object \n",
      " 18  Timezone               object \n",
      " 19  Airport_Code           object \n",
      " 20  Weather_Timestamp      object \n",
      " 21  Temperature(F)         float64\n",
      " 22  Wind_Chill(F)          float64\n",
      " 23  Humidity(%)            float64\n",
      " 24  Pressure(in)           float64\n",
      " 25  Visibility(mi)         float64\n",
      " 26  Wind_Direction         object \n",
      " 27  Wind_Speed(mph)        float64\n",
      " 28  Precipitation(in)      float64\n",
      " 29  Weather_Condition      object \n",
      " 30  Amenity                bool   \n",
      " 31  Bump                   bool   \n",
      " 32  Crossing               bool   \n",
      " 33  Give_Way               bool   \n",
      " 34  Junction               bool   \n",
      " 35  No_Exit                bool   \n",
      " 36  Railway                bool   \n",
      " 37  Roundabout             bool   \n",
      " 38  Station                bool   \n",
      " 39  Stop                   bool   \n",
      " 40  Traffic_Calming        bool   \n",
      " 41  Traffic_Signal         bool   \n",
      " 42  Turning_Loop           bool   \n",
      " 43  Sunrise_Sunset         object \n",
      " 44  Civil_Twilight         object \n",
      " 45  Nautical_Twilight      object \n",
      " 46  Astronomical_Twilight  object \n",
      "dtypes: bool(13), float64(13), int64(1), object(20)\n",
      "memory usage: 773.4+ MB\n"
     ]
    }
   ],
   "source": [
    "df.info()"
   ]
  },
  {
   "cell_type": "code",
   "execution_count": 7,
   "id": "1dae0200",
   "metadata": {},
   "outputs": [
    {
     "data": {
      "text/html": [
       "<div>\n",
       "<style scoped>\n",
       "    .dataframe tbody tr th:only-of-type {\n",
       "        vertical-align: middle;\n",
       "    }\n",
       "\n",
       "    .dataframe tbody tr th {\n",
       "        vertical-align: top;\n",
       "    }\n",
       "\n",
       "    .dataframe thead th {\n",
       "        text-align: right;\n",
       "    }\n",
       "</style>\n",
       "<table border=\"1\" class=\"dataframe\">\n",
       "  <thead>\n",
       "    <tr style=\"text-align: right;\">\n",
       "      <th></th>\n",
       "      <th>Severity</th>\n",
       "      <th>Start_Lat</th>\n",
       "      <th>Start_Lng</th>\n",
       "      <th>End_Lat</th>\n",
       "      <th>End_Lng</th>\n",
       "      <th>Distance(mi)</th>\n",
       "      <th>Number</th>\n",
       "      <th>Temperature(F)</th>\n",
       "      <th>Wind_Chill(F)</th>\n",
       "      <th>Humidity(%)</th>\n",
       "      <th>Pressure(in)</th>\n",
       "      <th>Visibility(mi)</th>\n",
       "      <th>Wind_Speed(mph)</th>\n",
       "      <th>Precipitation(in)</th>\n",
       "    </tr>\n",
       "  </thead>\n",
       "  <tbody>\n",
       "    <tr>\n",
       "      <th>count</th>\n",
       "      <td>2.845342e+06</td>\n",
       "      <td>2.845342e+06</td>\n",
       "      <td>2.845342e+06</td>\n",
       "      <td>2.845342e+06</td>\n",
       "      <td>2.845342e+06</td>\n",
       "      <td>2.845342e+06</td>\n",
       "      <td>1.101431e+06</td>\n",
       "      <td>2.776068e+06</td>\n",
       "      <td>2.375699e+06</td>\n",
       "      <td>2.772250e+06</td>\n",
       "      <td>2.786142e+06</td>\n",
       "      <td>2.774796e+06</td>\n",
       "      <td>2.687398e+06</td>\n",
       "      <td>2.295884e+06</td>\n",
       "    </tr>\n",
       "    <tr>\n",
       "      <th>mean</th>\n",
       "      <td>2.137572e+00</td>\n",
       "      <td>3.624520e+01</td>\n",
       "      <td>-9.711463e+01</td>\n",
       "      <td>3.624532e+01</td>\n",
       "      <td>-9.711439e+01</td>\n",
       "      <td>7.026779e-01</td>\n",
       "      <td>8.089408e+03</td>\n",
       "      <td>6.179356e+01</td>\n",
       "      <td>5.965823e+01</td>\n",
       "      <td>6.436545e+01</td>\n",
       "      <td>2.947234e+01</td>\n",
       "      <td>9.099391e+00</td>\n",
       "      <td>7.395044e+00</td>\n",
       "      <td>7.016940e-03</td>\n",
       "    </tr>\n",
       "    <tr>\n",
       "      <th>std</th>\n",
       "      <td>4.787216e-01</td>\n",
       "      <td>5.363797e+00</td>\n",
       "      <td>1.831782e+01</td>\n",
       "      <td>5.363873e+00</td>\n",
       "      <td>1.831763e+01</td>\n",
       "      <td>1.560361e+00</td>\n",
       "      <td>1.836009e+04</td>\n",
       "      <td>1.862263e+01</td>\n",
       "      <td>2.116097e+01</td>\n",
       "      <td>2.287457e+01</td>\n",
       "      <td>1.045286e+00</td>\n",
       "      <td>2.717546e+00</td>\n",
       "      <td>5.527454e+00</td>\n",
       "      <td>9.348831e-02</td>\n",
       "    </tr>\n",
       "    <tr>\n",
       "      <th>min</th>\n",
       "      <td>1.000000e+00</td>\n",
       "      <td>2.456603e+01</td>\n",
       "      <td>-1.245481e+02</td>\n",
       "      <td>2.456601e+01</td>\n",
       "      <td>-1.245457e+02</td>\n",
       "      <td>0.000000e+00</td>\n",
       "      <td>0.000000e+00</td>\n",
       "      <td>-8.900000e+01</td>\n",
       "      <td>-8.900000e+01</td>\n",
       "      <td>1.000000e+00</td>\n",
       "      <td>0.000000e+00</td>\n",
       "      <td>0.000000e+00</td>\n",
       "      <td>0.000000e+00</td>\n",
       "      <td>0.000000e+00</td>\n",
       "    </tr>\n",
       "    <tr>\n",
       "      <th>25%</th>\n",
       "      <td>2.000000e+00</td>\n",
       "      <td>3.344517e+01</td>\n",
       "      <td>-1.180331e+02</td>\n",
       "      <td>3.344628e+01</td>\n",
       "      <td>-1.180333e+02</td>\n",
       "      <td>5.200000e-02</td>\n",
       "      <td>1.270000e+03</td>\n",
       "      <td>5.000000e+01</td>\n",
       "      <td>4.600000e+01</td>\n",
       "      <td>4.800000e+01</td>\n",
       "      <td>2.931000e+01</td>\n",
       "      <td>1.000000e+01</td>\n",
       "      <td>3.500000e+00</td>\n",
       "      <td>0.000000e+00</td>\n",
       "    </tr>\n",
       "    <tr>\n",
       "      <th>50%</th>\n",
       "      <td>2.000000e+00</td>\n",
       "      <td>3.609861e+01</td>\n",
       "      <td>-9.241808e+01</td>\n",
       "      <td>3.609799e+01</td>\n",
       "      <td>-9.241772e+01</td>\n",
       "      <td>2.440000e-01</td>\n",
       "      <td>4.007000e+03</td>\n",
       "      <td>6.400000e+01</td>\n",
       "      <td>6.300000e+01</td>\n",
       "      <td>6.700000e+01</td>\n",
       "      <td>2.982000e+01</td>\n",
       "      <td>1.000000e+01</td>\n",
       "      <td>7.000000e+00</td>\n",
       "      <td>0.000000e+00</td>\n",
       "    </tr>\n",
       "    <tr>\n",
       "      <th>75%</th>\n",
       "      <td>2.000000e+00</td>\n",
       "      <td>4.016024e+01</td>\n",
       "      <td>-8.037243e+01</td>\n",
       "      <td>4.016105e+01</td>\n",
       "      <td>-8.037338e+01</td>\n",
       "      <td>7.640000e-01</td>\n",
       "      <td>9.567000e+03</td>\n",
       "      <td>7.600000e+01</td>\n",
       "      <td>7.600000e+01</td>\n",
       "      <td>8.300000e+01</td>\n",
       "      <td>3.001000e+01</td>\n",
       "      <td>1.000000e+01</td>\n",
       "      <td>1.000000e+01</td>\n",
       "      <td>0.000000e+00</td>\n",
       "    </tr>\n",
       "    <tr>\n",
       "      <th>max</th>\n",
       "      <td>4.000000e+00</td>\n",
       "      <td>4.900058e+01</td>\n",
       "      <td>-6.711317e+01</td>\n",
       "      <td>4.907500e+01</td>\n",
       "      <td>-6.710924e+01</td>\n",
       "      <td>1.551860e+02</td>\n",
       "      <td>9.999997e+06</td>\n",
       "      <td>1.960000e+02</td>\n",
       "      <td>1.960000e+02</td>\n",
       "      <td>1.000000e+02</td>\n",
       "      <td>5.890000e+01</td>\n",
       "      <td>1.400000e+02</td>\n",
       "      <td>1.087000e+03</td>\n",
       "      <td>2.400000e+01</td>\n",
       "    </tr>\n",
       "  </tbody>\n",
       "</table>\n",
       "</div>"
      ],
      "text/plain": [
       "           Severity     Start_Lat     Start_Lng       End_Lat       End_Lng  \\\n",
       "count  2.845342e+06  2.845342e+06  2.845342e+06  2.845342e+06  2.845342e+06   \n",
       "mean   2.137572e+00  3.624520e+01 -9.711463e+01  3.624532e+01 -9.711439e+01   \n",
       "std    4.787216e-01  5.363797e+00  1.831782e+01  5.363873e+00  1.831763e+01   \n",
       "min    1.000000e+00  2.456603e+01 -1.245481e+02  2.456601e+01 -1.245457e+02   \n",
       "25%    2.000000e+00  3.344517e+01 -1.180331e+02  3.344628e+01 -1.180333e+02   \n",
       "50%    2.000000e+00  3.609861e+01 -9.241808e+01  3.609799e+01 -9.241772e+01   \n",
       "75%    2.000000e+00  4.016024e+01 -8.037243e+01  4.016105e+01 -8.037338e+01   \n",
       "max    4.000000e+00  4.900058e+01 -6.711317e+01  4.907500e+01 -6.710924e+01   \n",
       "\n",
       "       Distance(mi)        Number  Temperature(F)  Wind_Chill(F)  \\\n",
       "count  2.845342e+06  1.101431e+06    2.776068e+06   2.375699e+06   \n",
       "mean   7.026779e-01  8.089408e+03    6.179356e+01   5.965823e+01   \n",
       "std    1.560361e+00  1.836009e+04    1.862263e+01   2.116097e+01   \n",
       "min    0.000000e+00  0.000000e+00   -8.900000e+01  -8.900000e+01   \n",
       "25%    5.200000e-02  1.270000e+03    5.000000e+01   4.600000e+01   \n",
       "50%    2.440000e-01  4.007000e+03    6.400000e+01   6.300000e+01   \n",
       "75%    7.640000e-01  9.567000e+03    7.600000e+01   7.600000e+01   \n",
       "max    1.551860e+02  9.999997e+06    1.960000e+02   1.960000e+02   \n",
       "\n",
       "        Humidity(%)  Pressure(in)  Visibility(mi)  Wind_Speed(mph)  \\\n",
       "count  2.772250e+06  2.786142e+06    2.774796e+06     2.687398e+06   \n",
       "mean   6.436545e+01  2.947234e+01    9.099391e+00     7.395044e+00   \n",
       "std    2.287457e+01  1.045286e+00    2.717546e+00     5.527454e+00   \n",
       "min    1.000000e+00  0.000000e+00    0.000000e+00     0.000000e+00   \n",
       "25%    4.800000e+01  2.931000e+01    1.000000e+01     3.500000e+00   \n",
       "50%    6.700000e+01  2.982000e+01    1.000000e+01     7.000000e+00   \n",
       "75%    8.300000e+01  3.001000e+01    1.000000e+01     1.000000e+01   \n",
       "max    1.000000e+02  5.890000e+01    1.400000e+02     1.087000e+03   \n",
       "\n",
       "       Precipitation(in)  \n",
       "count       2.295884e+06  \n",
       "mean        7.016940e-03  \n",
       "std         9.348831e-02  \n",
       "min         0.000000e+00  \n",
       "25%         0.000000e+00  \n",
       "50%         0.000000e+00  \n",
       "75%         0.000000e+00  \n",
       "max         2.400000e+01  "
      ]
     },
     "execution_count": 7,
     "metadata": {},
     "output_type": "execute_result"
    }
   ],
   "source": [
    "df.describe()"
   ]
  },
  {
   "cell_type": "markdown",
   "id": "287c7c25",
   "metadata": {},
   "source": [
    "# Percentage of missing values per columns"
   ]
  },
  {
   "cell_type": "code",
   "execution_count": 8,
   "id": "0d0be732",
   "metadata": {},
   "outputs": [
    {
     "data": {
      "text/plain": [
       "2845342"
      ]
     },
     "execution_count": 8,
     "metadata": {},
     "output_type": "execute_result"
    }
   ],
   "source": [
    "len(df)"
   ]
  },
  {
   "cell_type": "code",
   "execution_count": 9,
   "id": "9918eae8",
   "metadata": {},
   "outputs": [
    {
     "data": {
      "text/plain": [
       "ID                             0\n",
       "Severity                       0\n",
       "Start_Time                     0\n",
       "End_Time                       0\n",
       "Start_Lat                      0\n",
       "Start_Lng                      0\n",
       "End_Lat                        0\n",
       "End_Lng                        0\n",
       "Distance(mi)                   0\n",
       "Description                    0\n",
       "Number                   1743911\n",
       "Street                         2\n",
       "Side                           0\n",
       "City                         137\n",
       "County                         0\n",
       "State                          0\n",
       "Zipcode                     1319\n",
       "Country                        0\n",
       "Timezone                    3659\n",
       "Airport_Code                9549\n",
       "Weather_Timestamp          50736\n",
       "Temperature(F)             69274\n",
       "Wind_Chill(F)             469643\n",
       "Humidity(%)                73092\n",
       "Pressure(in)               59200\n",
       "Visibility(mi)             70546\n",
       "Wind_Direction             73775\n",
       "Wind_Speed(mph)           157944\n",
       "Precipitation(in)         549458\n",
       "Weather_Condition          70636\n",
       "Amenity                        0\n",
       "Bump                           0\n",
       "Crossing                       0\n",
       "Give_Way                       0\n",
       "Junction                       0\n",
       "No_Exit                        0\n",
       "Railway                        0\n",
       "Roundabout                     0\n",
       "Station                        0\n",
       "Stop                           0\n",
       "Traffic_Calming                0\n",
       "Traffic_Signal                 0\n",
       "Turning_Loop                   0\n",
       "Sunrise_Sunset              2867\n",
       "Civil_Twilight              2867\n",
       "Nautical_Twilight           2867\n",
       "Astronomical_Twilight       2867\n",
       "dtype: int64"
      ]
     },
     "execution_count": 9,
     "metadata": {},
     "output_type": "execute_result"
    }
   ],
   "source": [
    "df.isnull().sum()"
   ]
  },
  {
   "cell_type": "code",
   "execution_count": 10,
   "id": "85c58223",
   "metadata": {},
   "outputs": [],
   "source": [
    "# percentage missing value--------\n",
    "missing_value_per =  df.isnull().sum()/len(df)*100"
   ]
  },
  {
   "cell_type": "code",
   "execution_count": 11,
   "id": "1f8c8ca8",
   "metadata": {},
   "outputs": [
    {
     "data": {
      "text/plain": [
       "ID                        0.000000\n",
       "Severity                  0.000000\n",
       "Start_Time                0.000000\n",
       "End_Time                  0.000000\n",
       "Start_Lat                 0.000000\n",
       "Start_Lng                 0.000000\n",
       "End_Lat                   0.000000\n",
       "End_Lng                   0.000000\n",
       "Distance(mi)              0.000000\n",
       "Description               0.000000\n",
       "Number                   61.290031\n",
       "Street                    0.000070\n",
       "Side                      0.000000\n",
       "City                      0.004815\n",
       "County                    0.000000\n",
       "State                     0.000000\n",
       "Zipcode                   0.046356\n",
       "Country                   0.000000\n",
       "Timezone                  0.128596\n",
       "Airport_Code              0.335601\n",
       "Weather_Timestamp         1.783125\n",
       "Temperature(F)            2.434646\n",
       "Wind_Chill(F)            16.505678\n",
       "Humidity(%)               2.568830\n",
       "Pressure(in)              2.080593\n",
       "Visibility(mi)            2.479350\n",
       "Wind_Direction            2.592834\n",
       "Wind_Speed(mph)           5.550967\n",
       "Precipitation(in)        19.310789\n",
       "Weather_Condition         2.482514\n",
       "Amenity                   0.000000\n",
       "Bump                      0.000000\n",
       "Crossing                  0.000000\n",
       "Give_Way                  0.000000\n",
       "Junction                  0.000000\n",
       "No_Exit                   0.000000\n",
       "Railway                   0.000000\n",
       "Roundabout                0.000000\n",
       "Station                   0.000000\n",
       "Stop                      0.000000\n",
       "Traffic_Calming           0.000000\n",
       "Traffic_Signal            0.000000\n",
       "Turning_Loop              0.000000\n",
       "Sunrise_Sunset            0.100761\n",
       "Civil_Twilight            0.100761\n",
       "Nautical_Twilight         0.100761\n",
       "Astronomical_Twilight     0.100761\n",
       "dtype: float64"
      ]
     },
     "execution_count": 11,
     "metadata": {},
     "output_type": "execute_result"
    }
   ],
   "source": [
    "missing_value_per"
   ]
  },
  {
   "cell_type": "code",
   "execution_count": 12,
   "id": "a5491c80",
   "metadata": {},
   "outputs": [],
   "source": [
    "# null percentage value  represent by graph"
   ]
  },
  {
   "cell_type": "code",
   "execution_count": 124,
   "id": "4956553d",
   "metadata": {},
   "outputs": [
    {
     "data": {
      "text/plain": [
       "Text(0, 0.5, 'Columns Name')"
      ]
     },
     "execution_count": 124,
     "metadata": {},
     "output_type": "execute_result"
    },
    {
     "data": {
      "image/png": "[encoded data removed]",
      "text/plain": [
       "<Figure size 864x720 with 1 Axes>"
      ]
     },
     "metadata": {
      "needs_background": "light"
     },
     "output_type": "display_data"
    }
   ],
   "source": [
    "plt.title(\"Percentage of Null Values:\" , fontsize=40)\n",
    "missing_value_per[missing_value_per!= 0].plot(figsize=(12,10),kind='barh')\n",
    "plt.xlabel(\"Percentage\",fontsize=30)\n",
    "plt.ylabel(\"Columns Name\",fontsize=30)\n",
    "\n"
   ]
  },
  {
   "cell_type": "markdown",
   "id": "9867d4be",
   "metadata": {},
   "source": [
    "# Fill all Null Value"
   ]
  },
  {
   "cell_type": "code",
   "execution_count": 14,
   "id": "b92a91be",
   "metadata": {},
   "outputs": [
    {
     "data": {
      "text/plain": [
       "dtype('float64')"
      ]
     },
     "execution_count": 14,
     "metadata": {},
     "output_type": "execute_result"
    }
   ],
   "source": [
    "df['Number'].dtype"
   ]
  },
  {
   "cell_type": "code",
   "execution_count": 15,
   "id": "74681c81",
   "metadata": {},
   "outputs": [
    {
     "data": {
      "text/plain": [
       "4007.0"
      ]
     },
     "execution_count": 15,
     "metadata": {},
     "output_type": "execute_result"
    }
   ],
   "source": [
    "df.Number.median()"
   ]
  },
  {
   "cell_type": "code",
   "execution_count": 16,
   "id": "c6af074a",
   "metadata": {},
   "outputs": [],
   "source": [
    "fillnullvalue_Number=df['Number'].fillna(df.Number.median(),inplace=True)"
   ]
  },
  {
   "cell_type": "code",
   "execution_count": 17,
   "id": "59ac1276",
   "metadata": {},
   "outputs": [
    {
     "data": {
      "text/plain": [
       "0"
      ]
     },
     "execution_count": 17,
     "metadata": {},
     "output_type": "execute_result"
    }
   ],
   "source": [
    "fillnullvalue_Number=df['Number'].isnull().sum()\n",
    "fillnullvalue_Number"
   ]
  },
  {
   "cell_type": "code",
   "execution_count": 18,
   "id": "7a59b7a2",
   "metadata": {},
   "outputs": [],
   "source": [
    "mode_WT=df['Weather_Timestamp'].mode()"
   ]
  },
  {
   "cell_type": "code",
   "execution_count": 19,
   "id": "6197e123",
   "metadata": {},
   "outputs": [],
   "source": [
    "fillnullvalue_Weather_Timestamp=df['Weather_Timestamp'].fillna(mode_WT[0],inplace=True)"
   ]
  },
  {
   "cell_type": "code",
   "execution_count": 20,
   "id": "70835cca",
   "metadata": {},
   "outputs": [
    {
     "data": {
      "text/plain": [
       "0"
      ]
     },
     "execution_count": 20,
     "metadata": {},
     "output_type": "execute_result"
    }
   ],
   "source": [
    "fillnullvalue_Weather_Timestamp=df['Weather_Timestamp'].isnull().sum()\n",
    "fillnullvalue_Weather_Timestamp"
   ]
  },
  {
   "cell_type": "code",
   "execution_count": 21,
   "id": "583fa8c0",
   "metadata": {},
   "outputs": [
    {
     "data": {
      "text/plain": [
       "64.0"
      ]
     },
     "execution_count": 21,
     "metadata": {},
     "output_type": "execute_result"
    }
   ],
   "source": [
    "df['Temperature(F)'].median()"
   ]
  },
  {
   "cell_type": "code",
   "execution_count": 22,
   "id": "4809c929",
   "metadata": {},
   "outputs": [],
   "source": [
    "fillnullvalue_Temperature=df['Temperature(F)'].fillna(df['Temperature(F)'].median(),inplace=True)"
   ]
  },
  {
   "cell_type": "code",
   "execution_count": 23,
   "id": "144fbe32",
   "metadata": {},
   "outputs": [
    {
     "data": {
      "text/plain": [
       "0"
      ]
     },
     "execution_count": 23,
     "metadata": {},
     "output_type": "execute_result"
    }
   ],
   "source": [
    "fillnullvalue_Temperature=df['Temperature(F)'].isnull().sum()\n",
    "fillnullvalue_Temperature"
   ]
  },
  {
   "cell_type": "code",
   "execution_count": 24,
   "id": "3048f807",
   "metadata": {},
   "outputs": [
    {
     "data": {
      "text/plain": [
       "63.0"
      ]
     },
     "execution_count": 24,
     "metadata": {},
     "output_type": "execute_result"
    }
   ],
   "source": [
    "df['Wind_Chill(F)'].median()"
   ]
  },
  {
   "cell_type": "code",
   "execution_count": 25,
   "id": "1221f0d8",
   "metadata": {},
   "outputs": [],
   "source": [
    "fillnullvalue_Windchill=df['Wind_Chill(F)'].fillna(df['Wind_Chill(F)'].median(),inplace=True)"
   ]
  },
  {
   "cell_type": "code",
   "execution_count": 26,
   "id": "10fb6d08",
   "metadata": {},
   "outputs": [],
   "source": [
    "fillnullvalue_Windchil=df['Wind_Chill(F)'].isnull().sum()"
   ]
  },
  {
   "cell_type": "code",
   "execution_count": 27,
   "id": "6378fa3c",
   "metadata": {},
   "outputs": [
    {
     "data": {
      "text/plain": [
       "0"
      ]
     },
     "execution_count": 27,
     "metadata": {},
     "output_type": "execute_result"
    }
   ],
   "source": [
    "fillnullvalue_Windchil"
   ]
  },
  {
   "cell_type": "code",
   "execution_count": 28,
   "id": "72875f98",
   "metadata": {},
   "outputs": [],
   "source": [
    "fillnullvalue_Humidity=df['Humidity(%)'].fillna(method='ffill',inplace=True)"
   ]
  },
  {
   "cell_type": "code",
   "execution_count": 29,
   "id": "645761cd",
   "metadata": {},
   "outputs": [],
   "source": [
    "fillnullvalue_Humidity=df['Humidity(%)'].isnull().sum()"
   ]
  },
  {
   "cell_type": "code",
   "execution_count": 30,
   "id": "4b1d6928",
   "metadata": {},
   "outputs": [
    {
     "data": {
      "text/plain": [
       "0"
      ]
     },
     "execution_count": 30,
     "metadata": {},
     "output_type": "execute_result"
    }
   ],
   "source": [
    "fillnullvalue_Humidity"
   ]
  },
  {
   "cell_type": "code",
   "execution_count": 31,
   "id": "e606a696",
   "metadata": {},
   "outputs": [],
   "source": [
    "fillnullvalue_Pressure=df['Pressure(in)'].fillna(method='ffill',inplace=True)"
   ]
  },
  {
   "cell_type": "code",
   "execution_count": 32,
   "id": "f2c8c455",
   "metadata": {},
   "outputs": [
    {
     "data": {
      "text/plain": [
       "0"
      ]
     },
     "execution_count": 32,
     "metadata": {},
     "output_type": "execute_result"
    }
   ],
   "source": [
    "fillnullvalue_Pressure=df['Pressure(in)'].isnull().sum()\n",
    "fillnullvalue_Pressure"
   ]
  },
  {
   "cell_type": "code",
   "execution_count": 33,
   "id": "c5590152",
   "metadata": {},
   "outputs": [],
   "source": [
    "fillnullvalue_Visibility=df['Visibility(mi)'].fillna(method='ffill',inplace=True)"
   ]
  },
  {
   "cell_type": "code",
   "execution_count": 34,
   "id": "9fcb1878",
   "metadata": {},
   "outputs": [
    {
     "data": {
      "text/plain": [
       "0"
      ]
     },
     "execution_count": 34,
     "metadata": {},
     "output_type": "execute_result"
    }
   ],
   "source": [
    "fillnullvalue_Visibility=df['Visibility(mi)'].isnull().sum()\n",
    "fillnullvalue_Visibility"
   ]
  },
  {
   "cell_type": "code",
   "execution_count": 35,
   "id": "e1e0b940",
   "metadata": {},
   "outputs": [],
   "source": [
    "fillnullvalue_Wind_Direction=df['Wind_Direction'].fillna(method='ffill',inplace=True)"
   ]
  },
  {
   "cell_type": "code",
   "execution_count": 36,
   "id": "b0b166fe",
   "metadata": {},
   "outputs": [
    {
     "data": {
      "text/plain": [
       "0"
      ]
     },
     "execution_count": 36,
     "metadata": {},
     "output_type": "execute_result"
    }
   ],
   "source": [
    "fillnullvalue_Wind_Direction=df['Wind_Direction'].isnull().sum()\n",
    "fillnullvalue_Wind_Direction"
   ]
  },
  {
   "cell_type": "code",
   "execution_count": 37,
   "id": "2cba6805",
   "metadata": {},
   "outputs": [],
   "source": [
    "fillnullvalue_Wind_Speed=df['Wind_Speed(mph)'].fillna(method='ffill',inplace=True)"
   ]
  },
  {
   "cell_type": "code",
   "execution_count": 38,
   "id": "5fb097d4",
   "metadata": {},
   "outputs": [
    {
     "data": {
      "text/plain": [
       "0"
      ]
     },
     "execution_count": 38,
     "metadata": {},
     "output_type": "execute_result"
    }
   ],
   "source": [
    "fillnullvalue_Wind_Speed=df['Wind_Speed(mph)'].isnull().sum()\n",
    "fillnullvalue_Wind_Speed"
   ]
  },
  {
   "cell_type": "code",
   "execution_count": 39,
   "id": "55b97d8a",
   "metadata": {},
   "outputs": [],
   "source": [
    "fillnullvalue_Weather_Condition =df['Weather_Condition'].fillna(method='ffill',inplace=True)"
   ]
  },
  {
   "cell_type": "code",
   "execution_count": 40,
   "id": "2c006997",
   "metadata": {},
   "outputs": [],
   "source": [
    "fillnullvalue_Weather_Condition=df['Weather_Condition'].isnull().sum()"
   ]
  },
  {
   "cell_type": "code",
   "execution_count": 41,
   "id": "ab6c25ef",
   "metadata": {},
   "outputs": [
    {
     "data": {
      "text/plain": [
       "0"
      ]
     },
     "execution_count": 41,
     "metadata": {},
     "output_type": "execute_result"
    }
   ],
   "source": [
    "fillnullvalue_Weather_Condition"
   ]
  },
  {
   "cell_type": "code",
   "execution_count": 42,
   "id": "3541c558",
   "metadata": {},
   "outputs": [],
   "source": [
    "fillnullvalue_Precipitation =df['Precipitation(in)'].fillna(method='ffill',inplace=True)"
   ]
  },
  {
   "cell_type": "code",
   "execution_count": 43,
   "id": "28fd3abd",
   "metadata": {},
   "outputs": [],
   "source": [
    "fillnullvalue_Precipitation=df['Precipitation(in)'].isnull().sum()"
   ]
  },
  {
   "cell_type": "code",
   "execution_count": 44,
   "id": "c03db9f6",
   "metadata": {},
   "outputs": [
    {
     "data": {
      "text/plain": [
       "0"
      ]
     },
     "execution_count": 44,
     "metadata": {},
     "output_type": "execute_result"
    }
   ],
   "source": [
    "fillnullvalue_Precipitation"
   ]
  },
  {
   "cell_type": "code",
   "execution_count": 45,
   "id": "f0238440",
   "metadata": {},
   "outputs": [],
   "source": [
    "fillnullvalue_Astronomical_Twilight=df['Astronomical_Twilight'].fillna(method='ffill',inplace=True) "
   ]
  },
  {
   "cell_type": "code",
   "execution_count": 46,
   "id": "719755d7",
   "metadata": {},
   "outputs": [
    {
     "data": {
      "text/plain": [
       "0"
      ]
     },
     "execution_count": 46,
     "metadata": {},
     "output_type": "execute_result"
    }
   ],
   "source": [
    "fillnullvalue_Astronomical_Twilight=df['Astronomical_Twilight'].isnull().sum()\n",
    "fillnullvalue_Astronomical_Twilight"
   ]
  },
  {
   "cell_type": "code",
   "execution_count": 47,
   "id": "af0f55fc",
   "metadata": {},
   "outputs": [],
   "source": [
    "fillnullvalue_Nautical_Twilight=df['Nautical_Twilight'].fillna(method='ffill',inplace=True) "
   ]
  },
  {
   "cell_type": "code",
   "execution_count": 48,
   "id": "53f4ef28",
   "metadata": {},
   "outputs": [
    {
     "data": {
      "text/plain": [
       "0"
      ]
     },
     "execution_count": 48,
     "metadata": {},
     "output_type": "execute_result"
    }
   ],
   "source": [
    "fillnullvalue_Nautical_Twilight=df['Nautical_Twilight'].isnull().sum()\n",
    "fillnullvalue_Nautical_Twilight"
   ]
  },
  {
   "cell_type": "code",
   "execution_count": 49,
   "id": "a57cf93b",
   "metadata": {},
   "outputs": [],
   "source": [
    "fillnullvalue_Civil_Twilight=df['Civil_Twilight'].fillna(method='ffill',inplace=True) "
   ]
  },
  {
   "cell_type": "code",
   "execution_count": 50,
   "id": "c263dbdf",
   "metadata": {},
   "outputs": [
    {
     "data": {
      "text/plain": [
       "0"
      ]
     },
     "execution_count": 50,
     "metadata": {},
     "output_type": "execute_result"
    }
   ],
   "source": [
    "fillnullvalue_Civil_Twilight=df['Civil_Twilight'].isnull().sum()\n",
    "fillnullvalue_Civil_Twilight"
   ]
  },
  {
   "cell_type": "code",
   "execution_count": 51,
   "id": "2ae391e8",
   "metadata": {},
   "outputs": [],
   "source": [
    "fillnullvalue_Sunrise_Sunset=df['Sunrise_Sunset'].fillna(method='ffill',inplace=True)"
   ]
  },
  {
   "cell_type": "code",
   "execution_count": 52,
   "id": "0f926239",
   "metadata": {},
   "outputs": [
    {
     "data": {
      "text/plain": [
       "0"
      ]
     },
     "execution_count": 52,
     "metadata": {},
     "output_type": "execute_result"
    }
   ],
   "source": [
    "fillnullvalue_Sunrise_Sunset=df['Sunrise_Sunset'].isnull().sum()\n",
    "fillnullvalue_Sunrise_Sunset"
   ]
  },
  {
   "cell_type": "code",
   "execution_count": 53,
   "id": "e56e2b58",
   "metadata": {},
   "outputs": [],
   "source": [
    "fillnullvalue_Airport_Code=df['Airport_Code'].fillna(method='ffill',inplace=True)"
   ]
  },
  {
   "cell_type": "code",
   "execution_count": 54,
   "id": "b454a367",
   "metadata": {},
   "outputs": [],
   "source": [
    "fillnullvalue_Airport_Code=df['Airport_Code'].isnull().sum()"
   ]
  },
  {
   "cell_type": "code",
   "execution_count": 55,
   "id": "3cb37ff7",
   "metadata": {},
   "outputs": [
    {
     "data": {
      "text/plain": [
       "0"
      ]
     },
     "execution_count": 55,
     "metadata": {},
     "output_type": "execute_result"
    }
   ],
   "source": [
    "fillnullvalue_Airport_Code"
   ]
  },
  {
   "cell_type": "code",
   "execution_count": 56,
   "id": "55298bed",
   "metadata": {},
   "outputs": [],
   "source": [
    "fillnullvalue_Timezone=df['Timezone'].fillna(method='ffill',inplace=True)"
   ]
  },
  {
   "cell_type": "code",
   "execution_count": 57,
   "id": "f1b2b3a6",
   "metadata": {},
   "outputs": [],
   "source": [
    "fillnullvalue_Timezone=df['Timezone'].isnull().sum()"
   ]
  },
  {
   "cell_type": "code",
   "execution_count": 58,
   "id": "c3d766c9",
   "metadata": {},
   "outputs": [
    {
     "data": {
      "text/plain": [
       "0"
      ]
     },
     "execution_count": 58,
     "metadata": {},
     "output_type": "execute_result"
    }
   ],
   "source": [
    "fillnullvalue_Timezone"
   ]
  },
  {
   "cell_type": "code",
   "execution_count": 59,
   "id": "bbc63bd8",
   "metadata": {},
   "outputs": [],
   "source": [
    "fillnullvalue_Zipcode=df['Zipcode'].fillna(method='ffill',inplace=True)"
   ]
  },
  {
   "cell_type": "code",
   "execution_count": 60,
   "id": "3b97e0c1",
   "metadata": {},
   "outputs": [],
   "source": [
    "fillnullvalue_Zipcode=df['Zipcode'].isnull().sum()"
   ]
  },
  {
   "cell_type": "code",
   "execution_count": 61,
   "id": "6c3510ac",
   "metadata": {},
   "outputs": [
    {
     "data": {
      "text/plain": [
       "0"
      ]
     },
     "execution_count": 61,
     "metadata": {},
     "output_type": "execute_result"
    }
   ],
   "source": [
    "fillnullvalue_Zipcode"
   ]
  },
  {
   "cell_type": "code",
   "execution_count": 62,
   "id": "e555f881",
   "metadata": {},
   "outputs": [],
   "source": [
    "fillnullvalue_city=df['City'].fillna(method='ffill',inplace=True)"
   ]
  },
  {
   "cell_type": "code",
   "execution_count": 63,
   "id": "a95349a8",
   "metadata": {},
   "outputs": [],
   "source": [
    "fillnullvalue_city=df['City'].isnull().sum()"
   ]
  },
  {
   "cell_type": "code",
   "execution_count": 64,
   "id": "cde9eb12",
   "metadata": {},
   "outputs": [
    {
     "data": {
      "text/plain": [
       "0"
      ]
     },
     "execution_count": 64,
     "metadata": {},
     "output_type": "execute_result"
    }
   ],
   "source": [
    "fillnullvalue_city"
   ]
  },
  {
   "cell_type": "code",
   "execution_count": 65,
   "id": "c3eb9c10",
   "metadata": {},
   "outputs": [],
   "source": [
    "fillnullvalue_Street=df['Street'].fillna(method='ffill',inplace=True)"
   ]
  },
  {
   "cell_type": "code",
   "execution_count": 66,
   "id": "3dbfa629",
   "metadata": {},
   "outputs": [],
   "source": [
    "fillnullvalue_Street=df['Street'].isnull().sum()"
   ]
  },
  {
   "cell_type": "code",
   "execution_count": 67,
   "id": "f43c0c18",
   "metadata": {},
   "outputs": [
    {
     "data": {
      "text/plain": [
       "0"
      ]
     },
     "execution_count": 67,
     "metadata": {},
     "output_type": "execute_result"
    }
   ],
   "source": [
    "fillnullvalue_Street"
   ]
  },
  {
   "cell_type": "code",
   "execution_count": 68,
   "id": "a82bef41",
   "metadata": {},
   "outputs": [
    {
     "data": {
      "text/plain": [
       "ID                       0\n",
       "Severity                 0\n",
       "Start_Time               0\n",
       "End_Time                 0\n",
       "Start_Lat                0\n",
       "Start_Lng                0\n",
       "End_Lat                  0\n",
       "End_Lng                  0\n",
       "Distance(mi)             0\n",
       "Description              0\n",
       "Number                   0\n",
       "Street                   0\n",
       "Side                     0\n",
       "City                     0\n",
       "County                   0\n",
       "State                    0\n",
       "Zipcode                  0\n",
       "Country                  0\n",
       "Timezone                 0\n",
       "Airport_Code             0\n",
       "Weather_Timestamp        0\n",
       "Temperature(F)           0\n",
       "Wind_Chill(F)            0\n",
       "Humidity(%)              0\n",
       "Pressure(in)             0\n",
       "Visibility(mi)           0\n",
       "Wind_Direction           0\n",
       "Wind_Speed(mph)          0\n",
       "Precipitation(in)        0\n",
       "Weather_Condition        0\n",
       "Amenity                  0\n",
       "Bump                     0\n",
       "Crossing                 0\n",
       "Give_Way                 0\n",
       "Junction                 0\n",
       "No_Exit                  0\n",
       "Railway                  0\n",
       "Roundabout               0\n",
       "Station                  0\n",
       "Stop                     0\n",
       "Traffic_Calming          0\n",
       "Traffic_Signal           0\n",
       "Turning_Loop             0\n",
       "Sunrise_Sunset           0\n",
       "Civil_Twilight           0\n",
       "Nautical_Twilight        0\n",
       "Astronomical_Twilight    0\n",
       "dtype: int64"
      ]
     },
     "execution_count": 68,
     "metadata": {},
     "output_type": "execute_result"
    }
   ],
   "source": [
    "df.isnull().sum()"
   ]
  },
  {
   "cell_type": "code",
   "execution_count": 69,
   "id": "33293048",
   "metadata": {},
   "outputs": [
    {
     "data": {
      "text/plain": [
       "<AxesSubplot:>"
      ]
     },
     "execution_count": 69,
     "metadata": {},
     "output_type": "execute_result"
    },
    {
     "data": {
      "image/png": "[encoded data removed]",
      "text/plain": [
       "<Figure size 1008x1008 with 2 Axes>"
      ]
     },
     "metadata": {
      "needs_background": "light"
     },
     "output_type": "display_data"
    }
   ],
   "source": [
    "plt.figure(figsize=(14,14))\n",
    "sns.heatmap(df.isnull())"
   ]
  },
  {
   "cell_type": "code",
   "execution_count": null,
   "id": "5f212018",
   "metadata": {},
   "outputs": [],
   "source": []
  },
  {
   "cell_type": "code",
   "execution_count": 70,
   "id": "483e9995",
   "metadata": {},
   "outputs": [
    {
     "data": {
      "text/html": [
       "<div>\n",
       "<style scoped>\n",
       "    .dataframe tbody tr th:only-of-type {\n",
       "        vertical-align: middle;\n",
       "    }\n",
       "\n",
       "    .dataframe tbody tr th {\n",
       "        vertical-align: top;\n",
       "    }\n",
       "\n",
       "    .dataframe thead th {\n",
       "        text-align: right;\n",
       "    }\n",
       "</style>\n",
       "<table border=\"1\" class=\"dataframe\">\n",
       "  <thead>\n",
       "    <tr style=\"text-align: right;\">\n",
       "      <th></th>\n",
       "      <th>Severity</th>\n",
       "      <th>Start_Lat</th>\n",
       "      <th>Start_Lng</th>\n",
       "      <th>End_Lat</th>\n",
       "      <th>End_Lng</th>\n",
       "      <th>Distance(mi)</th>\n",
       "      <th>Number</th>\n",
       "      <th>Temperature(F)</th>\n",
       "      <th>Wind_Chill(F)</th>\n",
       "      <th>Humidity(%)</th>\n",
       "      <th>...</th>\n",
       "      <th>Give_Way</th>\n",
       "      <th>Junction</th>\n",
       "      <th>No_Exit</th>\n",
       "      <th>Railway</th>\n",
       "      <th>Roundabout</th>\n",
       "      <th>Station</th>\n",
       "      <th>Stop</th>\n",
       "      <th>Traffic_Calming</th>\n",
       "      <th>Traffic_Signal</th>\n",
       "      <th>Turning_Loop</th>\n",
       "    </tr>\n",
       "  </thead>\n",
       "  <tbody>\n",
       "    <tr>\n",
       "      <th>Severity</th>\n",
       "      <td>1.000000</td>\n",
       "      <td>0.089207</td>\n",
       "      <td>0.114063</td>\n",
       "      <td>0.089209</td>\n",
       "      <td>0.114064</td>\n",
       "      <td>0.092140</td>\n",
       "      <td>-0.004329</td>\n",
       "      <td>-0.044668</td>\n",
       "      <td>-0.061665</td>\n",
       "      <td>0.037202</td>\n",
       "      <td>...</td>\n",
       "      <td>0.008141</td>\n",
       "      <td>0.045928</td>\n",
       "      <td>-0.002359</td>\n",
       "      <td>-0.001747</td>\n",
       "      <td>-0.000773</td>\n",
       "      <td>-0.018017</td>\n",
       "      <td>-0.002536</td>\n",
       "      <td>-0.003009</td>\n",
       "      <td>-0.012798</td>\n",
       "      <td>NaN</td>\n",
       "    </tr>\n",
       "    <tr>\n",
       "      <th>Start_Lat</th>\n",
       "      <td>0.089207</td>\n",
       "      <td>1.000000</td>\n",
       "      <td>-0.154965</td>\n",
       "      <td>0.999995</td>\n",
       "      <td>-0.154962</td>\n",
       "      <td>0.071588</td>\n",
       "      <td>0.045850</td>\n",
       "      <td>-0.470880</td>\n",
       "      <td>-0.463821</td>\n",
       "      <td>0.005842</td>\n",
       "      <td>...</td>\n",
       "      <td>0.007851</td>\n",
       "      <td>0.043628</td>\n",
       "      <td>-0.017348</td>\n",
       "      <td>0.003184</td>\n",
       "      <td>-0.003366</td>\n",
       "      <td>-0.107697</td>\n",
       "      <td>0.010817</td>\n",
       "      <td>-0.003164</td>\n",
       "      <td>-0.058208</td>\n",
       "      <td>NaN</td>\n",
       "    </tr>\n",
       "    <tr>\n",
       "      <th>Start_Lng</th>\n",
       "      <td>0.114063</td>\n",
       "      <td>-0.154965</td>\n",
       "      <td>1.000000</td>\n",
       "      <td>-0.154956</td>\n",
       "      <td>0.999999</td>\n",
       "      <td>0.039861</td>\n",
       "      <td>-0.091757</td>\n",
       "      <td>0.031551</td>\n",
       "      <td>0.008757</td>\n",
       "      <td>0.168117</td>\n",
       "      <td>...</td>\n",
       "      <td>0.018110</td>\n",
       "      <td>-0.017202</td>\n",
       "      <td>0.006220</td>\n",
       "      <td>-0.015450</td>\n",
       "      <td>0.000450</td>\n",
       "      <td>0.038533</td>\n",
       "      <td>-0.040265</td>\n",
       "      <td>-0.007750</td>\n",
       "      <td>0.059568</td>\n",
       "      <td>NaN</td>\n",
       "    </tr>\n",
       "    <tr>\n",
       "      <th>End_Lat</th>\n",
       "      <td>0.089209</td>\n",
       "      <td>0.999995</td>\n",
       "      <td>-0.154956</td>\n",
       "      <td>1.000000</td>\n",
       "      <td>-0.154953</td>\n",
       "      <td>0.071593</td>\n",
       "      <td>0.045845</td>\n",
       "      <td>-0.470873</td>\n",
       "      <td>-0.463818</td>\n",
       "      <td>0.005835</td>\n",
       "      <td>...</td>\n",
       "      <td>0.007840</td>\n",
       "      <td>0.043621</td>\n",
       "      <td>-0.017347</td>\n",
       "      <td>0.003184</td>\n",
       "      <td>-0.003366</td>\n",
       "      <td>-0.107696</td>\n",
       "      <td>0.010827</td>\n",
       "      <td>-0.003163</td>\n",
       "      <td>-0.058210</td>\n",
       "      <td>NaN</td>\n",
       "    </tr>\n",
       "    <tr>\n",
       "      <th>End_Lng</th>\n",
       "      <td>0.114064</td>\n",
       "      <td>-0.154962</td>\n",
       "      <td>0.999999</td>\n",
       "      <td>-0.154953</td>\n",
       "      <td>1.000000</td>\n",
       "      <td>0.039830</td>\n",
       "      <td>-0.091754</td>\n",
       "      <td>0.031554</td>\n",
       "      <td>0.008760</td>\n",
       "      <td>0.168112</td>\n",
       "      <td>...</td>\n",
       "      <td>0.018110</td>\n",
       "      <td>-0.017199</td>\n",
       "      <td>0.006220</td>\n",
       "      <td>-0.015449</td>\n",
       "      <td>0.000450</td>\n",
       "      <td>0.038533</td>\n",
       "      <td>-0.040264</td>\n",
       "      <td>-0.007750</td>\n",
       "      <td>0.059566</td>\n",
       "      <td>NaN</td>\n",
       "    </tr>\n",
       "    <tr>\n",
       "      <th>Distance(mi)</th>\n",
       "      <td>0.092140</td>\n",
       "      <td>0.071588</td>\n",
       "      <td>0.039861</td>\n",
       "      <td>0.071593</td>\n",
       "      <td>0.039830</td>\n",
       "      <td>1.000000</td>\n",
       "      <td>-0.009559</td>\n",
       "      <td>-0.049978</td>\n",
       "      <td>-0.054060</td>\n",
       "      <td>0.026436</td>\n",
       "      <td>...</td>\n",
       "      <td>-0.006655</td>\n",
       "      <td>0.022442</td>\n",
       "      <td>-0.010184</td>\n",
       "      <td>-0.021462</td>\n",
       "      <td>-0.002491</td>\n",
       "      <td>-0.052826</td>\n",
       "      <td>-0.027108</td>\n",
       "      <td>-0.007322</td>\n",
       "      <td>-0.105722</td>\n",
       "      <td>NaN</td>\n",
       "    </tr>\n",
       "    <tr>\n",
       "      <th>Number</th>\n",
       "      <td>-0.004329</td>\n",
       "      <td>0.045850</td>\n",
       "      <td>-0.091757</td>\n",
       "      <td>0.045845</td>\n",
       "      <td>-0.091754</td>\n",
       "      <td>-0.009559</td>\n",
       "      <td>1.000000</td>\n",
       "      <td>-0.018762</td>\n",
       "      <td>-0.013768</td>\n",
       "      <td>0.009545</td>\n",
       "      <td>...</td>\n",
       "      <td>-0.002782</td>\n",
       "      <td>-0.044977</td>\n",
       "      <td>-0.000767</td>\n",
       "      <td>-0.004825</td>\n",
       "      <td>-0.000483</td>\n",
       "      <td>-0.002458</td>\n",
       "      <td>0.015462</td>\n",
       "      <td>-0.002005</td>\n",
       "      <td>-0.020328</td>\n",
       "      <td>NaN</td>\n",
       "    </tr>\n",
       "    <tr>\n",
       "      <th>Temperature(F)</th>\n",
       "      <td>-0.044668</td>\n",
       "      <td>-0.470880</td>\n",
       "      <td>0.031551</td>\n",
       "      <td>-0.470873</td>\n",
       "      <td>0.031554</td>\n",
       "      <td>-0.049978</td>\n",
       "      <td>-0.018762</td>\n",
       "      <td>1.000000</td>\n",
       "      <td>0.943061</td>\n",
       "      <td>-0.361530</td>\n",
       "      <td>...</td>\n",
       "      <td>-0.005419</td>\n",
       "      <td>-0.020062</td>\n",
       "      <td>0.011479</td>\n",
       "      <td>0.003142</td>\n",
       "      <td>0.002097</td>\n",
       "      <td>0.060575</td>\n",
       "      <td>0.000029</td>\n",
       "      <td>0.005602</td>\n",
       "      <td>0.046935</td>\n",
       "      <td>NaN</td>\n",
       "    </tr>\n",
       "    <tr>\n",
       "      <th>Wind_Chill(F)</th>\n",
       "      <td>-0.061665</td>\n",
       "      <td>-0.463821</td>\n",
       "      <td>0.008757</td>\n",
       "      <td>-0.463818</td>\n",
       "      <td>0.008760</td>\n",
       "      <td>-0.054060</td>\n",
       "      <td>-0.013768</td>\n",
       "      <td>0.943061</td>\n",
       "      <td>1.000000</td>\n",
       "      <td>-0.315620</td>\n",
       "      <td>...</td>\n",
       "      <td>-0.006705</td>\n",
       "      <td>-0.033400</td>\n",
       "      <td>0.010998</td>\n",
       "      <td>0.004529</td>\n",
       "      <td>0.002261</td>\n",
       "      <td>0.063888</td>\n",
       "      <td>0.003570</td>\n",
       "      <td>0.006480</td>\n",
       "      <td>0.043390</td>\n",
       "      <td>NaN</td>\n",
       "    </tr>\n",
       "    <tr>\n",
       "      <th>Humidity(%)</th>\n",
       "      <td>0.037202</td>\n",
       "      <td>0.005842</td>\n",
       "      <td>0.168117</td>\n",
       "      <td>0.005835</td>\n",
       "      <td>0.168112</td>\n",
       "      <td>0.026436</td>\n",
       "      <td>0.009545</td>\n",
       "      <td>-0.361530</td>\n",
       "      <td>-0.315620</td>\n",
       "      <td>1.000000</td>\n",
       "      <td>...</td>\n",
       "      <td>0.000111</td>\n",
       "      <td>0.006429</td>\n",
       "      <td>-0.006998</td>\n",
       "      <td>-0.000760</td>\n",
       "      <td>0.000909</td>\n",
       "      <td>-0.000384</td>\n",
       "      <td>-0.015344</td>\n",
       "      <td>-0.005452</td>\n",
       "      <td>-0.033670</td>\n",
       "      <td>NaN</td>\n",
       "    </tr>\n",
       "    <tr>\n",
       "      <th>Pressure(in)</th>\n",
       "      <td>0.044214</td>\n",
       "      <td>-0.231959</td>\n",
       "      <td>0.205948</td>\n",
       "      <td>-0.231965</td>\n",
       "      <td>0.205951</td>\n",
       "      <td>-0.066965</td>\n",
       "      <td>-0.034695</td>\n",
       "      <td>0.134710</td>\n",
       "      <td>0.138805</td>\n",
       "      <td>0.137752</td>\n",
       "      <td>...</td>\n",
       "      <td>-0.000459</td>\n",
       "      <td>0.052103</td>\n",
       "      <td>-0.000696</td>\n",
       "      <td>0.015532</td>\n",
       "      <td>0.000740</td>\n",
       "      <td>0.040223</td>\n",
       "      <td>-0.015485</td>\n",
       "      <td>0.000350</td>\n",
       "      <td>0.015376</td>\n",
       "      <td>NaN</td>\n",
       "    </tr>\n",
       "    <tr>\n",
       "      <th>Visibility(mi)</th>\n",
       "      <td>0.007443</td>\n",
       "      <td>-0.084739</td>\n",
       "      <td>0.028124</td>\n",
       "      <td>-0.084733</td>\n",
       "      <td>0.028126</td>\n",
       "      <td>-0.032901</td>\n",
       "      <td>-0.004938</td>\n",
       "      <td>0.206173</td>\n",
       "      <td>0.194385</td>\n",
       "      <td>-0.359311</td>\n",
       "      <td>...</td>\n",
       "      <td>0.002297</td>\n",
       "      <td>-0.007488</td>\n",
       "      <td>0.007171</td>\n",
       "      <td>0.002190</td>\n",
       "      <td>0.000065</td>\n",
       "      <td>0.020130</td>\n",
       "      <td>0.002588</td>\n",
       "      <td>0.003729</td>\n",
       "      <td>0.030236</td>\n",
       "      <td>NaN</td>\n",
       "    </tr>\n",
       "    <tr>\n",
       "      <th>Wind_Speed(mph)</th>\n",
       "      <td>0.045069</td>\n",
       "      <td>0.029184</td>\n",
       "      <td>0.089036</td>\n",
       "      <td>0.029187</td>\n",
       "      <td>0.089040</td>\n",
       "      <td>0.010801</td>\n",
       "      <td>0.005063</td>\n",
       "      <td>0.074779</td>\n",
       "      <td>0.016895</td>\n",
       "      <td>-0.169638</td>\n",
       "      <td>...</td>\n",
       "      <td>0.002386</td>\n",
       "      <td>0.017090</td>\n",
       "      <td>0.002030</td>\n",
       "      <td>-0.000779</td>\n",
       "      <td>0.000047</td>\n",
       "      <td>0.015778</td>\n",
       "      <td>-0.006408</td>\n",
       "      <td>-0.000441</td>\n",
       "      <td>0.016419</td>\n",
       "      <td>NaN</td>\n",
       "    </tr>\n",
       "    <tr>\n",
       "      <th>Precipitation(in)</th>\n",
       "      <td>0.031995</td>\n",
       "      <td>0.001804</td>\n",
       "      <td>0.033078</td>\n",
       "      <td>0.001803</td>\n",
       "      <td>0.033077</td>\n",
       "      <td>0.001147</td>\n",
       "      <td>-0.003866</td>\n",
       "      <td>-0.003556</td>\n",
       "      <td>-0.008935</td>\n",
       "      <td>0.013914</td>\n",
       "      <td>...</td>\n",
       "      <td>-0.000159</td>\n",
       "      <td>0.012957</td>\n",
       "      <td>0.000102</td>\n",
       "      <td>-0.000706</td>\n",
       "      <td>-0.000244</td>\n",
       "      <td>-0.001717</td>\n",
       "      <td>-0.003296</td>\n",
       "      <td>-0.001155</td>\n",
       "      <td>0.000820</td>\n",
       "      <td>NaN</td>\n",
       "    </tr>\n",
       "    <tr>\n",
       "      <th>Amenity</th>\n",
       "      <td>-0.003940</td>\n",
       "      <td>-0.005879</td>\n",
       "      <td>0.014923</td>\n",
       "      <td>-0.005878</td>\n",
       "      <td>0.014924</td>\n",
       "      <td>-0.032717</td>\n",
       "      <td>-0.013307</td>\n",
       "      <td>0.013240</td>\n",
       "      <td>0.015056</td>\n",
       "      <td>-0.005910</td>\n",
       "      <td>...</td>\n",
       "      <td>0.003297</td>\n",
       "      <td>-0.026413</td>\n",
       "      <td>0.013096</td>\n",
       "      <td>0.034372</td>\n",
       "      <td>0.000428</td>\n",
       "      <td>0.124395</td>\n",
       "      <td>0.027137</td>\n",
       "      <td>0.010624</td>\n",
       "      <td>0.090555</td>\n",
       "      <td>NaN</td>\n",
       "    </tr>\n",
       "    <tr>\n",
       "      <th>Bump</th>\n",
       "      <td>-0.003739</td>\n",
       "      <td>0.000338</td>\n",
       "      <td>-0.014867</td>\n",
       "      <td>0.000339</td>\n",
       "      <td>-0.014867</td>\n",
       "      <td>-0.005408</td>\n",
       "      <td>-0.000866</td>\n",
       "      <td>0.003915</td>\n",
       "      <td>0.004855</td>\n",
       "      <td>-0.007482</td>\n",
       "      <td>...</td>\n",
       "      <td>-0.000176</td>\n",
       "      <td>-0.001792</td>\n",
       "      <td>0.002610</td>\n",
       "      <td>0.006451</td>\n",
       "      <td>-0.000125</td>\n",
       "      <td>0.006027</td>\n",
       "      <td>0.019402</td>\n",
       "      <td>0.772162</td>\n",
       "      <td>-0.003714</td>\n",
       "      <td>NaN</td>\n",
       "    </tr>\n",
       "    <tr>\n",
       "      <th>Crossing</th>\n",
       "      <td>-0.035382</td>\n",
       "      <td>-0.094698</td>\n",
       "      <td>0.056169</td>\n",
       "      <td>-0.094703</td>\n",
       "      <td>0.056165</td>\n",
       "      <td>-0.091256</td>\n",
       "      <td>-0.013413</td>\n",
       "      <td>0.068857</td>\n",
       "      <td>0.070109</td>\n",
       "      <td>-0.029555</td>\n",
       "      <td>...</td>\n",
       "      <td>0.053507</td>\n",
       "      <td>-0.080214</td>\n",
       "      <td>0.042085</td>\n",
       "      <td>0.207132</td>\n",
       "      <td>-0.000764</td>\n",
       "      <td>0.144655</td>\n",
       "      <td>0.086878</td>\n",
       "      <td>0.026087</td>\n",
       "      <td>0.422232</td>\n",
       "      <td>NaN</td>\n",
       "    </tr>\n",
       "    <tr>\n",
       "      <th>Give_Way</th>\n",
       "      <td>0.008141</td>\n",
       "      <td>0.007851</td>\n",
       "      <td>0.018110</td>\n",
       "      <td>0.007840</td>\n",
       "      <td>0.018110</td>\n",
       "      <td>-0.006655</td>\n",
       "      <td>-0.002782</td>\n",
       "      <td>-0.005419</td>\n",
       "      <td>-0.006705</td>\n",
       "      <td>0.000111</td>\n",
       "      <td>...</td>\n",
       "      <td>1.000000</td>\n",
       "      <td>-0.007007</td>\n",
       "      <td>0.004176</td>\n",
       "      <td>0.003981</td>\n",
       "      <td>0.002945</td>\n",
       "      <td>-0.002163</td>\n",
       "      <td>0.047691</td>\n",
       "      <td>0.000253</td>\n",
       "      <td>0.056994</td>\n",
       "      <td>NaN</td>\n",
       "    </tr>\n",
       "    <tr>\n",
       "      <th>Junction</th>\n",
       "      <td>0.045928</td>\n",
       "      <td>0.043628</td>\n",
       "      <td>-0.017202</td>\n",
       "      <td>0.043621</td>\n",
       "      <td>-0.017199</td>\n",
       "      <td>0.022442</td>\n",
       "      <td>-0.044977</td>\n",
       "      <td>-0.020062</td>\n",
       "      <td>-0.033400</td>\n",
       "      <td>0.006429</td>\n",
       "      <td>...</td>\n",
       "      <td>-0.007007</td>\n",
       "      <td>1.000000</td>\n",
       "      <td>-0.003870</td>\n",
       "      <td>-0.010436</td>\n",
       "      <td>0.012083</td>\n",
       "      <td>-0.044455</td>\n",
       "      <td>-0.034977</td>\n",
       "      <td>-0.002262</td>\n",
       "      <td>-0.096142</td>\n",
       "      <td>NaN</td>\n",
       "    </tr>\n",
       "    <tr>\n",
       "      <th>No_Exit</th>\n",
       "      <td>-0.002359</td>\n",
       "      <td>-0.017348</td>\n",
       "      <td>0.006220</td>\n",
       "      <td>-0.017347</td>\n",
       "      <td>0.006220</td>\n",
       "      <td>-0.010184</td>\n",
       "      <td>-0.000767</td>\n",
       "      <td>0.011479</td>\n",
       "      <td>0.010998</td>\n",
       "      <td>-0.006998</td>\n",
       "      <td>...</td>\n",
       "      <td>0.004176</td>\n",
       "      <td>-0.003870</td>\n",
       "      <td>1.000000</td>\n",
       "      <td>0.002736</td>\n",
       "      <td>-0.000256</td>\n",
       "      <td>0.015199</td>\n",
       "      <td>0.011802</td>\n",
       "      <td>0.001631</td>\n",
       "      <td>0.023376</td>\n",
       "      <td>NaN</td>\n",
       "    </tr>\n",
       "    <tr>\n",
       "      <th>Railway</th>\n",
       "      <td>-0.001747</td>\n",
       "      <td>0.003184</td>\n",
       "      <td>-0.015450</td>\n",
       "      <td>0.003184</td>\n",
       "      <td>-0.015449</td>\n",
       "      <td>-0.021462</td>\n",
       "      <td>-0.004825</td>\n",
       "      <td>0.003142</td>\n",
       "      <td>0.004529</td>\n",
       "      <td>-0.000760</td>\n",
       "      <td>...</td>\n",
       "      <td>0.003981</td>\n",
       "      <td>-0.010436</td>\n",
       "      <td>0.002736</td>\n",
       "      <td>1.000000</td>\n",
       "      <td>-0.000589</td>\n",
       "      <td>0.109353</td>\n",
       "      <td>0.007893</td>\n",
       "      <td>0.005064</td>\n",
       "      <td>0.053727</td>\n",
       "      <td>NaN</td>\n",
       "    </tr>\n",
       "    <tr>\n",
       "      <th>Roundabout</th>\n",
       "      <td>-0.000773</td>\n",
       "      <td>-0.003366</td>\n",
       "      <td>0.000450</td>\n",
       "      <td>-0.003366</td>\n",
       "      <td>0.000450</td>\n",
       "      <td>-0.002491</td>\n",
       "      <td>-0.000483</td>\n",
       "      <td>0.002097</td>\n",
       "      <td>0.002261</td>\n",
       "      <td>0.000909</td>\n",
       "      <td>...</td>\n",
       "      <td>0.002945</td>\n",
       "      <td>0.012083</td>\n",
       "      <td>-0.000256</td>\n",
       "      <td>-0.000589</td>\n",
       "      <td>1.000000</td>\n",
       "      <td>0.000371</td>\n",
       "      <td>0.006412</td>\n",
       "      <td>0.002019</td>\n",
       "      <td>-0.002108</td>\n",
       "      <td>NaN</td>\n",
       "    </tr>\n",
       "    <tr>\n",
       "      <th>Station</th>\n",
       "      <td>-0.018017</td>\n",
       "      <td>-0.107697</td>\n",
       "      <td>0.038533</td>\n",
       "      <td>-0.107696</td>\n",
       "      <td>0.038533</td>\n",
       "      <td>-0.052826</td>\n",
       "      <td>-0.002458</td>\n",
       "      <td>0.060575</td>\n",
       "      <td>0.063888</td>\n",
       "      <td>-0.000384</td>\n",
       "      <td>...</td>\n",
       "      <td>-0.002163</td>\n",
       "      <td>-0.044455</td>\n",
       "      <td>0.015199</td>\n",
       "      <td>0.109353</td>\n",
       "      <td>0.000371</td>\n",
       "      <td>1.000000</td>\n",
       "      <td>0.027295</td>\n",
       "      <td>0.009768</td>\n",
       "      <td>0.112593</td>\n",
       "      <td>NaN</td>\n",
       "    </tr>\n",
       "    <tr>\n",
       "      <th>Stop</th>\n",
       "      <td>-0.002536</td>\n",
       "      <td>0.010817</td>\n",
       "      <td>-0.040265</td>\n",
       "      <td>0.010827</td>\n",
       "      <td>-0.040264</td>\n",
       "      <td>-0.027108</td>\n",
       "      <td>0.015462</td>\n",
       "      <td>0.000029</td>\n",
       "      <td>0.003570</td>\n",
       "      <td>-0.015344</td>\n",
       "      <td>...</td>\n",
       "      <td>0.047691</td>\n",
       "      <td>-0.034977</td>\n",
       "      <td>0.011802</td>\n",
       "      <td>0.007893</td>\n",
       "      <td>0.006412</td>\n",
       "      <td>0.027295</td>\n",
       "      <td>1.000000</td>\n",
       "      <td>0.017349</td>\n",
       "      <td>-0.028258</td>\n",
       "      <td>NaN</td>\n",
       "    </tr>\n",
       "    <tr>\n",
       "      <th>Traffic_Calming</th>\n",
       "      <td>-0.003009</td>\n",
       "      <td>-0.003164</td>\n",
       "      <td>-0.007750</td>\n",
       "      <td>-0.003163</td>\n",
       "      <td>-0.007750</td>\n",
       "      <td>-0.007322</td>\n",
       "      <td>-0.002005</td>\n",
       "      <td>0.005602</td>\n",
       "      <td>0.006480</td>\n",
       "      <td>-0.005452</td>\n",
       "      <td>...</td>\n",
       "      <td>0.000253</td>\n",
       "      <td>-0.002262</td>\n",
       "      <td>0.001631</td>\n",
       "      <td>0.005064</td>\n",
       "      <td>0.002019</td>\n",
       "      <td>0.009768</td>\n",
       "      <td>0.017349</td>\n",
       "      <td>1.000000</td>\n",
       "      <td>0.008646</td>\n",
       "      <td>NaN</td>\n",
       "    </tr>\n",
       "    <tr>\n",
       "      <th>Traffic_Signal</th>\n",
       "      <td>-0.012798</td>\n",
       "      <td>-0.058208</td>\n",
       "      <td>0.059568</td>\n",
       "      <td>-0.058210</td>\n",
       "      <td>0.059566</td>\n",
       "      <td>-0.105722</td>\n",
       "      <td>-0.020328</td>\n",
       "      <td>0.046935</td>\n",
       "      <td>0.043390</td>\n",
       "      <td>-0.033670</td>\n",
       "      <td>...</td>\n",
       "      <td>0.056994</td>\n",
       "      <td>-0.096142</td>\n",
       "      <td>0.023376</td>\n",
       "      <td>0.053727</td>\n",
       "      <td>-0.002108</td>\n",
       "      <td>0.112593</td>\n",
       "      <td>-0.028258</td>\n",
       "      <td>0.008646</td>\n",
       "      <td>1.000000</td>\n",
       "      <td>NaN</td>\n",
       "    </tr>\n",
       "    <tr>\n",
       "      <th>Turning_Loop</th>\n",
       "      <td>NaN</td>\n",
       "      <td>NaN</td>\n",
       "      <td>NaN</td>\n",
       "      <td>NaN</td>\n",
       "      <td>NaN</td>\n",
       "      <td>NaN</td>\n",
       "      <td>NaN</td>\n",
       "      <td>NaN</td>\n",
       "      <td>NaN</td>\n",
       "      <td>NaN</td>\n",
       "      <td>...</td>\n",
       "      <td>NaN</td>\n",
       "      <td>NaN</td>\n",
       "      <td>NaN</td>\n",
       "      <td>NaN</td>\n",
       "      <td>NaN</td>\n",
       "      <td>NaN</td>\n",
       "      <td>NaN</td>\n",
       "      <td>NaN</td>\n",
       "      <td>NaN</td>\n",
       "      <td>NaN</td>\n",
       "    </tr>\n",
       "  </tbody>\n",
       "</table>\n",
       "<p>27 rows × 27 columns</p>\n",
       "</div>"
      ],
      "text/plain": [
       "                   Severity  Start_Lat  Start_Lng   End_Lat   End_Lng  \\\n",
       "Severity           1.000000   0.089207   0.114063  0.089209  0.114064   \n",
       "Start_Lat          0.089207   1.000000  -0.154965  0.999995 -0.154962   \n",
       "Start_Lng          0.114063  -0.154965   1.000000 -0.154956  0.999999   \n",
       "End_Lat            0.089209   0.999995  -0.154956  1.000000 -0.154953   \n",
       "End_Lng            0.114064  -0.154962   0.999999 -0.154953  1.000000   \n",
       "Distance(mi)       0.092140   0.071588   0.039861  0.071593  0.039830   \n",
       "Number            -0.004329   0.045850  -0.091757  0.045845 -0.091754   \n",
       "Temperature(F)    -0.044668  -0.470880   0.031551 -0.470873  0.031554   \n",
       "Wind_Chill(F)     -0.061665  -0.463821   0.008757 -0.463818  0.008760   \n",
       "Humidity(%)        0.037202   0.005842   0.168117  0.005835  0.168112   \n",
       "Pressure(in)       0.044214  -0.231959   0.205948 -0.231965  0.205951   \n",
       "Visibility(mi)     0.007443  -0.084739   0.028124 -0.084733  0.028126   \n",
       "Wind_Speed(mph)    0.045069   0.029184   0.089036  0.029187  0.089040   \n",
       "Precipitation(in)  0.031995   0.001804   0.033078  0.001803  0.033077   \n",
       "Amenity           -0.003940  -0.005879   0.014923 -0.005878  0.014924   \n",
       "Bump              -0.003739   0.000338  -0.014867  0.000339 -0.014867   \n",
       "Crossing          -0.035382  -0.094698   0.056169 -0.094703  0.056165   \n",
       "Give_Way           0.008141   0.007851   0.018110  0.007840  0.018110   \n",
       "Junction           0.045928   0.043628  -0.017202  0.043621 -0.017199   \n",
       "No_Exit           -0.002359  -0.017348   0.006220 -0.017347  0.006220   \n",
       "Railway           -0.001747   0.003184  -0.015450  0.003184 -0.015449   \n",
       "Roundabout        -0.000773  -0.003366   0.000450 -0.003366  0.000450   \n",
       "Station           -0.018017  -0.107697   0.038533 -0.107696  0.038533   \n",
       "Stop              -0.002536   0.010817  -0.040265  0.010827 -0.040264   \n",
       "Traffic_Calming   -0.003009  -0.003164  -0.007750 -0.003163 -0.007750   \n",
       "Traffic_Signal    -0.012798  -0.058208   0.059568 -0.058210  0.059566   \n",
       "Turning_Loop            NaN        NaN        NaN       NaN       NaN   \n",
       "\n",
       "                   Distance(mi)    Number  Temperature(F)  Wind_Chill(F)  \\\n",
       "Severity               0.092140 -0.004329       -0.044668      -0.061665   \n",
       "Start_Lat              0.071588  0.045850       -0.470880      -0.463821   \n",
       "Start_Lng              0.039861 -0.091757        0.031551       0.008757   \n",
       "End_Lat                0.071593  0.045845       -0.470873      -0.463818   \n",
       "End_Lng                0.039830 -0.091754        0.031554       0.008760   \n",
       "Distance(mi)           1.000000 -0.009559       -0.049978      -0.054060   \n",
       "Number                -0.009559  1.000000       -0.018762      -0.013768   \n",
       "Temperature(F)        -0.049978 -0.018762        1.000000       0.943061   \n",
       "Wind_Chill(F)         -0.054060 -0.013768        0.943061       1.000000   \n",
       "Humidity(%)            0.026436  0.009545       -0.361530      -0.315620   \n",
       "Pressure(in)          -0.066965 -0.034695        0.134710       0.138805   \n",
       "Visibility(mi)        -0.032901 -0.004938        0.206173       0.194385   \n",
       "Wind_Speed(mph)        0.010801  0.005063        0.074779       0.016895   \n",
       "Precipitation(in)      0.001147 -0.003866       -0.003556      -0.008935   \n",
       "Amenity               -0.032717 -0.013307        0.013240       0.015056   \n",
       "Bump                  -0.005408 -0.000866        0.003915       0.004855   \n",
       "Crossing              -0.091256 -0.013413        0.068857       0.070109   \n",
       "Give_Way              -0.006655 -0.002782       -0.005419      -0.006705   \n",
       "Junction               0.022442 -0.044977       -0.020062      -0.033400   \n",
       "No_Exit               -0.010184 -0.000767        0.011479       0.010998   \n",
       "Railway               -0.021462 -0.004825        0.003142       0.004529   \n",
       "Roundabout            -0.002491 -0.000483        0.002097       0.002261   \n",
       "Station               -0.052826 -0.002458        0.060575       0.063888   \n",
       "Stop                  -0.027108  0.015462        0.000029       0.003570   \n",
       "Traffic_Calming       -0.007322 -0.002005        0.005602       0.006480   \n",
       "Traffic_Signal        -0.105722 -0.020328        0.046935       0.043390   \n",
       "Turning_Loop                NaN       NaN             NaN            NaN   \n",
       "\n",
       "                   Humidity(%)  ...  Give_Way  Junction   No_Exit   Railway  \\\n",
       "Severity              0.037202  ...  0.008141  0.045928 -0.002359 -0.001747   \n",
       "Start_Lat             0.005842  ...  0.007851  0.043628 -0.017348  0.003184   \n",
       "Start_Lng             0.168117  ...  0.018110 -0.017202  0.006220 -0.015450   \n",
       "End_Lat               0.005835  ...  0.007840  0.043621 -0.017347  0.003184   \n",
       "End_Lng               0.168112  ...  0.018110 -0.017199  0.006220 -0.015449   \n",
       "Distance(mi)          0.026436  ... -0.006655  0.022442 -0.010184 -0.021462   \n",
       "Number                0.009545  ... -0.002782 -0.044977 -0.000767 -0.004825   \n",
       "Temperature(F)       -0.361530  ... -0.005419 -0.020062  0.011479  0.003142   \n",
       "Wind_Chill(F)        -0.315620  ... -0.006705 -0.033400  0.010998  0.004529   \n",
       "Humidity(%)           1.000000  ...  0.000111  0.006429 -0.006998 -0.000760   \n",
       "Pressure(in)          0.137752  ... -0.000459  0.052103 -0.000696  0.015532   \n",
       "Visibility(mi)       -0.359311  ...  0.002297 -0.007488  0.007171  0.002190   \n",
       "Wind_Speed(mph)      -0.169638  ...  0.002386  0.017090  0.002030 -0.000779   \n",
       "Precipitation(in)     0.013914  ... -0.000159  0.012957  0.000102 -0.000706   \n",
       "Amenity              -0.005910  ...  0.003297 -0.026413  0.013096  0.034372   \n",
       "Bump                 -0.007482  ... -0.000176 -0.001792  0.002610  0.006451   \n",
       "Crossing             -0.029555  ...  0.053507 -0.080214  0.042085  0.207132   \n",
       "Give_Way              0.000111  ...  1.000000 -0.007007  0.004176  0.003981   \n",
       "Junction              0.006429  ... -0.007007  1.000000 -0.003870 -0.010436   \n",
       "No_Exit              -0.006998  ...  0.004176 -0.003870  1.000000  0.002736   \n",
       "Railway              -0.000760  ...  0.003981 -0.010436  0.002736  1.000000   \n",
       "Roundabout            0.000909  ...  0.002945  0.012083 -0.000256 -0.000589   \n",
       "Station              -0.000384  ... -0.002163 -0.044455  0.015199  0.109353   \n",
       "Stop                 -0.015344  ...  0.047691 -0.034977  0.011802  0.007893   \n",
       "Traffic_Calming      -0.005452  ...  0.000253 -0.002262  0.001631  0.005064   \n",
       "Traffic_Signal       -0.033670  ...  0.056994 -0.096142  0.023376  0.053727   \n",
       "Turning_Loop               NaN  ...       NaN       NaN       NaN       NaN   \n",
       "\n",
       "                   Roundabout   Station      Stop  Traffic_Calming  \\\n",
       "Severity            -0.000773 -0.018017 -0.002536        -0.003009   \n",
       "Start_Lat           -0.003366 -0.107697  0.010817        -0.003164   \n",
       "Start_Lng            0.000450  0.038533 -0.040265        -0.007750   \n",
       "End_Lat             -0.003366 -0.107696  0.010827        -0.003163   \n",
       "End_Lng              0.000450  0.038533 -0.040264        -0.007750   \n",
       "Distance(mi)        -0.002491 -0.052826 -0.027108        -0.007322   \n",
       "Number              -0.000483 -0.002458  0.015462        -0.002005   \n",
       "Temperature(F)       0.002097  0.060575  0.000029         0.005602   \n",
       "Wind_Chill(F)        0.002261  0.063888  0.003570         0.006480   \n",
       "Humidity(%)          0.000909 -0.000384 -0.015344        -0.005452   \n",
       "Pressure(in)         0.000740  0.040223 -0.015485         0.000350   \n",
       "Visibility(mi)       0.000065  0.020130  0.002588         0.003729   \n",
       "Wind_Speed(mph)      0.000047  0.015778 -0.006408        -0.000441   \n",
       "Precipitation(in)   -0.000244 -0.001717 -0.003296        -0.001155   \n",
       "Amenity              0.000428  0.124395  0.027137         0.010624   \n",
       "Bump                -0.000125  0.006027  0.019402         0.772162   \n",
       "Crossing            -0.000764  0.144655  0.086878         0.026087   \n",
       "Give_Way             0.002945 -0.002163  0.047691         0.000253   \n",
       "Junction             0.012083 -0.044455 -0.034977        -0.002262   \n",
       "No_Exit             -0.000256  0.015199  0.011802         0.001631   \n",
       "Railway             -0.000589  0.109353  0.007893         0.005064   \n",
       "Roundabout           1.000000  0.000371  0.006412         0.002019   \n",
       "Station              0.000371  1.000000  0.027295         0.009768   \n",
       "Stop                 0.006412  0.027295  1.000000         0.017349   \n",
       "Traffic_Calming      0.002019  0.009768  0.017349         1.000000   \n",
       "Traffic_Signal      -0.002108  0.112593 -0.028258         0.008646   \n",
       "Turning_Loop              NaN       NaN       NaN              NaN   \n",
       "\n",
       "                   Traffic_Signal  Turning_Loop  \n",
       "Severity                -0.012798           NaN  \n",
       "Start_Lat               -0.058208           NaN  \n",
       "Start_Lng                0.059568           NaN  \n",
       "End_Lat                 -0.058210           NaN  \n",
       "End_Lng                  0.059566           NaN  \n",
       "Distance(mi)            -0.105722           NaN  \n",
       "Number                  -0.020328           NaN  \n",
       "Temperature(F)           0.046935           NaN  \n",
       "Wind_Chill(F)            0.043390           NaN  \n",
       "Humidity(%)             -0.033670           NaN  \n",
       "Pressure(in)             0.015376           NaN  \n",
       "Visibility(mi)           0.030236           NaN  \n",
       "Wind_Speed(mph)          0.016419           NaN  \n",
       "Precipitation(in)        0.000820           NaN  \n",
       "Amenity                  0.090555           NaN  \n",
       "Bump                    -0.003714           NaN  \n",
       "Crossing                 0.422232           NaN  \n",
       "Give_Way                 0.056994           NaN  \n",
       "Junction                -0.096142           NaN  \n",
       "No_Exit                  0.023376           NaN  \n",
       "Railway                  0.053727           NaN  \n",
       "Roundabout              -0.002108           NaN  \n",
       "Station                  0.112593           NaN  \n",
       "Stop                    -0.028258           NaN  \n",
       "Traffic_Calming          0.008646           NaN  \n",
       "Traffic_Signal           1.000000           NaN  \n",
       "Turning_Loop                  NaN           NaN  \n",
       "\n",
       "[27 rows x 27 columns]"
      ]
     },
     "execution_count": 70,
     "metadata": {},
     "output_type": "execute_result"
    }
   ],
   "source": [
    "df.corr()"
   ]
  },
  {
   "cell_type": "code",
   "execution_count": 71,
   "id": "7d21e428",
   "metadata": {},
   "outputs": [
    {
     "data": {
      "text/plain": [
       "<AxesSubplot:>"
      ]
     },
     "execution_count": 71,
     "metadata": {},
     "output_type": "execute_result"
    },
    {
     "data": {
      "image/png": "[encoded data removed]",
      "text/plain": [
       "<Figure size 1440x1440 with 2 Axes>"
      ]
     },
     "metadata": {
      "needs_background": "light"
     },
     "output_type": "display_data"
    }
   ],
   "source": [
    "plt.figure(figsize=(20,20))\n",
    "sns.heatmap(df.corr(),annot=True)"
   ]
  },
  {
   "cell_type": "markdown",
   "id": "58d8caa4",
   "metadata": {},
   "source": [
    "# EDA & Vizualisation"
   ]
  },
  {
   "cell_type": "code",
   "execution_count": 72,
   "id": "d2130108",
   "metadata": {},
   "outputs": [
    {
     "data": {
      "text/plain": [
       "11681"
      ]
     },
     "execution_count": 72,
     "metadata": {},
     "output_type": "execute_result"
    }
   ],
   "source": [
    "# top 5 cities in terms of accident\n",
    "df['City'].nunique()"
   ]
  },
  {
   "cell_type": "code",
   "execution_count": 73,
   "id": "9a8f5089",
   "metadata": {},
   "outputs": [],
   "source": [
    "accident_by_city=df['City'].value_counts()"
   ]
  },
  {
   "cell_type": "code",
   "execution_count": 74,
   "id": "4d7d2f3d",
   "metadata": {},
   "outputs": [
    {
     "data": {
      "text/plain": [
       "Miami                           106969\n",
       "Los Angeles                      68958\n",
       "Orlando                          54696\n",
       "Dallas                           41980\n",
       "Houston                          39451\n",
       "                                 ...  \n",
       "Ridgedale                            1\n",
       "Sekiu                                1\n",
       "Wooldridge                           1\n",
       "Bullock                              1\n",
       "American Fork-Pleasant Grove         1\n",
       "Name: City, Length: 11681, dtype: int64"
      ]
     },
     "execution_count": 74,
     "metadata": {},
     "output_type": "execute_result"
    }
   ],
   "source": [
    "accident_by_city"
   ]
  },
  {
   "cell_type": "code",
   "execution_count": 75,
   "id": "76923c26",
   "metadata": {},
   "outputs": [
    {
     "data": {
      "text/plain": [
       "Miami          106969\n",
       "Los Angeles     68958\n",
       "Orlando         54696\n",
       "Dallas          41980\n",
       "Houston         39451\n",
       "Name: City, dtype: int64"
      ]
     },
     "execution_count": 75,
     "metadata": {},
     "output_type": "execute_result"
    }
   ],
   "source": [
    "# top 5 cities in terms of accident\n",
    "accident_by_city.head()"
   ]
  },
  {
   "cell_type": "code",
   "execution_count": 123,
   "id": "b7df7ef4",
   "metadata": {},
   "outputs": [
    {
     "data": {
      "text/plain": [
       "Text(0.5, 1.0, 'Top 5 City Accident Count')"
      ]
     },
     "execution_count": 123,
     "metadata": {},
     "output_type": "execute_result"
    },
    {
     "data": {
      "image/png": "[encoded data removed]",
      "text/plain": [
       "<Figure size 864x720 with 1 Axes>"
      ]
     },
     "metadata": {
      "needs_background": "light"
     },
     "output_type": "display_data"
    }
   ],
   "source": [
    "# Top 5 city represinting by graph\n",
    "accident_by_city.head().plot(figsize=(12,10),kind='bar')\n",
    "plt.xlabel(\"Name of City\",fontsize=30)\n",
    "plt.ylabel(\"Number of Accident\",fontsize=30)\n",
    "plt.title(\"Top 5 City Accident Count\" , fontsize=40)"
   ]
  },
  {
   "cell_type": "code",
   "execution_count": 77,
   "id": "cbf85a41",
   "metadata": {},
   "outputs": [
    {
     "name": "stderr",
     "output_type": "stream",
     "text": [
      "C:\\Users\\saura\\anaconda\\lib\\site-packages\\seaborn\\distributions.py:2619: FutureWarning: `distplot` is a deprecated function and will be removed in a future version. Please adapt your code to use either `displot` (a figure-level function with similar flexibility) or `histplot` (an axes-level function for histograms).\n",
      "  warnings.warn(msg, FutureWarning)\n"
     ]
    },
    {
     "data": {
      "text/plain": [
       "<AxesSubplot:xlabel='City', ylabel='Density'>"
      ]
     },
     "execution_count": 77,
     "metadata": {},
     "output_type": "execute_result"
    },
    {
     "data": {
      "image/png": "[encoded data removed]",
      "text/plain": [
       "<Figure size 432x288 with 1 Axes>"
      ]
     },
     "metadata": {
      "needs_background": "light"
     },
     "output_type": "display_data"
    }
   ],
   "source": [
    "sns.distplot(accident_by_city)"
   ]
  },
  {
   "cell_type": "markdown",
   "id": "56583d06",
   "metadata": {},
   "source": [
    "# time"
   ]
  },
  {
   "cell_type": "code",
   "execution_count": 78,
   "id": "8a86bf45",
   "metadata": {},
   "outputs": [
    {
     "data": {
      "text/plain": [
       "0          2016-02-08 00:37:08\n",
       "1          2016-02-08 05:56:20\n",
       "2          2016-02-08 06:15:39\n",
       "3          2016-02-08 06:51:45\n",
       "4          2016-02-08 07:53:43\n",
       "                  ...         \n",
       "2845337    2019-08-23 18:03:25\n",
       "2845338    2019-08-23 19:11:30\n",
       "2845339    2019-08-23 19:00:21\n",
       "2845340    2019-08-23 19:00:21\n",
       "2845341    2019-08-23 18:52:06\n",
       "Name: Start_Time, Length: 2845342, dtype: object"
      ]
     },
     "execution_count": 78,
     "metadata": {},
     "output_type": "execute_result"
    }
   ],
   "source": [
    "df.Start_Time"
   ]
  },
  {
   "cell_type": "code",
   "execution_count": 79,
   "id": "b575444a",
   "metadata": {},
   "outputs": [],
   "source": [
    "df.Start_Time = pd.to_datetime(df.Start_Time)"
   ]
  },
  {
   "cell_type": "code",
   "execution_count": 80,
   "id": "ba0b3494",
   "metadata": {},
   "outputs": [
    {
     "data": {
      "text/plain": [
       "5"
      ]
     },
     "execution_count": 80,
     "metadata": {},
     "output_type": "execute_result"
    }
   ],
   "source": [
    "df.Start_Time[1].hour"
   ]
  },
  {
   "cell_type": "code",
   "execution_count": 81,
   "id": "596bf90e",
   "metadata": {},
   "outputs": [
    {
     "data": {
      "text/plain": [
       "0           0\n",
       "1           5\n",
       "2           6\n",
       "3           6\n",
       "4           7\n",
       "           ..\n",
       "2845337    18\n",
       "2845338    19\n",
       "2845339    19\n",
       "2845340    19\n",
       "2845341    18\n",
       "Name: Start_Time, Length: 2845342, dtype: int64"
      ]
     },
     "execution_count": 81,
     "metadata": {},
     "output_type": "execute_result"
    }
   ],
   "source": [
    "# extract the timestamp col to hours\n",
    "df.Start_Time.dt.hour"
   ]
  },
  {
   "cell_type": "code",
   "execution_count": 82,
   "id": "fd018a4b",
   "metadata": {},
   "outputs": [
    {
     "name": "stderr",
     "output_type": "stream",
     "text": [
      "C:\\Users\\saura\\anaconda\\lib\\site-packages\\seaborn\\distributions.py:2619: FutureWarning: `distplot` is a deprecated function and will be removed in a future version. Please adapt your code to use either `displot` (a figure-level function with similar flexibility) or `histplot` (an axes-level function for histograms).\n",
      "  warnings.warn(msg, FutureWarning)\n"
     ]
    },
    {
     "data": {
      "text/plain": [
       "<AxesSubplot:xlabel='Start_Time'>"
      ]
     },
     "execution_count": 82,
     "metadata": {},
     "output_type": "execute_result"
    },
    {
     "data": {
      "image/png": "[encoded data removed]",
      "text/plain": [
       "<Figure size 432x288 with 1 Axes>"
      ]
     },
     "metadata": {
      "needs_background": "light"
     },
     "output_type": "display_data"
    }
   ],
   "source": [
    "sns.distplot(df.Start_Time.dt.hour,bins = 24,kde = False,norm_hist=True)\n",
    "# put bins = 24 hour because we have a day having 24 hours.\n"
   ]
  },
  {
   "cell_type": "markdown",
   "id": "a22a6c7d",
   "metadata": {},
   "source": [
    "# \n",
    "A high percentage of accident occur in between 4-9 am\n",
    "and next highest percentage of accident occur in between 11am -5 pm"
   ]
  },
  {
   "cell_type": "code",
   "execution_count": 83,
   "id": "00a2ef40",
   "metadata": {},
   "outputs": [
    {
     "data": {
      "text/plain": [
       "<AxesSubplot:xlabel='Start_Time'>"
      ]
     },
     "execution_count": 83,
     "metadata": {},
     "output_type": "execute_result"
    },
    {
     "data": {
      "image/png": "[encoded data removed]",
      "text/plain": [
       "<Figure size 432x288 with 1 Axes>"
      ]
     },
     "metadata": {
      "needs_background": "light"
     },
     "output_type": "display_data"
    }
   ],
   "source": [
    "sns.distplot(df.Start_Time.dt.day_of_week,bins = 7,norm_hist=True,kde = False)"
   ]
  },
  {
   "cell_type": "code",
   "execution_count": 84,
   "id": "3b4a8393",
   "metadata": {},
   "outputs": [],
   "source": [
    "# is the distribution of accidents by hour the same on weekend as on weekedays.\n",
    "weekend_start_time = df.Start_Time[(df.Start_Time.dt.day_of_week==6) | (df.Start_Time.dt.day_of_week==7)]"
   ]
  },
  {
   "cell_type": "code",
   "execution_count": 85,
   "id": "16e0e176",
   "metadata": {},
   "outputs": [
    {
     "data": {
      "text/plain": [
       "154       2016-02-14 03:58:33\n",
       "155       2016-02-14 05:26:58\n",
       "156       2016-02-14 16:30:40\n",
       "157       2016-02-14 16:38:40\n",
       "158       2016-02-14 17:40:17\n",
       "                  ...        \n",
       "2843129   2019-08-18 22:48:14\n",
       "2843130   2019-08-18 23:24:10\n",
       "2843243   2019-08-18 22:56:56\n",
       "2843244   2019-08-18 22:56:56\n",
       "2843282   2019-08-18 22:54:41\n",
       "Name: Start_Time, Length: 259274, dtype: datetime64[ns]"
      ]
     },
     "execution_count": 85,
     "metadata": {},
     "output_type": "execute_result"
    }
   ],
   "source": [
    "weekend_start_time\n"
   ]
  },
  {
   "cell_type": "code",
   "execution_count": 86,
   "id": "344079dc",
   "metadata": {},
   "outputs": [],
   "source": [
    "sunday_start_time = df.Start_Time[df.Start_Time.dt.day_of_week==6]"
   ]
  },
  {
   "cell_type": "code",
   "execution_count": 87,
   "id": "49d198db",
   "metadata": {},
   "outputs": [
    {
     "data": {
      "text/plain": [
       "154       2016-02-14 03:58:33\n",
       "155       2016-02-14 05:26:58\n",
       "156       2016-02-14 16:30:40\n",
       "157       2016-02-14 16:38:40\n",
       "158       2016-02-14 17:40:17\n",
       "                  ...        \n",
       "2843129   2019-08-18 22:48:14\n",
       "2843130   2019-08-18 23:24:10\n",
       "2843243   2019-08-18 22:56:56\n",
       "2843244   2019-08-18 22:56:56\n",
       "2843282   2019-08-18 22:54:41\n",
       "Name: Start_Time, Length: 259274, dtype: datetime64[ns]"
      ]
     },
     "execution_count": 87,
     "metadata": {},
     "output_type": "execute_result"
    }
   ],
   "source": [
    "\n",
    "sunday_start_time"
   ]
  },
  {
   "cell_type": "code",
   "execution_count": 88,
   "id": "01246882",
   "metadata": {},
   "outputs": [
    {
     "name": "stderr",
     "output_type": "stream",
     "text": [
      "C:\\Users\\saura\\anaconda\\lib\\site-packages\\seaborn\\distributions.py:2619: FutureWarning: `distplot` is a deprecated function and will be removed in a future version. Please adapt your code to use either `displot` (a figure-level function with similar flexibility) or `histplot` (an axes-level function for histograms).\n",
      "  warnings.warn(msg, FutureWarning)\n"
     ]
    },
    {
     "data": {
      "text/plain": [
       "<AxesSubplot:xlabel='Start_Time'>"
      ]
     },
     "execution_count": 88,
     "metadata": {},
     "output_type": "execute_result"
    },
    {
     "data": {
      "image/png": "[encoded data removed]",
      "text/plain": [
       "<Figure size 432x288 with 1 Axes>"
      ]
     },
     "metadata": {
      "needs_background": "light"
     },
     "output_type": "display_data"
    }
   ],
   "source": [
    "sns.distplot(sunday_start_time.dt.hour,bins = 24,norm_hist=True,kde = False)"
   ]
  },
  {
   "cell_type": "markdown",
   "id": "e3be4177",
   "metadata": {},
   "source": [
    "# On Sunday the accident occurs mostly in between the afternoon (from 10am to 7pm)"
   ]
  },
  {
   "cell_type": "code",
   "execution_count": 89,
   "id": "0a81fdd4",
   "metadata": {},
   "outputs": [],
   "source": [
    "\n",
    "monday_start_time = df.Start_Time[df.Start_Time.dt.day_of_week==0]"
   ]
  },
  {
   "cell_type": "code",
   "execution_count": 90,
   "id": "01ba5150",
   "metadata": {},
   "outputs": [
    {
     "data": {
      "text/plain": [
       "<AxesSubplot:xlabel='Start_Time'>"
      ]
     },
     "execution_count": 90,
     "metadata": {},
     "output_type": "execute_result"
    },
    {
     "data": {
      "image/png": "[encoded data removed]",
      "text/plain": [
       "<Figure size 432x288 with 1 Axes>"
      ]
     },
     "metadata": {
      "needs_background": "light"
     },
     "output_type": "display_data"
    }
   ],
   "source": [
    "sns.distplot(monday_start_time.dt.hour,kde = False,bins=24,norm_hist=True)"
   ]
  },
  {
   "cell_type": "markdown",
   "id": "40ff1b81",
   "metadata": {},
   "source": [
    "# On Monday the accident occurs mostly in between the early morning 5-7Am afternoon (from 10am to 5pm)"
   ]
  },
  {
   "cell_type": "markdown",
   "id": "1202f86b",
   "metadata": {},
   "source": [
    "# weather"
   ]
  },
  {
   "cell_type": "code",
   "execution_count": 91,
   "id": "07575bc1",
   "metadata": {},
   "outputs": [],
   "source": [
    "#Top 10 weather condition"
   ]
  },
  {
   "cell_type": "code",
   "execution_count": 92,
   "id": "77dc6912",
   "metadata": {},
   "outputs": [
    {
     "data": {
      "text/plain": [
       "array(['Light Rain', 'Overcast', 'Mostly Cloudy', 'Snow', 'Light Snow',\n",
       "       'Cloudy', 'Scattered Clouds', 'Clear', 'Partly Cloudy',\n",
       "       'Light Freezing Drizzle', 'Light Drizzle', 'Haze', 'Rain',\n",
       "       'Heavy Rain', 'Fair', 'Drizzle', 'Fog', 'Thunderstorms and Rain',\n",
       "       'Patches of Fog', 'Light Thunderstorms and Rain', 'Mist',\n",
       "       'Rain Showers', 'Light Rain Showers', 'Heavy Drizzle', 'Smoke',\n",
       "       'Light Freezing Fog', 'Light Freezing Rain', 'Blowing Snow',\n",
       "       'Heavy Thunderstorms and Rain', 'Heavy Snow', 'Snow Grains',\n",
       "       'Squalls', 'Light Fog', 'Shallow Fog', 'Thunderstorm',\n",
       "       'Light Ice Pellets', 'Thunder', 'Thunder in the Vicinity',\n",
       "       'Fair / Windy', 'Light Rain with Thunder',\n",
       "       'Heavy Thunderstorms and Snow', 'Light Snow Showers',\n",
       "       'Cloudy / Windy', 'Ice Pellets', 'N/A Precipitation',\n",
       "       'Light Thunderstorms and Snow', 'T-Storm', 'Rain / Windy',\n",
       "       'Wintry Mix', 'Partly Cloudy / Windy', 'Heavy T-Storm', 'Sand',\n",
       "       'Light Rain / Windy', 'Widespread Dust', 'Mostly Cloudy / Windy',\n",
       "       'Blowing Dust / Windy', 'Blowing Dust', 'Volcanic Ash',\n",
       "       'Freezing Rain / Windy', 'Small Hail', 'Wintry Mix / Windy',\n",
       "       'Light Snow / Windy', 'Heavy Ice Pellets', 'Heavy Snow / Windy',\n",
       "       'Heavy Rain / Windy', 'Heavy T-Storm / Windy', 'Fog / Windy',\n",
       "       'Dust Whirls', 'Showers in the Vicinity', 'Funnel Cloud',\n",
       "       'Thunder / Windy', 'Snow / Windy', 'Haze / Windy',\n",
       "       'Light Snow and Sleet', 'T-Storm / Windy',\n",
       "       'Sand / Dust Whirlwinds', 'Light Snow with Thunder', 'Rain Shower',\n",
       "       'Blowing Snow / Windy', 'Light Rain Shower', 'Snow and Sleet',\n",
       "       'Drizzle and Fog', 'Light Sleet', 'Drizzle / Windy',\n",
       "       'Light Snow Shower', 'Snow and Thunder / Windy',\n",
       "       'Light Sleet / Windy', 'Smoke / Windy', 'Widespread Dust / Windy',\n",
       "       'Light Drizzle / Windy', 'Tornado', 'Squalls / Windy', 'Hail',\n",
       "       'Blowing Snow Nearby', 'Partial Fog', 'Sand / Windy',\n",
       "       'Thunder / Wintry Mix', 'Light Freezing Rain / Windy', 'Duststorm',\n",
       "       'Light Snow and Sleet / Windy', 'Heavy Rain Shower / Windy',\n",
       "       'Sand / Dust Whirlwinds / Windy', 'Light Rain Shower / Windy',\n",
       "       'Thunder and Hail', 'Freezing Rain', 'Heavy Sleet', 'Sleet',\n",
       "       'Freezing Drizzle', 'Snow and Sleet / Windy',\n",
       "       'Heavy Freezing Drizzle', 'Heavy Freezing Rain', 'Blowing Sand',\n",
       "       'Thunder / Wintry Mix / Windy', 'Mist / Windy', 'Sleet / Windy',\n",
       "       'Patches of Fog / Windy', 'Sand / Dust Whirls Nearby',\n",
       "       'Heavy Rain Shower', 'Drifting Snow', 'Heavy Blowing Snow',\n",
       "       'Low Drifting Snow', 'Light Blowing Snow', 'Heavy Rain Showers',\n",
       "       'Light Haze', 'Heavy Thunderstorms with Small Hail',\n",
       "       'Heavy Snow with Thunder', 'Thunder and Hail / Windy'],\n",
       "      dtype=object)"
      ]
     },
     "execution_count": 92,
     "metadata": {},
     "output_type": "execute_result"
    }
   ],
   "source": [
    "df['Weather_Condition'].unique()"
   ]
  },
  {
   "cell_type": "code",
   "execution_count": 93,
   "id": "854a7927",
   "metadata": {},
   "outputs": [],
   "source": [
    "top_10_weather_condition=df[df['Weather_Condition']!=0]['Weather_Condition'].value_counts().head(10)"
   ]
  },
  {
   "cell_type": "code",
   "execution_count": 94,
   "id": "f9c4c967",
   "metadata": {},
   "outputs": [
    {
     "data": {
      "text/plain": [
       "Fair                1134832\n",
       "Mostly Cloudy        372936\n",
       "Cloudy               357498\n",
       "Partly Cloudy        256563\n",
       "Clear                178598\n",
       "Light Rain           131653\n",
       "Overcast              87348\n",
       "Scattered Clouds      46370\n",
       "Light Snow            44966\n",
       "Fog                   42280\n",
       "Name: Weather_Condition, dtype: int64"
      ]
     },
     "execution_count": 94,
     "metadata": {},
     "output_type": "execute_result"
    }
   ],
   "source": [
    "top_10_weather_condition"
   ]
  },
  {
   "cell_type": "code",
   "execution_count": 95,
   "id": "549445af",
   "metadata": {},
   "outputs": [
    {
     "data": {
      "image/png": "[encoded data removed]",
      "text/plain": [
       "<Figure size 1080x432 with 1 Axes>"
      ]
     },
     "metadata": {
      "needs_background": "light"
     },
     "output_type": "display_data"
    }
   ],
   "source": [
    "plt.figure(figsize = (15, 6))\n",
    "top_10_weather_condition.plot(kind='bar',color=['black','g','r','b','y'])\n",
    "plt.show()"
   ]
  },
  {
   "cell_type": "code",
   "execution_count": 96,
   "id": "877d24b2",
   "metadata": {},
   "outputs": [
    {
     "data": {
      "text/plain": [
       "(0.0, 100.0)"
      ]
     },
     "execution_count": 96,
     "metadata": {},
     "output_type": "execute_result"
    },
    {
     "data": {
      "image/png": "[encoded data removed]",
      "text/plain": [
       "<Figure size 864x432 with 1 Axes>"
      ]
     },
     "metadata": {
      "needs_background": "light"
     },
     "output_type": "display_data"
    }
   ],
   "source": [
    "plt.figure(figsize=(12,6))\n",
    "sns.boxplot(x='Severity',y='Wind_Speed(mph)',data=df,hue='Severity')\n",
    "plt.ylim(0,100)"
   ]
  },
  {
   "cell_type": "code",
   "execution_count": 97,
   "id": "802d22f2",
   "metadata": {},
   "outputs": [
    {
     "data": {
      "image/png": "[encoded data removed]",
      "text/plain": [
       "<Figure size 432x288 with 1 Axes>"
      ]
     },
     "metadata": {
      "needs_background": "light"
     },
     "output_type": "display_data"
    }
   ],
   "source": [
    "df.groupby('Severity')['Wind_Speed(mph)'].median().plot(kind='bar')\n",
    "plt.ylabel('Wind_Speed(mph)')\n",
    "plt.title(\"Median 'Wind_Speed'by Severity\")\n",
    "plt.show()"
   ]
  },
  {
   "cell_type": "markdown",
   "id": "f5fe53b3",
   "metadata": {},
   "source": [
    "# Is Wind_Speed a factor that influences accident Severity?\n",
    "Honestly from the plot it's inconclusive. It seems the distribution amongst the respective severities is somewhat similar. There seems to be more accidents in Severity 2 and 3 that in Severity 4 actually"
   ]
  },
  {
   "cell_type": "code",
   "execution_count": 98,
   "id": "8ef61678",
   "metadata": {},
   "outputs": [
    {
     "data": {
      "image/png": "[encoded data removed]",
      "text/plain": [
       "<Figure size 864x432 with 1 Axes>"
      ]
     },
     "metadata": {
      "needs_background": "light"
     },
     "output_type": "display_data"
    }
   ],
   "source": [
    "plt.figure(figsize=(12,6))\n",
    "sns.boxplot(x='Severity',y='Wind_Chill(F)',data=df,hue='Severity')\n",
    "plt.legend(loc='best')\n",
    "plt.show()"
   ]
  },
  {
   "cell_type": "code",
   "execution_count": 99,
   "id": "d09986ed",
   "metadata": {},
   "outputs": [
    {
     "data": {
      "image/png": "[encoded data removed]",
      "text/plain": [
       "<Figure size 432x288 with 1 Axes>"
      ]
     },
     "metadata": {
      "needs_background": "light"
     },
     "output_type": "display_data"
    }
   ],
   "source": [
    "df.groupby('Severity')['Wind_Chill(F)'].mean().plot(kind='bar',color=['r','g','b','black'])\n",
    "plt.ylabel('Wind_Chill(F)')\n",
    "plt.title(\"Average 'Wind_Chill'by Severity\")\n",
    "plt.show()"
   ]
  },
  {
   "cell_type": "markdown",
   "id": "17d2cff1",
   "metadata": {},
   "source": [
    "# \n",
    "Similar to Wind_Speed, the distributions of Wind_Chill are inconclusive. Except that most accidents happen when the Wind Chill is over 0˚\n",
    "\n",
    "Analysis of Boolean Columns\n",
    "\n",
    "barplot of ['Amenity', 'Bump', 'Crossing', 'Give_Way', 'Junction', 'No_Exit', 'Railway', 'Roundabout', 'Station', 'Stop', 'Traffic_Calming', 'Traffic_Signal', 'Turning_Loop'] accidents by Severity"
   ]
  },
  {
   "cell_type": "markdown",
   "id": "39276b6d",
   "metadata": {},
   "source": [
    "# Number of state of accidents per state"
   ]
  },
  {
   "cell_type": "code",
   "execution_count": 100,
   "id": "d2f59fdf",
   "metadata": {},
   "outputs": [
    {
     "data": {
      "text/plain": [
       "array(['OH', 'IN', 'KY', 'WV', 'MI', 'PA', 'CA', 'NV', 'MN', 'TX', 'MO',\n",
       "       'CO', 'OK', 'LA', 'KS', 'WI', 'IA', 'MS', 'NE', 'ND', 'WY', 'SD',\n",
       "       'MT', 'NM', 'AR', 'IL', 'NJ', 'GA', 'FL', 'NY', 'CT', 'RI', 'SC',\n",
       "       'NC', 'MD', 'MA', 'TN', 'VA', 'DE', 'DC', 'ME', 'AL', 'NH', 'VT',\n",
       "       'AZ', 'UT', 'ID', 'OR', 'WA'], dtype=object)"
      ]
     },
     "execution_count": 100,
     "metadata": {},
     "output_type": "execute_result"
    }
   ],
   "source": [
    "df['State'].unique()"
   ]
  },
  {
   "cell_type": "code",
   "execution_count": 101,
   "id": "b72c59b2",
   "metadata": {},
   "outputs": [
    {
     "data": {
      "text/plain": [
       "49"
      ]
     },
     "execution_count": 101,
     "metadata": {},
     "output_type": "execute_result"
    }
   ],
   "source": [
    "df['State'].nunique()"
   ]
  },
  {
   "cell_type": "code",
   "execution_count": 102,
   "id": "4a5d71b8",
   "metadata": {},
   "outputs": [],
   "source": [
    "count_by_state=df['State'].value_counts()"
   ]
  },
  {
   "cell_type": "code",
   "execution_count": 103,
   "id": "a8369168",
   "metadata": {},
   "outputs": [
    {
     "data": {
      "text/plain": [
       "CA    795868\n",
       "FL    401388\n",
       "TX    149037\n",
       "OR    126341\n",
       "VA    113535\n",
       "NY    108049\n",
       "PA     99975\n",
       "MN     97185\n",
       "NC     91362\n",
       "SC     89216\n",
       "MD     65085\n",
       "AZ     56504\n",
       "NJ     52902\n",
       "TN     52613\n",
       "UT     49193\n",
       "LA     47232\n",
       "IL     47105\n",
       "MI     43843\n",
       "GA     40086\n",
       "WA     32554\n",
       "CT     29762\n",
       "MO     29633\n",
       "CO     25340\n",
       "OH     24409\n",
       "IN     20850\n",
       "AL     19322\n",
       "MT     15964\n",
       "AR     10935\n",
       "IA      9607\n",
       "DC      9133\n",
       "KS      9033\n",
       "OK      8806\n",
       "ID      8544\n",
       "WI      7896\n",
       "WV      7632\n",
       "KY      6638\n",
       "MA      6392\n",
       "NV      6197\n",
       "MS      5320\n",
       "DE      4842\n",
       "RI      4451\n",
       "NH      3866\n",
       "NE      3320\n",
       "NM      2370\n",
       "ND      2258\n",
       "ME      2193\n",
       "WY       990\n",
       "VT       365\n",
       "SD       201\n",
       "Name: State, dtype: int64"
      ]
     },
     "execution_count": 103,
     "metadata": {},
     "output_type": "execute_result"
    }
   ],
   "source": [
    "count_by_state"
   ]
  },
  {
   "cell_type": "code",
   "execution_count": 104,
   "id": "8aaed4c6",
   "metadata": {},
   "outputs": [
    {
     "name": "stderr",
     "output_type": "stream",
     "text": [
      "C:\\Users\\saura\\anaconda\\lib\\site-packages\\seaborn\\_decorators.py:36: FutureWarning: Pass the following variable as a keyword arg: x. From version 0.12, the only valid positional argument will be `data`, and passing other arguments without an explicit keyword will result in an error or misinterpretation.\n",
      "  warnings.warn(\n"
     ]
    },
    {
     "data": {
      "text/plain": [
       "<AxesSubplot:ylabel='State'>"
      ]
     },
     "execution_count": 104,
     "metadata": {},
     "output_type": "execute_result"
    },
    {
     "data": {
      "image/png": "[encoded data removed]",
      "text/plain": [
       "<Figure size 1152x720 with 1 Axes>"
      ]
     },
     "metadata": {
      "needs_background": "light"
     },
     "output_type": "display_data"
    }
   ],
   "source": [
    "plt.figure(figsize=(16,10))\n",
    "sns.barplot(df['State'].unique(),y=count_by_state)"
   ]
  },
  {
   "cell_type": "markdown",
   "id": "324c4aba",
   "metadata": {},
   "source": [
    "# Number  of Accidents by Severity"
   ]
  },
  {
   "cell_type": "code",
   "execution_count": 105,
   "id": "06c10260",
   "metadata": {},
   "outputs": [
    {
     "data": {
      "text/plain": [
       "array([3, 2, 4, 1], dtype=int64)"
      ]
     },
     "execution_count": 105,
     "metadata": {},
     "output_type": "execute_result"
    }
   ],
   "source": [
    "unique_severity=df['Severity'].unique()\n",
    "unique_severity"
   ]
  },
  {
   "cell_type": "code",
   "execution_count": 106,
   "id": "f884f4b1",
   "metadata": {},
   "outputs": [],
   "source": [
    "count_by_severity=df['Severity'].value_counts()"
   ]
  },
  {
   "cell_type": "code",
   "execution_count": 107,
   "id": "7726df9d",
   "metadata": {},
   "outputs": [
    {
     "data": {
      "text/plain": [
       "2    2532991\n",
       "3     155105\n",
       "4     131193\n",
       "1      26053\n",
       "Name: Severity, dtype: int64"
      ]
     },
     "execution_count": 107,
     "metadata": {},
     "output_type": "execute_result"
    }
   ],
   "source": [
    "count_by_severity"
   ]
  },
  {
   "cell_type": "code",
   "execution_count": 108,
   "id": "f1fd869c",
   "metadata": {},
   "outputs": [
    {
     "data": {
      "text/plain": [
       "<AxesSubplot:ylabel='Severity'>"
      ]
     },
     "execution_count": 108,
     "metadata": {},
     "output_type": "execute_result"
    },
    {
     "data": {
      "image/png": "[encoded data removed]",
      "text/plain": [
       "<Figure size 1152x720 with 1 Axes>"
      ]
     },
     "metadata": {
      "needs_background": "light"
     },
     "output_type": "display_data"
    }
   ],
   "source": [
    "plt.figure(figsize=(16,10))\n",
    "sns.barplot(x=unique_severity,y=count_by_severity)"
   ]
  },
  {
   "cell_type": "markdown",
   "id": "af26e266",
   "metadata": {},
   "source": [
    "# What were the weather conditions of the accidents where severity is the highest?"
   ]
  },
  {
   "cell_type": "code",
   "execution_count": 109,
   "id": "c38592fc",
   "metadata": {},
   "outputs": [],
   "source": [
    "weather_counts=df['Weather_Condition'].value_counts()\n",
    "#plt.figure(figsize=(16, 10))\n",
    "\n",
    "#ax=sns.barplot(weather_counts.index[:11], weather_counts[:11])\n",
    "#ax.set(xlabel='Weather Condition', ylabel='Accident Count')"
   ]
  },
  {
   "cell_type": "code",
   "execution_count": 110,
   "id": "fa7705ea",
   "metadata": {},
   "outputs": [
    {
     "data": {
      "text/plain": [
       "Fair                1134832\n",
       "Mostly Cloudy        372936\n",
       "Cloudy               357498\n",
       "Partly Cloudy        256563\n",
       "Clear                178598\n",
       "Light Rain           131653\n",
       "Overcast              87348\n",
       "Scattered Clouds      46370\n",
       "Light Snow            44966\n",
       "Fog                   42280\n",
       "Name: Weather_Condition, dtype: int64"
      ]
     },
     "execution_count": 110,
     "metadata": {},
     "output_type": "execute_result"
    }
   ],
   "source": [
    "weather_counts.head(10)"
   ]
  },
  {
   "cell_type": "code",
   "execution_count": 111,
   "id": "003634a7",
   "metadata": {},
   "outputs": [
    {
     "name": "stderr",
     "output_type": "stream",
     "text": [
      "C:\\Users\\saura\\anaconda\\lib\\site-packages\\seaborn\\_decorators.py:36: FutureWarning: Pass the following variables as keyword args: x, y. From version 0.12, the only valid positional argument will be `data`, and passing other arguments without an explicit keyword will result in an error or misinterpretation.\n",
      "  warnings.warn(\n"
     ]
    },
    {
     "data": {
      "text/plain": [
       "<AxesSubplot:xlabel='Weather_Condition', ylabel='Weather_Condition'>"
      ]
     },
     "execution_count": 111,
     "metadata": {},
     "output_type": "execute_result"
    },
    {
     "data": {
      "image/png": "[encoded data removed]",
      "text/plain": [
       "<Figure size 1152x720 with 1 Axes>"
      ]
     },
     "metadata": {
      "needs_background": "light"
     },
     "output_type": "display_data"
    }
   ],
   "source": [
    "plt.figure(figsize=(16, 10))\n",
    "\n",
    "sns.barplot(weather_counts.head(10),weather_counts.head(10))\n"
   ]
  },
  {
   "cell_type": "markdown",
   "id": "21eb9578",
   "metadata": {},
   "source": [
    "# Crossing"
   ]
  },
  {
   "cell_type": "code",
   "execution_count": 112,
   "id": "cce6ffb7",
   "metadata": {},
   "outputs": [
    {
     "data": {
      "text/plain": [
       "([<matplotlib.patches.Wedge at 0x25caa215790>,\n",
       "  <matplotlib.patches.Wedge at 0x25caa215ee0>],\n",
       " [Text(-1.0732327041997323, 0.241187816102162, 'CROSS TRUE'),\n",
       "  Text(1.0732326985543237, -0.2411878412229862, 'CROSS FALSE')],\n",
       " [Text(-0.5853996568362175, 0.13155699060117926, '92.96'),\n",
       "  Text(0.5853996537569037, -0.131557004303447, '7.04')])"
      ]
     },
     "execution_count": 112,
     "metadata": {},
     "output_type": "execute_result"
    },
    {
     "data": {
      "image/png": "[encoded data removed]",
      "text/plain": [
       "<Figure size 432x288 with 1 Axes>"
      ]
     },
     "metadata": {},
     "output_type": "display_data"
    }
   ],
   "source": [
    "cross_count=df['Crossing'].value_counts()\n",
    "mylabels=['CROSS TRUE','CROSS FALSE']\n",
    "plt.pie(cross_count,labels=mylabels,autopct='%.2f')"
   ]
  },
  {
   "cell_type": "markdown",
   "id": "f005dbf6",
   "metadata": {},
   "source": [
    "The accidents mostly happened away from a crossing. This brings to the query of proper signaling systems in these areas"
   ]
  },
  {
   "cell_type": "markdown",
   "id": "9f2a31da",
   "metadata": {},
   "source": [
    "# Traffic SIgnal"
   ]
  },
  {
   "cell_type": "code",
   "execution_count": 113,
   "id": "4f38eb86",
   "metadata": {},
   "outputs": [
    {
     "data": {
      "text/plain": [
       "([<matplotlib.patches.Wedge at 0x25caa26e190>,\n",
       "  <matplotlib.patches.Wedge at 0x25caa1c9670>],\n",
       " [Text(-1.053157508369544, 0.3175834733811795, 'TRAFFIC SIGNAL TRUE'),\n",
       "  Text(1.053157523236698, -0.3175834240793178, 'TRAFFIC SIGNAL FALS')],\n",
       " [Text(-0.5744495500197512, 0.173227349117007, '90.68'),\n",
       "  Text(0.574449558129108, -0.1732273222250824, '9.32')])"
      ]
     },
     "execution_count": 113,
     "metadata": {},
     "output_type": "execute_result"
    },
    {
     "data": {
      "image/png": "[encoded data removed]",
      "text/plain": [
       "<Figure size 432x288 with 1 Axes>"
      ]
     },
     "metadata": {},
     "output_type": "display_data"
    }
   ],
   "source": [
    "traffic_count=df['Traffic_Signal'].value_counts()\n",
    "mylabels=['TRAFFIC SIGNAL TRUE','TRAFFIC SIGNAL FALS']\n",
    "plt.pie(traffic_count,labels=mylabels,autopct='%.2f')"
   ]
  },
  {
   "cell_type": "markdown",
   "id": "658421d9",
   "metadata": {},
   "source": [
    "Clearly, poor traffic management is a cause  of the accidents."
   ]
  },
  {
   "cell_type": "markdown",
   "id": "091018a2",
   "metadata": {},
   "source": [
    "# Bump"
   ]
  },
  {
   "cell_type": "code",
   "execution_count": 114,
   "id": "521b7960",
   "metadata": {},
   "outputs": [
    {
     "data": {
      "text/plain": [
       "([<matplotlib.patches.Wedge at 0x25caa2b3580>,\n",
       "  <matplotlib.patches.Wedge at 0x25caa2b3cd0>],\n",
       " [Text(-1.0999993010991327, 0.0012399925080603719, 'Bump True'),\n",
       "  Text(1.0999993011464093, -0.0012399505680542396, 'Bump False')],\n",
       " [Text(-0.599999618781345, 0.0006763595498511119, '99.96'),\n",
       "  Text(0.5999996188071323, -0.0006763366734841306, '0.04')])"
      ]
     },
     "execution_count": 114,
     "metadata": {},
     "output_type": "execute_result"
    },
    {
     "data": {
      "image/png": "[encoded data removed]",
      "text/plain": [
       "<Figure size 432x288 with 1 Axes>"
      ]
     },
     "metadata": {},
     "output_type": "display_data"
    }
   ],
   "source": [
    "bump_count=df['Bump'].value_counts()\n",
    "mylabels=['Bump True','Bump False']\n",
    "plt.pie(bump_count,labels=mylabels,autopct='%.2f')"
   ]
  },
  {
   "cell_type": "markdown",
   "id": "9a4bf42d",
   "metadata": {},
   "source": [
    " Speed control mechanisms are inadequate in the recorded accidents."
   ]
  },
  {
   "cell_type": "markdown",
   "id": "b191ee21",
   "metadata": {},
   "source": [
    "# Tempreature"
   ]
  },
  {
   "cell_type": "code",
   "execution_count": 115,
   "id": "8d2fad84",
   "metadata": {},
   "outputs": [
    {
     "name": "stderr",
     "output_type": "stream",
     "text": [
      "C:\\Users\\saura\\anaconda\\lib\\site-packages\\seaborn\\_decorators.py:36: FutureWarning: Pass the following variable as a keyword arg: x. From version 0.12, the only valid positional argument will be `data`, and passing other arguments without an explicit keyword will result in an error or misinterpretation.\n",
      "  warnings.warn(\n"
     ]
    },
    {
     "data": {
      "text/plain": [
       "<AxesSubplot:xlabel='Temperature(F)'>"
      ]
     },
     "execution_count": 115,
     "metadata": {},
     "output_type": "execute_result"
    },
    {
     "data": {
      "image/png": "[encoded data removed]",
      "text/plain": [
       "<Figure size 432x288 with 1 Axes>"
      ]
     },
     "metadata": {
      "needs_background": "light"
     },
     "output_type": "display_data"
    }
   ],
   "source": [
    "sns.boxenplot(df['Temperature(F)'])"
   ]
  },
  {
   "cell_type": "code",
   "execution_count": 116,
   "id": "4d89110c",
   "metadata": {},
   "outputs": [
    {
     "data": {
      "text/plain": [
       "0          42.1\n",
       "1          36.9\n",
       "2          36.0\n",
       "3          39.0\n",
       "4          37.0\n",
       "           ... \n",
       "2845337    86.0\n",
       "2845338    70.0\n",
       "2845339    73.0\n",
       "2845340    71.0\n",
       "2845341    79.0\n",
       "Name: Temperature(F), Length: 2845342, dtype: float64"
      ]
     },
     "execution_count": 116,
     "metadata": {},
     "output_type": "execute_result"
    }
   ],
   "source": [
    "temp=df['Temperature(F)']\n",
    "temp"
   ]
  },
  {
   "cell_type": "code",
   "execution_count": 117,
   "id": "97af691b",
   "metadata": {},
   "outputs": [
    {
     "name": "stderr",
     "output_type": "stream",
     "text": [
      "C:\\Users\\saura\\anaconda\\lib\\site-packages\\seaborn\\_decorators.py:36: FutureWarning: Pass the following variable as a keyword arg: x. From version 0.12, the only valid positional argument will be `data`, and passing other arguments without an explicit keyword will result in an error or misinterpretation.\n",
      "  warnings.warn(\n"
     ]
    },
    {
     "data": {
      "text/plain": [
       "<AxesSubplot:xlabel='Temperature(F)'>"
      ]
     },
     "execution_count": 117,
     "metadata": {},
     "output_type": "execute_result"
    },
    {
     "data": {
      "image/png": "[encoded data removed]",
      "text/plain": [
       "<Figure size 432x288 with 1 Axes>"
      ]
     },
     "metadata": {
      "needs_background": "light"
     },
     "output_type": "display_data"
    }
   ],
   "source": [
    "#representing by graph\n",
    "\n",
    "sns.boxplot(temp)"
   ]
  },
  {
   "cell_type": "markdown",
   "id": "6f8206c5",
   "metadata": {},
   "source": [
    "So, a chunk of the accidents happens to be in areas experiencing temperatures in the range of (50–60) degrees Fahrenheit. "
   ]
  },
  {
   "cell_type": "markdown",
   "id": "071b8825",
   "metadata": {},
   "source": [
    "# High accident cities where the number of accidents is greater and equal to 1000"
   ]
  },
  {
   "cell_type": "code",
   "execution_count": 126,
   "id": "98b282e2",
   "metadata": {},
   "outputs": [],
   "source": [
    "high_accident_cities = accident_by_city[accident_by_city >= 1000]"
   ]
  },
  {
   "cell_type": "code",
   "execution_count": 131,
   "id": "5f0bf82e",
   "metadata": {},
   "outputs": [],
   "source": [
    "high_accident_cities= df['City'].value_counts()\n"
   ]
  },
  {
   "cell_type": "code",
   "execution_count": 132,
   "id": "b3b1f862",
   "metadata": {},
   "outputs": [
    {
     "data": {
      "text/plain": [
       "Miami                           106969\n",
       "Los Angeles                      68958\n",
       "Orlando                          54696\n",
       "Dallas                           41980\n",
       "Houston                          39451\n",
       "                                 ...  \n",
       "Ridgedale                            1\n",
       "Sekiu                                1\n",
       "Wooldridge                           1\n",
       "Bullock                              1\n",
       "American Fork-Pleasant Grove         1\n",
       "Name: City, Length: 11681, dtype: int64"
      ]
     },
     "execution_count": 132,
     "metadata": {},
     "output_type": "execute_result"
    }
   ],
   "source": [
    "high_accident_cities"
   ]
  },
  {
   "cell_type": "code",
   "execution_count": 133,
   "id": "bbdd0a7e",
   "metadata": {},
   "outputs": [
    {
     "data": {
      "text/plain": [
       "<AxesSubplot:xlabel='City', ylabel='Count'>"
      ]
     },
     "execution_count": 133,
     "metadata": {},
     "output_type": "execute_result"
    },
    {
     "data": {
      "image/png": "[encoded data removed]",
      "text/plain": [
       "<Figure size 432x288 with 1 Axes>"
      ]
     },
     "metadata": {
      "needs_background": "light"
     },
     "output_type": "display_data"
    }
   ],
   "source": [
    "\n",
    "sns.histplot(high_accident_cities,log_scale = True)"
   ]
  },
  {
   "cell_type": "markdown",
   "id": "63dc4f47",
   "metadata": {},
   "source": [
    "# Low accident cities where the number is less than 1000."
   ]
  },
  {
   "cell_type": "code",
   "execution_count": 134,
   "id": "b804175f",
   "metadata": {},
   "outputs": [],
   "source": [
    "low_accident_cities = accident_by_city[accident_by_city< 1000]"
   ]
  },
  {
   "cell_type": "code",
   "execution_count": 135,
   "id": "5b3ca5a1",
   "metadata": {},
   "outputs": [
    {
     "data": {
      "text/plain": [
       "Osseo                           997\n",
       "Madras                          997\n",
       "Manor                           992\n",
       "Portsmouth                      988\n",
       "Schenectady                     985\n",
       "                               ... \n",
       "Ridgedale                         1\n",
       "Sekiu                             1\n",
       "Wooldridge                        1\n",
       "Bullock                           1\n",
       "American Fork-Pleasant Grove      1\n",
       "Name: City, Length: 11185, dtype: int64"
      ]
     },
     "execution_count": 135,
     "metadata": {},
     "output_type": "execute_result"
    }
   ],
   "source": [
    "low_accident_cities"
   ]
  },
  {
   "cell_type": "code",
   "execution_count": 136,
   "id": "5b24760f",
   "metadata": {},
   "outputs": [
    {
     "data": {
      "text/plain": [
       "<AxesSubplot:xlabel='City', ylabel='Count'>"
      ]
     },
     "execution_count": 136,
     "metadata": {},
     "output_type": "execute_result"
    },
    {
     "data": {
      "image/png": "[encoded data removed]",
      "text/plain": [
       "<Figure size 432x288 with 1 Axes>"
      ]
     },
     "metadata": {
      "needs_background": "light"
     },
     "output_type": "display_data"
    }
   ],
   "source": [
    "sns.histplot(low_accident_cities, log_scale = True)"
   ]
  },
  {
   "cell_type": "code",
   "execution_count": null,
   "id": "bfdd7e3b",
   "metadata": {},
   "outputs": [],
   "source": []
  }
 ],
 "metadata": {
  "kernelspec": {
   "display_name": "Python 3 (ipykernel)",
   "language": "python",
   "name": "python3"
  },
  "language_info": {
   "codemirror_mode": {
    "name": "ipython",
    "version": 3
   },
   "file_extension": ".py",
   "mimetype": "text/x-python",
   "name": "python",
   "nbconvert_exporter": "python",
   "pygments_lexer": "ipython3",
   "version": "3.9.12"
  }
 },
 "nbformat": 4,
 "nbformat_minor": 5
}
